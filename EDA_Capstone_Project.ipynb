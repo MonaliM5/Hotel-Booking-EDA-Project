{
  "nbformat": 4,
  "nbformat_minor": 0,
  "metadata": {
    "colab": {
      "private_outputs": true,
      "provenance": [],
      "collapsed_sections": [
        "FJNUwmbgGyua",
        "w6K7xa23Elo4",
        "yQaldy8SH6Dl",
        "PH-0ReGfmX4f",
        "mDgbUHAGgjLW",
        "hLWvbZFF_oQO",
        "3RnN4peoiCZX",
        "x71ZqKXriCWQ",
        "7hBIi_osiCS2",
        "Iq3UupzGNEPG",
        "VLfZiH-hNEPQ",
        "G97gOOLcNEPQ",
        "dauF4eBmngu3",
        "bKJF3rekwFvQ"
      ]
    },
    "kernelspec": {
      "name": "python3",
      "display_name": "Python 3"
    },
    "language_info": {
      "name": "python"
    }
  },
  "cells": [
    {
      "cell_type": "markdown",
      "source": [
        "# **Project Name**    -\n",
        "\n"
      ],
      "metadata": {
        "id": "vncDsAP0Gaoa"
      }
    },
    {
      "cell_type": "markdown",
      "source": [
        "##### **Project Type**    - EDA\n",
        "##### **Contribution**    - Individual\n",
        "##### **Student Name**    - Monali Vijay Mhaske"
      ],
      "metadata": {
        "id": "beRrZCGUAJYm"
      }
    },
    {
      "cell_type": "markdown",
      "source": [
        "# **Project Summary -**"
      ],
      "metadata": {
        "id": "FJNUwmbgGyua"
      }
    },
    {
      "cell_type": "markdown",
      "source": [
        "Write the summary here within 500-600 words."
      ],
      "metadata": {
        "id": "F6v_1wHtG2nS"
      }
    },
    {
      "cell_type": "markdown",
      "source": [
        "# **GitHub Link -**"
      ],
      "metadata": {
        "id": "w6K7xa23Elo4"
      }
    },
    {
      "cell_type": "markdown",
      "source": [
        "Provide your GitHub Link here."
      ],
      "metadata": {
        "id": "h1o69JH3Eqqn"
      }
    },
    {
      "cell_type": "markdown",
      "source": [
        "# **Problem Statement**\n"
      ],
      "metadata": {
        "id": "yQaldy8SH6Dl"
      }
    },
    {
      "cell_type": "markdown",
      "source": [
        "**Write Problem Statement Here.**"
      ],
      "metadata": {
        "id": "DpeJGUA3kjGy"
      }
    },
    {
      "cell_type": "markdown",
      "source": [
        "#### **Define Your Business Objective?**"
      ],
      "metadata": {
        "id": "PH-0ReGfmX4f"
      }
    },
    {
      "cell_type": "markdown",
      "source": [
        "Answer Here."
      ],
      "metadata": {
        "id": "PhDvGCAqmjP1"
      }
    },
    {
      "cell_type": "markdown",
      "source": [
        "# **General Guidelines** : -  "
      ],
      "metadata": {
        "id": "mDgbUHAGgjLW"
      }
    },
    {
      "cell_type": "markdown",
      "source": [
        "1.   Well-structured, formatted, and commented code is required.\n",
        "2.   Exception Handling, Production Grade Code & Deployment Ready Code will be a plus. Those students will be awarded some additional credits.\n",
        "     \n",
        "     The additional credits will have advantages over other students during Star Student selection.\n",
        "       \n",
        "             [ Note: - Deployment Ready Code is defined as, the whole .ipynb notebook should be executable in one go\n",
        "                       without a single error logged. ]\n",
        "\n",
        "3.   Each and every logic should have proper comments.\n",
        "4. You may add as many number of charts you want. Make Sure for each and every chart the following format should be answered.\n",
        "        \n",
        "\n",
        "```\n",
        "# Chart visualization code\n",
        "```\n",
        "            \n",
        "\n",
        "*   Why did you pick the specific chart?\n",
        "*   What is/are the insight(s) found from the chart?\n",
        "* Will the gained insights help creating a positive business impact?\n",
        "Are there any insights that lead to negative growth? Justify with specific reason.\n",
        "\n",
        "5. You have to create at least 20 logical & meaningful charts having important insights.\n",
        "\n",
        "\n",
        "[ Hints : - Do the Vizualization in  a structured way while following \"UBM\" Rule.\n",
        "\n",
        "U - Univariate Analysis,\n",
        "\n",
        "B - Bivariate Analysis (Numerical - Categorical, Numerical - Numerical, Categorical - Categorical)\n",
        "\n",
        "M - Multivariate Analysis\n",
        " ]\n",
        "\n",
        "\n",
        "\n"
      ],
      "metadata": {
        "id": "ZrxVaUj-hHfC"
      }
    },
    {
      "cell_type": "markdown",
      "source": [
        "# ***Let's Begin !***"
      ],
      "metadata": {
        "id": "O_i_v8NEhb9l"
      }
    },
    {
      "cell_type": "markdown",
      "source": [
        "## ***1. Know Your Data***"
      ],
      "metadata": {
        "id": "hLWvbZFF_oQO"
      }
    },
    {
      "cell_type": "markdown",
      "source": [
        "### Import Libraries"
      ],
      "metadata": {
        "id": "Y3lxredqlCYt"
      }
    },
    {
      "cell_type": "code",
      "source": [
        "# Import Libraries\n",
        "\n",
        "# Libraries for Data Handling\n",
        "import numpy as np\n",
        "import pandas as pd\n",
        "\n",
        "#Libraries for visualization\n",
        "import matplotlib.pyplot as plt\n",
        "import seaborn as sns\n",
        "import matplotlib as mpl\n",
        "from matplotlib import cm\n",
        "%matplotlib inline\n",
        "\n",
        "# Supressing Warnings\n",
        "import warnings\n",
        "warnings.filterwarnings('ignore')"
      ],
      "metadata": {
        "id": "M8Vqi-pPk-HR"
      },
      "execution_count": null,
      "outputs": []
    },
    {
      "cell_type": "markdown",
      "source": [
        "### Dataset Loading"
      ],
      "metadata": {
        "id": "3RnN4peoiCZX"
      }
    },
    {
      "cell_type": "code",
      "source": [
        "# Mounting' google drive where dataset is saved.\n",
        "\n",
        "from google.colab import drive\n",
        "drive.mount('/content/drive')"
      ],
      "metadata": {
        "id": "-71ofbOvumjL"
      },
      "execution_count": null,
      "outputs": []
    },
    {
      "cell_type": "code",
      "source": [
        "# Load Dataset\n",
        "df = pd.read_csv(\"/content/drive/MyDrive/Colab Notebooks/Module 2.5 - Project EDA/Hotel Bookings.csv\")"
      ],
      "metadata": {
        "id": "4CkvbW_SlZ_R"
      },
      "execution_count": null,
      "outputs": []
    },
    {
      "cell_type": "markdown",
      "source": [
        "\n",
        "\n",
        "\n",
        "\n",
        "### Dataset First View"
      ],
      "metadata": {
        "id": "x71ZqKXriCWQ"
      }
    },
    {
      "cell_type": "code",
      "source": [
        "# Dataset First Look\n",
        "# Going through the first 5 records of the dataset\n",
        "df.head()"
      ],
      "metadata": {
        "id": "LWNFOSvLl09H"
      },
      "execution_count": null,
      "outputs": []
    },
    {
      "cell_type": "markdown",
      "source": [
        "### Dataset Rows & Columns count"
      ],
      "metadata": {
        "id": "7hBIi_osiCS2"
      }
    },
    {
      "cell_type": "code",
      "source": [
        "# Dataset Rows & Columns count\n",
        "print(f\"Number of rows in dataset   :\",df.shape[0])\n",
        "print(f\"Numberof columns in dataset :\",df.shape[1])"
      ],
      "metadata": {
        "id": "Kllu7SJgmLij"
      },
      "execution_count": null,
      "outputs": []
    },
    {
      "cell_type": "markdown",
      "source": [
        "### Dataset Information"
      ],
      "metadata": {
        "id": "JlHwYmJAmNHm"
      }
    },
    {
      "cell_type": "code",
      "source": [
        "# Dataset Info\n",
        "# Checking the datatype and other information of all the features of dataset.\n",
        "df.info()"
      ],
      "metadata": {
        "id": "e9hRXRi6meOf"
      },
      "execution_count": null,
      "outputs": []
    },
    {
      "cell_type": "markdown",
      "source": [
        "#### Duplicate Values"
      ],
      "metadata": {
        "id": "35m5QtbWiB9F"
      }
    },
    {
      "cell_type": "code",
      "source": [
        "# Dataset Duplicate Value Count\n",
        "df.duplicated().sum()"
      ],
      "metadata": {
        "id": "1sLdpKYkmox0"
      },
      "execution_count": null,
      "outputs": []
    },
    {
      "cell_type": "code",
      "source": [
        "#Dropping the duplicate records\n",
        "df.drop_duplicates(inplace = True)"
      ],
      "metadata": {
        "id": "oN4xYVaxZYM6"
      },
      "execution_count": null,
      "outputs": []
    },
    {
      "cell_type": "code",
      "source": [
        "# Shape of dataset after dropping duplicate values\n",
        "df.shape"
      ],
      "metadata": {
        "id": "jmTsLklzZpwI"
      },
      "execution_count": null,
      "outputs": []
    },
    {
      "cell_type": "markdown",
      "source": [
        "#### Missing Values/Null Values"
      ],
      "metadata": {
        "id": "PoPl-ycgm1ru"
      }
    },
    {
      "cell_type": "code",
      "source": [
        "# Missing Values/Null Values Count\n",
        "# Checking missing values count and percentage\n",
        "missing_df = df.isnull().sum().reset_index()\n",
        "missing_df.columns = ['Column', 'Missing_Values']\n",
        "missing_df['Missing_%'] = 100 * missing_df['Missing_Values'] / len(df)\n",
        "missing_df = missing_df[missing_df['Missing_Values'] > 0].sort_values(by='Missing_%', ascending=False)\n",
        "\n",
        "# Displaying the result\n",
        "print(missing_df)\n"
      ],
      "metadata": {
        "id": "GgHWkxvamxVg"
      },
      "execution_count": null,
      "outputs": []
    },
    {
      "cell_type": "markdown",
      "source": [
        "* I examined the dataset for missing values and found that a few columns such as agent, company, children, and country contain null entries.\n",
        "* The agent and company columns have the highest proportion of missing data.\n",
        "* To understand the impact, I visualized the percentage of missing values in each column using a horizontal bar chart."
      ],
      "metadata": {
        "id": "0Bm4C5Veb-47"
      }
    },
    {
      "cell_type": "code",
      "source": [
        "# Visualizing the missing or null values\n",
        "\n",
        "# Setting Figure size\n",
        "plt.figure(figsize=(10, 6))\n",
        "\n",
        "# Code to plot the data\n",
        "sns.barplot(data=missing_df, x='Missing_%', y='Column', palette='viridis')\n",
        "\n",
        "# Setting labels and title\n",
        "plt.title('Missing Values by Column')\n",
        "plt.xlabel('Percentage of Missing Values')\n",
        "plt.ylabel('Column Name')\n",
        "plt.tight_layout()\n",
        "plt.show()"
      ],
      "metadata": {
        "id": "3q5wnI3om9sJ"
      },
      "execution_count": null,
      "outputs": []
    },
    {
      "cell_type": "markdown",
      "source": [
        "I identified missing values in four columns: children, agent, company, and country. Based on the nature of the data and domain understanding:\n",
        "\n",
        "1. children (Numerical)\n",
        "  * **What it represents**:\n",
        "      Number of children in a booking\n",
        "\n",
        "  * **Missing likely due to**:\n",
        "      Data entry issues or oversight\n",
        "\n",
        "  * **Imputation Strategy**:\n",
        "      Replacing missing values with the median (since it's numerical and may be skewed).\n",
        "\n",
        "2. company (Categorical but stored as numeric ID)\n",
        "\n",
        "  * **What it represents**:\n",
        "      ID of the company that made the booking\n",
        "\n",
        "  * **Missing likely means**:\n",
        "      No company involved in booking\n",
        "      \n",
        "  * **Imputation Strategy**:\n",
        "      Replacing missing values with 0 and treat it as “No Company”.\n",
        "\n",
        "3. country (Categorical)\n",
        "  * **What it represents**:\n",
        "      Country of the guest\n",
        "\n",
        "  * **Missing likely due to**:\n",
        "      Unrecorded guest info or country of guest not listed\n",
        "\n",
        "  * **Imputation Strategy**:\n",
        "      Replacing missing values with the 'unknown'.\n",
        "\n",
        "4. agent (Categorical but stored as numeric ID)\n",
        "  * **What it represents**:\n",
        "      ID of the travel agent who booked the reservation\n",
        "\n",
        "  * **Missing likely means**:\n",
        "      Bookings were made without an agent\n",
        "\n",
        "  * **Imputation Strategy**:\n",
        "      Replacing missing values with 0 and treat it as “No Agent"
      ],
      "metadata": {
        "id": "EGkmas1KcyVz"
      }
    },
    {
      "cell_type": "code",
      "source": [
        "# Replacing the null values with the apropriate values\n",
        "df.fillna({'children': df['children'].median()}, inplace=True)\n",
        "df.fillna({'agent' :0}, inplace = True)\n",
        "df.fillna({'company' :0}, inplace = True)\n",
        "df.fillna({'country' :'Unknown'}, inplace = True)\n",
        "\n",
        "\n",
        "# Checking the replacement of null values has worked properly or not\n",
        "print(f\"Total null values in dataset now :\\n\")\n",
        "df.isna().sum().reset_index().rename(columns = {'index':'Columns', 0: 'Null Value Count'})"
      ],
      "metadata": {
        "id": "ksg7JFm5z9Vu"
      },
      "execution_count": null,
      "outputs": []
    },
    {
      "cell_type": "markdown",
      "source": [
        "### What did you know about your dataset?"
      ],
      "metadata": {
        "id": "H0kj-8xxnORC"
      }
    },
    {
      "cell_type": "markdown",
      "source": [
        "The dataset contains detailed booking information from two types of hotels: City Hotel and Resort Hotel. It consists of over 30 features describing the characteristics of each booking, including booking dates, stay duration, number of guests, pricing, customer demographics, and reservation status.\n",
        "\n",
        "Here's what I've learned about the dataset:\n",
        "\n",
        "📌 Nature of Data: The dataset is structured and tabular, with each row representing a single hotel booking.\n",
        "\n",
        "🏨 Hotel Types: It includes two types of properties — City Hotel and Resort Hotel, allowing for comparative analysis.\n",
        "\n",
        "📅 Time-Based Features: It has multiple date-related columns such as arrival_date_year, arrival_date_month, and lead_time, enabling time-series and seasonal trend analysis.\n",
        "\n",
        "👨‍👩‍👧‍👦 Guest Details: The dataset captures the number of adults, children, and babies, which helps in understanding guest composition.\n",
        "\n",
        "📉 Cancellations: The binary is_canceled column indicates whether a booking was canceled, which is a key target for business insights.\n",
        "\n",
        "💰 Revenue Info: adr (Average Daily Rate) provides pricing information for each booking.\n",
        "\n",
        "🌍 Customer & Market Segments: Columns like country, customer_type, market_segment, and distribution_channel help analyze customer origins and booking sources.\n",
        "\n",
        "🚫 Cancellation History: Features such as is_repeated_guest, previous_cancellations, and days_in_waiting_list provide insights into booking reliability and loyalty.\n",
        "\n",
        "In summary, this dataset offers a comprehensive view of hotel booking behavior and provides a strong foundation for exploring patterns, trends, and potential business opportunities."
      ],
      "metadata": {
        "id": "eJe8PBIOatkx"
      }
    },
    {
      "cell_type": "markdown",
      "source": [
        "## ***2. Understanding Your Variables***"
      ],
      "metadata": {
        "id": "Iq3UupzGNEPG"
      }
    },
    {
      "cell_type": "code",
      "source": [
        "# Dataset Columns\n",
        "df.columns"
      ],
      "metadata": {
        "id": "ttw1RgbnNEPP"
      },
      "execution_count": null,
      "outputs": []
    },
    {
      "cell_type": "code",
      "source": [
        "# Dataset Describe\n",
        "df.describe()"
      ],
      "metadata": {
        "id": "GJOUmHkJNEPQ"
      },
      "execution_count": null,
      "outputs": []
    },
    {
      "cell_type": "markdown",
      "source": [
        "### Variables Description"
      ],
      "metadata": {
        "id": "VLfZiH-hNEPQ"
      }
    },
    {
      "cell_type": "markdown",
      "source": [
        "\n",
        "***1. hotel*** : *Hotel(Resort Hotel or City Hotel)*\n",
        "\n",
        "***2. is_canceled*** : Value indicating if the booking was canceled (1) or not (0)*\n",
        "\n",
        "***3. lead_time*** : *Number of days that elapsed between the entering date of the booking into the PMS(database) and the arrival date*\n",
        "\n",
        "***4. arrival_date_year*** : *Year of arrival*\n",
        "\n",
        "***5. arrival_date_month*** : *Month of arrival*\n",
        "\n",
        "***6. arrival_date_week_number*** : *At which Week guests arrived or going to arrive*\n",
        "\n",
        "***7. arrival_date_day_of_month*** : *Day of arrival*\n",
        "\n",
        "***8. stays_in_weekend_nights*** : *Number of weekend nights (Saturday or Sunday) the guest stayed or booked to stay at the hotel*\n",
        "\n",
        "***9. stays_in_week_nights*** : *Number of week nights (Monday to Friday) the guest stayed or booked to stay at the hotel*\n",
        "\n",
        "***10. adults*** : *Number of adults*\n",
        "\n",
        "***11. children*** : *Number of children*\n",
        "\n",
        "***12. babies*** : *Number of babies*\n",
        "\n",
        "***13. meal*** : *Type of meal guests ordered. Categories are presented in standard hospitality meal packages:*\n",
        "\n",
        "***14. country*** : *Country which guests belong to*\n",
        "\n",
        "***15. market_segment*** : *Market segment designation. In categories, the term “TA” means “Travel Agents” and “TO” means “Tour Operators”*\n",
        "\n",
        "***16. distribution_channel*** : *Booking distribution channel. The term “TA” means “Travel Agents” and “TO” means “Tour Operators”*\n",
        "\n",
        "***17. is_repeated_guest*** : *Value indicating if the booking name was from a repeated guest (1) or not (0)*\n",
        "\n",
        "***18. previous_cancellations*** : *Number of previous bookings that were cancelled by the customer prior to the current booking*\n",
        "\n",
        "***19. previous_bookings_not_canceled*** : *Number of previous bookings not cancelled by the customer prior to the current booking*\n",
        "\n",
        "***20. reserved_room_type*** : *Code of room type reserved. Code is presented instead of designation for anonymity reasons.*\n",
        "\n",
        "***21. assigned_room_type*** : *Code for the type of room assigned to the booking.*\n",
        "\n",
        "***22. booking_changes*** : *Number of changes/amendments made to the booking from the moment the booking was entered on the PMS until the moment of check-in or cancellation*\n",
        "\n",
        "***23. deposit_type*** : *Indication on if the customer made a deposit to guarantee the booking.*\n",
        "\n",
        "***24. agent*** : *ID of the travel agency that made the booking*\n",
        "\n",
        "***25. company*** : *ID of the company/entity that made the booking or responsible for paying the booking.*\n",
        "\n",
        "***26. days_in_waiting_list*** : *Number of days the booking was in the waiting list before it was confirmed to the customer*\n",
        "\n",
        "***27. customer_type*** : *Type of booking, assuming one of four categories*\n",
        "\n",
        "\n",
        "***28. adr*** : *Average Daily Rate as defined by dividing the sum of all lodging transactions by the total number of staying nights*\n",
        "\n",
        "***29. required_car_parking_spaces*** : *Number of car parking spaces required by the customer*\n",
        "\n",
        "***30. total_of_special_requests*** :* Number of special requests made by the customer (e.g. twin bed or high floor)*\n",
        "\n",
        "***31. reservation_status*** : *Reservation last status, assuming one of three categories*\n",
        "* Cancelled - booking was canceled by the customer\n",
        "* Check-Out - customer has checked in but already departed\n",
        "* No-Show - customer did not check-in and did inform the hotel about the reason\n",
        "\n",
        "***32. reservation_status_date*** : *Date at which the last status was set. This variable can be used in conjunction with the ReservationStatus to understand when was the booking canceled or when did the customer checked-out of the hotel*"
      ],
      "metadata": {
        "id": "hO8-MgUqNEPQ"
      }
    },
    {
      "cell_type": "markdown",
      "source": [
        "### Check Unique Values for each variable."
      ],
      "metadata": {
        "id": "G97gOOLcNEPQ"
      }
    },
    {
      "cell_type": "code",
      "source": [
        "# Check Unique Values for each variable.\n",
        "print(df.apply(lambda col : col.unique()))"
      ],
      "metadata": {
        "id": "hIfDuCoNNEPR"
      },
      "execution_count": null,
      "outputs": []
    },
    {
      "cell_type": "markdown",
      "source": [
        "## 3. ***Data Wrangling***"
      ],
      "metadata": {
        "id": "dauF4eBmngu3"
      }
    },
    {
      "cell_type": "markdown",
      "source": [
        "### Data Wrangling Code"
      ],
      "metadata": {
        "id": "bKJF3rekwFvQ"
      }
    },
    {
      "cell_type": "code",
      "source": [
        "# Write your code to make your dataset analysis ready.\n",
        "\n",
        "# Creating a new columns for future use.\n",
        "df['total_guests'] = df['adults'] + df['children'] + df['babies']\n",
        "df['total_stays'] = df['stays_in_week_nights'] + df['stays_in_weekend_nights']\n",
        "df['revenue'] = df['adr'] * df['total_stays']\n",
        "\n",
        "\n",
        "# Converting the data type of existing columns into approriate datatype.\n",
        "df['children'] = df['children'].astype(int)\n",
        "\n",
        "# We have separate columns for date, month ad year of arrival date.\n",
        "# Hence combining all three columns so that we can get complete arrival date in single column.\n",
        "\n",
        "df['arrival_date'] = df['arrival_date_year'].astype(str) + '/' + df['arrival_date_month'].astype(str) + '/'  + df['arrival_date_day_of_month'].astype(str)\n",
        "\n",
        "# Converting the datatype of arrival date column from string to datetime.\n",
        "\n",
        "df['arrival_date'] = pd.to_datetime(df['arrival_date'], format = '%Y/%B/%d')\n",
        "\n",
        "import calendar\n",
        "df['arrival_date_month_num'] = df['arrival_date_month'].apply(lambda x: list(calendar.month_name).index(x))\n",
        "\n",
        "df['reservation_status_date'] = pd.to_datetime(df['reservation_status_date'])\n",
        "\n",
        "df.head()"
      ],
      "metadata": {
        "id": "wk-9a2fpoLcV"
      },
      "execution_count": null,
      "outputs": []
    },
    {
      "cell_type": "markdown",
      "source": [
        "### What all manipulations have you done and insights you found?"
      ],
      "metadata": {
        "id": "MSa1f5Uengrz"
      }
    },
    {
      "cell_type": "markdown",
      "source": [
        "As part of data wrangling, I created new features and transformed existing ones to make the dataset more analyzable:\n",
        "1. The most obvious and basic manipulation I have done is dropping the duplicate records.\n",
        "\n",
        "2. The second most important manipulation made to clean the data is replacing null values with apropriate values. We have only four features that contain null values. The explaination for the replacement of null values is given above\n",
        "\n",
        "3.  Combined stay duration into a single total_nights column to simplify analysis\n",
        "\n",
        "4. Aggregated adults, children, and babies into total_guests to reflect full party size\n",
        "\n",
        "5. Converted arrival_date_month to numerical values for correct time-series ordering\n",
        "\n",
        "6. Transformed reservation_status_date into datetime format for date-based filtering and visualization\n",
        "\n",
        "These manipulations were made to simplify feature relationships, uncover new patterns, and prepare the data for meaningful visual and statistical analysis."
      ],
      "metadata": {
        "id": "LbyXE7I1olp8"
      }
    }
  ]
}