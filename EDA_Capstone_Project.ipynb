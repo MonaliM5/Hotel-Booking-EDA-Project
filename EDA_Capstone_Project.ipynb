{
  "nbformat": 4,
  "nbformat_minor": 0,
  "metadata": {
    "colab": {
      "private_outputs": true,
      "provenance": [],
      "collapsed_sections": [
        "vncDsAP0Gaoa",
        "FJNUwmbgGyua",
        "w6K7xa23Elo4",
        "yQaldy8SH6Dl",
        "mDgbUHAGgjLW",
        "HhfV-JJviCcP",
        "Y3lxredqlCYt",
        "x71ZqKXriCWQ",
        "H0kj-8xxnORC",
        "nA9Y7ga8ng1Z",
        "PBTbrJXOngz2",
        "dauF4eBmngu3",
        "bKJF3rekwFvQ",
        "K5QZ13OEpz2H",
        "lQ7QKXXCp7Bj",
        "448CDAPjqfQr",
        "q31VG7vfCI-7",
        "iky9q4vBYrdO",
        "F6T5p64dYrdO",
        "y-Ehk30pYrdP",
        "s4ooqs4KMViJ",
        "S-YBI9mFn-xE",
        "D5QUVScFn-xF",
        "GwzvFGzlYuh3",
        "qYpmQ266Yuh3",
        "GK1VaHhcCxJW",
        "Rtg8m8eIbY57",
        "_Avn2YU3bY58",
        "bbFf2-_FphqN",
        "_ouA3fa0phqN",
        "Seke61FWphqN",
        "U5okzhS9Dinh",
        "GaLvDj7OMUrG",
        "KkMvj9zgMe9P",
        "8HxJZIboMnOp",
        "jmqXgOVwBeLA",
        "jj7wYXLtphqO",
        "eZrbJ2SmphqO",
        "rFu4xreNphqO",
        "Be-y_edjahIQ",
        "1M8mcRywphqQ",
        "tgIPom80phqQ",
        "JMzcOPDDphqR",
        "xmjLDHiXfq-G",
        "kyDSvFS9gHzY",
        "ztCLLcsygHzZ",
        "gypgI9o_gHzZ",
        "u-DBdXBIgHzZ",
        "X_VqEhTip1ck",
        "8zGJKyg5p1ck",
        "PVzmfK_Ep1ck",
        "kSwARnEzhv2j",
        "MM_fLKmVpI7y",
        "f8PR9cA0pI7z",
        "nA5pSdJLpI70",
        "wy9qsbdCpI70",
        "n3dbpmDWp1ck",
        "Td4GWh4bRmW4",
        "Ag9LCva-p1cl",
        "E6MkPsBcp1cl",
        "2cELzS2fp1cl",
        "3MPXvC8up1cl",
        "s1e95aZ8nVvM",
        "XBOi6vbEqSOZ",
        "y3lIEWMZ-uHd",
        "q_Bf9kO5BDhk",
        "k1tCiZetC8ca",
        "59_meObJEbtX",
        "8LVHECENEcAp",
        "ilYOBcADEcQA",
        "_ozpGZpjEceR",
        "fsr-g_DKEc27",
        "KHPy2tlvEdGn",
        "V_AnkKz8RXJV",
        "JGIVWvx6RXY1",
        "-31tJnDpRXY2",
        "7QveDmlwRXg2",
        "q7w67Nc7cgdT",
        "kWAc6dA0cgWB",
        "HYW1TJmLcgjw",
        "oL7NGE3qcgp1",
        "KSUoVtBlcgwZ",
        "UV0SzAkaZNRQ",
        "bsfznw9UYrmH",
        "ADLhZTyGY4Z_",
        "EXh0U9oCveiU",
        "22aHeOlLveiV",
        "kt2m848GaNIN",
        "GlRqGp4ganST",
        "JcMwzZxoAimU",
        "8G2x9gOozGDZ",
        "gCX9965dhzqZ"
      ]
    },
    "kernelspec": {
      "name": "python3",
      "display_name": "Python 3"
    },
    "language_info": {
      "name": "python"
    }
  },
  "cells": [
    {
      "cell_type": "markdown",
      "source": [
        "# **Project Name**    -\n",
        "\n"
      ],
      "metadata": {
        "id": "vncDsAP0Gaoa"
      }
    },
    {
      "cell_type": "markdown",
      "source": [
        "##### **Project Type**    - EDA\n",
        "##### **Contribution**    - Individual\n",
        "##### **Candidate Name -**   Monali Vijay Mhaske\n"
      ],
      "metadata": {
        "id": "beRrZCGUAJYm"
      }
    },
    {
      "cell_type": "markdown",
      "source": [
        "# **Project Summary -**"
      ],
      "metadata": {
        "id": "FJNUwmbgGyua"
      }
    },
    {
      "cell_type": "markdown",
      "source": [
        "* The hotel industry nowadays has become a very important sector for both the stakeholders, or owners, and customers.As this industry comes under service sector, it automatically becomes very volatile.\n",
        "\n",
        "* The profit-loss and statistics of a hotel business can vary regardless of time and trend as it depends on customers' satisfaction; hence, analyzing this data and finding insights was challenging.\n",
        "\n",
        "* This project presents an in-depth Exploratory Data Analysis (EDA) of hotel booking data to uncover hidden patterns and actionable insights that influence booking cancellations, guest behavior, and hotel performance.\n",
        "\n",
        "* Using Python and libraries like Pandas, NumPy, Seaborn, and Matplotlib, I processed and visualized real-world hotel booking data containing over 30 variables, including customer type, lead time, reservation status, and room preferences.\n",
        "\n",
        "* Through detailed univariate, bivariate, and multivariate analysis, I identified:\n",
        "\n",
        "    * A higher cancellation rate for city hotels compared to resort hotels\n",
        "\n",
        "    * Strong correlation between longer lead times and cancellation probability\n",
        "\n",
        "    * Monthly booking trends revealing seasonal peaks and dips\n",
        "\n",
        "    * The impact of deposit type, customer segmentation, and prior bookings on cancellations\n",
        "\n",
        "* This project demonstrates my ability to extract insights from raw data, communicate findings using compelling visualizations, and apply business thinking to real-world problems—critical skills for any data-driven role."
      ],
      "metadata": {
        "id": "E7TiE8F8XTiv"
      }
    },
    {
      "cell_type": "markdown",
      "source": [
        "# **GitHub Link -**"
      ],
      "metadata": {
        "id": "w6K7xa23Elo4"
      }
    },
    {
      "cell_type": "markdown",
      "source": [
        "Provide your GitHub Link here."
      ],
      "metadata": {
        "id": "h1o69JH3Eqqn"
      }
    },
    {
      "cell_type": "markdown",
      "source": [
        "# **Problem Statement**\n"
      ],
      "metadata": {
        "id": "yQaldy8SH6Dl"
      }
    },
    {
      "cell_type": "markdown",
      "source": [
        "The hospitality industry faces significant revenue loss due to last-minute cancellations, overbookings, and unpredictable customer behavior.\n",
        "\n",
        "Understanding what factors influence booking outcomes can help hotels optimize pricing strategies, improve customer retention, and reduce cancellation rates.\n",
        "\n",
        "This project aims to explore and analyze a real-world hotel booking dataset to identify:\n",
        "\n",
        "\n",
        "\n",
        "*   Key factors leading to cancellations\n",
        "*  Patterns in guest preferences and booking behavior\n",
        "*   Seasonal and regional trends affecting hotel performance\n",
        "\n",
        "By performing detailed exploratory data analysis (EDA), we seek to uncover actionable insights that can support smarter business decisions in the hotel and travel industry."
      ],
      "metadata": {
        "id": "DpeJGUA3kjGy"
      }
    },
    {
      "cell_type": "markdown",
      "source": [
        "#### **Define Your Business Objective?**"
      ],
      "metadata": {
        "id": "PH-0ReGfmX4f"
      }
    },
    {
      "cell_type": "markdown",
      "source": [
        "The primary business objective of this project is to minimize booking cancellations and maximize hotel revenue by understanding customer behavior, booking patterns, and key factors influencing cancellations.\n",
        "\n",
        "By identifying trends related to booking lead times, customer segments, seasonal demand, and pricing (ADR), the hotel can:\n",
        "\n",
        "* Improve demand forecasting and room inventory management\n",
        "\n",
        "* Tailor pricing and promotional strategies based on seasonality and guest type\n",
        "\n",
        "* Reduce revenue loss by proactively identifying high-risk cancellations\n",
        "\n",
        "* Enhance guest experience by understanding stay preferences and booking habits\n",
        "\n",
        "\n",
        "The insights generated from this analysis can empower hotel managers and decision-makers to implement data-driven strategies that increase operational efficiency, boost occupancy rates, and improve overall profitability."
      ],
      "metadata": {
        "id": "mHZfMv4zZB-w"
      }
    },
    {
      "cell_type": "markdown",
      "source": [
        "# **General Guidelines** : -  "
      ],
      "metadata": {
        "id": "mDgbUHAGgjLW"
      }
    },
    {
      "cell_type": "markdown",
      "source": [
        "1.   Well-structured, formatted, and commented code is required.\n",
        "2.   Exception Handling, Production Grade Code & Deployment Ready Code will be a plus. Those students will be awarded some additional credits.\n",
        "     \n",
        "     The additional credits will have advantages over other students during Star Student selection.\n",
        "       \n",
        "             [ Note: - Deployment Ready Code is defined as, the whole .ipynb notebook should be executable in one go\n",
        "                       without a single error logged. ]\n",
        "\n",
        "3.   Each and every logic should have proper comments.\n",
        "4. You may add as many number of charts you want. Make Sure for each and every chart the following format should be answered.\n",
        "        \n",
        "\n",
        "```\n",
        "# Chart visualization code\n",
        "```\n",
        "            \n",
        "\n",
        "*   Why did you pick the specific chart?\n",
        "*   What is/are the insight(s) found from the chart?\n",
        "* Will the gained insights help creating a positive business impact?\n",
        "Are there any insights that lead to negative growth? Justify with specific reason.\n",
        "\n",
        "5. You have to create at least 20 logical & meaningful charts having important insights.\n",
        "\n",
        "\n",
        "[ Hints : - Do the Vizualization in  a structured way while following \"UBM\" Rule.\n",
        "\n",
        "U - Univariate Analysis,\n",
        "\n",
        "B - Bivariate Analysis (Numerical - Categorical, Numerical - Numerical, Categorical - Categorical)\n",
        "\n",
        "M - Multivariate Analysis\n",
        " ]\n",
        "\n",
        "\n",
        "\n"
      ],
      "metadata": {
        "id": "ZrxVaUj-hHfC"
      }
    },
    {
      "cell_type": "markdown",
      "source": [
        "# ***Let's Begin !***"
      ],
      "metadata": {
        "id": "O_i_v8NEhb9l"
      }
    },
    {
      "cell_type": "markdown",
      "source": [
        "## ***1. Know Your Data***"
      ],
      "metadata": {
        "id": "HhfV-JJviCcP"
      }
    },
    {
      "cell_type": "markdown",
      "source": [
        "### Import Libraries"
      ],
      "metadata": {
        "id": "Y3lxredqlCYt"
      }
    },
    {
      "cell_type": "code",
      "source": [
        "# Import Libraries\n",
        "# Libraries for Data Handling\n",
        "import numpy as np\n",
        "import pandas as pd\n",
        "\n",
        "#Libraries for visualization\n",
        "import matplotlib.pyplot as plt\n",
        "import seaborn as sns\n",
        "import matplotlib as mpl\n",
        "from matplotlib import cm\n",
        "%matplotlib inline\n",
        "\n",
        "# Supressing Warnings\n",
        "import warnings\n",
        "warnings.filterwarnings('ignore')"
      ],
      "metadata": {
        "id": "M8Vqi-pPk-HR"
      },
      "execution_count": null,
      "outputs": []
    },
    {
      "cell_type": "markdown",
      "source": [
        "### Dataset Loading"
      ],
      "metadata": {
        "id": "3RnN4peoiCZX"
      }
    },
    {
      "cell_type": "code",
      "source": [
        "# Mounting' google drive where dataset is saved.\n",
        "from google.colab import drive\n",
        "drive.mount('/content/drive')"
      ],
      "metadata": {
        "id": "-71ofbOvumjL"
      },
      "execution_count": null,
      "outputs": []
    },
    {
      "cell_type": "code",
      "source": [
        "# Load Dataset\n",
        "df = pd.read_csv(\"/content/drive/MyDrive/Colab Notebooks/Module 2.5 - Project EDA/Hotel Bookings.csv\")"
      ],
      "metadata": {
        "id": "4CkvbW_SlZ_R"
      },
      "execution_count": null,
      "outputs": []
    },
    {
      "cell_type": "markdown",
      "source": [
        "\n",
        "\n",
        "\n",
        "\n",
        "### Dataset First View"
      ],
      "metadata": {
        "id": "x71ZqKXriCWQ"
      }
    },
    {
      "cell_type": "code",
      "source": [
        "# Dataset First Look\n",
        "# Going through the first 5 records of the dataset\n",
        "df.head()"
      ],
      "metadata": {
        "id": "LWNFOSvLl09H"
      },
      "execution_count": null,
      "outputs": []
    },
    {
      "cell_type": "markdown",
      "source": [
        "### Dataset Rows & Columns count"
      ],
      "metadata": {
        "id": "7hBIi_osiCS2"
      }
    },
    {
      "cell_type": "code",
      "source": [
        "# Dataset Rows & Columns count\n",
        "print(f\"Number of rows in dataset   :\",df.shape[0])\n",
        "print(f\"Numberof columns in dataset :\",df.shape[1])"
      ],
      "metadata": {
        "id": "Kllu7SJgmLij"
      },
      "execution_count": null,
      "outputs": []
    },
    {
      "cell_type": "markdown",
      "source": [
        "### Dataset Information"
      ],
      "metadata": {
        "id": "JlHwYmJAmNHm"
      }
    },
    {
      "cell_type": "code",
      "source": [
        "# Dataset Info\n",
        "# Checking the datatype and other information of all the features of dataset.\n",
        "df.info()"
      ],
      "metadata": {
        "id": "e9hRXRi6meOf"
      },
      "execution_count": null,
      "outputs": []
    },
    {
      "cell_type": "markdown",
      "source": [
        "#### Duplicate Values"
      ],
      "metadata": {
        "id": "35m5QtbWiB9F"
      }
    },
    {
      "cell_type": "code",
      "source": [
        "# Dataset Duplicate Value Count\n",
        "df.duplicated().sum()"
      ],
      "metadata": {
        "id": "1sLdpKYkmox0"
      },
      "execution_count": null,
      "outputs": []
    },
    {
      "cell_type": "code",
      "source": [
        "#Dropping the duplicate records\n",
        "df.drop_duplicates(inplace = True)"
      ],
      "metadata": {
        "id": "oN4xYVaxZYM6"
      },
      "execution_count": null,
      "outputs": []
    },
    {
      "cell_type": "code",
      "source": [
        "# Shape of dataset after dropping duplicate values\n",
        "df.shape"
      ],
      "metadata": {
        "id": "jmTsLklzZpwI"
      },
      "execution_count": null,
      "outputs": []
    },
    {
      "cell_type": "markdown",
      "source": [
        "#### Missing Values/Null Values"
      ],
      "metadata": {
        "id": "PoPl-ycgm1ru"
      }
    },
    {
      "cell_type": "code",
      "source": [
        "# Missing Values/Null Values Count\n",
        "# Checking missing values count and percentage\n",
        "missing_df = df.isnull().sum().reset_index()\n",
        "missing_df.columns = ['Column', 'Missing_Values']\n",
        "missing_df['Missing_%'] = 100 * missing_df['Missing_Values'] / len(df)\n",
        "missing_df = missing_df[missing_df['Missing_Values'] > 0].sort_values(by='Missing_%', ascending=False)\n",
        "\n",
        "# Displaying the result\n",
        "print(missing_df)\n"
      ],
      "metadata": {
        "id": "GgHWkxvamxVg"
      },
      "execution_count": null,
      "outputs": []
    },
    {
      "cell_type": "markdown",
      "source": [
        "* I examined the dataset for missing values and found that a few columns such as agent, company, children, and country contain null entries.\n",
        "* The agent and company columns have the highest proportion of missing data.\n",
        "* To understand the impact, I visualized the percentage of missing values in each column using a horizontal bar chart."
      ],
      "metadata": {
        "id": "0Bm4C5Veb-47"
      }
    },
    {
      "cell_type": "code",
      "source": [
        "# Visualizing the missing or null values\n",
        "\n",
        "# Setting Figure size\n",
        "plt.figure(figsize=(10, 6))\n",
        "\n",
        "# Code to plot the data\n",
        "sns.barplot(data=missing_df, x='Missing_%', y='Column', palette='viridis')\n",
        "\n",
        "# Setting labels and title\n",
        "plt.title('Missing Values by Column')\n",
        "plt.xlabel('Percentage of Missing Values')\n",
        "plt.ylabel('Column Name')\n",
        "plt.tight_layout()\n",
        "plt.show()"
      ],
      "metadata": {
        "id": "3q5wnI3om9sJ"
      },
      "execution_count": null,
      "outputs": []
    },
    {
      "cell_type": "markdown",
      "source": [
        "I identified missing values in four columns: children, agent, company, and country. Based on the nature of the data and domain understanding:\n",
        "\n",
        "1. children (Numerical)\n",
        "  * **What it represents**:\n",
        "      Number of children in a booking\n",
        "\n",
        "  * **Missing likely due to**:\n",
        "      Data entry issues or oversight\n",
        "\n",
        "  * **Imputation Strategy**:\n",
        "      Replacing missing values with the median (since it's numerical and may be skewed).\n",
        "\n",
        "2. company (Categorical but stored as numeric ID)\n",
        "\n",
        "  * **What it represents**:\n",
        "      ID of the company that made the booking\n",
        "\n",
        "  * **Missing likely means**:\n",
        "      No company involved in booking\n",
        "      \n",
        "  * **Imputation Strategy**:\n",
        "      Replacing missing values with 0 and treat it as “No Company”.\n",
        "\n",
        "3. country (Categorical)\n",
        "  * **What it represents**:\n",
        "      Country of the guest\n",
        "\n",
        "  * **Missing likely due to**:\n",
        "      Unrecorded guest info or country of guest not listed\n",
        "\n",
        "  * **Imputation Strategy**:\n",
        "      Replacing missing values with the 'unknown'.\n",
        "\n",
        "4. agent (Categorical but stored as numeric ID)\n",
        "  * **What it represents**:\n",
        "      ID of the travel agent who booked the reservation\n",
        "\n",
        "  * **Missing likely means**:\n",
        "      Bookings were made without an agent\n",
        "\n",
        "  * **Imputation Strategy**:\n",
        "      Replacing missing values with 0 and treat it as “No Agent"
      ],
      "metadata": {
        "id": "EGkmas1KcyVz"
      }
    },
    {
      "cell_type": "code",
      "source": [
        "# Replacing the null values with the apropriate values\n",
        "df.fillna({'children': df['children'].median()}, inplace=True)\n",
        "df.fillna({'agent' :0}, inplace = True)\n",
        "df.fillna({'company' :0}, inplace = True)\n",
        "df.fillna({'country' :'Unknown'}, inplace = True)\n",
        "\n",
        "\n",
        "# Checking the replacement of null values has worked properly or not\n",
        "print(f\"Total null values in dataset now :\\n\")\n",
        "df.isna().sum().reset_index().rename(columns = {'index':'Columns', 0: 'Null Value Count'})"
      ],
      "metadata": {
        "id": "ksg7JFm5z9Vu"
      },
      "execution_count": null,
      "outputs": []
    },
    {
      "cell_type": "markdown",
      "source": [
        "### What did you know about your dataset?"
      ],
      "metadata": {
        "id": "H0kj-8xxnORC"
      }
    },
    {
      "cell_type": "markdown",
      "source": [
        "The dataset contains detailed booking information from two types of hotels: City Hotel and Resort Hotel. It consists of over 30 features describing the characteristics of each booking, including booking dates, stay duration, number of guests, pricing, customer demographics, and reservation status.\n",
        "\n",
        "Here’s what I’ve learned about the dataset:\n",
        "\n",
        "📌 Nature of Data: The dataset is structured and tabular, with each row representing a single hotel booking.\n",
        "\n",
        "🏨 Hotel Types: It includes two types of properties — City Hotel and Resort Hotel, allowing for comparative analysis.\n",
        "\n",
        "📅 Time-Based Features: It has multiple date-related columns such as arrival_date_year, arrival_date_month, and lead_time, enabling time-series and seasonal trend analysis.\n",
        "\n",
        "👨‍👩‍👧‍👦 Guest Details: The dataset captures the number of adults, children, and babies, which helps in understanding guest composition.\n",
        "\n",
        "📉 Cancellations: The binary is_canceled column indicates whether a booking was canceled, which is a key target for business insights.\n",
        "\n",
        "💰 Revenue Info: adr (Average Daily Rate) provides pricing information for each booking.\n",
        "\n",
        "🌍 Customer & Market Segments: Columns like country, customer_type, market_segment, and distribution_channel help analyze customer origins and booking sources.\n",
        "\n",
        "🚫 Cancellation History: Features such as is_repeated_guest, previous_cancellations, and days_in_waiting_list provide insights into booking reliability and loyalty.\n",
        "\n",
        "In summary, this dataset offers a comprehensive view of hotel booking behavior and provides a strong foundation for exploring patterns, trends, and potential business opportunities."
      ],
      "metadata": {
        "id": "eJe8PBIOatkx"
      }
    },
    {
      "cell_type": "markdown",
      "source": [
        "## ***2. Understanding Your Variables***"
      ],
      "metadata": {
        "id": "nA9Y7ga8ng1Z"
      }
    },
    {
      "cell_type": "code",
      "source": [
        "# Dataset Columns\n",
        "df.columns"
      ],
      "metadata": {
        "id": "j7xfkqrt5Ag5"
      },
      "execution_count": null,
      "outputs": []
    },
    {
      "cell_type": "code",
      "source": [
        "# Dataset Describe\n",
        "df.describe()"
      ],
      "metadata": {
        "id": "DnOaZdaE5Q5t"
      },
      "execution_count": null,
      "outputs": []
    },
    {
      "cell_type": "markdown",
      "source": [
        "### Variables Description"
      ],
      "metadata": {
        "id": "PBTbrJXOngz2"
      }
    },
    {
      "cell_type": "markdown",
      "source": [
        "\n",
        "***1. hotel*** : *Hotel(Resort Hotel or City Hotel)*\n",
        "\n",
        "***2. is_canceled*** : Value indicating if the booking was canceled (1) or not (0)*\n",
        "\n",
        "***3. lead_time*** : *Number of days that elapsed between the entering date of the booking into the PMS(database) and the arrival date*\n",
        "\n",
        "***4. arrival_date_year*** : *Year of arrival*\n",
        "\n",
        "***5. arrival_date_month*** : *Month of arrival*\n",
        "\n",
        "***6. arrival_date_week_number*** : *At which Week guests arrived or going to arrive*\n",
        "\n",
        "***7. arrival_date_day_of_month*** : *Day of arrival*\n",
        "\n",
        "***8. stays_in_weekend_nights*** : *Number of weekend nights (Saturday or Sunday) the guest stayed or booked to stay at the hotel*\n",
        "\n",
        "***9. stays_in_week_nights*** : *Number of week nights (Monday to Friday) the guest stayed or booked to stay at the hotel*\n",
        "\n",
        "***10. adults*** : *Number of adults*\n",
        "\n",
        "***11. children*** : *Number of children*\n",
        "\n",
        "***12. babies*** : *Number of babies*\n",
        "\n",
        "***13. meal*** : *Type of meal guests ordered. Categories are presented in standard hospitality meal packages:*\n",
        "\n",
        "***14. country*** : *Country which guests belong to*\n",
        "\n",
        "***15. market_segment*** : *Market segment designation. In categories, the term “TA” means “Travel Agents” and “TO” means “Tour Operators”*\n",
        "\n",
        "***16. distribution_channel*** : *Booking distribution channel. The term “TA” means “Travel Agents” and “TO” means “Tour Operators”*\n",
        "\n",
        "***17. is_repeated_guest*** : *Value indicating if the booking name was from a repeated guest (1) or not (0)*\n",
        "\n",
        "***18. previous_cancellations*** : *Number of previous bookings that were cancelled by the customer prior to the current booking*\n",
        "\n",
        "***19. previous_bookings_not_canceled*** : *Number of previous bookings not cancelled by the customer prior to the current booking*\n",
        "\n",
        "***20. reserved_room_type*** : *Code of room type reserved. Code is presented instead of designation for anonymity reasons.*\n",
        "\n",
        "***21. assigned_room_type*** : *Code for the type of room assigned to the booking.*\n",
        "\n",
        "***22. booking_changes*** : *Number of changes/amendments made to the booking from the moment the booking was entered on the PMS until the moment of check-in or cancellation*\n",
        "\n",
        "***23. deposit_type*** : *Indication on if the customer made a deposit to guarantee the booking.*\n",
        "\n",
        "***24. agent*** : *ID of the travel agency that made the booking*\n",
        "\n",
        "***25. company*** : *ID of the company/entity that made the booking or responsible for paying the booking.*\n",
        "\n",
        "***26. days_in_waiting_list*** : *Number of days the booking was in the waiting list before it was confirmed to the customer*\n",
        "\n",
        "***27. customer_type*** : *Type of booking, assuming one of four categories*\n",
        "\n",
        "\n",
        "***28. adr*** : *Average Daily Rate as defined by dividing the sum of all lodging transactions by the total number of staying nights*\n",
        "\n",
        "***29. required_car_parking_spaces*** : *Number of car parking spaces required by the customer*\n",
        "\n",
        "***30. total_of_special_requests*** :* Number of special requests made by the customer (e.g. twin bed or high floor)*\n",
        "\n",
        "***31. reservation_status*** : *Reservation last status, assuming one of three categories*\n",
        "* Cancelled - booking was canceled by the customer\n",
        "* Check-Out - customer has checked in but already departed\n",
        "* No-Show - customer did not check-in and did inform the hotel about the reason\n",
        "\n",
        "***32. reservation_status_date*** : *Date at which the last status was set. This variable can be used in conjunction with the ReservationStatus to understand when was the booking canceled or when did the customer checked-out of the hotel*"
      ],
      "metadata": {
        "id": "aJV4KIxSnxay"
      }
    },
    {
      "cell_type": "markdown",
      "source": [
        "### Check Unique Values for each variable."
      ],
      "metadata": {
        "id": "u3PMJOP6ngxN"
      }
    },
    {
      "cell_type": "code",
      "source": [
        "# Check Unique Values for each variable.\n",
        "print(df.apply(lambda col : col.unique()))"
      ],
      "metadata": {
        "id": "zms12Yq5n-jE"
      },
      "execution_count": null,
      "outputs": []
    },
    {
      "cell_type": "markdown",
      "source": [
        "## ***3. Data Wrangling***"
      ],
      "metadata": {
        "id": "dauF4eBmngu3"
      }
    },
    {
      "cell_type": "markdown",
      "source": [
        "### Data Wrangling Code"
      ],
      "metadata": {
        "id": "bKJF3rekwFvQ"
      }
    },
    {
      "cell_type": "code",
      "source": [
        "# Write your code to make your dataset analysis ready.\n",
        "\n",
        "# Creating a new columns for future use.\n",
        "df['total_guests'] = df['adults'] + df['children'] + df['babies']\n",
        "df['total_stays'] = df['stays_in_week_nights'] + df['stays_in_weekend_nights']\n",
        "df['revenue'] = df['adr'] * df['total_stays']\n",
        "\n",
        "\n",
        "# Converting the data type of existing columns into approriate datatype.\n",
        "df['children'] = df['children'].astype(int)\n",
        "\n",
        "# We have separate columns for date, month ad year of arrival date.\n",
        "# Hence combining all three columns so that we can get complete arrival date in single column.\n",
        "\n",
        "df['arrival_date'] = df['arrival_date_year'].astype(str) + '/' + df['arrival_date_month'].astype(str) + '/'  + df['arrival_date_day_of_month'].astype(str)\n",
        "\n",
        "# Converting the datatype of arrival date column from string to datetime.\n",
        "\n",
        "df['arrival_date'] = pd.to_datetime(df['arrival_date'], format = '%Y/%B/%d')\n",
        "\n",
        "import calendar\n",
        "df['arrival_date_month_num'] = df['arrival_date_month'].apply(lambda x: list(calendar.month_name).index(x))\n",
        "\n",
        "df['reservation_status_date'] = pd.to_datetime(df['reservation_status_date'])\n",
        "\n",
        "df.head()"
      ],
      "metadata": {
        "id": "wk-9a2fpoLcV"
      },
      "execution_count": null,
      "outputs": []
    },
    {
      "cell_type": "markdown",
      "source": [
        "### What all manipulations have you done and insights you found?"
      ],
      "metadata": {
        "id": "MSa1f5Uengrz"
      }
    },
    {
      "cell_type": "markdown",
      "source": [
        "As part of data wrangling, I created new features and transformed existing ones to make the dataset more analyzable:\n",
        "1. The most obvious and basic manipulation I have done is dropping the duplicate records.\n",
        "\n",
        "2. The second most important manipulation made to clean the data is replacing null values with apropriate values. We have only four features that contain null values. The explaination for the replacement of null values is given above\n",
        "\n",
        "3.  Combined stay duration into a single total_nights column to simplify analysis\n",
        "\n",
        "4. Aggregated adults, children, and babies into total_guests to reflect full party size\n",
        "\n",
        "5. Converted arrival_date_month to numerical values for correct time-series ordering\n",
        "\n",
        "6. Transformed reservation_status_date into datetime format for date-based filtering and visualization\n",
        "\n",
        "These manipulations were made to simplify feature relationships, uncover new patterns, and prepare the data for meaningful visual and statistical analysis."
      ],
      "metadata": {
        "id": "LbyXE7I1olp8"
      }
    },
    {
      "cell_type": "markdown",
      "source": [
        "## ***4. Data Vizualization, Storytelling & Experimenting with charts : Understand the relationships between variables***"
      ],
      "metadata": {
        "id": "GF8Ens_Soomf"
      }
    },
    {
      "cell_type": "markdown",
      "source": [
        "###  Univariate Analysis"
      ],
      "metadata": {
        "id": "OJrt5kFwvi5V"
      }
    },
    {
      "cell_type": "markdown",
      "source": [
        "#### Chart 1 - Distribution of Bookings by Hotel Type (hotel)"
      ],
      "metadata": {
        "id": "0wOQAZs5pc--"
      }
    },
    {
      "cell_type": "code",
      "source": [
        "# Chart 1 - visualization code\n",
        "\n",
        "# Setting up the figure\n",
        "plt.figure(figsize=(6, 5))\n",
        "\n",
        "# Setting plot styles\n",
        "sns.set(style=\"whitegrid\")\n",
        "\n",
        "# Plotting count of bookings by hotel type\n",
        "sns.countplot(data=df, x='hotel', palette='coolwarm')\n",
        "\n",
        "\n",
        "# Setting titles and labels\n",
        "plt.title('Booking Distribution by Hotel Type', fontsize=14)\n",
        "plt.xlabel('Hotel Type (City Hotel / Resort Hotel)', fontsize=12, labelpad= 5)\n",
        "plt.ylabel('Number of Bookings', fontsize=12, labelpad= 10)\n",
        "plt.tight_layout()\n",
        "\n",
        "# Showing the plot\n",
        "plt.show()"
      ],
      "metadata": {
        "id": "UrLy1UEElj_S"
      },
      "execution_count": null,
      "outputs": []
    },
    {
      "cell_type": "markdown",
      "source": [
        "##### 1. Why did you pick the specific chart?"
      ],
      "metadata": {
        "id": "K5QZ13OEpz2H"
      }
    },
    {
      "cell_type": "markdown",
      "source": [
        "\n",
        "* This chart was chosen to understand the distribution of bookings across the two types of hotels in the dataset:\n",
        "\n",
        "    * City Hotel\n",
        "\n",
        "    * Resort Hotel\n",
        "\n",
        "* Since the hotel column is categorical, and we're interested in comparing frequency, a count plot is the most effective and simplest visualization.\n",
        "\n",
        "* This chart also serves as a foundation for comparing future insights by hotel type, such as cancellation rates, ADR, or seasonal trends."
      ],
      "metadata": {
        "id": "XESiWehPqBRc"
      }
    },
    {
      "cell_type": "markdown",
      "source": [
        "##### 2. What is/are the insight(s) found from the chart?"
      ],
      "metadata": {
        "id": "lQ7QKXXCp7Bj"
      }
    },
    {
      "cell_type": "markdown",
      "source": [
        "\n",
        "* The number of bookings for City Hotel is significantly higher than for Resort Hotel.\n",
        "\n",
        "* This suggests that City Hotels may be more popular, possibly due to:\n",
        "\n",
        "    * Business travel\n",
        "\n",
        "    * Urban tourism\n",
        "\n",
        "    * Better connectivity or location convenience\n",
        "\n",
        "* This observation implies that City Hotels are more in demand in the dataset timeframe."
      ],
      "metadata": {
        "id": "C_j1G7yiqdRP"
      }
    },
    {
      "cell_type": "markdown",
      "source": [
        "##### 3. Will the gained insights help creating a positive business impact?"
      ],
      "metadata": {
        "id": "448CDAPjqfQr"
      }
    },
    {
      "cell_type": "markdown",
      "source": [
        "Yes. Understanding that City Hotels attract more bookings allows businesses to:\n",
        "\n",
        "* Focus marketing and promotions where demand is already high\n",
        "\n",
        "* Allocate more resources and staff to city properties\n",
        "\n",
        "* Strategically plan for expansion or improvements\n",
        "\n",
        "It also suggests that different business strategies might be needed for City vs. Resort Hotels.\n"
      ],
      "metadata": {
        "id": "3cspy4FjqxJW"
      }
    },
    {
      "cell_type": "markdown",
      "source": [
        "#####4. Are there any insights that lead to negative growth? Justify with specific reason."
      ],
      "metadata": {
        "id": "q31VG7vfCI-7"
      }
    },
    {
      "cell_type": "markdown",
      "source": [
        "Yes, these insights lead to negative growth potentially. If Resort Hotels are underperforming:\n",
        "\n",
        "  * They may suffer from seasonal dependency, fewer marketing efforts, or limited accessibility.\n",
        "\n",
        "  * If ignored, this imbalance can lead to negative growth for resort properties, especially during off-peak seasons.\n",
        "\n",
        "Hotels may need to investigate:\n",
        "\n",
        "  * Why the resort bookings are low\n",
        "\n",
        "  * Whether pricing, visibility, or customer experience is affecting demand"
      ],
      "metadata": {
        "id": "Qyq_Pq0hCQgP"
      }
    },
    {
      "cell_type": "markdown",
      "source": [
        "#### Chart 2- Distribution of Booking Cancellations (is_canceled)"
      ],
      "metadata": {
        "id": "KSlN3yHqYklG"
      }
    },
    {
      "cell_type": "code",
      "source": [
        "# Chart 2 - Visualization code\n",
        "\n",
        "# Creating layout of subplots to enclose figure in single cell.\n",
        "fig, ax = plt.subplots()\n",
        "\n",
        "# Setting labels and values\n",
        "labels = ['Not Cancelled', 'Cancelled']\n",
        "values = df['is_canceled'].value_counts().values\n",
        "\n",
        "# Creating Pie Chart.\n",
        "ax.pie(values, explode=[0,0.1], labels=labels, colors = ['lightskyblue', 'plum'], autopct='%1.2f%%',\n",
        "       shadow={'ox': -0.02, 'edgecolor': 'black', 'shade': 0.9}, startangle=90)\n",
        "\n",
        "# Setting title\n",
        "plt.title('Percnetage of Cancellation')\n",
        "\n",
        "# Displaying the chart\n",
        "plt.show()"
      ],
      "metadata": {
        "id": "r8BTw9wSjfoi"
      },
      "execution_count": null,
      "outputs": []
    },
    {
      "cell_type": "markdown",
      "source": [
        "##### 1. Why did you pick the specific chart?"
      ],
      "metadata": {
        "id": "t6dVpIINYklI"
      }
    },
    {
      "cell_type": "markdown",
      "source": [
        "* This is a fundamental univariate analysis to understand What percentage of total bookings are being cancelled overall.\n",
        "* Pie charts are great for showing parts of whole and they're useful when you want to quickly grasp which categories are larger/ smaller at glance.\n",
        "* Understanding the cancellation rate is critical for hotel operations and revenue planning\n"
      ],
      "metadata": {
        "id": "5aaW0BYyYklI"
      }
    },
    {
      "cell_type": "markdown",
      "source": [
        "##### 2. What is/are the insight(s) found from the chart?"
      ],
      "metadata": {
        "id": "ijmpgYnKYklI"
      }
    },
    {
      "cell_type": "markdown",
      "source": [
        "From the chart, we observe:\n",
        "\n",
        "- A significant proportion of bookings are being cancelled.\n",
        "\n",
        "- Non-cancelled bookings (0) are higher, but cancellations (1) still make up a notable share, roughly ~38–40% of all bookings.\n",
        "\n",
        "This insight confirms that cancellation is a non-negligible issue in the dataset and should be analyzed in more depth."
      ],
      "metadata": {
        "id": "PSx9atu2YklI"
      }
    },
    {
      "cell_type": "markdown",
      "source": [
        "##### 3. Will the gained insights help creating a positive business impact?\n"
      ],
      "metadata": {
        "id": "-JiQyfWJYklI"
      }
    },
    {
      "cell_type": "markdown",
      "source": [
        "Yes, this insight is highly valuable. Knowing that around 4 out of 10 bookings get cancelled allows hotel managers to:\n",
        "\n",
        "* Introduce better cancellation policies\n",
        "\n",
        "* Implement revenue management tactics (e.g., overbooking strategies)\n",
        "\n",
        "* Focus analysis on what causes cancellations to reduce revenue loss"
      ],
      "metadata": {
        "id": "BcBbebzrYklV"
      }
    },
    {
      "cell_type": "markdown",
      "source": [
        "#####4. Are there any insights that lead to negative growth? Justify with specific reason."
      ],
      "metadata": {
        "id": "JPQaCgufBGAX"
      }
    },
    {
      "cell_type": "markdown",
      "source": [
        "* Yes - the high cancellation rate represents potential revenue loss, vacant rooms, and operational inefficiency.\n",
        "\n",
        "* Negative growth occurs when cancellations aren't predicted or managed — leading to lost bookings that can't be replaced in time.\n",
        "\n",
        "* Especially if rooms remain vacant due to last-minute cancellations, the hotel may face loss of income and poor resource utilization."
      ],
      "metadata": {
        "id": "YH8c4Xj3B4kp"
      }
    },
    {
      "cell_type": "markdown",
      "source": [
        "#### Chart 3 - Distribution of Lead Time (lead_time)"
      ],
      "metadata": {
        "id": "EM7whBJCYoAo"
      }
    },
    {
      "cell_type": "code",
      "source": [
        "# Chart 3 - Visualization code\n",
        "\n",
        "# Setting plot size\n",
        "plt.figure(figsize=(10, 5))\n",
        "\n",
        "# Plotting histogram of lead time with KDE\n",
        "sns.histplot(df['lead_time'], bins=50, kde=True, color='skyblue')\n",
        "\n",
        "# Setting title and labels\n",
        "plt.title('Distribution of Lead Time (in Days)', fontsize=14)\n",
        "plt.xlabel('Lead Time (Days between booking and arrival)', fontsize=12)\n",
        "plt.ylabel('Number of Bookings', fontsize=12)\n",
        "plt.grid(axis='y', linestyle='--', alpha=0.5)\n",
        "plt.tight_layout()\n",
        "\n",
        "# Showing the plot\n",
        "plt.show()\n"
      ],
      "metadata": {
        "id": "t6GMdE67YoAp"
      },
      "execution_count": null,
      "outputs": []
    },
    {
      "cell_type": "markdown",
      "source": [
        "##### 1. Why did you pick the specific chart?"
      ],
      "metadata": {
        "id": "fge-S5ZAYoAp"
      }
    },
    {
      "cell_type": "markdown",
      "source": [
        "I chose a histogram with a KDE (Kernel Density Estimation) because lead_time is a continuous numerical variable, and we want to understand:\n",
        "\n",
        "  * The distribution of lead times across all bookings\n",
        "\n",
        "  * Whether the data is skewed or has outliers\n",
        "\n",
        "  * The density of bookings made closer vs. further in advance\n",
        "\n",
        "This chart type is best for uncovering patterns in booking behavior over time."
      ],
      "metadata": {
        "id": "5dBItgRVYoAp"
      }
    },
    {
      "cell_type": "markdown",
      "source": [
        "##### 2. What is/are the insight(s) found from the chart?"
      ],
      "metadata": {
        "id": "85gYPyotYoAp"
      }
    },
    {
      "cell_type": "markdown",
      "source": [
        "* The majority of bookings have a short lead time, typically under 50 days.\n",
        "\n",
        "* There's a long tail of bookings made 100-300+ days in advance, though these are less frequent.\n",
        "\n",
        "* The distribution is right-skewed, meaning most people book closer to their arrival date.\n",
        "\n",
        "This suggests that most guests prefer flexibility or decide late to travel — especially relevant for business travelers in City Hotels."
      ],
      "metadata": {
        "id": "4jstXR6OYoAp"
      }
    },
    {
      "cell_type": "markdown",
      "source": [
        "##### 3. Will the gained insights help creating a positive business impact?"
      ],
      "metadata": {
        "id": "RoGjAbkUYoAp"
      }
    },
    {
      "cell_type": "markdown",
      "source": [
        "Yes. Understanding lead time helps hotels:\n",
        "\n",
        "- Forecast demand more accurately and prepare staff/inventory accordingly\n",
        "\n",
        "- Implement dynamic pricing models (e.g., offer discounts for early bookings or surge pricing for last-minute ones)\n",
        "\n",
        "- Target marketing for different lead-time segments (e.g., \"early birds\" vs. \"last-minute planners\")\n",
        "\n",
        "This directly improves both revenue management and operational planning.\n",
        "\n",
        "\n",
        "\n"
      ],
      "metadata": {
        "id": "zfJ8IqMcYoAp"
      }
    },
    {
      "cell_type": "markdown",
      "source": [
        "#####4. Are there any insights that lead to negative growth? Justify with specific reason."
      ],
      "metadata": {
        "id": "IsZu2bFyK9Oj"
      }
    },
    {
      "cell_type": "markdown",
      "source": [
        "Yes - The long tail of bookings with very high lead times can lead to higher cancellation rates, which means:\n",
        "\n",
        "* Lost revenue if cancellations happen too close to arrival\n",
        "\n",
        "* Vacant rooms that can’t be resold last-minute\n",
        "\n",
        "* Waste of operational planning (staffing, supplies)\n",
        "\n",
        "These long lead-time bookings, if not secured with deposits or flexible policies, can contribute to negative growth due to unreliable revenue projection."
      ],
      "metadata": {
        "id": "DzdQK3q_LwXd"
      }
    },
    {
      "cell_type": "markdown",
      "source": [
        "#### Chart 4 - Distribution of ADR (Average Daily Rate)"
      ],
      "metadata": {
        "id": "4Of9eVA-YrdM"
      }
    },
    {
      "cell_type": "code",
      "source": [
        "# Chart 4 - Visualization code\n",
        "\n",
        "# Filtering out extreme outliers for a cleaner plot\n",
        "filtered_df = df[df['adr'] < 500]  # remove extreme ADR outliers for visualization\n",
        "\n",
        "# Setting the figure size\n",
        "plt.figure(figsize=(10, 5))\n",
        "\n",
        "# Plotting distribution of ADR\n",
        "sns.histplot(filtered_df['adr'], bins=60, kde=True, color='mediumseagreen')\n",
        "\n",
        "# Adding titles and labels\n",
        "plt.title('Distribution of ADR (Average Daily Rate)', fontsize=14)\n",
        "plt.xlabel('ADR (Room Price per Night in EUR)', fontsize=12)\n",
        "plt.ylabel('Number of Bookings', fontsize=12)\n",
        "plt.grid(axis='y', linestyle='--', alpha=0.5)\n",
        "plt.tight_layout()\n",
        "\n",
        "# Showing the plot\n",
        "plt.show()\n"
      ],
      "metadata": {
        "id": "irlUoxc8YrdO"
      },
      "execution_count": null,
      "outputs": []
    },
    {
      "cell_type": "markdown",
      "source": [
        "##### 1. Why did you pick the specific chart?"
      ],
      "metadata": {
        "id": "iky9q4vBYrdO"
      }
    },
    {
      "cell_type": "markdown",
      "source": [
        "I chose a histogram with KDE (Kernel Density Estimation) because adr is a continuous numerical variable and we want to understand:\n",
        "\n",
        "* The distribution of room prices\n",
        "\n",
        "* Whether most guests are paying low, medium, or high rates\n",
        "\n",
        "* The presence of outliers or pricing anomalies\n",
        "\n",
        "It's important for both revenue analysis and pricing strategy.\n",
        "\n"
      ],
      "metadata": {
        "id": "aJRCwT6DYrdO"
      }
    },
    {
      "cell_type": "markdown",
      "source": [
        "##### 2. What is/are the insight(s) found from the chart?"
      ],
      "metadata": {
        "id": "F6T5p64dYrdO"
      }
    },
    {
      "cell_type": "markdown",
      "source": [
        "* The majority of bookings fall in the €50–€150 range per night.\n",
        "\n",
        "* The distribution is right-skewed with a few bookings having ADR > €300 — likely outliers or special cases (e.g., group bookings or luxury rooms).\n",
        "\n",
        "* There's a smooth density curve indicating relatively consistent pricing strategy with some pricing variance.\n",
        "\n",
        "This shows that most guests choose moderately priced rooms, and luxury/high-end bookings are much less common."
      ],
      "metadata": {
        "id": "Xx8WAJvtYrdO"
      }
    },
    {
      "cell_type": "markdown",
      "source": [
        "##### 3. Will the gained insights help creating a positive business impact?\n"
      ],
      "metadata": {
        "id": "y-Ehk30pYrdP"
      }
    },
    {
      "cell_type": "markdown",
      "source": [
        "Yes. Understanding ADR helps in:\n",
        "\n",
        "* Optimizing pricing strategies for different seasons or customer types\n",
        "\n",
        "* Designing promotional offers around the most common price brackets\n",
        "\n",
        "* Segmenting customers into price-sensitive vs. premium-paying groups\n",
        "\n",
        "* Identifying unusual pricing cases or errors in data entry\n",
        "\n",
        "ADR is directly tied to revenue, so any insight here has high business value.\n"
      ],
      "metadata": {
        "id": "jLNxxz7MYrdP"
      }
    },
    {
      "cell_type": "markdown",
      "source": [
        "##### 4. Are there any insights that lead to negative growth? Justify with specific reason."
      ],
      "metadata": {
        "id": "s4ooqs4KMViJ"
      }
    },
    {
      "cell_type": "markdown",
      "source": [
        "Yes - possible negative indicators:\n",
        "\n",
        "* Very low ADR values might indicate discounted or loss-making sales, potentially hurting profitability.\n",
        "\n",
        "* Outlier high ADRs (e.g., > €500) might result in customer dissatisfaction or indicate data entry issues if not valid.\n",
        "\n",
        "* If pricing is too static, hotels may miss out on dynamic pricing opportunities to maximize profit.\n",
        "\n",
        "Hence, outlier monitoring and ADR optimization are crucial for long-term growth.\n"
      ],
      "metadata": {
        "id": "U7pSsDQGLdha"
      }
    },
    {
      "cell_type": "markdown",
      "source": [
        "#### Chart 5 - Distribution of Bookings Per Month"
      ],
      "metadata": {
        "id": "7SRE9sVSn-xC"
      }
    },
    {
      "cell_type": "code",
      "source": [
        "# Chart 5 - Visualization code\n",
        "\n",
        "# Setting the theme for better visuals\n",
        "sns.set_theme(style=\"whitegrid\")\n",
        "\n",
        "# Step 1: Creating a new column for month order to sort properly\n",
        "month_order = ['January', 'February', 'March', 'April', 'May', 'June',\n",
        "               'July', 'August', 'September', 'October', 'November', 'December']\n",
        "\n",
        "# Step 2: Grouping by month to get booking counts\n",
        "monthly_bookings = df['arrival_date_month'].value_counts().reindex(month_order)\n",
        "\n",
        "# Step 3: Plotting the bar chart\n",
        "plt.figure(figsize=(12,6))\n",
        "sns.barplot(x=monthly_bookings.index, y=monthly_bookings.values, palette='YlGnBu')\n",
        "\n",
        "# Adding labels and title\n",
        "plt.title('Number of Bookings Per Month', fontsize=16, fontweight='bold')\n",
        "plt.xlabel('Month')\n",
        "plt.ylabel('Number of Bookings')\n",
        "\n",
        "# Annotating values on bars\n",
        "for i, value in enumerate(monthly_bookings.values):\n",
        "    plt.text(i, value + 200, str(value), ha='center', va='bottom', fontweight='bold')\n",
        "\n",
        "plt.xticks(rotation=45)\n",
        "plt.tight_layout()\n",
        "plt.show()\n"
      ],
      "metadata": {
        "id": "ngR-Edqpn-xD"
      },
      "execution_count": null,
      "outputs": []
    },
    {
      "cell_type": "markdown",
      "source": [
        "##### 1. Why did you pick the specific chart?"
      ],
      "metadata": {
        "id": "0_QwvRZLn-xD"
      }
    },
    {
      "cell_type": "markdown",
      "source": [
        "I chose a **bar** chart to represent the number of bookings per month because :\n",
        "\n",
        "* Bar charts are ideal for comparing categorical data like months.\n",
        "\n",
        "* Since hotel booking is a time-sensitive business, visualizing seasonal trends across months is crucial to identifying **peak** and **off-peak periods**.\n",
        "\n",
        "* This chart helps easily spot fluctuations in customer volume over the year."
      ],
      "metadata": {
        "id": "7Xe5Cu9Yn-xD"
      }
    },
    {
      "cell_type": "markdown",
      "source": [
        "##### 2. What is/are the insight(s) found from the chart?"
      ],
      "metadata": {
        "id": "H1hGan-1n-xE"
      }
    },
    {
      "cell_type": "markdown",
      "source": [
        "* The chart typically shows that July and August have the highest number of bookings, suggesting peak tourist season in those months.\n",
        "\n",
        "* April and May usually also see moderate booking levels, likely due to holidays and New Year travel.\n",
        "\n",
        "* Months like January and November often have lower bookings, indicating off-peak periods.\n",
        "\n",
        "* These patterns help us understand customer seasonality, travel preferences, and help prepare for resource allocation during peak times."
      ],
      "metadata": {
        "id": "0Shfwz2Sn-xE"
      }
    },
    {
      "cell_type": "markdown",
      "source": [
        "##### 3. Will the gained insights help creating a positive business impact?\n"
      ],
      "metadata": {
        "id": "S-YBI9mFn-xE"
      }
    },
    {
      "cell_type": "markdown",
      "source": [
        "Yes, absolutely. This insight is directly tied to revenue planning and inventory management:\n",
        "\n",
        "* Hotels can increase prices during peak months to maximize profit (yield management).\n",
        "\n",
        "* Staffing and inventory (like room service, amenities, parking, etc.) can be increased in advance for busy periods.\n",
        "\n",
        "* During off-peak months, hotels can run discounted campaigns to increase occupancy or partner with travel agencies.\n"
      ],
      "metadata": {
        "id": "GKA3fOO9n-xF"
      }
    },
    {
      "cell_type": "markdown",
      "source": [
        "##### 4. Are there any insights that lead to negative growth? Justify with specific reason."
      ],
      "metadata": {
        "id": "D5QUVScFn-xF"
      }
    },
    {
      "cell_type": "markdown",
      "source": [
        "Yes. If bookings are consistently low in certain months (e.g., November or March), this could indicate:\n",
        "\n",
        "* Lack of promotions during those months.\n",
        "\n",
        "* Unfavorable weather or local conditions.\n",
        "\n",
        "* Poor visibility in travel portals during those times.\n",
        "\n",
        "Not acting on these low-performing months could lead to negative growth. But with this insight, hotels can strategically boost bookings through offers, partnerships, or local events.\n"
      ],
      "metadata": {
        "id": "4SNUE_4Dn-xF"
      }
    },
    {
      "cell_type": "markdown",
      "source": [
        "#### Chart 6 - Distribution of Bookings across Market Segments"
      ],
      "metadata": {
        "id": "bamQiAODYuh1"
      }
    },
    {
      "cell_type": "code",
      "source": [
        "# Chart 6 - Visualisation Code.\n",
        "\n",
        "# Storing value of total number of rows for further use\n",
        "rows = len(df)\n",
        "\n",
        "# Creating subplot\n",
        "fig, ax = plt.subplots(figsize = (10,5))\n",
        "\n",
        "# Filtering dataset and clipping neccessary data.\n",
        "x = df['market_segment'].value_counts().index\n",
        "y = [round((i*100 / rows),1) for i in df['market_segment'].value_counts().values]\n",
        "\n",
        "# Setting random sizes for markers\n",
        "s = (np.random.randint(150,200,len(x)))\n",
        "\n",
        "# Customising grid and axes.\n",
        "ax.spines['top'].set_visible(False)\n",
        "ax.spines['right'].set_visible(False)\n",
        "ax.tick_params(bottom=False, left=False)\n",
        "ax.set_axisbelow(True)\n",
        "ax.yaxis.grid(True)\n",
        "ax.xaxis.grid(False)\n",
        "\n",
        "# Characterising Plot.\n",
        "plt.scatter(x, y ,marker = 'o', s=s, alpha=0.5, c=np.random.rand(len(x)))\n",
        "\n",
        "# Code to display title and labels for x,y axes.\n",
        "plt.title('Distribution of Bookings Over Market Segment', fontdict={'fontsize' : 15})\n",
        "plt.xlabel('Market Segment', fontdict={'fontsize' : 15} , labelpad = 10 )\n",
        "plt.ylabel('Perecentage of Total Bookings', fontdict={'fontsize' : 15})\n",
        "\n",
        "# Code for showing values of marker.\n",
        "for i in range(len(x)):\n",
        "    plt.annotate(f\"{y[i]}%\", (i-0.2, y[i]+3), fontsize = 11)\n",
        "\n",
        "# Tweak spacing to prevent clipping of ylabel\n",
        "plt.subplots_adjust(left=0.15)\n",
        "\n",
        "# Setting limits for y axis.\n",
        "ax.set_ylim(-10,70)\n",
        "\n",
        "ax.tick_params(axis = 'x', length=4, labelrotation = 20, pad = 2 ,\n",
        "                       labelcolor='black', grid_color='b')\n",
        "\n",
        "ax.xaxis.set_major_locator(mpl.ticker.MultipleLocator(base=1))\n",
        "\n",
        "# Plotting chart.\n",
        "plt.show()\n"
      ],
      "metadata": {
        "id": "kSfOSlZq1CgX"
      },
      "execution_count": null,
      "outputs": []
    },
    {
      "cell_type": "markdown",
      "source": [
        "##### 1. Why did you pick the specific chart?"
      ],
      "metadata": {
        "id": "QHF8YVU7Yuh3"
      }
    },
    {
      "cell_type": "markdown",
      "source": [
        "I chose this chart because understanding booking sources is essential for:\n",
        "\n",
        "* Evaluating where customers are coming from\n",
        "\n",
        "* Identifying the most effective booking channels\n",
        "\n",
        "* Recognizing opportunities to increase direct bookings (which often have lower acquisition cost)\n",
        "\n",
        "A scatter plot is appropriate since market_segment is a categorical feature and we're comparing frequency of each category.\n",
        "\n"
      ],
      "metadata": {
        "id": "dcxuIMRPYuh3"
      }
    },
    {
      "cell_type": "markdown",
      "source": [
        "##### 2. What is/are the insight(s) found from the chart?"
      ],
      "metadata": {
        "id": "GwzvFGzlYuh3"
      }
    },
    {
      "cell_type": "markdown",
      "source": [
        "* Online Travel Agents (OTA) dominate the bookings by far, followed by offline travel agents and direct bookings.\n",
        "\n",
        "* Segments like corporate, groups, and complementary are relatively smaller.\n",
        "\n",
        "* Direct bookings are much fewer, which might mean higher dependency on third-party platforms.\n",
        "\n",
        "This reveals which marketing and distribution channels the business relies on most."
      ],
      "metadata": {
        "id": "uyqkiB8YYuh3"
      }
    },
    {
      "cell_type": "markdown",
      "source": [
        "##### 3. Will the gained insights help creating a positive business impact?\n"
      ],
      "metadata": {
        "id": "qYpmQ266Yuh3"
      }
    },
    {
      "cell_type": "markdown",
      "source": [
        "Absolutely. This insight can guide:\n",
        "\n",
        "* Marketing spend optimization (e.g., spend more on high-converting channels)\n",
        "\n",
        "* Reducing OTA dependency by increasing direct booking offers\n",
        "\n",
        "* Building corporate partnerships or expanding underperforming segments\n",
        "\n",
        "* Tailoring customer service to segment expectations\n",
        "\n",
        "Booking source is a key strategic driver in hospitality.\n"
      ],
      "metadata": {
        "id": "_WtzZ_hCYuh4"
      }
    },
    {
      "cell_type": "markdown",
      "source": [
        "##### 4. Are there any insights that lead to negative growth? Justify with specific reason."
      ],
      "metadata": {
        "id": "GK1VaHhcCxJW"
      }
    },
    {
      "cell_type": "markdown",
      "source": [
        "Yes - Over-reliance on third-party platforms like OTAs can:\n",
        "\n",
        "- Eat into profit margins due to commission fees\n",
        "\n",
        "- Reduce brand loyalty and customer retention\n",
        "\n",
        "- Cause pricing pressure due to platform competition\n",
        "\n",
        "If direct and corporate bookings remain low, hotels miss out on higher-margin business, which can impact long-term growth."
      ],
      "metadata": {
        "id": "6oLfrRGyCq93"
      }
    },
    {
      "cell_type": "markdown",
      "source": [
        "#### Chart 7 - Meal Preferences Distribution"
      ],
      "metadata": {
        "id": "nokMx5MnbY55"
      }
    },
    {
      "cell_type": "code",
      "source": [
        "# Chart 7 - Visualization code\n",
        "\n",
        "# Getting value counts for meal types\n",
        "meal_counts = df['meal'].value_counts()\n",
        "labels = meal_counts.index\n",
        "sizes = meal_counts.values\n",
        "total = sizes.sum()\n",
        "\n",
        "# Preparing legend labels: Meal Type (Count - %)\n",
        "legend_labels = [\n",
        "    f\"{label} ({count} - {count/total:.1%})\"\n",
        "    for label, count in zip(labels, sizes)\n",
        "]\n",
        "\n",
        "# Setting up figure\n",
        "plt.figure(figsize=(8, 8))\n",
        "\n",
        "# Drawing pie chart (percent only inside pie)\n",
        "wedges, _, _ = plt.pie(\n",
        "    sizes,\n",
        "    autopct='%1.1f%%',\n",
        "    startangle=140,\n",
        "    colors=plt.cm.Pastel1.colors,\n",
        "    textprops=dict(color=\"black\", fontsize=11)\n",
        ")\n",
        "\n",
        "# Adding legend with full labels\n",
        "plt.legend(\n",
        "    wedges, legend_labels,\n",
        "    title='Meal Types',\n",
        "    loc='center left',\n",
        "    bbox_to_anchor=(1, 0.5),\n",
        "    fontsize=11\n",
        ")\n",
        "\n",
        "# Setting title\n",
        "plt.title('Meal Plan Distribution Among Guests', fontsize=14)\n",
        "\n",
        "# Final layout\n",
        "plt.tight_layout()\n",
        "plt.show()"
      ],
      "metadata": {
        "id": "wGMSmyzDbY56"
      },
      "execution_count": null,
      "outputs": []
    },
    {
      "cell_type": "markdown",
      "source": [
        "##### 1. Why did you pick the specific chart?"
      ],
      "metadata": {
        "id": "n0QCAGTKbY56"
      }
    },
    {
      "cell_type": "markdown",
      "source": [
        "I chose a pie chart for this categorical variable because:\n",
        "\n",
        "* It clearly communicates proportions of meal plans\n",
        "\n",
        "* It's visually intuitive and effective for variables with a few distinct categories\n",
        "\n"
      ],
      "metadata": {
        "id": "DJYSni4XbY57"
      }
    },
    {
      "cell_type": "markdown",
      "source": [
        "##### 2. What is/are the insight(s) found from the chart?"
      ],
      "metadata": {
        "id": "tYVFD70HbY57"
      }
    },
    {
      "cell_type": "markdown",
      "source": [
        "* The most popular meal plan is BB (Bed & Breakfast), making up the majority of bookings.\n",
        "\n",
        "* Other meal types like HB (Half Board) and FB (Full Board) are much less common.\n",
        "\n",
        "* A small portion of bookings had no meal plan.\n",
        "\n",
        "This indicates that guests prefer simpler meal options, or maybe that breakfast is bundled more often than full meals."
      ],
      "metadata": {
        "id": "fp67ETpWbY57"
      }
    },
    {
      "cell_type": "markdown",
      "source": [
        "##### 3. Will the gained insights help creating a positive business impact?\n"
      ],
      "metadata": {
        "id": "Rtg8m8eIbY57"
      }
    },
    {
      "cell_type": "markdown",
      "source": [
        "Yes. The hotel can:\n",
        "\n",
        "* Focus on optimizing breakfast services, since it's in high demand\n",
        "\n",
        "* Offer upsell campaigns to convert BB customers to HB/FB plans\n",
        "\n",
        "* Rethink pricing for meal plans if certain types are underperforming\n",
        "\n",
        "It also helps with kitchen resource planning and menu design.\n"
      ],
      "metadata": {
        "id": "w8ZCBT9lbY58"
      }
    },
    {
      "cell_type": "markdown",
      "source": [
        "##### 4. Are there any insights that lead to negative growth? Justify with specific reason."
      ],
      "metadata": {
        "id": "_Avn2YU3bY58"
      }
    },
    {
      "cell_type": "markdown",
      "source": [
        "Yes -\n",
        "* Low adoption of HB/FB may suggest that the meal pricing or menu variety isn't attractive enough\n",
        "\n",
        "* If meal plans aren't contributing to profit, the hotel could be missing out on cross-selling opportunities\n",
        "\n",
        "* Having too many underused meal options increases operational complexity and food waste\n",
        "\n",
        "Understanding this distribution can help hotels simplify offerings and increase F&B profitability."
      ],
      "metadata": {
        "id": "F4LtjZuAbY58"
      }
    },
    {
      "cell_type": "markdown",
      "source": [
        "#### Chart 8 - Top 10 Countries by Guest Count"
      ],
      "metadata": {
        "id": "OH-pJp9IphqM"
      }
    },
    {
      "cell_type": "code",
      "source": [
        "# Chart 8 - Visualization code\n",
        "\n",
        "# Creating a DataFrame for top 10 countries\n",
        "country_df = df['country'].value_counts().sort_values(ascending=False).reset_index().head(10)\n",
        "country_df.columns = ['country', 'count']\n",
        "\n",
        "# Calculating percentage of bookings per country\n",
        "X = country_df['country']\n",
        "Y = [round(((i * 100) / rows), 2) for i in country_df['count']]\n",
        "\n",
        "# Plotting setup\n",
        "fig, ax = plt.subplots(figsize=(10, 6))\n",
        "# ax.spines['top'].set_visible(False)\n",
        "# ax.spines['right'].set_visible(False)\n",
        "ax.tick_params(bottom=False, left=False)\n",
        "ax.set_axisbelow(True)\n",
        "ax.yaxis.grid(True, color='#C5C9C7')\n",
        "ax.xaxis.grid(False)\n",
        "\n",
        "# Plotting bars\n",
        "bar = ax.bar(X, Y)\n",
        "plt.title('Top 10 Countries Maximum Guests Come From', pad=20, fontsize=15)\n",
        "ax.set_xlabel(\"Country\", fontsize=15, labelpad=15)\n",
        "ax.set_ylabel(\"Percentage of Total Bookings\", fontsize=15, labelpad=15)\n",
        "\n",
        "# Gradient color function\n",
        "def gradientbars(bars, cmap):\n",
        "    ax = bars[0].axes\n",
        "    lim = ax.get_xlim() + (0, 35)\n",
        "    i = 0\n",
        "    for bar in bars:\n",
        "        bar.set_zorder(1)\n",
        "        bar.set_facecolor('none')\n",
        "        x, y = bar.get_xy()\n",
        "        w, h = bar.get_width(), bar.get_height()\n",
        "        grad = np.atleast_2d(np.linspace(0, 1, 256)).T\n",
        "        ax.imshow(grad, extent=[x+w, x, y, y+h], aspect='auto', zorder=1, cmap=plt.get_cmap(cmap))\n",
        "        plt.annotate(f\"{Y[i]}%\", (x+0.1, y+h+0.5), fontsize=12)\n",
        "        i += 1\n",
        "    ax.axis(lim)\n",
        "\n",
        "gradientbars(bar, 'winter')\n",
        "plt.tight_layout()\n",
        "plt.show()\n"
      ],
      "metadata": {
        "id": "kuRf4wtuphqN"
      },
      "execution_count": null,
      "outputs": []
    },
    {
      "cell_type": "markdown",
      "source": [
        "##### 1. Why did you pick the specific chart?"
      ],
      "metadata": {
        "id": "bbFf2-_FphqN"
      }
    },
    {
      "cell_type": "markdown",
      "source": [
        "* I chose this chart to understand which countries contribute the most guests to the hotels.\n",
        "\n",
        "* A bar chart with country names is ideal for comparing geographic proportions.\n",
        "\n",
        "* Since business decisions vary significantly across regions (pricing, promotions, language support), this insight is crucial for hotel strategy\n",
        "\n"
      ],
      "metadata": {
        "id": "loh7H2nzphqN"
      }
    },
    {
      "cell_type": "markdown",
      "source": [
        "##### 2. What is/are the insight(s) found from the chart?"
      ],
      "metadata": {
        "id": "_ouA3fa0phqN"
      }
    },
    {
      "cell_type": "markdown",
      "source": [
        "* The majority of guests come from a few specific countries, such as Portugal, the UK, and France (based on typical trends).\n",
        "\n",
        "* The top 10 countries often account for a large portion of total bookings, indicating a concentration of market activity.\n",
        "\n",
        "* This helps identify key markets where the hotel is already strong."
      ],
      "metadata": {
        "id": "VECbqPI7phqN"
      }
    },
    {
      "cell_type": "markdown",
      "source": [
        "##### 3. Will the gained insights help creating a positive business impact?\n"
      ],
      "metadata": {
        "id": "Seke61FWphqN"
      }
    },
    {
      "cell_type": "markdown",
      "source": [
        "Yes. These insights allow hotel businesses to:\n",
        "\n",
        "* Target advertisements and promotions in high-performing countries\n",
        "\n",
        "* Focus customer support efforts (e.g., language-specific services)\n",
        "\n",
        "* Expand presence in regions where the brand is already gaining traction\n",
        "\n",
        "* Design geo-specific offers (seasonal discounts, loyalty points, etc.)\n"
      ],
      "metadata": {
        "id": "DW4_bGpfphqN"
      }
    },
    {
      "cell_type": "markdown",
      "source": [
        "##### 4. Are there any insights that lead to negative growth? Justify with specific reason."
      ],
      "metadata": {
        "id": "U5okzhS9Dinh"
      }
    },
    {
      "cell_type": "markdown",
      "source": [
        "Yes. If certain countries never appear in the top list, it may indicate:\n",
        "\n",
        "* Poor market presence in those regions\n",
        "\n",
        "* Lack of brand awareness\n",
        "\n",
        "* Failure to support international payment, language, or travel needs\n",
        "\n",
        "Without addressing this gap, hotels may miss out on diversification and growth potential, especially from emerging travel markets."
      ],
      "metadata": {
        "id": "aCAu_XpMDadD"
      }
    },
    {
      "cell_type": "markdown",
      "source": [
        "#### Chart 9- Distribution of Total Guests"
      ],
      "metadata": {
        "id": "PIIx-8_IphqN"
      }
    },
    {
      "cell_type": "code",
      "source": [
        "# Chart 9 - Visualization code\n",
        "\n",
        "# Filtering to remove bookings with zero guests (just in case)\n",
        "filtered_df = df[df['total_guests'] > 0]\n",
        "\n",
        "# Setting figure size\n",
        "plt.figure(figsize=(10, 5))\n",
        "\n",
        "# Creating strip plot\n",
        "sns.stripplot(data=filtered_df, x='total_guests', color='teal', size=4, jitter=True)\n",
        "\n",
        "# Adding titles and labels\n",
        "plt.title('Distribution of Total Guests per Booking', fontsize=14)\n",
        "plt.xlabel('Total Number of Guests (Adults + Children + Babies)', fontsize=12)\n",
        "plt.ylabel('Density of Bookings', fontsize=12)\n",
        "plt.grid(axis='y', linestyle='--', alpha=0.5)\n",
        "plt.tight_layout()\n",
        "\n",
        "# Showing the plot\n",
        "plt.show()\n"
      ],
      "metadata": {
        "id": "lqAIGUfyphqO"
      },
      "execution_count": null,
      "outputs": []
    },
    {
      "cell_type": "markdown",
      "source": [
        "##### 1. Why did you pick the specific chart?"
      ],
      "metadata": {
        "id": "t27r6nlMphqO"
      }
    },
    {
      "cell_type": "markdown",
      "source": [
        "* A strip plot shows the spread and density of a discrete numerical variable, which makes it great for total_guests.\n",
        "\n",
        "* Unlike histograms, it shows each data point and gives you a feel for concentration and outliers."
      ],
      "metadata": {
        "id": "iv6ro40sphqO"
      }
    },
    {
      "cell_type": "markdown",
      "source": [
        "##### 2. What is/are the insight(s) found from the chart?"
      ],
      "metadata": {
        "id": "r2jJGEOYphqO"
      }
    },
    {
      "cell_type": "markdown",
      "source": [
        "* Most bookings are for 1-2 guests, which is expected (solo travelers, couples).\n",
        "\n",
        "* There are noticeable frequencies at 3 and 4 guests, indicating small families.\n",
        "\n",
        "* Higher guest counts (5-10+) are very rare but present — possibly group bookings or large families."
      ],
      "metadata": {
        "id": "Po6ZPi4hphqO"
      }
    },
    {
      "cell_type": "markdown",
      "source": [
        "##### 3. Will the gained insights help creating a positive business impact?\n"
      ],
      "metadata": {
        "id": "b0JNsNcRphqO"
      }
    },
    {
      "cell_type": "markdown",
      "source": [
        "Yes! This data helps hotels:\n",
        "\n",
        "* Understand room capacity demand (single, double, family rooms)\n",
        "\n",
        "* Plan amenities (extra beds, cribs, etc.)\n",
        "\n",
        "* Optimize group vs. individual marketing strategies\n",
        "\n",
        "If 2-guest stays dominate, hotels can focus offers/packages toward couples or business travelers\n"
      ],
      "metadata": {
        "id": "xvSq8iUTphqO"
      }
    },
    {
      "cell_type": "markdown",
      "source": [
        "##### 4. Are there any insights that lead to negative growth? Justify with specific reason."
      ],
      "metadata": {
        "id": "_xZ54eyKHN5A"
      }
    },
    {
      "cell_type": "markdown",
      "source": [
        "Yes - Very few large bookings may suggest the hotel is not appealing to group travelers.\n",
        "\n",
        "- If families feel constrained by room sizes or policies, they may choose other properties.\n",
        "\n",
        "- This could indicate missed revenue from larger-room upsells or group events.\n",
        "\n",
        "The hotel might consider targeting small groups or family bundles to grow this segment."
      ],
      "metadata": {
        "id": "JzEPTDWnHCMs"
      }
    },
    {
      "cell_type": "markdown",
      "source": [
        "#### Chart 10 - Deposit Type Distribution (deposit_type)"
      ],
      "metadata": {
        "id": "aBgtTdVkMCp-"
      }
    },
    {
      "cell_type": "code",
      "source": [
        "# Chart 10 - Visualisation Code\n",
        "\n",
        "# Setting figure size\n",
        "plt.figure(figsize=(7, 5))\n",
        "\n",
        "# Creating count plot\n",
        "sns.countplot(data=df, x='deposit_type', palette='Set2', order=df['deposit_type'].value_counts().index)\n",
        "\n",
        "# Adding titles and labels\n",
        "plt.title('Distribution of Deposit Types', fontsize=14)\n",
        "plt.xlabel('Deposit Type', fontsize=12)\n",
        "plt.ylabel('Number of Bookings', fontsize=12)\n",
        "plt.tight_layout()\n",
        "\n",
        "# Showing the chart\n",
        "plt.show()\n"
      ],
      "metadata": {
        "id": "GWfwjH9sMDhL"
      },
      "execution_count": null,
      "outputs": []
    },
    {
      "cell_type": "markdown",
      "source": [
        "##### 1. Why did you pick the specific chart?"
      ],
      "metadata": {
        "id": "GaLvDj7OMUrG"
      }
    },
    {
      "cell_type": "markdown",
      "source": [
        "- Deposit policy is a key business lever: it affects cash flow, cancellation rates, and booking confidence.\n",
        "\n",
        "- A count plot clearly shows the preference or dominance of certain deposit types.\n",
        "\n",
        "This chart sets the stage for deeper future bivariate insights like deposit type vs cancellation rate.\n"
      ],
      "metadata": {
        "id": "Zgd5LgryMfJd"
      }
    },
    {
      "cell_type": "markdown",
      "source": [
        "##### 2. What is/are the insight(s) found from the chart?"
      ],
      "metadata": {
        "id": "KkMvj9zgMe9P"
      }
    },
    {
      "cell_type": "markdown",
      "source": [
        "- The vast majority of bookings are made with No Deposit.\n",
        "\n",
        "- Non-Refundable deposits are a small minority.\n",
        "\n",
        "- Refundable deposits are extremely rare.\n",
        "\n",
        "This suggests that the hotel allows flexible booking for most customers — likely to attract volume."
      ],
      "metadata": {
        "id": "gORNjpzjMjnq"
      }
    },
    {
      "cell_type": "markdown",
      "source": [
        "##### 3. Will the gained insights help creating a positive business impact?\n",
        "Are there any insights that lead to negative growth? Justify with specific reason."
      ],
      "metadata": {
        "id": "8HxJZIboMnOp"
      }
    },
    {
      "cell_type": "markdown",
      "source": [
        "Absolutely. The business can use this insight to:\n",
        "\n",
        "- Evaluate the risk associated with cancellations\n",
        "\n",
        "- Design prepayment policies for specific customer segments\n",
        "\n",
        "- Test non-refundable incentives (e.g., offer small discounts for advance payment)\n",
        "\n",
        "It also helps in financial planning and forecasting."
      ],
      "metadata": {
        "id": "-vKtE_EXM1IR"
      }
    },
    {
      "cell_type": "markdown",
      "source": [
        "##### Are there any insights that lead to negative growth? Justify with specific reason."
      ],
      "metadata": {
        "id": "jmqXgOVwBeLA"
      }
    },
    {
      "cell_type": "markdown",
      "source": [
        "Yes:\n",
        "\n",
        "- Heavy reliance on No Deposit bookings makes the business vulnerable to last-minute cancellations.\n",
        "\n",
        "- This can lead to lost revenue, unbooked inventory, and operational inefficiencies.\n",
        "\n",
        "- A shift towards smartly positioned non-refundable policies could help secure cash flow.\n",
        "\n",
        "- The key is balance — don’t scare off customers, but don’t stay overly flexible either."
      ],
      "metadata": {
        "id": "mzYfe864Biv-"
      }
    },
    {
      "cell_type": "markdown",
      "source": [
        "#### Chart 11 - Distribution of Booking Changes (booking_changes)"
      ],
      "metadata": {
        "id": "BZR9WyysphqO"
      }
    },
    {
      "cell_type": "code",
      "source": [
        "# Chart 11 -  visualization code\n",
        "\n",
        "# Preparing data: counting booking changes and filtering to top values\n",
        "change_counts = df['booking_changes'].value_counts().sort_index()\n",
        "filtered_changes = change_counts[change_counts.index < 10]  # limit to 0–9 changes\n",
        "\n",
        "# Setting plot size\n",
        "plt.figure(figsize=(8, 6))\n",
        "\n",
        "# Creating horizontal barplot\n",
        "bars = plt.barh(\n",
        "    y=filtered_changes.index.astype(str),\n",
        "    width=filtered_changes.values,\n",
        "    color='skyblue',\n",
        "    edgecolor='black'\n",
        ")\n",
        "\n",
        "# Annotating bars with values\n",
        "for bar in bars:\n",
        "    plt.text(bar.get_width() + 50, bar.get_y() + bar.get_height()/2,\n",
        "             f'{int(bar.get_width())}', va='center', fontsize=10)\n",
        "\n",
        "# Titles and labels\n",
        "plt.title('Number of Bookings by Booking Changes Count', fontsize=14)\n",
        "plt.xlabel('Number of Bookings', fontsize=12)\n",
        "plt.ylabel('Number of Changes Made', fontsize=12)\n",
        "plt.grid(axis='x', linestyle='--', alpha=0.4)\n",
        "plt.tight_layout()\n",
        "\n",
        "# Show the chart\n",
        "plt.show()\n"
      ],
      "metadata": {
        "id": "OUKua_nE2MZO"
      },
      "execution_count": null,
      "outputs": []
    },
    {
      "cell_type": "markdown",
      "source": [
        "##### 1. Why did you pick the specific chart?"
      ],
      "metadata": {
        "id": "jj7wYXLtphqO"
      }
    },
    {
      "cell_type": "markdown",
      "source": [
        "* This feature is numerical but discrete, so a bar plot shows frequency distribution more clearly than histogram.\n",
        "\n",
        "* booking_changes reveals guest behavior, operational friction, and can even signal booking uncertainty."
      ],
      "metadata": {
        "id": "Ob8u6rCTphqO"
      }
    },
    {
      "cell_type": "markdown",
      "source": [
        "##### 2. What is/are the insight(s) found from the chart?"
      ],
      "metadata": {
        "id": "eZrbJ2SmphqO"
      }
    },
    {
      "cell_type": "markdown",
      "source": [
        "* Most guests make zero changes to their booking.\n",
        "\n",
        "* A smaller percentage make 1 or 2 changes.\n",
        "\n",
        "* Very few bookings involve 3+ changes, indicating edge cases or indecisive customers.\n",
        "\n",
        "This tells us the majority of bookings are stable once confirmed.\n"
      ],
      "metadata": {
        "id": "mZtgC_hjphqO"
      }
    },
    {
      "cell_type": "markdown",
      "source": [
        "##### 3. Will the gained insights help creating a positive business impact?\n"
      ],
      "metadata": {
        "id": "rFu4xreNphqO"
      }
    },
    {
      "cell_type": "markdown",
      "source": [
        "Yes:\n",
        "\n",
        "* Hotels can identify which customer types or channels lead to more modifications\n",
        "\n",
        "* Minimize room shuffling and reassignments due to high-change bookings\n",
        "\n",
        "* Offer better UX in booking systems to reduce the need for changes\n",
        "\n",
        "Understanding this behavior improves staff planning and guest experience.\n",
        "\n"
      ],
      "metadata": {
        "id": "ey_0qi68phqO"
      }
    },
    {
      "cell_type": "markdown",
      "source": [
        "#####4. Are there any insights that lead to negative growth? Justify with specific reason."
      ],
      "metadata": {
        "id": "Be-y_edjahIQ"
      }
    },
    {
      "cell_type": "markdown",
      "source": [
        "Yes:\n",
        "\n",
        "* Too many booking changes increase administrative overhead and room allocation complexity\n",
        "\n",
        "* For high-change guests, hotels might incur extra costs or overbookings\n",
        "\n",
        "* Could also be linked to higher cancellation risk\n",
        "\n",
        "Hotels might introduce limits or small fees for excessive changes to balance flexibility and cost."
      ],
      "metadata": {
        "id": "TS4k5QI8alIU"
      }
    },
    {
      "cell_type": "markdown",
      "source": [
        "#### Chart 12 -  Distribution of ADR (Average Daily Rate)"
      ],
      "metadata": {
        "id": "U2RJ9gkRphqQ"
      }
    },
    {
      "cell_type": "code",
      "source": [
        "# Chart 12 - Visualization Code\n",
        "\n",
        "# Setting figure size\n",
        "plt.figure(figsize=(8, 6))\n",
        "\n",
        "# Creating a box plot\n",
        "sns.boxplot(x=df['adr'], color='coral')\n",
        "\n",
        "# Adding labels and title\n",
        "plt.title('Distribution of ADR (Average Daily Rate)', fontsize=14)\n",
        "plt.xlabel('ADR (Room Price per Night in EUR)', fontsize=12)\n",
        "plt.grid(axis='x', linestyle='--', alpha=0.4)\n",
        "plt.tight_layout()\n",
        "\n",
        "# Showing plot\n",
        "plt.show()\n"
      ],
      "metadata": {
        "id": "3TeXCKCZLAps"
      },
      "execution_count": null,
      "outputs": []
    },
    {
      "cell_type": "code",
      "source": [
        "df[df['adr'] == df['adr'].max()]"
      ],
      "metadata": {
        "id": "2hgTCpvGdYxX"
      },
      "execution_count": null,
      "outputs": []
    },
    {
      "cell_type": "markdown",
      "source": [
        "There is one booking with 5,400 adr, which I think can be a mistake. Also that booking got cancelled, hence clipping this observation and plotting the chart again."
      ],
      "metadata": {
        "id": "xx41AMySeQSP"
      }
    },
    {
      "cell_type": "code",
      "source": [
        "# Filtering out extreme ADR outliers for cleaner plot\n",
        "filtered_df = df[df['adr'] < 500]  # Only include bookings with ADR < 500 EUR\n",
        "\n",
        "# Setting figure size\n",
        "plt.figure(figsize=(8, 6))\n",
        "\n",
        "# Creating a box plot\n",
        "sns.boxplot(x=filtered_df['adr'], color='coral')\n",
        "\n",
        "# Adding labels and title\n",
        "plt.title('Distribution of ADR (Average Daily Rate)', fontsize=14)\n",
        "plt.xlabel('ADR (Room Price per Night in EUR)', fontsize=12)\n",
        "plt.grid(axis='x', linestyle='--', alpha=0.4)\n",
        "plt.tight_layout()\n",
        "\n",
        "# Showing plot\n",
        "plt.show()\n"
      ],
      "metadata": {
        "id": "bShnQv90eCkj"
      },
      "execution_count": null,
      "outputs": []
    },
    {
      "cell_type": "markdown",
      "source": [
        "##### 1. Why did you pick the specific chart?"
      ],
      "metadata": {
        "id": "1M8mcRywphqQ"
      }
    },
    {
      "cell_type": "markdown",
      "source": [
        "* A box plot reveals the spread, skewness, and outliers in ADR (pricing), which no bar plot or histogram can do as elegantly.\n",
        "\n",
        "* This adds analytical depth and variety to your report.\n",
        "\n",
        "* It's great for quickly spotting inconsistent or risky pricing behavior."
      ],
      "metadata": {
        "id": "8agQvks0phqQ"
      }
    },
    {
      "cell_type": "markdown",
      "source": [
        "##### 2. What is/are the insight(s) found from the chart?"
      ],
      "metadata": {
        "id": "tgIPom80phqQ"
      }
    },
    {
      "cell_type": "markdown",
      "source": [
        "* The median ADR is centered around €100.\n",
        "\n",
        "* There are many outliers on the higher side — some rooms go well above €300+.\n",
        "\n",
        "* The distribution is right-skewed, meaning a few premium bookings pull the price upward.\n",
        "\n",
        "* This shows that while the core business is mid-range, the hotel does serve some premium customer\n"
      ],
      "metadata": {
        "id": "Qp13pnNzphqQ"
      }
    },
    {
      "cell_type": "markdown",
      "source": [
        "##### 3. Will the gained insights help creating a positive business impact?\n"
      ],
      "metadata": {
        "id": "JMzcOPDDphqR"
      }
    },
    {
      "cell_type": "markdown",
      "source": [
        "Definitely:\n",
        "\n",
        "* Helps in benchmarking average price points\n",
        "\n",
        "* Informs dynamic pricing strategies during high/low seasons\n",
        "\n",
        "* Identifies luxury price segments for marketing premium offerings\n",
        "\n",
        "* Can guide discounting strategies without hurting margins\n",
        "\n",
        "Pricing directly affects revenue and positioning."
      ],
      "metadata": {
        "id": "R4Ka1PC2phqR"
      }
    },
    {
      "cell_type": "markdown",
      "source": [
        "#####4. Are there any insights that lead to negative growth? Justify with specific reason."
      ],
      "metadata": {
        "id": "xmjLDHiXfq-G"
      }
    },
    {
      "cell_type": "markdown",
      "source": [
        "Yes:\n",
        "\n",
        "* A wide range and many outliers may suggest inconsistent pricing strategy.\n",
        "\n",
        "* If outliers are due to errors, they may mislead forecasting tools or upset customers.\n",
        "\n",
        "* Guests seeing volatile pricing might feel distrust or pricing fatigue.\n",
        "\n",
        "Business should validate outliers and ensure price ranges are intentional and justified."
      ],
      "metadata": {
        "id": "vjVjHj7seu11"
      }
    },
    {
      "cell_type": "markdown",
      "source": [
        "#### Chart 13 - Top 10 Agents Contributing to Business"
      ],
      "metadata": {
        "id": "c3vA4W-VgHzN"
      }
    },
    {
      "cell_type": "code",
      "source": [
        "# Chart 13 -  Visualization code\n",
        "\n",
        "# Creating layout\n",
        "fig, ax = plt.subplots(figsize=(10, 6))\n",
        "\n",
        "# Step 1: Preparing the data\n",
        "agent_df = df['agent'].value_counts().reset_index()\n",
        "agent_df.columns = ['Agent', 'Number of Bookings']\n",
        "agent_df = agent_df.sort_values(by='Number of Bookings', ascending=False).head(10)\n",
        "\n",
        "# Step 2: X and Y for plotting\n",
        "x = agent_df['Agent'].astype(str)\n",
        "y = agent_df['Number of Bookings'].apply(lambda i: round(i * 100 / len(df), 2))\n",
        "\n",
        "# Step 3: Creating stem plot\n",
        "plt.stem(x, y, linefmt='darkorchid', markerfmt='D', basefmt=\" \")\n",
        "\n",
        "# Annotating each point\n",
        "for i in range(len(x)):\n",
        "    plt.annotate(f\"{y[i]}%\", (i - 0.3, y[i] + 1), fontsize=11)\n",
        "\n",
        "# Chart styling\n",
        "ax.tick_params(bottom=False, left=False)\n",
        "ax.set_axisbelow(True)\n",
        "ax.yaxis.grid(True, color='#C5C9C7')\n",
        "ax.xaxis.grid(False)\n",
        "ax.set_ylim(0, max(y) + 10)\n",
        "\n",
        "# Labels and title\n",
        "ax.set_xlabel('Agent ID')\n",
        "ax.set_ylabel('Percentage of Total Bookings')\n",
        "ax.set_title('Top 10 Agents Who Made Maximum Bookings', pad=10)\n",
        "\n",
        "plt.tight_layout()\n",
        "plt.show()\n"
      ],
      "metadata": {
        "id": "RUCmSZ3SgHzY"
      },
      "execution_count": null,
      "outputs": []
    },
    {
      "cell_type": "markdown",
      "source": [
        "##### 1. Why did you pick the specific chart?"
      ],
      "metadata": {
        "id": "kyDSvFS9gHzY"
      }
    },
    {
      "cell_type": "markdown",
      "source": [
        "I chose this chart to identify the top-performing agents who bring the highest number of bookings.\n",
        "\n",
        "* A stem plot offers a clean and vertical visual representation, helping to highlight individual contributions clearly without clutter.\n",
        "\n",
        "* Since agents play a key role in the booking funnel, this analysis is crucial."
      ],
      "metadata": {
        "id": "VLtN5dTrgHzY"
      }
    },
    {
      "cell_type": "markdown",
      "source": [
        "##### 2. What is/are the insight(s) found from the chart?"
      ],
      "metadata": {
        "id": "ztCLLcsygHzZ"
      }
    },
    {
      "cell_type": "markdown",
      "source": [
        "* The top 10 agents contribute a significant percentage of all bookings, suggesting that a small number of agents are responsible for the majority of sales.\n",
        "\n",
        "* Some agents are high-volume contributors, and possibly tied to corporate or OTA platforms.\n",
        "\n",
        "* There's a long-tail distribution, where most agents contribute only a few bookings.\n"
      ],
      "metadata": {
        "id": "PtUJIztugHzZ"
      }
    },
    {
      "cell_type": "markdown",
      "source": [
        "##### 3. Will the gained insights help creating a positive business impact?\n"
      ],
      "metadata": {
        "id": "gypgI9o_gHzZ"
      }
    },
    {
      "cell_type": "markdown",
      "source": [
        "Yes:\n",
        "\n",
        "* Hotels can identify which customer types or channels lead to more modifications\n",
        "\n",
        "* Minimize room shuffling and reassignments due to high-change bookings\n",
        "\n",
        "* Offer better UX in booking systems to reduce the need for changes\n",
        "\n",
        "Understanding this behavior improves staff planning and guest experience.\n",
        "\n"
      ],
      "metadata": {
        "id": "zHSOli-7gHzZ"
      }
    },
    {
      "cell_type": "markdown",
      "source": [
        "##### 4. Are there any insights that lead to negative growth? Justify with specific reason."
      ],
      "metadata": {
        "id": "u-DBdXBIgHzZ"
      }
    },
    {
      "cell_type": "markdown",
      "source": [
        "Yes:\n",
        "\n",
        "* Too many booking changes increase administrative overhead and room allocation complexity\n",
        "\n",
        "* For high-change guests, hotels might incur extra costs or overbookings\n",
        "\n",
        "* Could also be linked to higher cancellation risk\n",
        "\n",
        "Hotels might introduce limits or small fees for excessive changes to balance flexibility and cost."
      ],
      "metadata": {
        "id": "feCVH24zgHza"
      }
    },
    {
      "cell_type": "markdown",
      "source": [
        "#### Chart 14 - Distribution Channel (distribution_channel)"
      ],
      "metadata": {
        "id": "x-EpHcCOp1ci"
      }
    },
    {
      "cell_type": "code",
      "source": [
        "# Chart 14 - Visualization code\n",
        "\n",
        "# Counting values for distribution_channel\n",
        "channel_counts = df['distribution_channel'].value_counts()\n",
        "\n",
        "# Plotting setup\n",
        "plt.figure(figsize=(8, 5))\n",
        "\n",
        "# Barplot sorted by frequency\n",
        "sns.barplot(x=channel_counts.index, y=channel_counts.values, palette='Set3')\n",
        "\n",
        "# Annotating bars with values\n",
        "for i, value in enumerate(channel_counts.values):\n",
        "    plt.text(i, value + 500, str(value), ha='center', fontsize=10)\n",
        "\n",
        "# Labels and title\n",
        "plt.title('Booking Distribution by Distribution Channel', fontsize=14)\n",
        "plt.xlabel('Distribution Channel', fontsize=12)\n",
        "plt.ylabel('Number of Bookings', fontsize=12)\n",
        "plt.tight_layout()\n",
        "\n",
        "# Showing plot\n",
        "plt.show()"
      ],
      "metadata": {
        "id": "mAQTIvtqp1cj"
      },
      "execution_count": null,
      "outputs": []
    },
    {
      "cell_type": "markdown",
      "source": [
        "##### 1. Why did you pick the specific chart?"
      ],
      "metadata": {
        "id": "X_VqEhTip1ck"
      }
    },
    {
      "cell_type": "markdown",
      "source": [
        "* This feature represents how customers are acquired, which is central to sales strategy and partnership decisions.\n",
        "\n",
        "* A bar plot works best here as we’re comparing absolute frequencies across categorical values.\n",
        "\n",
        "* This version includes value labels for executive-style reporting."
      ],
      "metadata": {
        "id": "-vsMzt_np1ck"
      }
    },
    {
      "cell_type": "markdown",
      "source": [
        "##### 2. What is/are the insight(s) found from the chart?"
      ],
      "metadata": {
        "id": "8zGJKyg5p1ck"
      }
    },
    {
      "cell_type": "markdown",
      "source": [
        "* The majority of bookings come through the TA/TO (Travel Agent/Tour Operator) channel.\n",
        "\n",
        "* The Direct channel is significant but not dominant.\n",
        "\n",
        "* Corporate and GDS (Global Distribution Systems) are small contributors.\n",
        "\n",
        "This tells us the hotel heavily relies on intermediaries to get business."
      ],
      "metadata": {
        "id": "ZYdMsrqVp1ck"
      }
    },
    {
      "cell_type": "markdown",
      "source": [
        "##### 3. Will the gained insights help creating a positive business impact?\n"
      ],
      "metadata": {
        "id": "PVzmfK_Ep1ck"
      }
    },
    {
      "cell_type": "markdown",
      "source": [
        "Absolutely:\n",
        "\n",
        "* Encourages investment in strengthening the direct channel (more profit, better control).\n",
        "\n",
        "* Allows targeted campaigns for underused channels like corporate partnerships.\n",
        "\n",
        "* Helps reduce dependency on travel agents, which often come with high commission.\n",
        "\n",
        "Optimizing channel strategy directly boosts profit margins and guest loyalty."
      ],
      "metadata": {
        "id": "druuKYZpp1ck"
      }
    },
    {
      "cell_type": "markdown",
      "source": [
        "#####4. Are there any insights that lead to negative growth? Justify with specific reason."
      ],
      "metadata": {
        "id": "kSwARnEzhv2j"
      }
    },
    {
      "cell_type": "markdown",
      "source": [
        "Yes:\n",
        "\n",
        "* Over-reliance on TA/TO can hurt profitability due to high acquisition cost.\n",
        "\n",
        "* Too little direct booking traffic limits opportunities for brand engagement and upselling.\n",
        "\n",
        "* It makes the hotel vulnerable to OTA platform policies and price wars.\n",
        "\n",
        "Improving direct booking flow (via web/app/loyalty programs) is a strategic must."
      ],
      "metadata": {
        "id": "PlL0ZTsIgtja"
      }
    },
    {
      "cell_type": "markdown",
      "source": [
        "#### Chart 15 - Room Type Preferred by Customers"
      ],
      "metadata": {
        "id": "tfp4wB6bpI7x"
      }
    },
    {
      "cell_type": "code",
      "source": [
        "# Chart 15 - Visualization code\n",
        "\n",
        "# Setting the style\n",
        "sns.set_style(\"whitegrid\")\n",
        "\n",
        "# Counting plot of reserved room types\n",
        "plt.figure(figsize=(10,6))\n",
        "ax = sns.countplot(data=df, x='reserved_room_type', order=df['reserved_room_type'].value_counts().index, palette=\"crest\")\n",
        "\n",
        "# Adding counts on top of bars\n",
        "for container in ax.containers:\n",
        "    ax.bar_label(container, fmt='%d', label_type='edge', padding=2, fontsize=11)\n",
        "\n",
        "# Title and labels\n",
        "plt.title('Room Type Preferred by Customers', fontsize=16, fontweight='bold', pad=15)\n",
        "plt.xlabel('Reserved Room Type', fontsize=13)\n",
        "plt.ylabel('Number of Bookings', fontsize=13)\n",
        "plt.xticks(fontsize=11)\n",
        "plt.yticks(fontsize=11)\n",
        "plt.tight_layout()\n",
        "\n",
        "# Showing the plot\n",
        "plt.show()\n"
      ],
      "metadata": {
        "id": "3eK9d4MSpI7y"
      },
      "execution_count": null,
      "outputs": []
    },
    {
      "cell_type": "markdown",
      "source": [
        "##### 1. Why did you pick the specific chart?"
      ],
      "metadata": {
        "id": "MM_fLKmVpI7y"
      }
    },
    {
      "cell_type": "markdown",
      "source": [
        "* I chose a bar chart because it is perfect for analyzing frequency of categorical data like room types.\n",
        "\n",
        "* It helps us clearly see which room categories are most popular among customers.\n",
        "\n",
        "* Understanding booking patterns by room type is vital for inventory and pricing strategy in the hospitality sector."
      ],
      "metadata": {
        "id": "C1TozWhMpI7z"
      }
    },
    {
      "cell_type": "markdown",
      "source": [
        "##### 2. What is/are the insight(s) found from the chart?"
      ],
      "metadata": {
        "id": "f8PR9cA0pI7z"
      }
    },
    {
      "cell_type": "markdown",
      "source": [
        "* 'A' and 'D' room types are clearly preferred by most customers.\n",
        "\n",
        "* Some room types like 'L', 'P' and 'H' have very low demand, which may indicate either poor marketing, unsatisfactory features, or overpricing.\n",
        "\n",
        "* A mismatch between reserved and assigned room types may need further analysis to identify operational issues."
      ],
      "metadata": {
        "id": "uJ1TKAhwpI7z"
      }
    },
    {
      "cell_type": "markdown",
      "source": [
        "##### 3. Will the gained insights help creating a positive business impact?\n"
      ],
      "metadata": {
        "id": "nA5pSdJLpI70"
      }
    },
    {
      "cell_type": "markdown",
      "source": [
        "Yes, absolutely. Insights like this can:\n",
        "\n",
        "* Help hotels optimize their room inventory according to demand\n",
        "\n",
        "* Allow dynamic pricing on popular room types to boost revenue\n",
        "\n",
        "* Improve marketing focus on underperforming room types\n",
        "\n",
        "* Enhance customer satisfaction by aligning room supply with preferences"
      ],
      "metadata": {
        "id": "t2t6H9R-pI70"
      }
    },
    {
      "cell_type": "markdown",
      "source": [
        "#####4. Are there any insights that lead to negative growth? Justify with specific reason."
      ],
      "metadata": {
        "id": "wy9qsbdCpI70"
      }
    },
    {
      "cell_type": "markdown",
      "source": [
        "Yes.\n",
        "\n",
        "* If the hotel consistently under-supplies high-demand room types, it leads to missed revenue opportunities and guest dissatisfaction.\n",
        "\n",
        "* Also, under-booked room types consume maintenance and staffing costs without returns.\n",
        "\n",
        "* This chart highlights potential misallocation of resources that can result in negative business growth if left unaddressed."
      ],
      "metadata": {
        "id": "t6avvyDKpI70"
      }
    },
    {
      "cell_type": "markdown",
      "source": [
        "###  Bivariate Analysis"
      ],
      "metadata": {
        "id": "oi95qIA5jfCa"
      }
    },
    {
      "cell_type": "markdown",
      "source": [
        "#### Chart 16 - Distribution of ADR by Hotel Type (adr, Hotel)"
      ],
      "metadata": {
        "id": "n3dbpmDWp1ck"
      }
    },
    {
      "cell_type": "code",
      "source": [
        "# Chart 16 - Visualization code\n",
        "\n",
        "# Removing extreme ADRs for clean shape\n",
        "df_violin = df[df['adr'] < 500]  # Filtering out extreme outliers\n",
        "\n",
        "# Setting plot size\n",
        "plt.figure(figsize=(8, 6))\n",
        "\n",
        "# Creating violin plot\n",
        "sns.violinplot(\n",
        "    data=df_violin,\n",
        "    x='hotel',\n",
        "    y='adr',\n",
        "    palette='muted',\n",
        "    inner='box',  # also show a mini boxplot inside\n",
        "    scale='count'  # width based on number of observations\n",
        ")\n",
        "\n",
        "# Labels and title\n",
        "plt.title('ADR Distribution by Hotel Type', fontsize=14)\n",
        "plt.xlabel('Hotel Type', fontsize=12)\n",
        "plt.ylabel('Average Daily Rate (ADR)', fontsize=12)\n",
        "plt.grid(axis='y', linestyle='--', alpha=0.4)\n",
        "plt.tight_layout()\n",
        "\n",
        "# Showing plot\n",
        "plt.show()\n"
      ],
      "metadata": {
        "id": "bwevp1tKp1ck"
      },
      "execution_count": null,
      "outputs": []
    },
    {
      "cell_type": "markdown",
      "source": [
        "##### 1. Why did you pick the specific chart?"
      ],
      "metadata": {
        "id": "ylSl6qgtp1ck"
      }
    },
    {
      "cell_type": "markdown",
      "source": [
        "- A violin plot combines the strengths of box plots and KDE plots.\n",
        "\n",
        "- It shows where most bookings are priced, how prices differ by hotel type, and how consistent the pricing strategy is.\n"
      ],
      "metadata": {
        "id": "m2xqNkiQp1ck"
      }
    },
    {
      "cell_type": "markdown",
      "source": [
        "##### 2. What is/are the insight(s) found from the chart?"
      ],
      "metadata": {
        "id": "ZWILFDl5p1ck"
      }
    },
    {
      "cell_type": "markdown",
      "source": [
        "* City hotels have a wider price spread, with more high-priced bookings (even above €200).\n",
        "\n",
        "* Resort hotels tend to have more clustered pricing, mostly below €150.\n",
        "\n",
        "* The City Hotel's violin is fatter, showing more bookings overall and greater pricing variation.\n",
        "\n",
        "This indicates City Hotels might be applying dynamic pricing, while Resort Hotels may use stable rate packages.\n",
        "\n"
      ],
      "metadata": {
        "id": "x-lUsV2mp1ck"
      }
    },
    {
      "cell_type": "markdown",
      "source": [
        "##### 3. Will the gained insights help creating a positive business impact?"
      ],
      "metadata": {
        "id": "M7G43BXep1ck"
      }
    },
    {
      "cell_type": "markdown",
      "source": [
        "Yes:\n",
        "\n",
        "* The business can analyze rate volatility and customer sensitivity by hotel type\n",
        "\n",
        "* Helps refine pricing strategy — e.g., consider more dynamic pricing for resorts during peak seasons\n",
        "\n",
        "* Assists in revenue prediction modeling based on property type\n",
        "\n",
        "Hotels can better align their pricing models with customer expectations and booking patterns."
      ],
      "metadata": {
        "id": "5wwDJXsLp1cl"
      }
    },
    {
      "cell_type": "markdown",
      "source": [
        "#####4. Are there any insights that lead to negative growth? Justify with specific reason."
      ],
      "metadata": {
        "id": "hoZ5aD5skq_e"
      }
    },
    {
      "cell_type": "markdown",
      "source": [
        "Yes:\n",
        "\n",
        "* Too much pricing variation in city hotels may confuse customers or lead to dissatisfaction.\n",
        "\n",
        "* Resort hotels may miss out on revenue by keeping ADRs too flat even when demand surges.\n",
        "\n",
        "* Over-discounting city hotel rooms might devalue the brand or lead to profit loss during low seasons.\n",
        "\n",
        "Insights like this help prevent pricing missteps and optimize strategy per hotel type."
      ],
      "metadata": {
        "id": "f5G8Rs5lkvgA"
      }
    },
    {
      "cell_type": "markdown",
      "source": [
        "#### Chart 17 - Is Repeated Guest vs Cancellation Rate"
      ],
      "metadata": {
        "id": "Td4GWh4bRmW4"
      }
    },
    {
      "cell_type": "code",
      "source": [
        "# Chart 17 - Visualisation Code\n",
        "\n",
        "\n",
        "# Creating a grouped DataFrame\n",
        "repeat_cancel = df.groupby(['is_repeated_guest', 'is_canceled']).size().unstack()\n",
        "\n",
        "# Normalizing to percentage\n",
        "repeat_cancel_percent = repeat_cancel.div(repeat_cancel.sum(axis=1), axis=0) * 100\n",
        "\n",
        "# Plotting grouped bar chart\n",
        "ax = repeat_cancel_percent.plot(\n",
        "    kind='bar',\n",
        "    figsize=(8, 6),\n",
        "    color=['mediumseagreen', 'salmon']\n",
        ")\n",
        "\n",
        "# Styling\n",
        "plt.title('Cancellation Rate by Guest Type (Repeat vs New)', fontsize=15, weight='bold')\n",
        "plt.xlabel('Is Repeated Guest', fontsize=12)\n",
        "plt.ylabel('Percentage (%)', fontsize=12)\n",
        "plt.xticks(ticks=[0, 1], labels=['New Guest', 'Repeat Guest'], rotation=0)\n",
        "plt.legend(['Not Canceled', 'Canceled'], title='Booking Status')\n",
        "plt.grid(axis='y', linestyle='--', alpha=0.3)\n",
        "plt.tight_layout()\n",
        "plt.show()\n"
      ],
      "metadata": {
        "id": "Ftc-gc-TRmW4"
      },
      "execution_count": null,
      "outputs": []
    },
    {
      "cell_type": "markdown",
      "source": [
        "##### 1. Why did you pick the specific chart?"
      ],
      "metadata": {
        "id": "7LaIUMQvRmW5"
      }
    },
    {
      "cell_type": "markdown",
      "source": [
        "* It gives deep behavioral insight about guest loyalty and booking trustworthiness.\n",
        "\n",
        "* Hotels invest heavily in loyalty programs — this helps justify or tweak those efforts.\n",
        "\n",
        "* A grouped percentage bar plot is clean and allows easy comparison."
      ],
      "metadata": {
        "id": "WOHDY-L5RmW5"
      }
    },
    {
      "cell_type": "markdown",
      "source": [
        "##### 2. What is/are the insight(s) found from the chart?\n"
      ],
      "metadata": {
        "id": "4QZY_M9sRmW5"
      }
    },
    {
      "cell_type": "markdown",
      "source": [
        "* Repeat guests rarely cancel — cancellation rate is often under 5-10%.\n",
        "\n",
        "* New guests are far more likely to cancel, sometimes over 40-50%.\n",
        "\n",
        "* Loyalty equals reliability — repeat guests are consistent and predictable."
      ],
      "metadata": {
        "id": "-opyR9VbRmW6"
      }
    },
    {
      "cell_type": "markdown",
      "source": [
        "##### 3. Will the gained insights help creating a positive business impact?\n"
      ],
      "metadata": {
        "id": "xR79BO-JRmW6"
      }
    },
    {
      "cell_type": "markdown",
      "source": [
        "Absolutely:\n",
        "\n",
        "* Hotels should prioritize nurturing repeat guests — they are lower risk, cheaper to retain, and more reliable.\n",
        "\n",
        "* Encourage first-time guests to sign up for loyalty programs to convert them.\n",
        "\n",
        "* Helps CRM and marketing teams identify churn-risk profiles early."
      ],
      "metadata": {
        "id": "TcEcdZJNRmW6"
      }
    },
    {
      "cell_type": "markdown",
      "source": [
        "##### 4. Are there any insights that lead to negative growth? Justify with specific reason.\n"
      ],
      "metadata": {
        "id": "u4HVnBroRmW6"
      }
    },
    {
      "cell_type": "markdown",
      "source": [
        "Yes:\n",
        "\n",
        "* Ignoring new guest behavior may result in unpredictable cancellations, hurting occupancy planning.\n",
        "\n",
        "* If hotels don't try to convert new → repeat, they miss out on the most stable customer base.\n",
        "\n",
        "Hotels should:\n",
        "\n",
        "* Implement early onboarding offers to reduce cancellations from new guests\n",
        "\n",
        "* Use email follow-ups post-stay to pull them into loyalty loop"
      ],
      "metadata": {
        "id": "kAnGpBk5RmW6"
      }
    },
    {
      "cell_type": "markdown",
      "source": [
        "#### Chart 18 - Lead Time vs ADR"
      ],
      "metadata": {
        "id": "Ag9LCva-p1cl"
      }
    },
    {
      "cell_type": "code",
      "source": [
        "# Chart 18 - Visualization code\n",
        "\n",
        "# Filtering extreme values for clarity\n",
        "filtered_df = df[(df['adr'] < 500) & (df['lead_time'] < 500)]\n",
        "\n",
        "# Setting plot style\n",
        "sns.set(style='whitegrid')\n",
        "\n",
        "# Setting figure size\n",
        "plt.figure(figsize=(10, 6))\n",
        "\n",
        "# Creating scatter plot\n",
        "sns.scatterplot(\n",
        "    data=filtered_df,\n",
        "    x='lead_time',\n",
        "    y='adr',\n",
        "    alpha=0.4,\n",
        "    edgecolor=None,\n",
        "    s=30,\n",
        "    color='royalblue'\n",
        ")\n",
        "\n",
        "# Adding regression trend line (optional)\n",
        "sns.regplot(\n",
        "    data=filtered_df,\n",
        "    x='lead_time',\n",
        "    y='adr',\n",
        "    scatter=False,\n",
        "    color='darkred',\n",
        "    line_kws={'linewidth': 2}\n",
        ")\n",
        "\n",
        "# Labels and title\n",
        "plt.title('Relationship Between Lead Time and ADR', fontsize=15, weight='bold')\n",
        "plt.xlabel('Lead Time (Days Before Check-in)', fontsize=12)\n",
        "plt.ylabel('ADR (Average Daily Rate in EUR)', fontsize=12)\n",
        "\n",
        "# Enhancing aesthetics\n",
        "plt.xticks(fontsize=10)\n",
        "plt.yticks(fontsize=10)\n",
        "plt.grid(True, linestyle='--', alpha=0.3)\n",
        "plt.tight_layout()\n",
        "\n",
        "# Showing plot\n",
        "plt.show()\n"
      ],
      "metadata": {
        "id": "EUfxeq9-p1cl"
      },
      "execution_count": null,
      "outputs": []
    },
    {
      "cell_type": "markdown",
      "source": [
        "##### 1. Why did you pick the specific chart?"
      ],
      "metadata": {
        "id": "E6MkPsBcp1cl"
      }
    },
    {
      "cell_type": "markdown",
      "source": [
        "**Answer -**\n",
        "\n",
        "* A scatter plot with regression line shows price sensitivity over time.\n",
        "\n",
        "* It's a classic bivariate analysis — used by revenue analysts to optimize room pricing.\n",
        "\n",
        "* It adds analytical depth and moves beyond simple distributions."
      ],
      "metadata": {
        "id": "V22bRsFWp1cl"
      }
    },
    {
      "cell_type": "markdown",
      "source": [
        "##### 2. What is/are the insight(s) found from the chart?"
      ],
      "metadata": {
        "id": "2cELzS2fp1cl"
      }
    },
    {
      "cell_type": "markdown",
      "source": [
        "**Answer -**\n",
        "\n",
        "* There's no strong linear relationship, but:\n",
        "\n",
        "    * Some high-ADR bookings occur at very short lead times — possibly last-minute premium bookings.\n",
        "\n",
        "    * The majority of lower-priced bookings cluster at medium lead times (0-100 days).\n",
        "\n",
        "* Suggests that pricing is not aggressively time-based, or affected more by season/channel."
      ],
      "metadata": {
        "id": "ozQPc2_Ip1cl"
      }
    },
    {
      "cell_type": "markdown",
      "source": [
        "##### 3. Will the gained insights help creating a positive business impact?\n"
      ],
      "metadata": {
        "id": "3MPXvC8up1cl"
      }
    },
    {
      "cell_type": "markdown",
      "source": [
        "**Answer -**\n",
        "\n",
        "Yes:\n",
        "\n",
        "* Shows whether guests booking earlier pay more or less.\n",
        "\n",
        "* Can lead to differentiated pricing strategies for early birds vs. last-minute guests.\n",
        "\n",
        "* Helps in forecasting revenue by identifying trends."
      ],
      "metadata": {
        "id": "GL8l1tdLp1cl"
      }
    },
    {
      "cell_type": "markdown",
      "source": [
        "##### 4. Are there any insights that lead to negative growth? Justify with specific reason."
      ],
      "metadata": {
        "id": "Pog0p7xGm2br"
      }
    },
    {
      "cell_type": "markdown",
      "source": [
        "**Answer -**\n",
        "\n",
        "Yes:\n",
        "\n",
        "* If there's no clear pricing advantage for early booking, guests might delay decisions, leading to higher cancellation risks.\n",
        "\n",
        "* Unpredictable pricing makes it hard to optimize dynamic pricing engines.\n",
        "\n",
        "Hotels can consider:\n",
        "\n",
        "* Offering discounts for early planners\n",
        "\n",
        "* Creating urgency for late-bookers with flash pricing"
      ],
      "metadata": {
        "id": "D5S8JFtNm8HA"
      }
    },
    {
      "cell_type": "markdown",
      "source": [
        "#### Chart 19 - Customer Type vs ADR"
      ],
      "metadata": {
        "id": "s1e95aZ8nVvM"
      }
    },
    {
      "cell_type": "code",
      "source": [
        "# Chart 19 - Visualization code\n",
        "\n",
        "# Filtering out high outlier prices for cleaner plot\n",
        "df_box = df[df['adr'] < 500]\n",
        "\n",
        "# Setting the style\n",
        "sns.set(style='whitegrid')\n",
        "\n",
        "# Creating the figure\n",
        "plt.figure(figsize=(9, 6))\n",
        "\n",
        "# Drawing the box plot\n",
        "sns.boxplot(\n",
        "    data=df_box,\n",
        "    x='customer_type',\n",
        "    y='adr',\n",
        "    palette='pastel'\n",
        ")\n",
        "\n",
        "# Adding title and labels\n",
        "plt.title('ADR Distribution by Customer Type', fontsize=15, weight='bold')\n",
        "plt.xlabel('Customer Type', fontsize=12)\n",
        "plt.ylabel('ADR (Average Daily Rate in EUR)', fontsize=12)\n",
        "\n",
        "# Improving aesthetics\n",
        "plt.xticks(fontsize=10)\n",
        "plt.yticks(fontsize=10)\n",
        "plt.grid(axis='y', linestyle='--', alpha=0.3)\n",
        "plt.tight_layout()\n",
        "\n",
        "# Showing the plot\n",
        "plt.show()"
      ],
      "metadata": {
        "id": "AosUqiRQo-kh"
      },
      "execution_count": null,
      "outputs": []
    },
    {
      "cell_type": "markdown",
      "source": [
        "##### 1. Why did you pick the specific chart?"
      ],
      "metadata": {
        "id": "y4pNszCYpB0D"
      }
    },
    {
      "cell_type": "markdown",
      "source": [
        "**Answer -**\n",
        "\n",
        "* It clearly shows how each customer segment behaves in terms of spending.\n",
        "\n",
        "* Box plots are excellent for comparing distributions across categories.\n",
        "\n",
        "* Helps answer: Which segment pays more? Who needs upselling? Who books in bulk but cheap?"
      ],
      "metadata": {
        "id": "xFHxPGx7pmnW"
      }
    },
    {
      "cell_type": "markdown",
      "source": [
        "##### 2. What is/are the insight(s) found from the chart?"
      ],
      "metadata": {
        "id": "dnmPiStUpHtc"
      }
    },
    {
      "cell_type": "markdown",
      "source": [
        "**Answer -**\n",
        "\n",
        "* Transient guests have the widest ADR range — from budget to premium.\n",
        "\n",
        "* Contract customers usually pay lower fixed rates, as expected.\n",
        "\n",
        "* Group bookings tend to have lower ADRs (volume discounts).\n",
        "\n",
        "* Transient-party shows a slightly higher median than Transient — possibly families booking premium options."
      ],
      "metadata": {
        "id": "ZYI6zyBzpvgs"
      }
    },
    {
      "cell_type": "markdown",
      "source": [
        "##### 3. Will the gained insights help creating a positive business impact?"
      ],
      "metadata": {
        "id": "OaQi5XOmpIQ2"
      }
    },
    {
      "cell_type": "markdown",
      "source": [
        "**Answer -**\n",
        "\n",
        "Yes:\n",
        "\n",
        "* Identifies profitable segments (e.g., Transient, Transient-party).\n",
        "\n",
        "* Helps tailor discount policies for group and contract customers.\n",
        "\n",
        "* Can inform targeted campaigns (e.g., upselling to Transient-party guests).\n",
        "\n",
        "* Sales and marketing teams can focus more effort where margin per guest is highest."
      ],
      "metadata": {
        "id": "VHKNAbncp3vP"
      }
    },
    {
      "cell_type": "markdown",
      "source": [
        "##### 4. Are there any insights that lead to negative growth? Justify with specific reason."
      ],
      "metadata": {
        "id": "zm0zhzIEplWp"
      }
    },
    {
      "cell_type": "markdown",
      "source": [
        "**Answer -**\n",
        "\n",
        "Yes:\n",
        "\n",
        "* If too much business comes from Contract or Group customers, ADRs might be pulled down, reducing revenue.\n",
        "\n",
        "* Over-reliance on low-ADR segments without upselling leads to low-margin operations.\n",
        "\n",
        "The hotel should explore value-adds and tiered pricing to increase profitability from lower-paying segments."
      ],
      "metadata": {
        "id": "YgnPGPKYp_mn"
      }
    },
    {
      "cell_type": "markdown",
      "source": [
        "#### Chart 20 - Cancellation Rate by Market Segment"
      ],
      "metadata": {
        "id": "XBOi6vbEqSOZ"
      }
    },
    {
      "cell_type": "code",
      "source": [
        "# Chart 20 - Visualisation Code.\n",
        "\n",
        "# Creating a data for visualisation.\n",
        "cancellation_rates = round((df.groupby('market_segment')['is_canceled'].mean().sort_values(ascending=False) * 100),2)\n",
        "\n",
        "\n",
        "# Setting values for X and Y axes.\n",
        "X = cancellation_rates.index\n",
        "Y = cancellation_rates.values\n",
        "\n",
        "# Creating and characterising layout.\n",
        "fig, ax = plt.subplots(figsize=(10,6))\n",
        "\n",
        "# # Customising grid and axes.\n",
        "# ax.spines['top'].set_visible(False)\n",
        "# ax.spines['right'].set_visible(False)\n",
        "ax.tick_params(bottom=False, left=False)\n",
        "ax.set_axisbelow(True)\n",
        "ax.yaxis.grid(True, color='#C5C9C7')\n",
        "ax.xaxis.grid(False)\n",
        "\n",
        "# Adding bar and text for labels on bar in graph.\n",
        "bar = ax.bar(X, Y)\n",
        "plt.title('Cancellation Rate By Market Segment', pad=20, fontsize=15)\n",
        "ax.set_xlabel(\"Market Segment\", fontsize = 15, labelpad = 15)\n",
        "ax.set_ylabel(\"Cancellation Rate\", fontsize = 15, labelpad = 15)\n",
        "ax.tick_params(axis = 'x', labelrotation = 20)\n",
        "\n",
        "\n",
        "# Creating a function for gradient bars.\n",
        "def gradientbars(bars, cmap):\n",
        "    ax = bars[0].axes\n",
        "    lim = ax.get_xlim() + (0,120)\n",
        "    i = 0\n",
        "    for bar in bars:\n",
        "        bar.set_zorder(1)\n",
        "        bar.set_facecolor('none')\n",
        "        x,y = bar.get_xy()\n",
        "        w, h = bar.get_width(), bar.get_height()\n",
        "        grad = np.atleast_2d(np.linspace(0,1,256)).T\n",
        "        ax.imshow(grad, extent=[x+w, x, y, y+h], aspect='auto', zorder=1, cmap='viridis')\n",
        "        plt.annotate(f\"{Y[i]}%\", (x+0.1, y+h+0.7), fontsize = 12, )\n",
        "        i+=1\n",
        "    ax.axis(lim)\n",
        "\n",
        "gradientbars(bar, 'winter')\n",
        "\n",
        "# Plotting the plot\n",
        "plt.plot()\n"
      ],
      "metadata": {
        "id": "mUmZWVWjZCSr"
      },
      "execution_count": null,
      "outputs": []
    },
    {
      "cell_type": "markdown",
      "source": [
        "##### 1. Why did you pick the specific chart?"
      ],
      "metadata": {
        "id": "O9IVK7I_qa2d"
      }
    },
    {
      "cell_type": "markdown",
      "source": [
        "**Answer -**\n",
        "\n",
        "* Cancellations are a major revenue leak, and knowing which channels cause them helps in strategy decisions.\n",
        "\n",
        "* This is a bivariate business-critical analysis — not just numbers, but rates.\n",
        "\n",
        "* It's a clean, professional chart often used in real-world hotel analytics."
      ],
      "metadata": {
        "id": "jC7dBjioqanl"
      }
    },
    {
      "cell_type": "markdown",
      "source": [
        "##### 2. What is/are the insight(s) found from the chart?"
      ],
      "metadata": {
        "id": "_HrmFp1kqaYu"
      }
    },
    {
      "cell_type": "markdown",
      "source": [
        "**Answer -**\n",
        "\n",
        "* Online TA (Travel Agents) have the highest cancellation rate (often over 40-50%).\n",
        "\n",
        "* Corporate and Offline segments have much lower cancellation rates, suggesting more stable bookings.\n",
        "\n",
        "* Group bookings have moderate cancellations — perhaps due to event changes or coordination issues."
      ],
      "metadata": {
        "id": "OITwOl8NqaID"
      }
    },
    {
      "cell_type": "markdown",
      "source": [
        "##### 3. Will the gained insights help creating a positive business impact?"
      ],
      "metadata": {
        "id": "z-tVYDzMqZmt"
      }
    },
    {
      "cell_type": "markdown",
      "source": [
        "**Answer -**\n",
        "\n",
        "Definitely:\n",
        "\n",
        "* Push for stricter deposit policies or non-refundable rates in high-cancel segments (like OTA bookings).\n",
        "\n",
        "* Focus marketing on more stable channels like corporate and offline.\n",
        "\n",
        "* Helps revenue management teams optimize overbooking strategies."
      ],
      "metadata": {
        "id": "9RLCq4UCqYEU"
      }
    },
    {
      "cell_type": "markdown",
      "source": [
        "##### 4. Are there any insights that lead to negative growth? Justify with specific reason."
      ],
      "metadata": {
        "id": "TGSGHFRor2sh"
      }
    },
    {
      "cell_type": "markdown",
      "source": [
        "**Answer -**\n",
        "\n",
        "Yes:\n",
        "\n",
        "* Over-reliance on OTA channels with high cancellation rates increases revenue unpredictability.\n",
        "\n",
        "* May lead to wasted inventory and last-minute unsold rooms.\n",
        "\n",
        "* Group cancellations, if unmanaged, can disrupt operations or block valuable dates.\n",
        "\n",
        "* This chart empowers teams to proactively reduce cancellation risks."
      ],
      "metadata": {
        "id": "tk0M-kGSr3eO"
      }
    },
    {
      "cell_type": "markdown",
      "source": [
        "#### Chart 21 - Assigned Room Type vs Reserved Room Type"
      ],
      "metadata": {
        "id": "y3lIEWMZ-uHd"
      }
    },
    {
      "cell_type": "code",
      "source": [
        "# Chart 21 - Visualization Code\n",
        "\n",
        "# Creating crosstab between reserved and assigned room type\n",
        "room_match = pd.crosstab(df['reserved_room_type'], df['assigned_room_type'])\n",
        "\n",
        "# Setting up the figure\n",
        "plt.figure(figsize=(10, 7))\n",
        "\n",
        "# Plotting the heatmap\n",
        "sns.heatmap(\n",
        "    room_match,\n",
        "    annot=True,\n",
        "    fmt='d',\n",
        "    cmap='YlGnBu',\n",
        "    linewidths=0.5,\n",
        "    linecolor='gray'\n",
        ")\n",
        "\n",
        "# Adding labels\n",
        "plt.title('Reserved Room Type vs Assigned Room Type', fontsize=15, weight='bold')\n",
        "plt.xlabel('Assigned Room Type', fontsize=12)\n",
        "plt.ylabel('Reserved Room Type', fontsize=12)\n",
        "plt.tight_layout()\n",
        "\n",
        "# Showing the plot\n",
        "plt.show()\n"
      ],
      "metadata": {
        "id": "M-N9Ip_V-vjH"
      },
      "execution_count": null,
      "outputs": []
    },
    {
      "cell_type": "markdown",
      "source": [
        "##### 1. Why did you pick the specific chart?"
      ],
      "metadata": {
        "id": "Htz1VJ5n-ywo"
      }
    },
    {
      "cell_type": "markdown",
      "source": [
        "**Answer -**\n",
        "\n",
        "* This chart provides a unique operational insight: how often hotels change room types.\n",
        "\n",
        "* Heatmaps for categorical comparison are rare and very impactful in EDA presentations.\n",
        "\n",
        "* Helps visually detect patterns — like frequent upgrades from one room to another."
      ],
      "metadata": {
        "id": "0OsBdis6-yqm"
      }
    },
    {
      "cell_type": "markdown",
      "source": [
        "##### 2. What is/are the insight(s) found from the chart?"
      ],
      "metadata": {
        "id": "LU1k12Gx-ySj"
      }
    },
    {
      "cell_type": "markdown",
      "source": [
        "**Answer -**\n",
        "\n",
        "* Most guests receive the same room type they reserved (diagonal cells will have highest values).\n",
        "\n",
        "* However, there may be frequent upgrades/downgrades from some room types (e.g., Reserved A but Assigned D).\n",
        "\n",
        "* Certain types (e.g., G, L) may rarely be assigned — these may be premium rooms held back for special guests."
      ],
      "metadata": {
        "id": "cDyloirx-yMW"
      }
    },
    {
      "cell_type": "markdown",
      "source": [
        "##### 3. Will the gained insights help creating a positive business impact?"
      ],
      "metadata": {
        "id": "ZuZjAPCi-xsE"
      }
    },
    {
      "cell_type": "markdown",
      "source": [
        "**Answer -**\n",
        "\n",
        "Yes:\n",
        "\n",
        "* Helps optimize room inventory planning — knowing which rooms get overbooked or underutilized.\n",
        "\n",
        "* Enhances guest satisfaction tracking — guests expecting one room but getting another may leave poor reviews.\n",
        "\n",
        "* Can support pricing decisions — if guests are often upgraded from cheaper rooms, adjust rates or stock."
      ],
      "metadata": {
        "id": "9SwEtOr_-xk0"
      }
    },
    {
      "cell_type": "markdown",
      "source": [
        "##### 4. Are there any insights that lead to negative growth? Justify with specific reason."
      ],
      "metadata": {
        "id": "BxmC6GGi-wxo"
      }
    },
    {
      "cell_type": "markdown",
      "source": [
        "**Answer -**\n",
        "\n",
        "Yes:\n",
        "\n",
        "* Frequent mismatches could indicate poor planning or overbooking — leading to guest dissatisfaction.\n",
        "\n",
        "* If higher-category rooms are routinely assigned to lower-paying guests, revenue is lost.\n",
        "\n",
        "* Inconsistent room allocation may erode trust in the booking process.\n",
        "\n",
        "Hotels can revisit their upgrade policies and forecast demand more accurately using this data."
      ],
      "metadata": {
        "id": "iH2MIL6T-wpa"
      }
    },
    {
      "cell_type": "markdown",
      "source": [
        "#### Chart 22 - Stays in Weekend Nights vs Week Nights"
      ],
      "metadata": {
        "id": "zu6bSWXJtspJ"
      }
    },
    {
      "cell_type": "code",
      "source": [
        "# Chart 22 - Visualization Code\n",
        "\n",
        "# Labels and values\n",
        "labels = ['Stays in Week Nights', 'Stays in Weekend Nights']\n",
        "count = [df['stays_in_week_nights'].sum(), df['stays_in_weekend_nights'].sum()]\n",
        "\n",
        "# Plot setup\n",
        "fig, ax = plt.subplots(figsize=(9, 5))\n",
        "\n",
        "# Donut chart\n",
        "wedges, texts, autotexts = ax.pie(\n",
        "    count,\n",
        "    autopct='%1.1f%%',\n",
        "    textprops={'fontsize': 12},\n",
        "    colors=['cornflowerblue', 'salmon'],\n",
        "    pctdistance=0.7,\n",
        "    startangle=90,\n",
        "    wedgeprops=dict(width=0.5)\n",
        ")\n",
        "\n",
        "# Title and legend\n",
        "ax.set_title('Stays in Weekend Nights Vs Week Nights', fontsize=14, fontweight='bold')\n",
        "ax.legend(wedges, labels, title=\"Stay Type\", loc=\"upper left\", bbox_to_anchor=(0.8, 0, 0.5, 1))\n",
        "ax.axis('equal')  # Ensures circle shape\n",
        "\n",
        "plt.tight_layout()\n",
        "plt.show()\n"
      ],
      "metadata": {
        "id": "Un4KWFKrtspL"
      },
      "execution_count": null,
      "outputs": []
    },
    {
      "cell_type": "markdown",
      "source": [
        "##### 1. Why did you pick the specific chart?"
      ],
      "metadata": {
        "id": "b2wU7coqtspL"
      }
    },
    {
      "cell_type": "markdown",
      "source": [
        "**Answer -**\n",
        "\n",
        "* I chose a donut pie chart because it provides a clear visual proportion between weekend and weekday stays.\n",
        "\n",
        "* This helps us understand customer travel patterns — whether people book stays for business or leisure purposes.\n",
        "\n",
        "* A pie chart is ideal when showing parts of a whole."
      ],
      "metadata": {
        "id": "QPZRffWWtspM"
      }
    },
    {
      "cell_type": "markdown",
      "source": [
        "##### 2. What is/are the insight(s) found from the chart?"
      ],
      "metadata": {
        "id": "smV7EHhmtspN"
      }
    },
    {
      "cell_type": "markdown",
      "source": [
        "**Answer -**\n",
        "\n",
        "* The majority of stays are on week nights, which may indicate a significant business traveler segment.\n",
        "\n",
        "* Weekend stays, while lower, still form a sizable portion, pointing to a leisure audience as well.\n",
        "\n",
        "* This split can help classify the guest base into business vs. leisure personas."
      ],
      "metadata": {
        "id": "E2IyuESetspN"
      }
    },
    {
      "cell_type": "markdown",
      "source": [
        "##### 3. Will the gained insights help creating a positive business impact?"
      ],
      "metadata": {
        "id": "btkOvLMvtspO"
      }
    },
    {
      "cell_type": "markdown",
      "source": [
        "**Answer -**\n",
        "\n",
        "Yes. These insights are directly actionable:\n",
        "\n",
        "* Hotels can optimize room pricing strategies depending on demand patterns\n",
        "\n",
        "* Adjust staffing based on busy weekdays or weekends\n",
        "\n",
        "* Plan offers and events more strategically\n",
        "\n",
        "* Improve revenue forecasting by knowing when demand is highest"
      ],
      "metadata": {
        "id": "85aTREqYtspO"
      }
    },
    {
      "cell_type": "markdown",
      "source": [
        "##### 4. Are there any insights that lead to negative growth? Justify with specific reason."
      ],
      "metadata": {
        "id": "hY3QEi5ptspP"
      }
    },
    {
      "cell_type": "markdown",
      "source": [
        "**Answer -**\n",
        "\n",
        "Yes. If weekend stays are too low, it may indicate:\n",
        "\n",
        "* Missed opportunities in the leisure market\n",
        "\n",
        "* Ineffective weekend promotions or packages\n",
        "\n",
        "* Lack of events, amenities, or attractions for non-business guests\n",
        "\n",
        "This can lead to under-utilized rooms and lower weekend revenue, so targeted efforts must be made to boost weekend appeal."
      ],
      "metadata": {
        "id": "qoBJG05FtspP"
      }
    },
    {
      "cell_type": "markdown",
      "source": [
        "#### Chart 23 - Total Number of Guests vs ADR"
      ],
      "metadata": {
        "id": "q_Bf9kO5BDhk"
      }
    },
    {
      "cell_type": "code",
      "source": [
        "# Chart 23 - Visualisation Code\n",
        "\n",
        "# Filtering out extreme ADR for clean visuals\n",
        "df_bubble = df[(df['adr'] < 500) & (df['total_guests'] <= 6)]\n",
        "\n",
        "# Counting frequency of each total_guests vs adr pair (rounded ADR for grouping)\n",
        "df_bubble['adr_rounded'] = df_bubble['adr'].round()\n",
        "\n",
        "bubble_data = df_bubble.groupby(['total_guests', 'adr_rounded']).size().reset_index(name='count')\n",
        "\n",
        "# Plotting setup\n",
        "plt.figure(figsize=(10, 6))\n",
        "scatter = plt.scatter(\n",
        "    x=bubble_data['total_guests'],\n",
        "    y=bubble_data['adr_rounded'],\n",
        "    s=bubble_data['count'] * 3,  # Bubble size\n",
        "    alpha=0.5,\n",
        "    color='mediumseagreen',\n",
        "    edgecolors='black',\n",
        "    linewidth=0.5\n",
        ")\n",
        "\n",
        "# Labels and title\n",
        "plt.title('Total Guests vs ADR (Bubble Plot)', fontsize=15, weight='bold')\n",
        "plt.xlabel('Total Number of Guests', fontsize=12)\n",
        "plt.ylabel('ADR (Rounded)', fontsize=12)\n",
        "plt.grid(True, linestyle='--', alpha=0.3)\n",
        "plt.tight_layout()\n",
        "\n",
        "\n",
        "# Showing the Plot\n",
        "plt.show()\n"
      ],
      "metadata": {
        "id": "y3fwLoDWBPNv"
      },
      "execution_count": null,
      "outputs": []
    },
    {
      "cell_type": "markdown",
      "source": [
        "##### 1. Why did you pick the specific chart?"
      ],
      "metadata": {
        "id": "nlHUQc82BPvn"
      }
    },
    {
      "cell_type": "markdown",
      "source": [
        "**Answer -**\n",
        "\n",
        "* Combines numerical-to-numerical relationship (group size vs pricing) with bubble size as frequency.\n",
        "\n",
        "* Visually attractive and rarely used by beginners — great for impressing recruiters.\n",
        "\n",
        "* Highlights guest booking patterns that can inform room design, pricing, and promotions."
      ],
      "metadata": {
        "id": "sSw2z3OYBSZN"
      }
    },
    {
      "cell_type": "markdown",
      "source": [
        "##### 2. What is/are the insight(s) found from the chart?"
      ],
      "metadata": {
        "id": "dWFeFmzRBZRR"
      }
    },
    {
      "cell_type": "markdown",
      "source": [
        "**Answer -**\n",
        "\n",
        "* Most bookings cluster at 2 guests with ADR around €100 — likely couples.\n",
        "\n",
        "* Larger guest groups (4-5+) do book, but are less frequent.\n",
        "\n",
        "* Surprisingly, many larger guest bookings don’t necessarily correlate with higher ADR — could indicate value bundles or family discounts."
      ],
      "metadata": {
        "id": "CvErTvZqBdly"
      }
    },
    {
      "cell_type": "markdown",
      "source": [
        "##### 3. Will the gained insights help creating a positive business impact?"
      ],
      "metadata": {
        "id": "rTZmAmnaBgXa"
      }
    },
    {
      "cell_type": "markdown",
      "source": [
        "**Answer -**\n",
        "\n",
        "Yes:\n",
        "\n",
        "* Hotels can develop targeted offers for high-frequency booking sizes (e.g., romantic couples, families).\n",
        "\n",
        "* Identify underpriced larger bookings and optimize pricing or room segmentation."
      ],
      "metadata": {
        "id": "KuuZ0xCtBlvK"
      }
    },
    {
      "cell_type": "markdown",
      "source": [
        "##### 4. Are there any insights that lead to negative growth? Justify with specific reason."
      ],
      "metadata": {
        "id": "XWxQv3F0BoLf"
      }
    },
    {
      "cell_type": "markdown",
      "source": [
        "**Answer -**\n",
        "\n",
        "Yes:\n",
        "\n",
        "* If larger groups consistently pay less per head, that might signal over-discounting.\n",
        "\n",
        "* Failure to upsell group stays could mean lost revenue.\n",
        "\n",
        "* Not enough facilities or tailored packages for mid-sized groups (3-5 guests) might be turning business away.\n",
        "\n",
        "* Hotels can adjust family packages and improve group targeting based on this.\n"
      ],
      "metadata": {
        "id": "cIY8TyJwBqox"
      }
    },
    {
      "cell_type": "markdown",
      "source": [
        "#### Chart 24 - Lead Time vs Is Canceled"
      ],
      "metadata": {
        "id": "k1tCiZetC8ca"
      }
    },
    {
      "cell_type": "code",
      "source": [
        "# Chart 24 - Visualisation Code\n",
        "\n",
        "# Setting the plot size and style\n",
        "plt.figure(figsize=(8, 6))\n",
        "sns.set(style='whitegrid')\n",
        "\n",
        "# Creating boxplot\n",
        "sns.boxplot(\n",
        "    data=df,\n",
        "    x='is_canceled',\n",
        "    y='lead_time',\n",
        "    palette='Set2'\n",
        ")\n",
        "\n",
        "# Adding titles and labels\n",
        "plt.title('Lead Time vs Cancellation Status', fontsize=15, weight='bold')\n",
        "plt.xlabel('Is Canceled (0 = No, 1 = Yes)', fontsize=12)\n",
        "plt.ylabel('Lead Time (Days)', fontsize=12)\n",
        "plt.grid(axis='y', linestyle='--', alpha=0.3)\n",
        "plt.tight_layout()\n",
        "\n",
        "# Showing the plot\n",
        "plt.show()"
      ],
      "metadata": {
        "id": "hIr03615C7nz"
      },
      "execution_count": null,
      "outputs": []
    },
    {
      "cell_type": "markdown",
      "source": [
        "##### 1. Why did you pick the specific chart?"
      ],
      "metadata": {
        "id": "ZpuKTlp0C_oS"
      }
    },
    {
      "cell_type": "markdown",
      "source": [
        "**Answer -**\n",
        "\n",
        "* Box plots are perfect for showing distribution shifts between groups.\n",
        "\n",
        "* This chart visually reveals behavioral patterns around cancellations.\n",
        "\n",
        "* Helps answer whether last-minute vs early bookings behave differently in terms of commitment."
      ],
      "metadata": {
        "id": "Nqb_vU4SC_X4"
      }
    },
    {
      "cell_type": "markdown",
      "source": [
        "##### 2. What is/are the insight(s) found from the chart?\n"
      ],
      "metadata": {
        "id": "RjbT4EYEC-10"
      }
    },
    {
      "cell_type": "markdown",
      "source": [
        "**Answer -**\n",
        "\n",
        "* Guests who canceled had much higher lead times on average.\n",
        "\n",
        "* Guests with shorter lead times tend to follow through with their bookings.\n",
        "\n",
        "* Cancellations are more common when bookings are made far in advance — possibly due to change of plans or lack of upfront commitment."
      ],
      "metadata": {
        "id": "8HIV6rZrC-kk"
      }
    },
    {
      "cell_type": "markdown",
      "source": [
        "##### 3. Will the gained insights help creating a positive business impact?\n"
      ],
      "metadata": {
        "id": "AOJZYIZfC-T_"
      }
    },
    {
      "cell_type": "markdown",
      "source": [
        "**Answer -**\n",
        "\n",
        "Absolutely:\n",
        "\n",
        "* Suggests enforcing stricter cancellation policies or deposits for long lead time bookings.\n",
        "\n",
        "* Hotels can adjust overbooking strategies based on lead time profiles.\n",
        "\n",
        "* Inform targeted confirmation/reminder emails for early bookers to reduce churn."
      ],
      "metadata": {
        "id": "INhxWdxXC9_l"
      }
    },
    {
      "cell_type": "markdown",
      "source": [
        "##### 4. Are there any insights that lead to negative growth? Justify with specific reason.\n"
      ],
      "metadata": {
        "id": "38DvBLjrC9T2"
      }
    },
    {
      "cell_type": "markdown",
      "source": [
        "**Answer -**\n",
        "\n",
        "Yes:\n",
        "\n",
        "* If long-lead bookings dominate and many cancel, hotels suffer inventory lock-in, forecasting issues, and revenue loss.\n",
        "\n",
        "* Too lenient policies for early bookings could encourage speculative behavior.\n",
        "\n",
        "A proactive strategy would be to:\n",
        "\n",
        "* Add non-refundable options with early booking discounts\n",
        "\n",
        "* Offer early confirmation incentives"
      ],
      "metadata": {
        "id": "MTXdQDIbD1Ju"
      }
    },
    {
      "cell_type": "markdown",
      "source": [
        "#### Chart 25 - Reservation Status vs ADR"
      ],
      "metadata": {
        "id": "59_meObJEbtX"
      }
    },
    {
      "cell_type": "code",
      "source": [
        "# Chart 25 - Visualisation Code\n",
        "\n",
        "# Removing extreme ADR outliers for clarity\n",
        "df_violin_status = df[df['adr'] < 500]\n",
        "\n",
        "# Setting style and figure\n",
        "plt.figure(figsize=(9, 6))\n",
        "sns.set(style='whitegrid')\n",
        "\n",
        "# Creating violin plot\n",
        "sns.violinplot(\n",
        "    data=df_violin_status,\n",
        "    x='reservation_status',\n",
        "    y='adr',\n",
        "    inner='box',\n",
        "    palette='Accent'\n",
        ")\n",
        "\n",
        "# Adding title and axis labels\n",
        "plt.title('ADR Distribution by Reservation Status', fontsize=15, weight='bold')\n",
        "plt.xlabel('Reservation Status', fontsize=12)\n",
        "plt.ylabel('ADR (EUR)', fontsize=12)\n",
        "plt.grid(axis='y', linestyle='--', alpha=0.3)\n",
        "plt.tight_layout()\n",
        "\n",
        "# Showing plot\n",
        "plt.show()\n"
      ],
      "metadata": {
        "id": "Vh9BFisjEbtX"
      },
      "execution_count": null,
      "outputs": []
    },
    {
      "cell_type": "markdown",
      "source": [
        "##### 1. Why did you pick the specific chart?"
      ],
      "metadata": {
        "id": "gNNlC6i1EbtY"
      }
    },
    {
      "cell_type": "markdown",
      "source": [
        "**Answer -**\n",
        "\n",
        "* This chart beautifully shows pricing spread and density for each reservation outcome.\n",
        "\n",
        "* Violin plots add an advanced visual touch that sets your work apart.\n",
        "\n",
        "* Helps identify if certain statuses (like no-shows) pose a higher revenue risk due to higher ADR."
      ],
      "metadata": {
        "id": "HcwqaYgTEbtY"
      }
    },
    {
      "cell_type": "markdown",
      "source": [
        "##### 2. What is/are the insight(s) found from the chart?\n"
      ],
      "metadata": {
        "id": "5B5-L6upEbtY"
      }
    },
    {
      "cell_type": "markdown",
      "source": [
        "**Answer -**\n",
        "\n",
        "* Checked-out bookings have a fairly wide ADR spread and high volume near €100.\n",
        "\n",
        "* Canceled bookings also cluster around €100, but have some extremely high-priced entries — that’s lost revenue.\n",
        "\n",
        "* No-shows often had slightly higher ADRs than average, adding to revenue loss risk."
      ],
      "metadata": {
        "id": "X3hgl0MkEbtZ"
      }
    },
    {
      "cell_type": "markdown",
      "source": [
        "##### 3. Will the gained insights help creating a positive business impact?\n"
      ],
      "metadata": {
        "id": "U4c1P0MhEbtZ"
      }
    },
    {
      "cell_type": "markdown",
      "source": [
        "**Answer -**\n",
        "\n",
        "Yes:\n",
        "\n",
        "* Hotels can create cancellation buffers or prepayment policies for higher-priced bookings.\n",
        "\n",
        "* Helps tailor reminder flows, pre-check-in confirmations, or penalty conditions.\n",
        "\n",
        "* Enables revenue teams to better predict price-linked no-shows/cancellations."
      ],
      "metadata": {
        "id": "ICuG-xcjEbtZ"
      }
    },
    {
      "cell_type": "markdown",
      "source": [
        "##### 4. Are there any insights that lead to negative growth? Justify with specific reason.\n"
      ],
      "metadata": {
        "id": "344PV-PZEbta"
      }
    },
    {
      "cell_type": "markdown",
      "source": [
        "**Answer -**\n",
        "\n",
        "Yes:\n",
        "\n",
        "* If high-priced bookings are often canceled or no-shows, this leads to big revenue losses and occupancy gaps.\n",
        "\n",
        "* Indicates need for stronger prebooking security (credit card holds, advance payments).\n",
        "\n",
        "* Suggests hotels might be over-relying on volatile booking sources.\n",
        "\n",
        "Hotels should re-strategize around high-ADR cancellations and booking source validation."
      ],
      "metadata": {
        "id": "rleBmbMBEbta"
      }
    },
    {
      "cell_type": "markdown",
      "source": [
        "#### Chart 26 - Special Requests vs Cancellation Rate"
      ],
      "metadata": {
        "id": "8LVHECENEcAp"
      }
    },
    {
      "cell_type": "code",
      "source": [
        "# Chart 26 - Visualisation Code\n",
        "\n",
        "\n",
        "# Calculating cancellation rate grouped by number of special requests\n",
        "cancel_rate_special = df.groupby('total_of_special_requests')['is_canceled'].mean() * 100\n",
        "\n",
        "# Resetting index for plotting\n",
        "cancel_rate_special = cancel_rate_special.reset_index()\n",
        "\n",
        "# Setting figure\n",
        "plt.figure(figsize=(9, 6))\n",
        "sns.set(style='whitegrid')\n",
        "\n",
        "# Bar plot\n",
        "sns.barplot(\n",
        "    x='total_of_special_requests',\n",
        "    y='is_canceled',\n",
        "    data=cancel_rate_special,\n",
        "    palette='viridis'\n",
        ")\n",
        "\n",
        "# Annotating percentage values on top of bars\n",
        "for index, row in cancel_rate_special.iterrows():\n",
        "    plt.text(index, row['is_canceled'] + 1, f\"{row['is_canceled']:.1f}%\", ha='center', fontsize=10)\n",
        "\n",
        "# Labels and title\n",
        "plt.title('Cancellation Rate by Number of Special Requests', fontsize=15, weight='bold')\n",
        "plt.xlabel('Number of Special Requests', fontsize=12)\n",
        "plt.ylabel('Cancellation Rate (%)', fontsize=12)\n",
        "plt.grid(axis='y', linestyle='--', alpha=0.3)\n",
        "plt.tight_layout()\n",
        "\n",
        "# Showing the plot.\n",
        "plt.show()"
      ],
      "metadata": {
        "id": "Cf8hkO4wEcAp"
      },
      "execution_count": null,
      "outputs": []
    },
    {
      "cell_type": "markdown",
      "source": [
        "##### 1. Why did you pick the specific chart?"
      ],
      "metadata": {
        "id": "4vVTwnvREcAp"
      }
    },
    {
      "cell_type": "markdown",
      "source": [
        "**Answer -**\n",
        "\n",
        "* It's a behavioral indicator of how invested the guest is.\n",
        "\n",
        "* This pattern helps in booking confidence scoring — a cutting-edge industry practice.\n",
        "\n",
        "* Also adds a nice numeric-categorical bivariate variation to your visual mix."
      ],
      "metadata": {
        "id": "68lpmKppEcAq"
      }
    },
    {
      "cell_type": "markdown",
      "source": [
        "##### 2. What is/are the insight(s) found from the chart?\n"
      ],
      "metadata": {
        "id": "neqPiA0VEcAq"
      }
    },
    {
      "cell_type": "markdown",
      "source": [
        "**Answer -**\n",
        "\n",
        "* Guests with 0 special requests cancel far more frequently.\n",
        "\n",
        "* As the number of requests increases, the cancellation rate drops sharply.\n",
        "\n",
        "* Those with 2 or more requests rarely cancel — likely high-intent guests.\n",
        "\n",
        "This confirms a direct relationship between guest engagement and commitment."
      ],
      "metadata": {
        "id": "PWynX0uCEcAq"
      }
    },
    {
      "cell_type": "markdown",
      "source": [
        "##### 3. Will the gained insights help creating a positive business impact?\n"
      ],
      "metadata": {
        "id": "jbXbRKk9EcAq"
      }
    },
    {
      "cell_type": "markdown",
      "source": [
        "**Answer -**\n",
        "\n",
        "\n",
        "Definitely:\n",
        "\n",
        "* Helps build a guest quality index — prioritize bookings with more special requests.\n",
        "\n",
        "* Front-desk and ops teams can use this to offer fast-track check-ins or upgrades.\n",
        "\n",
        "* Revenue teams can safely overbook low-request profiles, while securing high-request ones."
      ],
      "metadata": {
        "id": "BZHdtCnWEcAr"
      }
    },
    {
      "cell_type": "markdown",
      "source": [
        "##### 4. Are there any insights that lead to negative growth? Justify with specific reason.\n"
      ],
      "metadata": {
        "id": "hw8Qq7gOEcAr"
      }
    },
    {
      "cell_type": "markdown",
      "source": [
        "**Answer -**\n",
        "\n",
        "Yes:\n",
        "\n",
        "* Ignoring low-request, high-cancel profiles could lead to occupancy dips.\n",
        "\n",
        "* Treating all bookings equally (without segmenting by commitment) may waste upgrade opportunities.\n",
        "\n",
        "Hotels can build smarter booking pipelines by combining request count with lead time and segment."
      ],
      "metadata": {
        "id": "yFRE3CONEcAr"
      }
    },
    {
      "cell_type": "markdown",
      "source": [
        "#### Chart 27 - ADR by Number of Booking Changes"
      ],
      "metadata": {
        "id": "ilYOBcADEcQA"
      }
    },
    {
      "cell_type": "code",
      "source": [
        "# Chart 27 - Visualisation Code\n",
        "\n",
        "# Removing extreme outliers for a cleaner view\n",
        "df_box = df[df['adr'] < 500]\n",
        "\n",
        "# Plotting\n",
        "plt.figure(figsize=(9, 6))\n",
        "sns.set(style='whitegrid')\n",
        "\n",
        "# Box plot of ADR by number of booking changes\n",
        "sns.boxplot(\n",
        "    data=df_box,\n",
        "    x='booking_changes',\n",
        "    y='adr',\n",
        "    palette='BuPu'\n",
        ")\n",
        "\n",
        "# Adding labels and titles\n",
        "plt.title('ADR by Number of Booking Changes', fontsize=15, weight='bold')\n",
        "plt.xlabel('Number of Booking Changes', fontsize=12)\n",
        "plt.ylabel('ADR (EUR)', fontsize=12)\n",
        "plt.grid(axis='y', linestyle='--', alpha=0.3)\n",
        "plt.tight_layout()\n",
        "\n",
        "plt.show()\n"
      ],
      "metadata": {
        "id": "vREXa4E4EcQB"
      },
      "execution_count": null,
      "outputs": []
    },
    {
      "cell_type": "markdown",
      "source": [
        "##### 1. Why did you pick the specific chart?"
      ],
      "metadata": {
        "id": "IRWab9uOEcQB"
      }
    },
    {
      "cell_type": "markdown",
      "source": [
        "**Answer -**\n",
        "\n",
        "* Box plots are great for analyzing how a numerical variable (adr) changes across a categorical variable with ordered values (booking_changes).\n",
        "\n",
        "* This chart uncovers patterns of guest behavior vs pricing — a key insight for hotel pricing strategy.\n",
        "\n",
        "* It helps detect if high-value guests are also more likely to change bookings (e.g., premium guests modifying plans).\n",
        "\n"
      ],
      "metadata": {
        "id": "JzdvHmeoEcQB"
      }
    },
    {
      "cell_type": "markdown",
      "source": [
        "##### 2. What is/are the insight(s) found from the chart?\n"
      ],
      "metadata": {
        "id": "SKeLlaicEcQC"
      }
    },
    {
      "cell_type": "markdown",
      "source": [
        "**Answer -**\n",
        "\n",
        "* The majority of guests don't make any changes (0) — this group shows the widest ADR range and lowest median.\n",
        "\n",
        "* Guests who make 1 or 2 changes tend to have higher median ADRs, suggesting they may be:\n",
        "\n",
        "    * More engaged with the booking process\n",
        "\n",
        "    * Possibly premium customers who adjust for comfort or schedule\n",
        "\n",
        "* Guests with many changes (3+) are rare, and their ADRs are lower — possibly due to lower-tier segment experimentation"
      ],
      "metadata": {
        "id": "93wJL2ceEcQC"
      }
    },
    {
      "cell_type": "markdown",
      "source": [
        "##### 3. Will the gained insights help creating a positive business impact?\n"
      ],
      "metadata": {
        "id": "CVh8XqXdEcQC"
      }
    },
    {
      "cell_type": "markdown",
      "source": [
        "**Answer -**\n",
        "\n",
        "Absolutely:\n",
        "\n",
        "* Reveals a valuable customer segment: guests who make 1–2 changes are likely high-paying and involved.\n",
        "\n",
        "* Revenue and CRM teams can create personalized experiences or offer value-added options (like flexible check-in/out or upgrades) for this segment.\n",
        "\n",
        "* Helps operations plan better — guests who change bookings often could be flagged for extra service attention."
      ],
      "metadata": {
        "id": "rw384CZEEcQC"
      }
    },
    {
      "cell_type": "markdown",
      "source": [
        "##### 4. Are there any insights that lead to negative growth? Justify with specific reason.\n"
      ],
      "metadata": {
        "id": "q2M60O-YEcQD"
      }
    },
    {
      "cell_type": "markdown",
      "source": [
        "**Answer -**\n",
        "\n",
        "Yes:\n",
        "\n",
        "* Guests with too many booking changes (3+) could indicate indecisiveness, potential for cancellation, or planning uncertainty.\n",
        "\n",
        "* May create scheduling conflicts, inventory imbalance, and manual workload for staff.\n",
        "\n",
        "* If these frequent changers are also low-value, hotels may need to limit excessive modifications through policy (e.g., max free changes)."
      ],
      "metadata": {
        "id": "I1MWrcQREcQD"
      }
    },
    {
      "cell_type": "markdown",
      "source": [
        "#### Chart 28 - Cancellation Rate by Deposit Type"
      ],
      "metadata": {
        "id": "_ozpGZpjEceR"
      }
    },
    {
      "cell_type": "code",
      "source": [
        "# Chart 28 - Visualisation Code\n",
        "\n",
        "# Creating a grouped dataframe\n",
        "deposit_cancel = df.groupby(['deposit_type', 'is_canceled']).size().unstack()\n",
        "\n",
        "# Converting counts to percentage\n",
        "deposit_cancel_percent = deposit_cancel.div(deposit_cancel.sum(axis=1), axis=0) * 100\n",
        "\n",
        "# Plotting the stacked bar chart\n",
        "deposit_cancel_percent.plot(\n",
        "    kind='bar',\n",
        "    stacked=True,\n",
        "    figsize=(8, 6),\n",
        "    color=['mediumseagreen', 'indianred']\n",
        ")\n",
        "\n",
        "# Chart styling\n",
        "plt.title('Cancellation Rate by Deposit Type', fontsize=15, weight='bold')\n",
        "plt.xlabel('Deposit Type', fontsize=12)\n",
        "plt.ylabel('Percentage (%)', fontsize=12)\n",
        "plt.legend(['Not Canceled', 'Canceled'], title='Booking Status', loc = 'upper right')\n",
        "plt.grid(axis='y', linestyle='--', alpha=0.3)\n",
        "plt.xticks(rotation=0)\n",
        "plt.tight_layout()\n",
        "plt.show()\n"
      ],
      "metadata": {
        "id": "6ZG-DNJ1EceR"
      },
      "execution_count": null,
      "outputs": []
    },
    {
      "cell_type": "markdown",
      "source": [
        "##### 1. Why did you pick the specific chart?"
      ],
      "metadata": {
        "id": "_sBFsPAhEceR"
      }
    },
    {
      "cell_type": "markdown",
      "source": [
        "**Answer -**\n",
        "\n",
        "* Deposit policies directly impact booking seriousness and financial security for the hotel.\n",
        "\n",
        "* This stacked percentage bar plot clearly shows how cancellation rates differ across deposit types, making it a goldmine for revenue managers.\n",
        "\n",
        "* It uncovers which payment models protect against cancellations, allowing the business to strategize inventory and pricing better.\n"
      ],
      "metadata": {
        "id": "6IOezRtFEceS"
      }
    },
    {
      "cell_type": "markdown",
      "source": [
        "##### 2. What is/are the insight(s) found from the chart?\n"
      ],
      "metadata": {
        "id": "Jdpv6dAuEceS"
      }
    },
    {
      "cell_type": "markdown",
      "source": [
        "**Answer -**\n",
        "\n",
        "* No Deposit bookings have a very high cancellation rate — around 40-50% in most cases.\n",
        "\n",
        "* Non Refundable bookings are almost never canceled — guests follow through because they've prepaid.\n",
        "\n",
        "* Refundable deposit bookings are a small share, but still show relatively lower cancellations compared to “No Deposit”."
      ],
      "metadata": {
        "id": "yjSnK4smEceS"
      }
    },
    {
      "cell_type": "markdown",
      "source": [
        "##### 3. Will the gained insights help creating a positive business impact?\n"
      ],
      "metadata": {
        "id": "Yx5CA-F3EceS"
      }
    },
    {
      "cell_type": "markdown",
      "source": [
        "**Answer -**\n",
        "\n",
        "100%:\n",
        "\n",
        "* Encourages shifting toward prepaid (non-refundable) and semi-flex deposit types to secure revenue.\n",
        "\n",
        "* Hotels can incentivize non-refundable bookings with discounts, and limit exposure to speculative “no-deposit” bookings.\n",
        "\n",
        "* Sales teams can use this insight to negotiate OTA contracts and tweak cancellation policies."
      ],
      "metadata": {
        "id": "exl3R-nAEceT"
      }
    },
    {
      "cell_type": "markdown",
      "source": [
        "##### 4. Are there any insights that lead to negative growth? Justify with specific reason.\n"
      ],
      "metadata": {
        "id": "6Xa4UuhLEceT"
      }
    },
    {
      "cell_type": "markdown",
      "source": [
        "**Answer -**\n",
        "\n",
        "Yes:\n",
        "\n",
        "* Over-reliance on No Deposit bookings increases cancellation volume, leading to:\n",
        "\n",
        "    * Lost revenue\n",
        "\n",
        "    * Last-minute room inventory wastage\n",
        "\n",
        "    * Staff inefficiency\n",
        "\n",
        "* If hotels don't offer prepaid incentives, they risk losing committed guests to competitors who do.\n",
        "\n",
        "A good strategy would be:\n",
        "\n",
        "  * Offer better pricing on non-refundable options\n",
        "\n",
        "  * Push prepaid plans for peak seasons or high-demand weekends\n",
        "\n",
        "  * Balance flexibility with deposit-linked trust metrics"
      ],
      "metadata": {
        "id": "BrYiWxU5EceT"
      }
    },
    {
      "cell_type": "markdown",
      "source": [
        "#### Chart 29 - Market Segment vs Cancellation Rate"
      ],
      "metadata": {
        "id": "fsr-g_DKEc27"
      }
    },
    {
      "cell_type": "code",
      "source": [
        "# Chart 29 - Visualisation Code\n",
        "\n",
        "# Grouping data to calculate cancellation rate by market segment\n",
        "market_cancellation = df.groupby('market_segment')['is_canceled'].mean().sort_values() * 100\n",
        "\n",
        "# Resetting index for plotting\n",
        "market_cancellation = market_cancellation.reset_index()\n",
        "\n",
        "# Plotting the horizontal bar chart\n",
        "plt.figure(figsize=(10, 6))\n",
        "bars = plt.barh(\n",
        "    y=market_cancellation['market_segment'],\n",
        "    width=market_cancellation['is_canceled'],\n",
        "    color='cornflowerblue'\n",
        ")\n",
        "\n",
        "# Annotating bars with percentages\n",
        "for bar in bars:\n",
        "    width = bar.get_width()\n",
        "    plt.text(width + 1, bar.get_y() + bar.get_height()/2, f\"{width:.1f}%\", va='center')\n",
        "\n",
        "# Styling\n",
        "plt.title('Cancellation Rate by Market Segment', fontsize=15, weight='bold')\n",
        "plt.xlabel('Cancellation Rate (%)', fontsize=12)\n",
        "plt.ylabel('Market Segment', fontsize=12)\n",
        "plt.grid(axis='x', linestyle='--', alpha=0.3)\n",
        "plt.tight_layout()\n",
        "\n",
        "plt.show()\n"
      ],
      "metadata": {
        "id": "c0xdRJUjEc27"
      },
      "execution_count": null,
      "outputs": []
    },
    {
      "cell_type": "markdown",
      "source": [
        "##### 1. Why did you pick the specific chart?"
      ],
      "metadata": {
        "id": "6e4GNG50Ec27"
      }
    },
    {
      "cell_type": "markdown",
      "source": [
        "**Answer -**\n",
        "\n",
        "* Booking channel influences guest behavior more than many people realize.\n",
        "\n",
        "* This chart clearly shows which market segments lead to high-risk or low-risk bookings.\n",
        "\n",
        "* Horizontal bars make long labels (like \"Online TA\") readable and visually clean.\n"
      ],
      "metadata": {
        "id": "DV9gy5kLEc28"
      }
    },
    {
      "cell_type": "markdown",
      "source": [
        "##### 2. What is/are the insight(s) found from the chart?\n"
      ],
      "metadata": {
        "id": "S_p2wI9cEc28"
      }
    },
    {
      "cell_type": "markdown",
      "source": [
        "**Answer -**\n",
        "\n",
        "* Online TA (Travel Agents) have very high cancellation rates.\n",
        "\n",
        "* Direct bookings and Corporate channels are much more reliable with the lowest cancellations.\n",
        "\n",
        "* Complementary and Aviation segments may have unusual behaviors (high or low) depending on business model."
      ],
      "metadata": {
        "id": "UW2AP9U3Ec28"
      }
    },
    {
      "cell_type": "markdown",
      "source": [
        "##### 3. Will the gained insights help creating a positive business impact?\n"
      ],
      "metadata": {
        "id": "GWCfhO7nEc28"
      }
    },
    {
      "cell_type": "markdown",
      "source": [
        "**Answer -**\n",
        "\n",
        "Definitely:\n",
        "\n",
        "* Hotels can shift focus toward low-cancellation segments like Direct and Corporate to improve booking quality.\n",
        "\n",
        "* Revenue teams can adjust cancellation policies per segment — stricter for Online TA, more flexible for Corporate.\n",
        "\n",
        "* Can guide marketing and acquisition budgets to favor more profitable, low-risk sources."
      ],
      "metadata": {
        "id": "xW7eM3hTEc29"
      }
    },
    {
      "cell_type": "markdown",
      "source": [
        "##### 4. Are there any insights that lead to negative growth? Justify with specific reason.\n"
      ],
      "metadata": {
        "id": "WWMZ7Y3EEc29"
      }
    },
    {
      "cell_type": "markdown",
      "source": [
        "**Answer -**\n",
        "\n",
        "Yes:\n",
        "\n",
        "* Over-reliance on Online Travel Agencies increases risk of booking churn, especially during high seasons.\n",
        "\n",
        "* May lead to occupancy forecasting issues, wasted effort on speculative bookings, and lost revenue.\n",
        "\n",
        "* If hotels neglect nurturing direct relationships, they risk becoming over-dependent on third-party aggregators.\n",
        "\n",
        "A smart hotel would:\n",
        "\n",
        "* Offer incentives for direct bookings\n",
        "\n",
        "* Monitor OTA cancellation patterns more closely\n",
        "\n",
        "* Develop corporate loyalty deals"
      ],
      "metadata": {
        "id": "yQZfQtjDEc29"
      }
    },
    {
      "cell_type": "markdown",
      "source": [
        "#### Chart 30 - Total Guests vs Stay Duration"
      ],
      "metadata": {
        "id": "MkPAe6sCEdAN"
      }
    },
    {
      "cell_type": "code",
      "source": [
        "# Chart 30 - Visualisation Code\n",
        "\n",
        "# Filtering the columns to remove rare extreme values\n",
        "df_box = df[(df['total_guests'] <= 6) & (df['total_stays'] <= 20)]\n",
        "\n",
        "# Plotting the box plot\n",
        "plt.figure(figsize=(10, 6))\n",
        "sns.set(style='whitegrid')\n",
        "sns.boxplot(\n",
        "    data=df_box,\n",
        "    x='total_guests',\n",
        "    y='total_stays',\n",
        "    palette='Spectral'\n",
        ")\n",
        "\n",
        "# Styling\n",
        "plt.title('Stay Duration by Total Number of Guests', fontsize=15, weight='bold')\n",
        "plt.xlabel('Total Number of Guests', fontsize=12)\n",
        "plt.ylabel('Stay Duration (Nights)', fontsize=12)\n",
        "plt.grid(axis='y', linestyle='--', alpha=0.3)\n",
        "plt.tight_layout()\n",
        "plt.show()\n"
      ],
      "metadata": {
        "id": "OS_YOHIhEdAN"
      },
      "execution_count": null,
      "outputs": []
    },
    {
      "cell_type": "markdown",
      "source": [
        "##### 1. Why did you pick the specific chart?"
      ],
      "metadata": {
        "id": "ugcMdOQbEdAO"
      }
    },
    {
      "cell_type": "markdown",
      "source": [
        "**Answer -**\n",
        "\n",
        "* A box plot is perfect for analyzing a continuous variable (total_stays) against a discrete numerical group (total_guests).\n",
        "\n",
        "* It visualizes spread, skewness, outliers, and medians clearly.\n",
        "\n",
        "* Ideal when you want to compare distributions across fixed categories like group sizes."
      ],
      "metadata": {
        "id": "_qiu3pvTEdAO"
      }
    },
    {
      "cell_type": "markdown",
      "source": [
        "##### 2. What is/are the insight(s) found from the chart?\n"
      ],
      "metadata": {
        "id": "K2Mi9DrDEdAO"
      }
    },
    {
      "cell_type": "markdown",
      "source": [
        "**Answer -**\n",
        "\n",
        "* Groups of 1-2 guests are the most common, with shorter average stays (1-3 nights).\n",
        "\n",
        "* Larger groups (4-5+ guests) show slightly longer median stays and wider variability.\n",
        "\n",
        "* There are outliers where even solo guests stay 10+ nights — possibly corporate or long-term leisure bookings."
      ],
      "metadata": {
        "id": "nQOFPX7GEdAO"
      }
    },
    {
      "cell_type": "markdown",
      "source": [
        "##### 3. Will the gained insights help creating a positive business impact?\n"
      ],
      "metadata": {
        "id": "m9oExiAgEdAP"
      }
    },
    {
      "cell_type": "markdown",
      "source": [
        "**Answer -**\n",
        "\n",
        "Yes:\n",
        "\n",
        "* This chart helps segment guests by group size to offer targeted stay packages.\n",
        "\n",
        "* Encourages the hotel to design offers for longer stays among smaller groups, or promote weekend stays for families.\n",
        "\n",
        "* Helps in inventory allocation — long-stay family guests may need larger rooms or extra amenities."
      ],
      "metadata": {
        "id": "y5H-CuvuEdAP"
      }
    },
    {
      "cell_type": "markdown",
      "source": [
        "##### 4. Are there any insights that lead to negative growth? Justify with specific reason.\n"
      ],
      "metadata": {
        "id": "j7gO6Y4XEdAP"
      }
    },
    {
      "cell_type": "markdown",
      "source": [
        "**Answer -**\n",
        "\n",
        "Yes:\n",
        "\n",
        "* If large groups consistently stay longer but book cheaper rooms, they may block premium inventory for a longer time, reducing potential revenue.\n",
        "\n",
        "* Without smart pricing, long stays by low ADR solo guests can lower revenue per room.\n",
        "\n",
        "Hotels should consider:\n",
        "\n",
        "* Dynamic pricing by group size * stay length\n",
        "\n",
        "* Early upsell nudges for long-stay guests"
      ],
      "metadata": {
        "id": "34A0bn1jEdAQ"
      }
    },
    {
      "cell_type": "markdown",
      "source": [
        "#### Chart 31 - Customer Type vs Average Stay Duration"
      ],
      "metadata": {
        "id": "KHPy2tlvEdGn"
      }
    },
    {
      "cell_type": "code",
      "source": [
        "# Chart 31 - Visualisation Code\n",
        "\n",
        "# Filtering the data for readability\n",
        "df_violin = df[df['total_stays'] <= 20]\n",
        "\n",
        "# Plotting violin chart\n",
        "plt.figure(figsize=(10, 6))\n",
        "sns.set(style='whitegrid')\n",
        "\n",
        "sns.violinplot(\n",
        "    data=df_violin,\n",
        "    x='customer_type',\n",
        "    y='total_stays',\n",
        "    palette='Pastel1'\n",
        ")\n",
        "\n",
        "# Styling\n",
        "plt.title('Stay Duration by Customer Type', fontsize=15, weight='bold')\n",
        "plt.xlabel('Customer Type', fontsize=12)\n",
        "plt.ylabel('Stay Duration (Nights)', fontsize=12)\n",
        "plt.grid(axis='y', linestyle='--', alpha=0.3)\n",
        "plt.tight_layout()\n",
        "plt.show()\n"
      ],
      "metadata": {
        "id": "E7hNeO19EdGo"
      },
      "execution_count": null,
      "outputs": []
    },
    {
      "cell_type": "markdown",
      "source": [
        "##### 1. Why did you pick the specific chart?"
      ],
      "metadata": {
        "id": "Xk_xQT42EdGo"
      }
    },
    {
      "cell_type": "markdown",
      "source": [
        "**Answer -**\n",
        "\n",
        "* A violin plot shows both spread and distribution density, making it visually rich and insightful.\n",
        "\n",
        "* customer_type is a high-business-value variable — understanding it helps in segmentation, targeting, and pricing.\n",
        "\n",
        "* This chart is perfect for highlighting how each segment behaves in terms of stay length."
      ],
      "metadata": {
        "id": "clA7UFcpEdGp"
      }
    },
    {
      "cell_type": "markdown",
      "source": [
        "##### 2. What is/are the insight(s) found from the chart?\n"
      ],
      "metadata": {
        "id": "-CnPKfLPEdGq"
      }
    },
    {
      "cell_type": "markdown",
      "source": [
        "**Answer -**\n",
        "\n",
        "* Contract customers tend to have longer stays, often 7+ nights.\n",
        "\n",
        "* Transient and Transient-Party guests mostly stay 2–4 nights, but have a wide spread.\n",
        "\n",
        "* Group customers show shorter but consistent stay lengths, likely driven by events or tours."
      ],
      "metadata": {
        "id": "aSk4uJAREdGq"
      }
    },
    {
      "cell_type": "markdown",
      "source": [
        "##### 3. Will the gained insights help creating a positive business impact?\n"
      ],
      "metadata": {
        "id": "AkivGzebEdGr"
      }
    },
    {
      "cell_type": "markdown",
      "source": [
        "**Answer -**\n",
        "\n",
        "For sure:\n",
        "\n",
        "* Hotel teams can tailor offers — longer-stay incentives for contract guests, quick-getaway deals for transient ones.\n",
        "\n",
        "* Operational teams can plan housekeeping schedules and inventory usage more efficiently.\n",
        "\n",
        "* Marketing can push loyalty rewards to longer-staying customer types."
      ],
      "metadata": {
        "id": "Glm_zl_MEdGs"
      }
    },
    {
      "cell_type": "markdown",
      "source": [
        "##### 4. Are there any insights that lead to negative growth? Justify with specific reason.\n"
      ],
      "metadata": {
        "id": "0azOPXmXEdGs"
      }
    },
    {
      "cell_type": "markdown",
      "source": [
        "**Answer -**\n",
        "\n",
        "Yes:\n",
        "\n",
        "* Relying too heavily on short-stay segments (e.g., transient groups) might lead to higher turnover, more cleaning cost, and lower revenue per booking.\n",
        "\n",
        "* Ignoring contract guests or not nurturing them can result in losing long-term, steady revenue sources.\n",
        "\n",
        "Hotels can use this to:\n",
        "\n",
        "* Create customer-specific packages\n",
        "\n",
        "* Combine duration + ADR for profitability tracking\n",
        "\n"
      ],
      "metadata": {
        "id": "zYMSYN_uEdGt"
      }
    },
    {
      "cell_type": "markdown",
      "source": [
        "#### Chart 32 - Special Requests vs Cancellation Rate"
      ],
      "metadata": {
        "id": "V_AnkKz8RXJV"
      }
    },
    {
      "cell_type": "code",
      "source": [
        "# Chart 32 - Visualisation Code\n",
        "\n",
        "# Step 1: Grouping by number of special requests and cancellation status\n",
        "request_cancel = df.groupby(['total_of_special_requests', 'is_canceled']).size().unstack()\n",
        "\n",
        "# Step 2: Converting to percentage\n",
        "request_cancel_percent = request_cancel.div(request_cancel.sum(axis=1), axis=0) * 100\n",
        "\n",
        "# Step 3: Plotting grouped bar chart\n",
        "plt.figure(figsize=(10, 6))\n",
        "request_cancel_percent.plot(\n",
        "    kind='bar',\n",
        "    color=['mediumseagreen', 'salmon'],\n",
        "    width=0.75\n",
        ")\n",
        "\n",
        "# Styling\n",
        "plt.title('Cancellation Rate by Number of Special Requests', fontsize=15, weight='bold')\n",
        "plt.xlabel('Total Special Requests', fontsize=12)\n",
        "plt.ylabel('Percentage (%)', fontsize=12)\n",
        "plt.legend(['Not Canceled', 'Canceled'], title='Booking Status', loc = 'upper right')\n",
        "plt.grid(axis='y', linestyle='--', alpha=0.3)\n",
        "plt.tick_params(axis='x', rotation=0)\n",
        "plt.tight_layout()\n",
        "plt.show()\n"
      ],
      "metadata": {
        "id": "VMdRNL8vRXKH"
      },
      "execution_count": null,
      "outputs": []
    },
    {
      "cell_type": "markdown",
      "source": [
        "##### 1. Why did you pick the specific chart?"
      ],
      "metadata": {
        "id": "VG_hl14-RXKH"
      }
    },
    {
      "cell_type": "markdown",
      "source": [
        "**Answer -**\n",
        "\n",
        "* It's a subtle but powerful signal of booking seriousness — guests who go out of their way to request something are less likely to cancel.\n",
        "\n",
        "* Helps the hotel differentiate between speculative vs committed guests.\n",
        "\n",
        "* It's a rarely used but impactful feature in modeling, and recruiters will notice this insight."
      ],
      "metadata": {
        "id": "ubREJgaTRXKI"
      }
    },
    {
      "cell_type": "markdown",
      "source": [
        "##### 2. What is/are the insight(s) found from the chart?\n"
      ],
      "metadata": {
        "id": "2RSE11FERXKI"
      }
    },
    {
      "cell_type": "markdown",
      "source": [
        "**Answer -**\n",
        "\n",
        "* Guests with 0 special requests have a much higher cancellation rate.\n",
        "\n",
        "* As the number of special requests increases (1, 2, 3...), the cancellation rate drops significantly.\n",
        "\n",
        "* Those with 3+ requests rarely cancel, likely because they're deeply invested in the stay."
      ],
      "metadata": {
        "id": "4fN7fy7ERXKI"
      }
    },
    {
      "cell_type": "markdown",
      "source": [
        "##### 3. Will the gained insights help creating a positive business impact?\n"
      ],
      "metadata": {
        "id": "NwvbifhQRXKI"
      }
    },
    {
      "cell_type": "markdown",
      "source": [
        "**Answer -**\n",
        "\n",
        "Absolutely:\n",
        "\n",
        "* Booking systems can flag low-risk bookings for early check-in, upsell, or VIP treatment.\n",
        "\n",
        "* Hotels can use special request count as a trust score.\n",
        "\n",
        "* Helps in inventory holdback strategy — allocate better rooms to guests who are more likely to show up."
      ],
      "metadata": {
        "id": "dQKjPuXTRXKJ"
      }
    },
    {
      "cell_type": "markdown",
      "source": [
        "##### 4. Are there any insights that lead to negative growth? Justify with specific reason.\n"
      ],
      "metadata": {
        "id": "qpLy7iEZRXKJ"
      }
    },
    {
      "cell_type": "markdown",
      "source": [
        "**Answer -**\n",
        "\n",
        "Yes:\n",
        "\n",
        "* Over-prioritizing guests with no requests may lead to high last-minute cancellations, overstaffing, and inventory loss.\n",
        "\n",
        "* If special requests are not fulfilled, it may lead to bad reviews despite guest commitment.\n",
        "\n",
        "* Hotels must ensure operational readiness to deliver on those requests."
      ],
      "metadata": {
        "id": "Oi7eA-t7RXKJ"
      }
    },
    {
      "cell_type": "markdown",
      "source": [
        "### Multivariate Analysis"
      ],
      "metadata": {
        "id": "xhJJ--1pXRKl"
      }
    },
    {
      "cell_type": "markdown",
      "source": [
        "#### Chart 33 - Hotel Type vs Average ADR by Market Segment"
      ],
      "metadata": {
        "id": "M7wJlk3dRXY0"
      }
    },
    {
      "cell_type": "code",
      "source": [
        "# Chart 33 - Visualisation Code\n",
        "\n",
        "# Step 1: Grouping data and calculating mean ADR\n",
        "adr_segment = df.groupby(['hotel', 'market_segment'])['adr'].mean().reset_index()\n",
        "\n",
        "# Step 2: Pivot the data to plot grouped bars\n",
        "adr_pivot = adr_segment.pivot(index='market_segment', columns='hotel', values='adr')\n",
        "\n",
        "# Step 3: Plotting grouped bar chart\n",
        "plt.figure(figsize=(12, 6))\n",
        "adr_pivot.plot(\n",
        "    kind='bar',\n",
        "    color=['steelblue', 'darkorange'],\n",
        "    edgecolor='black'\n",
        ")\n",
        "\n",
        "# Styling\n",
        "plt.title('Average ADR by Market Segment and Hotel Type', fontsize=15, weight='bold')\n",
        "plt.xlabel('Market Segment', fontsize=12)\n",
        "plt.ylabel('Average Daily Rate (ADR in EUR)', fontsize=12)\n",
        "plt.xticks(rotation=45)\n",
        "plt.legend(title='Hotel Type', loc ='upper right')\n",
        "plt.grid(axis='y', linestyle='--', alpha=0.3)\n",
        "plt.tight_layout()\n",
        "plt.show()\n"
      ],
      "metadata": {
        "id": "2gf_cLYtRXY1"
      },
      "execution_count": null,
      "outputs": []
    },
    {
      "cell_type": "markdown",
      "source": [
        "##### 1. Why did you pick the specific chart?"
      ],
      "metadata": {
        "id": "JGIVWvx6RXY1"
      }
    },
    {
      "cell_type": "markdown",
      "source": [
        "**Answer -**\n",
        "\n",
        "* It shows three variables at once — hotel, market_segment, and adr — in a clear, comparative format.\n",
        "\n",
        "* Revenue teams must know which segments and hotel types bring the most money.\n",
        "\n",
        "* It combines business + pricing + customer segmentation — ideal for a standout project."
      ],
      "metadata": {
        "id": "AFwoybrwRXY1"
      }
    },
    {
      "cell_type": "markdown",
      "source": [
        "##### 2. What is/are the insight(s) found from the chart?\n"
      ],
      "metadata": {
        "id": "-31tJnDpRXY2"
      }
    },
    {
      "cell_type": "markdown",
      "source": [
        "**Answer -**\n",
        "\n",
        "* In most cases, City Hotels have higher ADRs than Resort Hotels — possibly due to business travelers.\n",
        "\n",
        "* Corporate and Offline TA segments tend to pay more than Online TA or Complementary segments.\n",
        "\n",
        "* The Online TA segment drives volume but at a relatively lower ADR, especially in Resort Hotels.\n",
        "\n",
        "* Group bookings pay less on average, especially in Resort Hotels — likely due to discounts."
      ],
      "metadata": {
        "id": "1MvjrHn7RXY2"
      }
    },
    {
      "cell_type": "markdown",
      "source": [
        "##### 3. Will the gained insights help creating a positive business impact?\n"
      ],
      "metadata": {
        "id": "zontm4IxRXY3"
      }
    },
    {
      "cell_type": "markdown",
      "source": [
        "**Answer -**\n",
        "\n",
        "Definitely:\n",
        "\n",
        "* Helps management prioritize profitable market segments.\n",
        "\n",
        "* Supports pricing decisions based on hotel type and booking channel.\n",
        "\n",
        "* Inspires targeted revenue campaigns — e.g., upselling to corporate travelers, improving Online TA margins."
      ],
      "metadata": {
        "id": "cnrFh0B3RXY3"
      }
    },
    {
      "cell_type": "markdown",
      "source": [
        "##### 4. Are there any insights that lead to negative growth? Justify with specific reason.\n"
      ],
      "metadata": {
        "id": "uyjcFf9eRXY3"
      }
    },
    {
      "cell_type": "markdown",
      "source": [
        "**Answer -**\n",
        "\n",
        "Yes:\n",
        "\n",
        "* Relying heavily on low-ADR, high-volume channels like Online TA may reduce profit margins if not balanced.\n",
        "\n",
        "* Underpricing for groups or over-discounting in Resort Hotels may lead to revenue leakage.\n",
        "\n",
        "Hotels should:\n",
        "\n",
        "* Create hotel-type-specific pricing per market segment\n",
        "\n",
        "* Optimize channel commissions vs return"
      ],
      "metadata": {
        "id": "tmb69uiGRXY4"
      }
    },
    {
      "cell_type": "markdown",
      "source": [
        "#### Chart 34 - Cancellation Rate by Month and Hotel Type"
      ],
      "metadata": {
        "id": "7QveDmlwRXg2"
      }
    },
    {
      "cell_type": "code",
      "source": [
        "# Chart 34 - Visualisation Code\n",
        "\n",
        "# Step 1: Creating a month order list to fix sorting\n",
        "month_order = ['January', 'February', 'March', 'April', 'May', 'June',\n",
        "               'July', 'August', 'September', 'October', 'November', 'December']\n",
        "\n",
        "# Step 2: Calculating cancellation rate by hotel and month\n",
        "cancel_rate = df.groupby(['arrival_date_month', 'hotel'])['is_canceled'].mean().reset_index()\n",
        "cancel_rate['arrival_date_month'] = pd.Categorical(cancel_rate['arrival_date_month'], categories=month_order, ordered=True)\n",
        "\n",
        "# Step 3: Pivot for heatmap\n",
        "pivot_table = cancel_rate.pivot(index='arrival_date_month', columns='hotel', values='is_canceled') * 100  # Convert to %\n",
        "\n",
        "# Step 4: Plotting the heatmap\n",
        "plt.figure(figsize=(8, 6))\n",
        "sns.heatmap(\n",
        "    pivot_table,\n",
        "    annot=True,\n",
        "    fmt=\".1f\",\n",
        "    cmap=\"YlOrRd\",\n",
        "    linewidths=0.5,\n",
        "    linecolor='gray'\n",
        ")\n",
        "\n",
        "# Styling\n",
        "plt.title('Cancellation Rate (%) by Month and Hotel Type', fontsize=15, weight='bold')\n",
        "plt.xlabel('Hotel Type')\n",
        "plt.ylabel('Arrival Month')\n",
        "plt.tight_layout()\n",
        "plt.show()\n"
      ],
      "metadata": {
        "id": "zuUtLNLGRXg2"
      },
      "execution_count": null,
      "outputs": []
    },
    {
      "cell_type": "markdown",
      "source": [
        "##### 1. Why did you pick the specific chart?"
      ],
      "metadata": {
        "id": "4QlIHOOJRXg3"
      }
    },
    {
      "cell_type": "markdown",
      "source": [
        "**Answer -**\n",
        "\n",
        "* Combines categorical + categorical + numeric insight beautifully.\n",
        "\n",
        "* Heatmaps are great for showing hotspots — in this case, when cancellations spike.\n",
        "\n",
        "* Helps with forecasting, staffing, and marketing preparation.\n"
      ],
      "metadata": {
        "id": "BBVKRFfnRXg3"
      }
    },
    {
      "cell_type": "markdown",
      "source": [
        "##### 2. What is/are the insight(s) found from the chart?\n"
      ],
      "metadata": {
        "id": "zujXAmiVRXg3"
      }
    },
    {
      "cell_type": "markdown",
      "source": [
        "**Answer -**\n",
        "\n",
        "* City hotels tend to have higher cancellation rates in summer months like July and August.\n",
        "\n",
        "* Resort hotels have more stable rates but show spikes in September or December.\n",
        "\n",
        "* March - May often show lower cancellation across both types — possibly a good window for aggressive marketing or discounts."
      ],
      "metadata": {
        "id": "W9G97S9aRXg3"
      }
    },
    {
      "cell_type": "markdown",
      "source": [
        "##### 3. Will the gained insights help creating a positive business impact?\n"
      ],
      "metadata": {
        "id": "mFqxvQT0RXg4"
      }
    },
    {
      "cell_type": "markdown",
      "source": [
        "**Answer -**\n",
        "\n",
        "Absolutely:\n",
        "\n",
        "* Helps revenue managers prepare for overbooking buffers in high-risk months.\n",
        "\n",
        "* Hotel staff planning (cleaning, front desk, kitchen) can be optimized to avoid wasted labor.\n",
        "\n",
        "* Marketing teams can send reminder emails, apply early check-in offers, or collect deposits during high-cancel months."
      ],
      "metadata": {
        "id": "QUO5MM2bRXg4"
      }
    },
    {
      "cell_type": "markdown",
      "source": [
        "##### 4. Are there any insights that lead to negative growth? Justify with specific reason.\n"
      ],
      "metadata": {
        "id": "HHkVI50WRXg4"
      }
    },
    {
      "cell_type": "markdown",
      "source": [
        "**Answer -**\n",
        "\n",
        "Yes:\n",
        "\n",
        "* Failing to anticipate cancellation spikes in specific months can lead to empty rooms, revenue loss, or overstaffing.\n",
        "\n",
        "* Hotels ignoring this pattern may repeat mistakes year after year.\n",
        "\n",
        "Hotels should:\n",
        "\n",
        "* Use this insight to forecast demand more accurately\n",
        "\n",
        "* Proactively engage with guests via reminders or partial payment schemes in high-cancel months"
      ],
      "metadata": {
        "id": "gX7QUykMRXg4"
      }
    },
    {
      "cell_type": "markdown",
      "source": [
        "#### Chart 35 - Customer Type vs Cancellation Status by Hotel Type"
      ],
      "metadata": {
        "id": "q7w67Nc7cgdT"
      }
    },
    {
      "cell_type": "code",
      "source": [
        "# Chart 35 - Visualisation Code\n",
        "\n",
        "# Step 1: Preparing a grouped DataFrame\n",
        "cust_cancel = df.groupby(['hotel', 'customer_type', 'is_canceled']).size().reset_index(name='count')\n",
        "\n",
        "# Step 2: Pivot to create a matrix for stacked bar\n",
        "cust_pivot = cust_cancel.pivot_table(\n",
        "    index=['hotel', 'customer_type'],\n",
        "    columns='is_canceled',\n",
        "    values='count',\n",
        "    fill_value=0\n",
        ")\n",
        "\n",
        "# Renaming columns for clarity\n",
        "cust_pivot.columns = ['Not Canceled', 'Canceled']\n",
        "cust_pivot = cust_pivot.reset_index()\n",
        "\n",
        "# Step 3: Plotting stacked bar chart\n",
        "plt.figure(figsize=(12, 6))\n",
        "\n",
        "# One group for each combination of hotel + customer type\n",
        "labels = cust_pivot['hotel'] + ' - ' + cust_pivot['customer_type']\n",
        "\n",
        "plt.bar(labels, cust_pivot['Not Canceled'], label='Not Canceled', color='mediumseagreen')\n",
        "plt.bar(labels, cust_pivot['Canceled'], bottom=cust_pivot['Not Canceled'], label='Canceled', color='salmon')\n",
        "\n",
        "# Styling\n",
        "plt.title('Cancellation by Customer Type and Hotel Type', fontsize=15, weight='bold')\n",
        "plt.xlabel('Hotel & Customer Type', fontsize=12)\n",
        "plt.ylabel('Number of Bookings', fontsize=12)\n",
        "plt.xticks(rotation=45, ha='right')\n",
        "plt.legend(title='Booking Status')\n",
        "plt.tight_layout()\n",
        "plt.grid(axis='y', linestyle='--', alpha=0.3)\n",
        "plt.show()\n"
      ],
      "metadata": {
        "id": "4SPWL_TscgdU"
      },
      "execution_count": null,
      "outputs": []
    },
    {
      "cell_type": "markdown",
      "source": [
        "##### 1. Why did you pick the specific chart?"
      ],
      "metadata": {
        "id": "rEf5Tl1KcgdU"
      }
    },
    {
      "cell_type": "markdown",
      "source": [
        "**Answer -**\n",
        "\n",
        "* It visualizes 3 categorical dimensions in one — hotel type, customer segment, and cancellation behavior.\n",
        "\n",
        "* Stacked bars show proportions and volumes clearly.\n",
        "\n",
        "* Gives the hotel team a guest profile risk map — extremely useful for operations and policy design."
      ],
      "metadata": {
        "id": "R0ImT06zcgdU"
      }
    },
    {
      "cell_type": "markdown",
      "source": [
        "##### 2. What is/are the insight(s) found from the chart?\n"
      ],
      "metadata": {
        "id": "3z5Dw_O3cgdV"
      }
    },
    {
      "cell_type": "markdown",
      "source": [
        "**Answer -**\n",
        "\n",
        "* Transient customers dominate bookings and also contribute to most cancellations — especially in City Hotels.\n",
        "\n",
        "* Contract guests rarely cancel, suggesting B2B or long-term customers are more reliable.\n",
        "\n",
        "* Group bookings show mixed behavior — Resort hotels have more cancellations from groups, possibly due to bulk/reschedule issues.\n",
        "\n",
        "* Transient-Party (family/friends) cancel moderately across both hotel types."
      ],
      "metadata": {
        "id": "hjE6a4xOcgdV"
      }
    },
    {
      "cell_type": "markdown",
      "source": [
        "##### 3. Will the gained insights help creating a positive business impact?\n"
      ],
      "metadata": {
        "id": "PBW2difAcgdW"
      }
    },
    {
      "cell_type": "markdown",
      "source": [
        "**Answer -**\n",
        "\n",
        "Yes:\n",
        "\n",
        "* Hotels can assign different cancellation policies per customer type.\n",
        "\n",
        "* Helps identify where group booking protections (like deposits or confirmations) are needed.\n",
        "\n",
        "* CRM teams can tailor follow-ups or retargeting to high-risk segments (like transient customers with long lead times).\n",
        "\n"
      ],
      "metadata": {
        "id": "Gj206u1bcgdW"
      }
    },
    {
      "cell_type": "markdown",
      "source": [
        "##### 4. Are there any insights that lead to negative growth? Justify with specific reason.\n"
      ],
      "metadata": {
        "id": "Izx6YX-McgdX"
      }
    },
    {
      "cell_type": "markdown",
      "source": [
        "**Answer -**\n",
        "\n",
        "Yes:\n",
        "\n",
        "* Relying too heavily on high-risk segments (e.g., transient guests) without safeguards can hurt revenue.\n",
        "\n",
        "* Failure to differentiate cancellation rules across segments may lead to bad reviews or empty rooms.\n",
        "\n",
        "Hotels should:\n",
        "\n",
        "* Offer discounts with stricter policies to high-cancel segments\n",
        "\n",
        "* Reward low-risk groups like corporate and contract guests with better loyalty perks\n"
      ],
      "metadata": {
        "id": "6e2xZMMKcgdY"
      }
    },
    {
      "cell_type": "markdown",
      "source": [
        "#### Chart 36 -  ADR Distribution by Customer Type & Cancellation"
      ],
      "metadata": {
        "id": "kWAc6dA0cgWB"
      }
    },
    {
      "cell_type": "code",
      "source": [
        "# Chart 36 - Visualisation Code\n",
        "\n",
        "# Step 1: Filtering extreme ADRs for cleaner plot\n",
        "df_filtered = df[df['adr'] < 500]  # Optional: remove outliers\n",
        "\n",
        "# Step 2: Setting plot style\n",
        "plt.figure(figsize=(12, 6))\n",
        "sns.set(style=\"whitegrid\")\n",
        "\n",
        "# Step 3: Creating violin plot\n",
        "sns.violinplot(\n",
        "    x='customer_type',\n",
        "    y='adr',\n",
        "    hue='is_canceled',\n",
        "    data=df_filtered,\n",
        "    split=True,\n",
        "    palette={0: 'mediumseagreen', 1: 'salmon'}\n",
        ")\n",
        "\n",
        "# Styling\n",
        "plt.title('ADR Distribution by Customer Type and Cancellation Status', fontsize=15, weight='bold')\n",
        "plt.xlabel('Customer Type', fontsize=12)\n",
        "plt.ylabel('ADR (Average Daily Rate in EUR)', fontsize=12)\n",
        "plt.legend(title='Booking Status', labels=['Not Canceled', 'Canceled'])\n",
        "plt.grid(axis='y', linestyle='--', alpha=0.3)\n",
        "plt.tight_layout()\n",
        "plt.show()\n"
      ],
      "metadata": {
        "id": "FMN8SJk8cgWC"
      },
      "execution_count": null,
      "outputs": []
    },
    {
      "cell_type": "markdown",
      "source": [
        "##### 1. Why did you pick the specific chart?"
      ],
      "metadata": {
        "id": "2snwrcQ4cgWC"
      }
    },
    {
      "cell_type": "markdown",
      "source": [
        "**Answer -**\n",
        "\n",
        "* Violin plots are perfect when comparing distributions across multiple categories.\n",
        "\n",
        "* We get to see:\n",
        "\n",
        "    * Spread and concentration of ADRs\n",
        "\n",
        "    * Median ADRs for each type\n",
        "\n",
        "    * How cancellation affects what customers pay"
      ],
      "metadata": {
        "id": "pRHW5QplcgWC"
      }
    },
    {
      "cell_type": "markdown",
      "source": [
        "##### 2. What is/are the insight(s) found from the chart?\n"
      ],
      "metadata": {
        "id": "pnV-zXTScgWD"
      }
    },
    {
      "cell_type": "markdown",
      "source": [
        "**Answer -**\n",
        "\n",
        "* Canceled bookings tend to have higher ADRs across many customer types.\n",
        "\n",
        "* Transient guests have a wide spread — some pay very low, others very high.\n",
        "\n",
        "* Group and Contract customers have a narrower ADR range, especially when not canceled — indicating negotiated or fixed rates.\n",
        "\n",
        "* Transient-Party shows moderate variation."
      ],
      "metadata": {
        "id": "9nask8W5cgWE"
      }
    },
    {
      "cell_type": "markdown",
      "source": [
        "##### 3. Will the gained insights help creating a positive business impact?\n"
      ],
      "metadata": {
        "id": "1Ht-Ip4JcgWE"
      }
    },
    {
      "cell_type": "markdown",
      "source": [
        "**Answer -**\n",
        "\n",
        "Yes:\n",
        "\n",
        "* Helps pricing teams adjust rates by customer type and booking confidence.\n",
        "\n",
        "* For high ADR but high cancellation customers, hotels can:\n",
        "\n",
        "    * Ask for prepayment\n",
        "\n",
        "    * Apply stricter policies\n",
        "\n",
        "* For low-risk, low-variance segments (like contract clients), hotels can lock in long-term deals."
      ],
      "metadata": {
        "id": "gceWWCJ8cgWF"
      }
    },
    {
      "cell_type": "markdown",
      "source": [
        "##### 4. Are there any insights that lead to negative growth? Justify with specific reason.\n"
      ],
      "metadata": {
        "id": "suxCEgOAcgWF"
      }
    },
    {
      "cell_type": "markdown",
      "source": [
        "**Answer -**\n",
        "\n",
        "Yes:\n",
        "\n",
        "* High ADR + high cancellation may cause revenue unpredictability.\n",
        "\n",
        "* Without proper refund/cancellation buffers, hotels may block rooms and lose real bookings.\n",
        "\n",
        "Hotels should:\n",
        "\n",
        "* Introduce tiered pricing by customer type and risk\n",
        "\n",
        "* Combine ADR analysis with historical cancellation rates"
      ],
      "metadata": {
        "id": "iyvc9B2LcgWG"
      }
    },
    {
      "cell_type": "markdown",
      "source": [
        "#### Chart 37 - Country-wise Cancellation Rate and Booking Volume"
      ],
      "metadata": {
        "id": "HYW1TJmLcgjw"
      }
    },
    {
      "cell_type": "code",
      "source": [
        "# Chart 37 - Visualisation Code\n",
        "\n",
        "# Step 1: Grouping and calculating metrics\n",
        "country_summary = df.groupby('country').agg({\n",
        "    'is_canceled': 'mean',\n",
        "    'adr': 'mean',\n",
        "    'hotel': 'count'  # total bookings\n",
        "}).rename(columns={\n",
        "    'is_canceled': 'cancel_rate',\n",
        "    'hotel': 'booking_count'\n",
        "}).reset_index()\n",
        "\n",
        "# Step 2: Filtering countries with few bookings for cleaner plot\n",
        "country_summary = country_summary[country_summary['booking_count'] > 100]\n",
        "\n",
        "# Step 3: Plotting bubble chart\n",
        "plt.figure(figsize=(12, 8))\n",
        "scatter = plt.scatter(\n",
        "    country_summary['cancel_rate'] * 100,         # x-axis: cancellation rate in %\n",
        "    country_summary['adr'],                       # y-axis: avg ADR\n",
        "    s=country_summary['booking_count'] / 2,       # bubble size\n",
        "    alpha=0.6,\n",
        "    color='skyblue',\n",
        "    edgecolors='black',\n",
        "    linewidths=0.5\n",
        ")\n",
        "\n",
        "# Adding text for top 5 countries\n",
        "top5 = country_summary.sort_values('booking_count', ascending=False).head(5)\n",
        "for i in range(len(top5)):\n",
        "    plt.text(\n",
        "        top5.iloc[i]['cancel_rate'] * 100 + 0.3,\n",
        "        top5.iloc[i]['adr'],\n",
        "        top5.iloc[i]['country'],\n",
        "        fontsize=9,\n",
        "        fontweight='bold'\n",
        "    )\n",
        "\n",
        "# Styling\n",
        "plt.title('Country-wise Cancellation Rate vs ADR (Bubble Size = Booking Volume)', fontsize=15, weight='bold')\n",
        "plt.xlabel('Cancellation Rate (%)')\n",
        "plt.ylabel('Average Daily Rate (ADR in EUR)')\n",
        "plt.grid(True, linestyle='--', alpha=0.3)\n",
        "plt.tight_layout()\n",
        "plt.show()\n"
      ],
      "metadata": {
        "id": "UySs1Uaecgjw"
      },
      "execution_count": null,
      "outputs": []
    },
    {
      "cell_type": "markdown",
      "source": [
        "##### 1. Why did you pick the specific chart?"
      ],
      "metadata": {
        "id": "_tdTQQIicgjw"
      }
    },
    {
      "cell_type": "markdown",
      "source": [
        "**Answer -**\n",
        "\n",
        "* Bubble plots are perfect for three-variable multivariate storytelling.\n",
        "\n",
        "* It visually separates:\n",
        "\n",
        "    * Countries with high risk (high cancellation)\n",
        "\n",
        "    * Countries with high profit (high ADR)\n",
        "\n",
        "    * Countries with high volume (larger bubbles)\n",
        "\n",
        "* It gives a strong geo-level strategic insight."
      ],
      "metadata": {
        "id": "G9fTnqHXcgjx"
      }
    },
    {
      "cell_type": "markdown",
      "source": [
        "##### 2. What is/are the insight(s) found from the chart?\n"
      ],
      "metadata": {
        "id": "0mCN5ZjZcgjx"
      }
    },
    {
      "cell_type": "markdown",
      "source": [
        "**Answer -**\n",
        "\n",
        "* Some high-volume countries may show high cancellation rates — red flags!\n",
        "\n",
        "* Countries with lower bookings but high ADR may be premium segments.\n",
        "\n",
        "* Countries with low cancellation and high booking count are ideal target markets.\n",
        "\n",
        "* Example: Top 5 countries will vary with dataset, but often includes PRT, GBR, FRA, DEU, ESP"
      ],
      "metadata": {
        "id": "3jkDQdPacgjx"
      }
    },
    {
      "cell_type": "markdown",
      "source": [
        "##### 3. Will the gained insights help creating a positive business impact?\n"
      ],
      "metadata": {
        "id": "KpD2YwL0cgjx"
      }
    },
    {
      "cell_type": "markdown",
      "source": [
        "**Answer -**\n",
        "\n",
        "100%:\n",
        "\n",
        "* Helps marketing & sales teams target stable, high-value countries.\n",
        "\n",
        "* Hotels can adjust cancellation policies by region.\n",
        "\n",
        "* Can fuel local campaigns or agency partnerships for high-potential zones."
      ],
      "metadata": {
        "id": "jISjT11Dcgjy"
      }
    },
    {
      "cell_type": "markdown",
      "source": [
        "##### 4. Are there any insights that lead to negative growth? Justify with specific reason.\n"
      ],
      "metadata": {
        "id": "jEYhuoMYcgjy"
      }
    },
    {
      "cell_type": "markdown",
      "source": [
        "**Answer -**\n",
        "\n",
        "Yes:\n",
        "\n",
        "* Ignoring high-risk countries (with high cancellation and low ADR) can drain inventory and waste operational resources.\n",
        "\n",
        "* Poor segmentation may cause hotels to spend more acquiring poor-converting guests.\n",
        "\n",
        "Hotels should:\n",
        "\n",
        "* Focus ads & loyalty programs on low-cancel, high-ADR regions.\n",
        "\n",
        "* Enforce advance deposits or stricter policies for high-risk geos."
      ],
      "metadata": {
        "id": "Z0efjtctcgjy"
      }
    },
    {
      "cell_type": "markdown",
      "source": [
        "#### Chart 38 - Lead Time vs Special Requests by Cancellation Status"
      ],
      "metadata": {
        "id": "oL7NGE3qcgp1"
      }
    },
    {
      "cell_type": "code",
      "source": [
        "# Chart 38 - Visualisation Code\n",
        "\n",
        "# Step 1: Filtering extreme outliers for clarity\n",
        "df_filtered = df[(df['lead_time'] < 500) & (df['total_of_special_requests'] <= 5)]\n",
        "\n",
        "# Step 2: Setting plot style\n",
        "plt.figure(figsize=(12, 6))\n",
        "sns.set(style=\"whitegrid\")\n",
        "\n",
        "# Step 3: Creating boxen plot\n",
        "sns.boxenplot(\n",
        "    data=df_filtered,\n",
        "    x='total_of_special_requests',\n",
        "    y='lead_time',\n",
        "    hue='is_canceled',\n",
        "    palette={0: 'mediumseagreen', 1: 'salmon'}\n",
        ")\n",
        "\n",
        "# Styling\n",
        "plt.title('Lead Time vs Special Requests by Cancellation Status', fontsize=15, weight='bold')\n",
        "plt.xlabel('Number of Special Requests')\n",
        "plt.ylabel('Lead Time (Days in Advance)')\n",
        "plt.legend(title='Booking Status', labels=['Not Canceled', 'Canceled'])\n",
        "plt.grid(axis='y', linestyle='--', alpha=0.3)\n",
        "plt.tight_layout()\n",
        "plt.show()\n"
      ],
      "metadata": {
        "id": "RvtC8Xz0cgp2"
      },
      "execution_count": null,
      "outputs": []
    },
    {
      "cell_type": "markdown",
      "source": [
        "##### 1. Why did you pick the specific chart?"
      ],
      "metadata": {
        "id": "3oalr6tVcgp2"
      }
    },
    {
      "cell_type": "markdown",
      "source": [
        "**Answer -**\n",
        "\n",
        "* A boxen plot is great for understanding data distribution with outliers and long tails.\n",
        "\n",
        "* This combo uncovers how planning behavior (lead time) varies across:\n",
        "\n",
        "    * Request intent\n",
        "\n",
        "    * Cancellation outcome\n",
        "\n",
        "* This is an insight-rich combo of behavioral + churn + operational variables."
      ],
      "metadata": {
        "id": "4aQPpJi2cgp3"
      }
    },
    {
      "cell_type": "markdown",
      "source": [
        "##### 2. What is/are the insight(s) found from the chart?\n"
      ],
      "metadata": {
        "id": "MlN9_OLycgp3"
      }
    },
    {
      "cell_type": "markdown",
      "source": [
        "**Answer -**\n",
        "\n",
        "* Guests who made more special requests tend to have lower lead times and rarely cancel.\n",
        "\n",
        "* Cancellations are most frequent among long lead time bookings with zero or one request.\n",
        "\n",
        "* Guests with 0 special requests & long lead time are the riskiest (they book early, maybe tentatively)."
      ],
      "metadata": {
        "id": "KUuQkxU4cgrC"
      }
    },
    {
      "cell_type": "markdown",
      "source": [
        "##### 3. Will the gained insights help creating a positive business impact?\n"
      ],
      "metadata": {
        "id": "zA1PS1awcgrD"
      }
    },
    {
      "cell_type": "markdown",
      "source": [
        "**Answer -**\n",
        "\n",
        "Definitely:\n",
        "\n",
        "* Hotels can flag high-risk bookings based on this combo (long lead time + no special request).\n",
        "\n",
        "* CRM and sales teams can follow up with gentle confirmations or offers.\n",
        "\n",
        "* Guests with high requests can be seen as more committed — great targets for upselling or loyalty perks."
      ],
      "metadata": {
        "id": "s4QcTnH8cgrD"
      }
    },
    {
      "cell_type": "markdown",
      "source": [
        "##### 4. Are there any insights that lead to negative growth? Justify with specific reason.\n"
      ],
      "metadata": {
        "id": "lMj9sO_scgrE"
      }
    },
    {
      "cell_type": "markdown",
      "source": [
        "**Answer -**\n",
        "\n",
        "Yes:\n",
        "\n",
        "* If hotels rely on volume from long lead time bookings without proactive engagement, they may face mass cancellations later.\n",
        "\n",
        "* Not differentiating between intentful guests (with requests) vs casual browsers (without requests) leads to poor retention strategy.\n",
        "\n",
        "Hotels should:\n",
        "\n",
        "* Offer partial upfront payments or check-in incentives for high lead-time, low-intent guests.\n",
        "\n",
        "* Use request levels as a soft indicator of booking seriousness.\n",
        "\n"
      ],
      "metadata": {
        "id": "wQ0ApGEycgrE"
      }
    },
    {
      "cell_type": "markdown",
      "source": [
        "#### Chart 39 - Room Type Mismatch vs Cancellation Rate"
      ],
      "metadata": {
        "id": "KSUoVtBlcgwZ"
      }
    },
    {
      "cell_type": "code",
      "source": [
        "# Chart 39 - Visualisation Code\n",
        "\n",
        "# Step 1: Creating mismatch column\n",
        "df['room_mismatch'] = df['reserved_room_type'] != df['assigned_room_type']\n",
        "df['room_mismatch'] = df['room_mismatch'].map({True: 'Mismatch', False: 'Matched'})\n",
        "\n",
        "# Step 2: Grouping by mismatch and cancellation\n",
        "room_cancel = df.groupby(['room_mismatch', 'is_canceled']).size().reset_index(name='count')\n",
        "\n",
        "# Step 3: Pivot for stacked bar\n",
        "room_pivot = room_cancel.pivot(index='room_mismatch', columns='is_canceled', values='count').fillna(0)\n",
        "room_pivot.columns = ['Not Canceled', 'Canceled']\n",
        "\n",
        "# Step 4: Plotting stacked bar chart\n",
        "plt.figure(figsize=(8, 6))\n",
        "plt.bar(room_pivot.index, room_pivot['Not Canceled'], label='Not Canceled', color='mediumseagreen', width = 0.5)\n",
        "plt.bar(room_pivot.index, room_pivot['Canceled'], bottom=room_pivot['Not Canceled'], label='Canceled', color='salmon', width = 0.5)\n",
        "\n",
        "# Styling\n",
        "plt.title('Room Type Match vs Cancellation Rate', fontsize=15, weight='bold')\n",
        "plt.xlabel('Room Assignment Status')\n",
        "plt.ylabel('Number of Bookings')\n",
        "plt.legend(title='Booking Status')\n",
        "plt.grid(axis='y', linestyle='--', alpha=0.3)\n",
        "plt.tight_layout()\n",
        "plt.show()\n"
      ],
      "metadata": {
        "id": "L3DBfvXwcgwa"
      },
      "execution_count": null,
      "outputs": []
    },
    {
      "cell_type": "markdown",
      "source": [
        "##### 1. Why did you pick the specific chart?"
      ],
      "metadata": {
        "id": "LH0UG6AAcgwa"
      }
    },
    {
      "cell_type": "markdown",
      "source": [
        "**Answer -**\n",
        "\n",
        "* Room assignment is a guest's first impression — mismatch can lead to frustration or distrust.\n",
        "\n",
        "* This chart reveals how operational inconsistencies affect cancellation behavior.\n",
        "\n",
        "* It's easy to interpret and packs real business actionability.\n",
        "\n"
      ],
      "metadata": {
        "id": "A3ASKXkocgwa"
      }
    },
    {
      "cell_type": "markdown",
      "source": [
        "##### 2. What is/are the insight(s) found from the chart?\n"
      ],
      "metadata": {
        "id": "cURgWmK_cgwa"
      }
    },
    {
      "cell_type": "markdown",
      "source": [
        "**Answer -**\n",
        "\n",
        "* Bookings with mismatched rooms have a notably higher cancellation rate.\n",
        "\n",
        "* Guests who receive the correct room type cancel less.\n",
        "\n",
        "* Indicates that room assurance is tied to guest trust and booking commitment.\n"
      ],
      "metadata": {
        "id": "VjKFsERTcgwb"
      }
    },
    {
      "cell_type": "markdown",
      "source": [
        "##### 3. Will the gained insights help creating a positive business impact?\n"
      ],
      "metadata": {
        "id": "4p54Nz5ycgwb"
      }
    },
    {
      "cell_type": "markdown",
      "source": [
        "**Answer -**\n",
        "\n",
        "Absolutely:\n",
        "\n",
        "* Hotels can track room assignment accuracy as a KPI.\n",
        "\n",
        "* They can introduce room lock-in guarantees or communicate room upgrades transparently.\n",
        "\n",
        "* Revenue teams can explore if upgrades/mismatches cause cancellations or satisfaction."
      ],
      "metadata": {
        "id": "nrQ6MEogcgwb"
      }
    },
    {
      "cell_type": "markdown",
      "source": [
        "##### 4. Are there any insights that lead to negative growth? Justify with specific reason.\n"
      ],
      "metadata": {
        "id": "r_N8Vjmacgwc"
      }
    },
    {
      "cell_type": "markdown",
      "source": [
        "**Answer -**\n",
        "\n",
        "Yes:\n",
        "\n",
        "* Operational mismatches not only increase cancellations but can lead to bad reviews, refund requests, or brand distrust.\n",
        "\n",
        "* If hotels don't fix this issue, CLTV (Customer Lifetime Value) drops.\n",
        "\n",
        "To mitigate:\n",
        "\n",
        "* Ensure better room inventory syncing\n",
        "\n",
        "* Use SMS/Email alerts when room types are changed or upgraded proactively"
      ],
      "metadata": {
        "id": "sI1Y4Fh_cgwc"
      }
    },
    {
      "cell_type": "markdown",
      "source": [
        "#### Chart 40 - Market Segment vs ADR Across Hotel Types"
      ],
      "metadata": {
        "id": "DrIEx7khcg1w"
      }
    },
    {
      "cell_type": "code",
      "source": [
        "# Chart 40 - Visualisation Code\n",
        "\n",
        "# Step 1: Filtering ADR outliers for cleaner visualization\n",
        "df_filtered = df[df['adr'] < 500]\n",
        "\n",
        "# Step 2: Setting style\n",
        "sns.set(style=\"whitegrid\")\n",
        "\n",
        "# Step 3: Creating FacetGrid for hotel types\n",
        "g = sns.catplot(\n",
        "    data=df_filtered,\n",
        "    kind=\"bar\",\n",
        "    x=\"market_segment\",\n",
        "    y=\"adr\",\n",
        "    col=\"hotel\",\n",
        "    palette=\"coolwarm\",\n",
        "    height=5,\n",
        "    aspect=1,\n",
        "    ci=None,\n",
        "    estimator=\"mean\"\n",
        ")\n",
        "\n",
        "# Step 4: Rotating labels and beautify\n",
        "g.set_titles(\"{col_name}\")\n",
        "g.set_axis_labels(\"Market Segment\", \"Average Daily Rate (ADR)\")\n",
        "g.set_xticklabels(rotation=45)\n",
        "g.fig.subplots_adjust(top=0.85)\n",
        "g.fig.suptitle(\"Average ADR by Market Segment across Hotel Types\", fontsize=16, weight='bold')\n",
        "\n",
        "plt.tight_layout()\n",
        "plt.show()\n"
      ],
      "metadata": {
        "id": "26yTK2HHcg1x"
      },
      "execution_count": null,
      "outputs": []
    },
    {
      "cell_type": "markdown",
      "source": [
        "##### 1. Why did you pick the specific chart?"
      ],
      "metadata": {
        "id": "rlTrILzwcg1x"
      }
    },
    {
      "cell_type": "markdown",
      "source": [
        "**Answer -**\n",
        "\n",
        "* FacetGrid helps us see side-by-side comparisons in a cleaner way than grouping everything together.\n",
        "\n",
        "* Useful when you want to observe pattern shifts across segments within multiple categories (here: hotel types).\n",
        "\n",
        "* Bar plots make it easy to see ADR gaps — making the revenue picture crystal clear."
      ],
      "metadata": {
        "id": "zFaIsC3Scg1y"
      }
    },
    {
      "cell_type": "markdown",
      "source": [
        "##### 2. What is/are the insight(s) found from the chart?\n"
      ],
      "metadata": {
        "id": "NYAuMrRVcg1y"
      }
    },
    {
      "cell_type": "markdown",
      "source": [
        "**Answer -**\n",
        "\n",
        "* Online TA (Travel Agents) is the dominant segment with relatively high ADR, especially for City Hotels.\n",
        "\n",
        "* Corporate bookings show moderate but consistent ADRs, more visible in Resort Hotels.\n",
        "\n",
        "* Group bookings often bring lower ADRs — likely due to discounts or bulk deals.\n",
        "\n",
        "* Direct bookings have a healthy ADR — showing potential to maximize profit if increased."
      ],
      "metadata": {
        "id": "kOoOTqY-cg1y"
      }
    },
    {
      "cell_type": "markdown",
      "source": [
        "##### 3. Will the gained insights help creating a positive business impact?\n"
      ],
      "metadata": {
        "id": "KMh_iIGycg1z"
      }
    },
    {
      "cell_type": "markdown",
      "source": [
        "**Answer -**\n",
        "\n",
        "Definitely:\n",
        "\n",
        "* Hotels can optimize marketing spend by focusing on high-ADR segments.\n",
        "\n",
        "* City Hotels may double down on Online TA, while Resorts can build Corporate relationships.\n",
        "\n",
        "* Shows which segments to nurture for profitability, and which ones to reassess pricing strategy.\n",
        "\n"
      ],
      "metadata": {
        "id": "FrB2uBoTcg1z"
      }
    },
    {
      "cell_type": "markdown",
      "source": [
        "##### 4. Are there any insights that lead to negative growth? Justify with specific reason.\n"
      ],
      "metadata": {
        "id": "_WmePS0Gcg10"
      }
    },
    {
      "cell_type": "markdown",
      "source": [
        "**Answer -**\n",
        "\n",
        "Yes:\n",
        "\n",
        "* Group bookings yielding low ADR may reduce profitability unless offset by volume.\n",
        "\n",
        "* If a hotel relies heavily on low-ADR segments, it risks revenue stagnation.\n",
        "\n",
        "* To mitigate:\n",
        "\n",
        "    * Consider upsell strategies, dynamic pricing, or package bundling for low-yielding segments.\n",
        "\n"
      ],
      "metadata": {
        "id": "2_tT3z1ecg10"
      }
    },
    {
      "cell_type": "markdown",
      "source": [
        "#### Chart 41 - Correlation Heatmap"
      ],
      "metadata": {
        "id": "NC_X3p0fY2L0"
      }
    },
    {
      "cell_type": "code",
      "source": [
        "# Correlation Heatmap visualization code\n",
        "\n",
        "\n",
        "# Step 1: Selecting only numeric features\n",
        "numeric_cols = df.select_dtypes(include=['int64', 'float64'])\n",
        "\n",
        "# Step 2: Calculating correlation matrix\n",
        "correlation_matrix = numeric_cols.corr()\n",
        "\n",
        "# Step 3: Plotting the heatmap\n",
        "plt.figure(figsize=(20, 15))\n",
        "sns.set(style=\"white\")\n",
        "\n",
        "sns.heatmap(\n",
        "    correlation_matrix,\n",
        "    annot=True,\n",
        "    fmt=\".2f\",\n",
        "    cmap='coolwarm',\n",
        "    square=True,\n",
        "    linewidths=.5,\n",
        "    cbar_kws={\"shrink\": .8}\n",
        ")\n",
        "\n",
        "plt.title('Correlation Heatmap of Numerical Features', fontsize=16, weight='bold')\n",
        "plt.tight_layout()\n",
        "plt.show()\n"
      ],
      "metadata": {
        "id": "xyC9zolEZNRQ"
      },
      "execution_count": null,
      "outputs": []
    },
    {
      "cell_type": "markdown",
      "source": [
        "##### 1. Why did you pick the specific chart?"
      ],
      "metadata": {
        "id": "UV0SzAkaZNRQ"
      }
    },
    {
      "cell_type": "markdown",
      "source": [
        "Answer Here.\n",
        "\n",
        "* A correlation heatmap is the most essential multivariate diagnostic tool in any EDA.\n",
        "\n",
        "* It helps us detect:\n",
        "\n",
        "    * Strongly related variables\n",
        "\n",
        "    * Potential redundancy (multicollinearity)\n",
        "\n",
        "    * Predictive pairs (e.g., lead_time vs is_canceled, stays vs adr)"
      ],
      "metadata": {
        "id": "DVPuT8LYZNRQ"
      }
    },
    {
      "cell_type": "markdown",
      "source": [
        "##### 2. What is/are the insight(s) found from the chart?"
      ],
      "metadata": {
        "id": "YPEH6qLeZNRQ"
      }
    },
    {
      "cell_type": "markdown",
      "source": [
        "Answer Here\n",
        "\n",
        "* lead_time may show a positive correlation with is_canceled → early bookers cancel more.\n",
        "\n",
        "* stays_in_week_nights and stays_in_weekend_nights are highly correlated with total_stays (expected).\n",
        "\n",
        "* previous_cancellations might have mild correlation with is_canceled → repeat offenders.\n",
        "\n",
        "* Some variables show very low or no correlation — can be deprioritized in modeling.\n",
        "\n"
      ],
      "metadata": {
        "id": "bfSqtnDqZNRR"
      }
    },
    {
      "cell_type": "markdown",
      "source": [
        "##### 3. Will the gained insights help create a positive business impact?"
      ],
      "metadata": {
        "id": "bsfznw9UYrmH"
      }
    },
    {
      "cell_type": "markdown",
      "source": [
        "Yes:\n",
        "\n",
        "* Enables feature selection for predictive modeling.\n",
        "\n",
        "* Highlights possible redundancy, helping reduce dimensionality.\n",
        "\n",
        "* Helps business teams focus on truly influential variables (e.g., lead time, special requests)."
      ],
      "metadata": {
        "id": "eexR3J-_Yxo8"
      }
    },
    {
      "cell_type": "markdown",
      "source": [
        "##### 4. Are there any insights that lead to negative growth? Justify with specific reason.\n"
      ],
      "metadata": {
        "id": "ADLhZTyGY4Z_"
      }
    },
    {
      "cell_type": "markdown",
      "source": [
        "Yes:\n",
        "\n",
        "* Misinterpreting correlation as causation can lead to poor decisions.\n",
        "\n",
        "* Removing weakly correlated variables blindly may hide non-linear patterns.\n",
        "\n",
        "* Over-reliance on highly correlated features may cause multicollinearity in ML models, reducing interpretability."
      ],
      "metadata": {
        "id": "CfCDmeUdY89s"
      }
    },
    {
      "cell_type": "markdown",
      "source": [
        "#### Chart 42 - Pair Plot of Customer Behavior and Cancellation"
      ],
      "metadata": {
        "id": "q29F0dvdveiT"
      }
    },
    {
      "cell_type": "code",
      "source": [
        "# Pair Plot visualization code\n",
        "\n",
        "\n",
        "# Step 1: Selecting features for pairplot\n",
        "pairplot_data = df[[\n",
        "    'lead_time',\n",
        "    'total_stays',\n",
        "    'adr',\n",
        "    'total_guests',\n",
        "    'total_of_special_requests',\n",
        "    'is_canceled'\n",
        "]]\n",
        "\n",
        "# Step 2: Limit for performance & clarity\n",
        "pairplot_sample = pairplot_data.sample(3000, random_state=42)\n",
        "\n",
        "# Step 3: Plotting pairplot\n",
        "sns.set(style=\"ticks\")\n",
        "sns.pairplot(\n",
        "    pairplot_sample,\n",
        "    hue='is_canceled',\n",
        "    palette={0: 'mediumseagreen', 1: 'salmon'},\n",
        "    diag_kind='kde',\n",
        "    plot_kws={'alpha': 0.6}\n",
        ")\n",
        "\n",
        "plt.suptitle('Pairwise Relationships: Booking Behavior vs Cancellation', fontsize=16, weight='bold', y=1.02)\n",
        "plt.show()\n"
      ],
      "metadata": {
        "id": "o58-TEIhveiU"
      },
      "execution_count": null,
      "outputs": []
    },
    {
      "cell_type": "markdown",
      "source": [
        "##### 1. Why did you pick the specific chart?"
      ],
      "metadata": {
        "id": "EXh0U9oCveiU"
      }
    },
    {
      "cell_type": "markdown",
      "source": [
        "**Answer -**\n",
        "\n",
        "* A pairplot is perfect to explore how multiple variables interact together.\n",
        "\n",
        "* It provides a grid of scatter plots to identify:\n",
        "\n",
        "    * Trends\n",
        "\n",
        "    * Clusters\n",
        "\n",
        "    * Potential decision boundaries (important for modeling)\n",
        "\n",
        "* It brings strong visual storytelling in a single frame."
      ],
      "metadata": {
        "id": "eMmPjTByveiU"
      }
    },
    {
      "cell_type": "markdown",
      "source": [
        "##### 2. What is/are the insight(s) found from the chart?"
      ],
      "metadata": {
        "id": "22aHeOlLveiV"
      }
    },
    {
      "cell_type": "markdown",
      "source": [
        "**Answer -**\n",
        "\n",
        "* Higher lead time is visibly associated with more cancellations.\n",
        "\n",
        "* Guests with more special requests are less likely to cancel.\n",
        "\n",
        "* Stay duration and ADR don't show strong linear separation, but might have some cluster patterns.\n",
        "\n",
        "* Low total guests tend to cancel more, especially solo or duo travelers."
      ],
      "metadata": {
        "id": "uPQ8RGwHveiV"
      }
    },
    {
      "cell_type": "markdown",
      "source": [
        "##### 3. Will the gained insights help create a positive business impact?"
      ],
      "metadata": {
        "id": "kt2m848GaNIN"
      }
    },
    {
      "cell_type": "markdown",
      "source": [
        "Absolutely:\n",
        "\n",
        "* Helps in identifying what combination of factors leads to cancellations.\n",
        "\n",
        "* Prepares you for segmentation or ML modeling (predicting cancellations).\n",
        "\n",
        "* Business teams can use it to offer targeted retention strategies (e.g., remind early bookers, reward high-request guests)."
      ],
      "metadata": {
        "id": "YbOjybezaVJk"
      }
    },
    {
      "cell_type": "markdown",
      "source": [
        "##### 4. Are there any insights that lead to negative growth? Justify with specific reason."
      ],
      "metadata": {
        "id": "GlRqGp4ganST"
      }
    },
    {
      "cell_type": "markdown",
      "source": [
        "Yes:\n",
        "\n",
        "* Misclassifying customers based on isolated variables without full context can lead to wrong targeting.\n",
        "\n",
        "* Biases from limited data points (like sampled pairplots) must be cross-verified at scale."
      ],
      "metadata": {
        "id": "5C3evriYatzE"
      }
    },
    {
      "cell_type": "markdown",
      "source": [
        "## ***5. Solution to Business Objective***"
      ],
      "metadata": {
        "id": "JcMwzZxoAimU"
      }
    },
    {
      "cell_type": "markdown",
      "source": [
        "#### What do you suggest the client to achieve Business Objective ?\n",
        "Explain Briefly."
      ],
      "metadata": {
        "id": "8G2x9gOozGDZ"
      }
    },
    {
      "cell_type": "markdown",
      "source": [
        "**Answer -**\n",
        "\n",
        "To achieve the business objective of maximizing revenue and reducing cancellations, I recommend the following data-driven solutions:\n",
        "\n",
        "1. Segment Guests by Cancellation Risk\n",
        "\n",
        "  * Use lead time, special requests, and past cancellations to flag high-risk bookings.\n",
        "\n",
        "  * Implement stricter cancellation policies or partial prepayments for such segments.\n",
        "\n",
        "2. Strengthen Direct and Corporate Channels\n",
        "\n",
        "  * Direct and corporate bookings showed stable ADR and lower cancellation rates.\n",
        "\n",
        "  * Focus marketing on these segments to improve profit margins and reduce OTA dependency.\n",
        "\n",
        "3. Prioritize Room Type Accuracy\n",
        "\n",
        "  * Guests who were not assigned their originally booked room type had a higher cancellation rate.\n",
        "\n",
        "  * Ensure room allocation systems are synced and transparent to improve trust.\n",
        "\n",
        "4. Customize Policies by Customer Type & Market Segment\n",
        "\n",
        "  * Transient customers and Online TA segments contribute most cancellations.\n",
        "\n",
        "  * Dynamic policies (like flexible vs non-refundable) based on booking source and customer type can optimize both bookings and revenue.\n",
        "\n",
        "5. Geo-targeted Promotions for Low-risk Countries\n",
        "\n",
        "  * Some countries had both low cancellation and high ADR.\n",
        "\n",
        "  * Focus promotional offers and loyalty benefits on these markets.\n",
        "\n",
        "6. Monitor Group and Long Lead Bookings Closely\n",
        "\n",
        "  * Group bookings and those made far in advance have higher cancellation rates.\n",
        "\n",
        "  * Introduce better follow-ups or reminders to convert such bookings into arrivals.\n",
        "\n"
      ],
      "metadata": {
        "id": "pASKb0qOza21"
      }
    },
    {
      "cell_type": "markdown",
      "source": [
        "# **Conclusion**"
      ],
      "metadata": {
        "id": "gCX9965dhzqZ"
      }
    },
    {
      "cell_type": "markdown",
      "source": [
        "* In this exploratory data analysis of hotel booking data, I uncovered meaningful patterns and actionable insights that can help hotel businesses reduce cancellations, enhance revenue, and optimize customer experiences.\n",
        "\n",
        "* My analysis revealed that key factors such as lead time, customer type, special requests, and room type mismatch play a significant role in cancellation behavior. Additionally, the market segment, booking source, and geographic trends were found to have a direct impact on average daily rates (ADR) and booking volumes.\n",
        "\n",
        "* By segmenting customers based on their behaviors and preferences, hotels can tailor their policies, marketing strategies, and operational decisions to maximize retention and revenue. The correlation analysis further provided direction for feature selection in any predictive modeling that may follow.\n",
        "\n",
        "* In conclusion, this EDA not only provided data-backed business recommendations but also laid a solid foundation for building predictive models such as cancellation prediction or customer segmentation in future phases of this project. The insights discovered can help the client move toward smarter, more personalized, and data-driven decision-making."
      ],
      "metadata": {
        "id": "Fjb1IsQkh3yE"
      }
    },
    {
      "cell_type": "markdown",
      "source": [
        "***Hurrah! You have successfully completed your EDA Capstone Project !!!***"
      ],
      "metadata": {
        "id": "gIfDvo9L0UH2"
      }
    }
  ]
}