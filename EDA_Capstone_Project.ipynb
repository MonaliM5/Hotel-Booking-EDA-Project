{
  "nbformat": 4,
  "nbformat_minor": 0,
  "metadata": {
    "colab": {
      "private_outputs": true,
      "provenance": [],
      "collapsed_sections": [
        "FJNUwmbgGyua",
        "w6K7xa23Elo4",
        "yQaldy8SH6Dl",
        "PH-0ReGfmX4f",
        "mDgbUHAGgjLW",
        "hLWvbZFF_oQO",
        "3RnN4peoiCZX",
        "x71ZqKXriCWQ",
        "7hBIi_osiCS2",
        "Iq3UupzGNEPG",
        "VLfZiH-hNEPQ",
        "G97gOOLcNEPQ",
        "dauF4eBmngu3",
        "bKJF3rekwFvQ",
        "MSa1f5Uengrz",
        "0wOQAZs5pc--",
        "lQ7QKXXCp7Bj",
        "448CDAPjqfQr",
        "KSlN3yHqYklG",
        "t6dVpIINYklI",
        "ijmpgYnKYklI",
        "-JiQyfWJYklI",
        "EM7whBJCYoAo"
      ]
    },
    "kernelspec": {
      "name": "python3",
      "display_name": "Python 3"
    },
    "language_info": {
      "name": "python"
    }
  },
  "cells": [
    {
      "cell_type": "markdown",
      "source": [
        "# **Project Name**    -\n",
        "\n"
      ],
      "metadata": {
        "id": "vncDsAP0Gaoa"
      }
    },
    {
      "cell_type": "markdown",
      "source": [
        "##### **Project Type**    - EDA\n",
        "##### **Contribution**    - Individual\n",
        "##### **Student Name**    - Monali Vijay Mhaske"
      ],
      "metadata": {
        "id": "beRrZCGUAJYm"
      }
    },
    {
      "cell_type": "markdown",
      "source": [
        "# **Project Summary -**"
      ],
      "metadata": {
        "id": "FJNUwmbgGyua"
      }
    },
    {
      "cell_type": "markdown",
      "source": [
        "Write the summary here within 500-600 words."
      ],
      "metadata": {
        "id": "F6v_1wHtG2nS"
      }
    },
    {
      "cell_type": "markdown",
      "source": [
        "# **GitHub Link -**"
      ],
      "metadata": {
        "id": "w6K7xa23Elo4"
      }
    },
    {
      "cell_type": "markdown",
      "source": [
        "Provide your GitHub Link here."
      ],
      "metadata": {
        "id": "h1o69JH3Eqqn"
      }
    },
    {
      "cell_type": "markdown",
      "source": [
        "# **Problem Statement**\n"
      ],
      "metadata": {
        "id": "yQaldy8SH6Dl"
      }
    },
    {
      "cell_type": "markdown",
      "source": [
        "**Write Problem Statement Here.**"
      ],
      "metadata": {
        "id": "DpeJGUA3kjGy"
      }
    },
    {
      "cell_type": "markdown",
      "source": [
        "#### **Define Your Business Objective?**"
      ],
      "metadata": {
        "id": "PH-0ReGfmX4f"
      }
    },
    {
      "cell_type": "markdown",
      "source": [
        "Answer Here."
      ],
      "metadata": {
        "id": "PhDvGCAqmjP1"
      }
    },
    {
      "cell_type": "markdown",
      "source": [
        "# **General Guidelines** : -  "
      ],
      "metadata": {
        "id": "mDgbUHAGgjLW"
      }
    },
    {
      "cell_type": "markdown",
      "source": [
        "1.   Well-structured, formatted, and commented code is required.\n",
        "2.   Exception Handling, Production Grade Code & Deployment Ready Code will be a plus. Those students will be awarded some additional credits.\n",
        "     \n",
        "     The additional credits will have advantages over other students during Star Student selection.\n",
        "       \n",
        "             [ Note: - Deployment Ready Code is defined as, the whole .ipynb notebook should be executable in one go\n",
        "                       without a single error logged. ]\n",
        "\n",
        "3.   Each and every logic should have proper comments.\n",
        "4. You may add as many number of charts you want. Make Sure for each and every chart the following format should be answered.\n",
        "        \n",
        "\n",
        "```\n",
        "# Chart visualization code\n",
        "```\n",
        "            \n",
        "\n",
        "*   Why did you pick the specific chart?\n",
        "*   What is/are the insight(s) found from the chart?\n",
        "* Will the gained insights help creating a positive business impact?\n",
        "Are there any insights that lead to negative growth? Justify with specific reason.\n",
        "\n",
        "5. You have to create at least 20 logical & meaningful charts having important insights.\n",
        "\n",
        "\n",
        "[ Hints : - Do the Vizualization in  a structured way while following \"UBM\" Rule.\n",
        "\n",
        "U - Univariate Analysis,\n",
        "\n",
        "B - Bivariate Analysis (Numerical - Categorical, Numerical - Numerical, Categorical - Categorical)\n",
        "\n",
        "M - Multivariate Analysis\n",
        " ]\n",
        "\n",
        "\n",
        "\n"
      ],
      "metadata": {
        "id": "ZrxVaUj-hHfC"
      }
    },
    {
      "cell_type": "markdown",
      "source": [
        "# ***Let's Begin !***"
      ],
      "metadata": {
        "id": "O_i_v8NEhb9l"
      }
    },
    {
      "cell_type": "markdown",
      "source": [
        "## ***1. Know Your Data***"
      ],
      "metadata": {
        "id": "hLWvbZFF_oQO"
      }
    },
    {
      "cell_type": "markdown",
      "source": [
        "### Import Libraries"
      ],
      "metadata": {
        "id": "Y3lxredqlCYt"
      }
    },
    {
      "cell_type": "code",
      "source": [
        "# Import Libraries\n",
        "\n",
        "# Libraries for Data Handling\n",
        "import numpy as np\n",
        "import pandas as pd\n",
        "\n",
        "#Libraries for visualization\n",
        "import matplotlib.pyplot as plt\n",
        "import seaborn as sns\n",
        "import matplotlib as mpl\n",
        "from matplotlib import cm\n",
        "%matplotlib inline\n",
        "\n",
        "# Supressing Warnings\n",
        "import warnings\n",
        "warnings.filterwarnings('ignore')"
      ],
      "metadata": {
        "id": "M8Vqi-pPk-HR"
      },
      "execution_count": null,
      "outputs": []
    },
    {
      "cell_type": "markdown",
      "source": [
        "### Dataset Loading"
      ],
      "metadata": {
        "id": "3RnN4peoiCZX"
      }
    },
    {
      "cell_type": "code",
      "source": [
        "# Mounting' google drive where dataset is saved.\n",
        "\n",
        "from google.colab import drive\n",
        "drive.mount('/content/drive')"
      ],
      "metadata": {
        "id": "-71ofbOvumjL"
      },
      "execution_count": null,
      "outputs": []
    },
    {
      "cell_type": "code",
      "source": [
        "# Load Dataset\n",
        "df = pd.read_csv(\"/content/drive/MyDrive/Colab Notebooks/Module 2.5 - Project EDA/Hotel Bookings.csv\")"
      ],
      "metadata": {
        "id": "4CkvbW_SlZ_R"
      },
      "execution_count": null,
      "outputs": []
    },
    {
      "cell_type": "markdown",
      "source": [
        "\n",
        "\n",
        "\n",
        "\n",
        "### Dataset First View"
      ],
      "metadata": {
        "id": "x71ZqKXriCWQ"
      }
    },
    {
      "cell_type": "code",
      "source": [
        "# Dataset First Look\n",
        "# Going through the first 5 records of the dataset\n",
        "df.head()"
      ],
      "metadata": {
        "id": "LWNFOSvLl09H"
      },
      "execution_count": null,
      "outputs": []
    },
    {
      "cell_type": "markdown",
      "source": [
        "### Dataset Rows & Columns count"
      ],
      "metadata": {
        "id": "7hBIi_osiCS2"
      }
    },
    {
      "cell_type": "code",
      "source": [
        "# Dataset Rows & Columns count\n",
        "print(f\"Number of rows in dataset   :\",df.shape[0])\n",
        "print(f\"Numberof columns in dataset :\",df.shape[1])"
      ],
      "metadata": {
        "id": "Kllu7SJgmLij"
      },
      "execution_count": null,
      "outputs": []
    },
    {
      "cell_type": "markdown",
      "source": [
        "### Dataset Information"
      ],
      "metadata": {
        "id": "JlHwYmJAmNHm"
      }
    },
    {
      "cell_type": "code",
      "source": [
        "# Dataset Info\n",
        "# Checking the datatype and other information of all the features of dataset.\n",
        "df.info()"
      ],
      "metadata": {
        "id": "e9hRXRi6meOf"
      },
      "execution_count": null,
      "outputs": []
    },
    {
      "cell_type": "markdown",
      "source": [
        "#### Duplicate Values"
      ],
      "metadata": {
        "id": "35m5QtbWiB9F"
      }
    },
    {
      "cell_type": "code",
      "source": [
        "# Dataset Duplicate Value Count\n",
        "df.duplicated().sum()"
      ],
      "metadata": {
        "id": "1sLdpKYkmox0"
      },
      "execution_count": null,
      "outputs": []
    },
    {
      "cell_type": "code",
      "source": [
        "#Dropping the duplicate records\n",
        "df.drop_duplicates(inplace = True)"
      ],
      "metadata": {
        "id": "oN4xYVaxZYM6"
      },
      "execution_count": null,
      "outputs": []
    },
    {
      "cell_type": "code",
      "source": [
        "# Shape of dataset after dropping duplicate values\n",
        "df.shape"
      ],
      "metadata": {
        "id": "jmTsLklzZpwI"
      },
      "execution_count": null,
      "outputs": []
    },
    {
      "cell_type": "markdown",
      "source": [
        "#### Missing Values/Null Values"
      ],
      "metadata": {
        "id": "PoPl-ycgm1ru"
      }
    },
    {
      "cell_type": "code",
      "source": [
        "# Missing Values/Null Values Count\n",
        "# Checking missing values count and percentage\n",
        "missing_df = df.isnull().sum().reset_index()\n",
        "missing_df.columns = ['Column', 'Missing_Values']\n",
        "missing_df['Missing_%'] = 100 * missing_df['Missing_Values'] / len(df)\n",
        "missing_df = missing_df[missing_df['Missing_Values'] > 0].sort_values(by='Missing_%', ascending=False)\n",
        "\n",
        "# Displaying the result\n",
        "print(missing_df)\n"
      ],
      "metadata": {
        "id": "GgHWkxvamxVg"
      },
      "execution_count": null,
      "outputs": []
    },
    {
      "cell_type": "markdown",
      "source": [
        "* I examined the dataset for missing values and found that a few columns such as agent, company, children, and country contain null entries.\n",
        "* The agent and company columns have the highest proportion of missing data.\n",
        "* To understand the impact, I visualized the percentage of missing values in each column using a horizontal bar chart."
      ],
      "metadata": {
        "id": "0Bm4C5Veb-47"
      }
    },
    {
      "cell_type": "code",
      "source": [
        "# Visualizing the missing or null values\n",
        "\n",
        "# Setting Figure size\n",
        "plt.figure(figsize=(10, 6))\n",
        "\n",
        "# Code to plot the data\n",
        "sns.barplot(data=missing_df, x='Missing_%', y='Column', palette='viridis')\n",
        "\n",
        "# Setting labels and title\n",
        "plt.title('Missing Values by Column')\n",
        "plt.xlabel('Percentage of Missing Values')\n",
        "plt.ylabel('Column Name')\n",
        "plt.tight_layout()\n",
        "plt.show()"
      ],
      "metadata": {
        "id": "3q5wnI3om9sJ"
      },
      "execution_count": null,
      "outputs": []
    },
    {
      "cell_type": "markdown",
      "source": [
        "I identified missing values in four columns: children, agent, company, and country. Based on the nature of the data and domain understanding:\n",
        "\n",
        "1. children (Numerical)\n",
        "  * **What it represents**:\n",
        "      Number of children in a booking\n",
        "\n",
        "  * **Missing likely due to**:\n",
        "      Data entry issues or oversight\n",
        "\n",
        "  * **Imputation Strategy**:\n",
        "      Replacing missing values with the median (since it's numerical and may be skewed).\n",
        "\n",
        "2. company (Categorical but stored as numeric ID)\n",
        "\n",
        "  * **What it represents**:\n",
        "      ID of the company that made the booking\n",
        "\n",
        "  * **Missing likely means**:\n",
        "      No company involved in booking\n",
        "      \n",
        "  * **Imputation Strategy**:\n",
        "      Replacing missing values with 0 and treat it as “No Company”.\n",
        "\n",
        "3. country (Categorical)\n",
        "  * **What it represents**:\n",
        "      Country of the guest\n",
        "\n",
        "  * **Missing likely due to**:\n",
        "      Unrecorded guest info or country of guest not listed\n",
        "\n",
        "  * **Imputation Strategy**:\n",
        "      Replacing missing values with the 'unknown'.\n",
        "\n",
        "4. agent (Categorical but stored as numeric ID)\n",
        "  * **What it represents**:\n",
        "      ID of the travel agent who booked the reservation\n",
        "\n",
        "  * **Missing likely means**:\n",
        "      Bookings were made without an agent\n",
        "\n",
        "  * **Imputation Strategy**:\n",
        "      Replacing missing values with 0 and treat it as “No Agent"
      ],
      "metadata": {
        "id": "EGkmas1KcyVz"
      }
    },
    {
      "cell_type": "code",
      "source": [
        "# Replacing the null values with the apropriate values\n",
        "df.fillna({'children': df['children'].median()}, inplace=True)\n",
        "df.fillna({'agent' :0}, inplace = True)\n",
        "df.fillna({'company' :0}, inplace = True)\n",
        "df.fillna({'country' :'Unknown'}, inplace = True)\n",
        "\n",
        "\n",
        "# Checking the replacement of null values has worked properly or not\n",
        "print(f\"Total null values in dataset now :\\n\")\n",
        "df.isna().sum().reset_index().rename(columns = {'index':'Columns', 0: 'Null Value Count'})"
      ],
      "metadata": {
        "id": "ksg7JFm5z9Vu"
      },
      "execution_count": null,
      "outputs": []
    },
    {
      "cell_type": "markdown",
      "source": [
        "### What did you know about your dataset?"
      ],
      "metadata": {
        "id": "H0kj-8xxnORC"
      }
    },
    {
      "cell_type": "markdown",
      "source": [
        "The dataset contains detailed booking information from two types of hotels: City Hotel and Resort Hotel. It consists of over 30 features describing the characteristics of each booking, including booking dates, stay duration, number of guests, pricing, customer demographics, and reservation status.\n",
        "\n",
        "Here's what I've learned about the dataset:\n",
        "\n",
        "📌 Nature of Data: The dataset is structured and tabular, with each row representing a single hotel booking.\n",
        "\n",
        "🏨 Hotel Types: It includes two types of properties — City Hotel and Resort Hotel, allowing for comparative analysis.\n",
        "\n",
        "📅 Time-Based Features: It has multiple date-related columns such as arrival_date_year, arrival_date_month, and lead_time, enabling time-series and seasonal trend analysis.\n",
        "\n",
        "👨‍👩‍👧‍👦 Guest Details: The dataset captures the number of adults, children, and babies, which helps in understanding guest composition.\n",
        "\n",
        "📉 Cancellations: The binary is_canceled column indicates whether a booking was canceled, which is a key target for business insights.\n",
        "\n",
        "💰 Revenue Info: adr (Average Daily Rate) provides pricing information for each booking.\n",
        "\n",
        "🌍 Customer & Market Segments: Columns like country, customer_type, market_segment, and distribution_channel help analyze customer origins and booking sources.\n",
        "\n",
        "🚫 Cancellation History: Features such as is_repeated_guest, previous_cancellations, and days_in_waiting_list provide insights into booking reliability and loyalty.\n",
        "\n",
        "In summary, this dataset offers a comprehensive view of hotel booking behavior and provides a strong foundation for exploring patterns, trends, and potential business opportunities."
      ],
      "metadata": {
        "id": "eJe8PBIOatkx"
      }
    },
    {
      "cell_type": "markdown",
      "source": [
        "## ***2. Understanding Your Variables***"
      ],
      "metadata": {
        "id": "Iq3UupzGNEPG"
      }
    },
    {
      "cell_type": "code",
      "source": [
        "# Dataset Columns\n",
        "df.columns"
      ],
      "metadata": {
        "id": "ttw1RgbnNEPP"
      },
      "execution_count": null,
      "outputs": []
    },
    {
      "cell_type": "code",
      "source": [
        "# Dataset Describe\n",
        "df.describe()"
      ],
      "metadata": {
        "id": "GJOUmHkJNEPQ"
      },
      "execution_count": null,
      "outputs": []
    },
    {
      "cell_type": "markdown",
      "source": [
        "### Variables Description"
      ],
      "metadata": {
        "id": "VLfZiH-hNEPQ"
      }
    },
    {
      "cell_type": "markdown",
      "source": [
        "\n",
        "***1. hotel*** : *Hotel(Resort Hotel or City Hotel)*\n",
        "\n",
        "***2. is_canceled*** : Value indicating if the booking was canceled (1) or not (0)*\n",
        "\n",
        "***3. lead_time*** : *Number of days that elapsed between the entering date of the booking into the PMS(database) and the arrival date*\n",
        "\n",
        "***4. arrival_date_year*** : *Year of arrival*\n",
        "\n",
        "***5. arrival_date_month*** : *Month of arrival*\n",
        "\n",
        "***6. arrival_date_week_number*** : *At which Week guests arrived or going to arrive*\n",
        "\n",
        "***7. arrival_date_day_of_month*** : *Day of arrival*\n",
        "\n",
        "***8. stays_in_weekend_nights*** : *Number of weekend nights (Saturday or Sunday) the guest stayed or booked to stay at the hotel*\n",
        "\n",
        "***9. stays_in_week_nights*** : *Number of week nights (Monday to Friday) the guest stayed or booked to stay at the hotel*\n",
        "\n",
        "***10. adults*** : *Number of adults*\n",
        "\n",
        "***11. children*** : *Number of children*\n",
        "\n",
        "***12. babies*** : *Number of babies*\n",
        "\n",
        "***13. meal*** : *Type of meal guests ordered. Categories are presented in standard hospitality meal packages:*\n",
        "\n",
        "***14. country*** : *Country which guests belong to*\n",
        "\n",
        "***15. market_segment*** : *Market segment designation. In categories, the term “TA” means “Travel Agents” and “TO” means “Tour Operators”*\n",
        "\n",
        "***16. distribution_channel*** : *Booking distribution channel. The term “TA” means “Travel Agents” and “TO” means “Tour Operators”*\n",
        "\n",
        "***17. is_repeated_guest*** : *Value indicating if the booking name was from a repeated guest (1) or not (0)*\n",
        "\n",
        "***18. previous_cancellations*** : *Number of previous bookings that were cancelled by the customer prior to the current booking*\n",
        "\n",
        "***19. previous_bookings_not_canceled*** : *Number of previous bookings not cancelled by the customer prior to the current booking*\n",
        "\n",
        "***20. reserved_room_type*** : *Code of room type reserved. Code is presented instead of designation for anonymity reasons.*\n",
        "\n",
        "***21. assigned_room_type*** : *Code for the type of room assigned to the booking.*\n",
        "\n",
        "***22. booking_changes*** : *Number of changes/amendments made to the booking from the moment the booking was entered on the PMS until the moment of check-in or cancellation*\n",
        "\n",
        "***23. deposit_type*** : *Indication on if the customer made a deposit to guarantee the booking.*\n",
        "\n",
        "***24. agent*** : *ID of the travel agency that made the booking*\n",
        "\n",
        "***25. company*** : *ID of the company/entity that made the booking or responsible for paying the booking.*\n",
        "\n",
        "***26. days_in_waiting_list*** : *Number of days the booking was in the waiting list before it was confirmed to the customer*\n",
        "\n",
        "***27. customer_type*** : *Type of booking, assuming one of four categories*\n",
        "\n",
        "\n",
        "***28. adr*** : *Average Daily Rate as defined by dividing the sum of all lodging transactions by the total number of staying nights*\n",
        "\n",
        "***29. required_car_parking_spaces*** : *Number of car parking spaces required by the customer*\n",
        "\n",
        "***30. total_of_special_requests*** :* Number of special requests made by the customer (e.g. twin bed or high floor)*\n",
        "\n",
        "***31. reservation_status*** : *Reservation last status, assuming one of three categories*\n",
        "* Cancelled - booking was canceled by the customer\n",
        "* Check-Out - customer has checked in but already departed\n",
        "* No-Show - customer did not check-in and did inform the hotel about the reason\n",
        "\n",
        "***32. reservation_status_date*** : *Date at which the last status was set. This variable can be used in conjunction with the ReservationStatus to understand when was the booking canceled or when did the customer checked-out of the hotel*"
      ],
      "metadata": {
        "id": "hO8-MgUqNEPQ"
      }
    },
    {
      "cell_type": "markdown",
      "source": [
        "### Check Unique Values for each variable."
      ],
      "metadata": {
        "id": "G97gOOLcNEPQ"
      }
    },
    {
      "cell_type": "code",
      "source": [
        "# Check Unique Values for each variable.\n",
        "print(df.apply(lambda col : col.unique()))"
      ],
      "metadata": {
        "id": "hIfDuCoNNEPR"
      },
      "execution_count": null,
      "outputs": []
    },
    {
      "cell_type": "markdown",
      "source": [
        "## 3. ***Data Wrangling***"
      ],
      "metadata": {
        "id": "dauF4eBmngu3"
      }
    },
    {
      "cell_type": "markdown",
      "source": [
        "### Data Wrangling Code"
      ],
      "metadata": {
        "id": "bKJF3rekwFvQ"
      }
    },
    {
      "cell_type": "code",
      "source": [
        "# Write your code to make your dataset analysis ready.\n",
        "\n",
        "# Creating a new columns for future use.\n",
        "df['total_guests'] = df['adults'] + df['children'] + df['babies']\n",
        "df['total_stays'] = df['stays_in_week_nights'] + df['stays_in_weekend_nights']\n",
        "df['revenue'] = df['adr'] * df['total_stays']\n",
        "\n",
        "\n",
        "# Converting the data type of existing columns into approriate datatype.\n",
        "df['children'] = df['children'].astype(int)\n",
        "\n",
        "# We have separate columns for date, month ad year of arrival date.\n",
        "# Hence combining all three columns so that we can get complete arrival date in single column.\n",
        "\n",
        "df['arrival_date'] = df['arrival_date_year'].astype(str) + '/' + df['arrival_date_month'].astype(str) + '/'  + df['arrival_date_day_of_month'].astype(str)\n",
        "\n",
        "# Converting the datatype of arrival date column from string to datetime.\n",
        "\n",
        "df['arrival_date'] = pd.to_datetime(df['arrival_date'], format = '%Y/%B/%d')\n",
        "\n",
        "import calendar\n",
        "df['arrival_date_month_num'] = df['arrival_date_month'].apply(lambda x: list(calendar.month_name).index(x))\n",
        "\n",
        "df['reservation_status_date'] = pd.to_datetime(df['reservation_status_date'])\n",
        "\n",
        "df.head()"
      ],
      "metadata": {
        "id": "wk-9a2fpoLcV"
      },
      "execution_count": null,
      "outputs": []
    },
    {
      "cell_type": "markdown",
      "source": [
        "### What all manipulations have you done and insights you found?"
      ],
      "metadata": {
        "id": "MSa1f5Uengrz"
      }
    },
    {
      "cell_type": "markdown",
      "source": [
        "As part of data wrangling, I created new features and transformed existing ones to make the dataset more analyzable:\n",
        "1. The most obvious and basic manipulation I have done is dropping the duplicate records.\n",
        "\n",
        "2. The second most important manipulation made to clean the data is replacing null values with apropriate values. We have only four features that contain null values. The explaination for the replacement of null values is given above\n",
        "\n",
        "3.  Combined stay duration into a single total_nights column to simplify analysis\n",
        "\n",
        "4. Aggregated adults, children, and babies into total_guests to reflect full party size\n",
        "\n",
        "5. Converted arrival_date_month to numerical values for correct time-series ordering\n",
        "\n",
        "6. Transformed reservation_status_date into datetime format for date-based filtering and visualization\n",
        "\n",
        "These manipulations were made to simplify feature relationships, uncover new patterns, and prepare the data for meaningful visual and statistical analysis."
      ],
      "metadata": {
        "id": "LbyXE7I1olp8"
      }
    },
    {
      "cell_type": "markdown",
      "source": [
        "## ***4. Data Vizualization, Storytelling & Experimenting with charts : Understand the relationships between variables***"
      ],
      "metadata": {
        "id": "GF8Ens_Soomf"
      }
    },
    {
      "cell_type": "markdown",
      "source": [
        "###  Univariate Analysis"
      ],
      "metadata": {
        "id": "OJrt5kFwvi5V"
      }
    },
    {
      "cell_type": "markdown",
      "source": [
        "#### Chart 1 - Distribution of Bookings by Hotel Type (hotel)"
      ],
      "metadata": {
        "id": "0wOQAZs5pc--"
      }
    },
    {
      "cell_type": "code",
      "source": [
        "# Chart 1 - visualization code\n",
        "\n",
        "# Setting up the figure\n",
        "plt.figure(figsize=(6, 5))\n",
        "\n",
        "# Setting plot styles\n",
        "sns.set(style=\"whitegrid\")\n",
        "\n",
        "# Plotting count of bookings by hotel type\n",
        "sns.countplot(data=df, x='hotel', palette='coolwarm')\n",
        "\n",
        "\n",
        "# Setting titles and labels\n",
        "plt.title('Booking Distribution by Hotel Type', fontsize=14)\n",
        "plt.xlabel('Hotel Type (City Hotel / Resort Hotel)', fontsize=12, labelpad= 5)\n",
        "plt.ylabel('Number of Bookings', fontsize=12, labelpad= 10)\n",
        "plt.tight_layout()\n",
        "\n",
        "# Showing the plot\n",
        "plt.show()"
      ],
      "metadata": {
        "id": "UrLy1UEElj_S"
      },
      "execution_count": null,
      "outputs": []
    },
    {
      "cell_type": "markdown",
      "source": [
        "##### 1. Why did you pick the specific chart?"
      ],
      "metadata": {
        "id": "K5QZ13OEpz2H"
      }
    },
    {
      "cell_type": "markdown",
      "source": [
        "\n",
        "* This chart was chosen to understand the distribution of bookings across the two types of hotels in the dataset:\n",
        "\n",
        "    * City Hotel\n",
        "\n",
        "    * Resort Hotel\n",
        "\n",
        "* Since the hotel column is categorical, and we're interested in comparing frequency, a count plot is the most effective and simplest visualization.\n",
        "\n",
        "* This chart also serves as a foundation for comparing future insights by hotel type, such as cancellation rates, ADR, or seasonal trends."
      ],
      "metadata": {
        "id": "XESiWehPqBRc"
      }
    },
    {
      "cell_type": "markdown",
      "source": [
        "##### 2. What is/are the insight(s) found from the chart?"
      ],
      "metadata": {
        "id": "lQ7QKXXCp7Bj"
      }
    },
    {
      "cell_type": "markdown",
      "source": [
        "\n",
        "* The number of bookings for City Hotel is significantly higher than for Resort Hotel.\n",
        "\n",
        "* This suggests that City Hotels may be more popular, possibly due to:\n",
        "\n",
        "    * Business travel\n",
        "\n",
        "    * Urban tourism\n",
        "\n",
        "    * Better connectivity or location convenience\n",
        "\n",
        "* This observation implies that City Hotels are more in demand in the dataset timeframe."
      ],
      "metadata": {
        "id": "C_j1G7yiqdRP"
      }
    },
    {
      "cell_type": "markdown",
      "source": [
        "##### 3. Will the gained insights help creating a positive business impact?"
      ],
      "metadata": {
        "id": "448CDAPjqfQr"
      }
    },
    {
      "cell_type": "markdown",
      "source": [
        "Yes. Understanding that City Hotels attract more bookings allows businesses to:\n",
        "\n",
        "* Focus marketing and promotions where demand is already high\n",
        "\n",
        "* Allocate more resources and staff to city properties\n",
        "\n",
        "* Strategically plan for expansion or improvements\n",
        "\n",
        "It also suggests that different business strategies might be needed for City vs. Resort Hotels.\n"
      ],
      "metadata": {
        "id": "3cspy4FjqxJW"
      }
    },
    {
      "cell_type": "markdown",
      "source": [
        "#####4. Are there any insights that lead to negative growth? Justify with specific reason."
      ],
      "metadata": {
        "id": "q31VG7vfCI-7"
      }
    },
    {
      "cell_type": "markdown",
      "source": [
        "Yes, these insights lead to negative growth potentially. If Resort Hotels are underperforming:\n",
        "\n",
        "  * They may suffer from seasonal dependency, fewer marketing efforts, or limited accessibility.\n",
        "\n",
        "  * If ignored, this imbalance can lead to negative growth for resort properties, especially during off-peak seasons.\n",
        "\n",
        "Hotels may need to investigate:\n",
        "\n",
        "  * Why the resort bookings are low\n",
        "\n",
        "  * Whether pricing, visibility, or customer experience is affecting demand"
      ],
      "metadata": {
        "id": "Qyq_Pq0hCQgP"
      }
    },
    {
      "cell_type": "markdown",
      "source": [
        "#### Chart 2- Distribution of Booking Cancellations (is_canceled)"
      ],
      "metadata": {
        "id": "KSlN3yHqYklG"
      }
    },
    {
      "cell_type": "code",
      "source": [
        "# Chart 2 - Visualization code\n",
        "\n",
        "# Creating layout of subplots to enclose figure in single cell.\n",
        "fig, ax = plt.subplots()\n",
        "\n",
        "# Setting labels and values\n",
        "labels = ['Not Cancelled', 'Cancelled']\n",
        "values = df['is_canceled'].value_counts().values\n",
        "\n",
        "# Creating Pie Chart.\n",
        "ax.pie(values, explode=[0,0.1], labels=labels, colors = ['lightskyblue', 'plum'], autopct='%1.2f%%',\n",
        "       shadow={'ox': -0.02, 'edgecolor': 'black', 'shade': 0.9}, startangle=90)\n",
        "\n",
        "# Setting title\n",
        "plt.title('Percnetage of Cancellation')\n",
        "\n",
        "# Displaying the chart\n",
        "plt.show()"
      ],
      "metadata": {
        "id": "r8BTw9wSjfoi"
      },
      "execution_count": null,
      "outputs": []
    },
    {
      "cell_type": "markdown",
      "source": [
        "##### 1. Why did you pick the specific chart?"
      ],
      "metadata": {
        "id": "t6dVpIINYklI"
      }
    },
    {
      "cell_type": "markdown",
      "source": [
        "* This is a fundamental univariate analysis to understand What percentage of total bookings are being cancelled overall.\n",
        "* Pie charts are great for showing parts of whole and they're useful when you want to quickly grasp which categories are larger/ smaller at glance.\n",
        "* Understanding the cancellation rate is critical for hotel operations and revenue planning\n"
      ],
      "metadata": {
        "id": "5aaW0BYyYklI"
      }
    },
    {
      "cell_type": "markdown",
      "source": [
        "##### 2. What is/are the insight(s) found from the chart?"
      ],
      "metadata": {
        "id": "ijmpgYnKYklI"
      }
    },
    {
      "cell_type": "markdown",
      "source": [
        "From the chart, we observe:\n",
        "\n",
        "- A significant proportion of bookings are being cancelled.\n",
        "\n",
        "- Non-cancelled bookings (0) are higher, but cancellations (1) still make up a notable share, roughly ~38–40% of all bookings.\n",
        "\n",
        "This insight confirms that cancellation is a non-negligible issue in the dataset and should be analyzed in more depth."
      ],
      "metadata": {
        "id": "PSx9atu2YklI"
      }
    },
    {
      "cell_type": "markdown",
      "source": [
        "##### 3. Will the gained insights help creating a positive business impact?\n"
      ],
      "metadata": {
        "id": "-JiQyfWJYklI"
      }
    },
    {
      "cell_type": "markdown",
      "source": [
        "Yes, this insight is highly valuable. Knowing that around 4 out of 10 bookings get cancelled allows hotel managers to:\n",
        "\n",
        "* Introduce better cancellation policies\n",
        "\n",
        "* Implement revenue management tactics (e.g., overbooking strategies)\n",
        "\n",
        "* Focus analysis on what causes cancellations to reduce revenue loss"
      ],
      "metadata": {
        "id": "BcBbebzrYklV"
      }
    },
    {
      "cell_type": "markdown",
      "source": [
        "#####4. Are there any insights that lead to negative growth? Justify with specific reason."
      ],
      "metadata": {
        "id": "JPQaCgufBGAX"
      }
    },
    {
      "cell_type": "markdown",
      "source": [
        "* Yes - the high cancellation rate represents potential revenue loss, vacant rooms, and operational inefficiency.\n",
        "\n",
        "* Negative growth occurs when cancellations aren't predicted or managed — leading to lost bookings that can't be replaced in time.\n",
        "\n",
        "* Especially if rooms remain vacant due to last-minute cancellations, the hotel may face loss of income and poor resource utilization."
      ],
      "metadata": {
        "id": "YH8c4Xj3B4kp"
      }
    },
    {
      "cell_type": "code",
      "source": [],
      "metadata": {
        "id": "zjUEUFC8SKFc"
      },
      "execution_count": null,
      "outputs": []
    },
    {
      "cell_type": "markdown",
      "source": [
        "#### Chart 3 - Distribution of Lead Time (lead_time)"
      ],
      "metadata": {
        "id": "EM7whBJCYoAo"
      }
    },
    {
      "cell_type": "code",
      "source": [
        "# Chart 3 - Visualization code\n",
        "\n",
        "# Setting plot size\n",
        "plt.figure(figsize=(10, 5))\n",
        "\n",
        "# Plotting histogram of lead time with KDE\n",
        "sns.histplot(df['lead_time'], bins=50, kde=True, color='skyblue')\n",
        "\n",
        "# Setting title and labels\n",
        "plt.title('Distribution of Lead Time (in Days)', fontsize=14)\n",
        "plt.xlabel('Lead Time (Days between booking and arrival)', fontsize=12)\n",
        "plt.ylabel('Number of Bookings', fontsize=12)\n",
        "plt.grid(axis='y', linestyle='--', alpha=0.5)\n",
        "plt.tight_layout()\n",
        "\n",
        "# Showing the plot\n",
        "plt.show()\n"
      ],
      "metadata": {
        "id": "t6GMdE67YoAp"
      },
      "execution_count": null,
      "outputs": []
    },
    {
      "cell_type": "markdown",
      "source": [
        "##### 1. Why did you pick the specific chart?"
      ],
      "metadata": {
        "id": "fge-S5ZAYoAp"
      }
    },
    {
      "cell_type": "markdown",
      "source": [
        "I chose a histogram with a KDE (Kernel Density Estimation) because lead_time is a continuous numerical variable, and we want to understand:\n",
        "\n",
        "  * The distribution of lead times across all bookings\n",
        "\n",
        "  * Whether the data is skewed or has outliers\n",
        "\n",
        "  * The density of bookings made closer vs. further in advance\n",
        "\n",
        "This chart type is best for uncovering patterns in booking behavior over time."
      ],
      "metadata": {
        "id": "5dBItgRVYoAp"
      }
    },
    {
      "cell_type": "markdown",
      "source": [
        "##### 2. What is/are the insight(s) found from the chart?"
      ],
      "metadata": {
        "id": "85gYPyotYoAp"
      }
    },
    {
      "cell_type": "markdown",
      "source": [
        "* The majority of bookings have a short lead time, typically under 50 days.\n",
        "\n",
        "* There's a long tail of bookings made 100-300+ days in advance, though these are less frequent.\n",
        "\n",
        "* The distribution is right-skewed, meaning most people book closer to their arrival date.\n",
        "\n",
        "This suggests that most guests prefer flexibility or decide late to travel — especially relevant for business travelers in City Hotels."
      ],
      "metadata": {
        "id": "4jstXR6OYoAp"
      }
    },
    {
      "cell_type": "markdown",
      "source": [
        "##### 3. Will the gained insights help creating a positive business impact?"
      ],
      "metadata": {
        "id": "RoGjAbkUYoAp"
      }
    },
    {
      "cell_type": "markdown",
      "source": [
        "Yes. Understanding lead time helps hotels:\n",
        "\n",
        "- Forecast demand more accurately and prepare staff/inventory accordingly\n",
        "\n",
        "- Implement dynamic pricing models (e.g., offer discounts for early bookings or surge pricing for last-minute ones)\n",
        "\n",
        "- Target marketing for different lead-time segments (e.g., \"early birds\" vs. \"last-minute planners\")\n",
        "\n",
        "This directly improves both revenue management and operational planning.\n",
        "\n",
        "\n",
        "\n"
      ],
      "metadata": {
        "id": "zfJ8IqMcYoAp"
      }
    },
    {
      "cell_type": "markdown",
      "source": [
        "#####4. Are there any insights that lead to negative growth? Justify with specific reason."
      ],
      "metadata": {
        "id": "IsZu2bFyK9Oj"
      }
    },
    {
      "cell_type": "markdown",
      "source": [
        "Yes - The long tail of bookings with very high lead times can lead to higher cancellation rates, which means:\n",
        "\n",
        "* Lost revenue if cancellations happen too close to arrival\n",
        "\n",
        "* Vacant rooms that can’t be resold last-minute\n",
        "\n",
        "* Waste of operational planning (staffing, supplies)\n",
        "\n",
        "These long lead-time bookings, if not secured with deposits or flexible policies, can contribute to negative growth due to unreliable revenue projection."
      ],
      "metadata": {
        "id": "DzdQK3q_LwXd"
      }
    },
    {
      "cell_type": "markdown",
      "source": [
        "#### Chart 4 - Distribution of ADR (Average Daily Rate)"
      ],
      "metadata": {
        "id": "4Of9eVA-YrdM"
      }
    },
    {
      "cell_type": "code",
      "source": [
        "# Chart 4 - Visualization code\n",
        "\n",
        "# Filtering out extreme outliers for a cleaner plot\n",
        "filtered_df = df[df['adr'] < 500]  # remove extreme ADR outliers for visualization\n",
        "\n",
        "# Setting the figure size\n",
        "plt.figure(figsize=(10, 5))\n",
        "\n",
        "# Plotting distribution of ADR\n",
        "sns.histplot(filtered_df['adr'], bins=60, kde=True, color='mediumseagreen')\n",
        "\n",
        "# Adding titles and labels\n",
        "plt.title('Distribution of ADR (Average Daily Rate)', fontsize=14)\n",
        "plt.xlabel('ADR (Room Price per Night in EUR)', fontsize=12)\n",
        "plt.ylabel('Number of Bookings', fontsize=12)\n",
        "plt.grid(axis='y', linestyle='--', alpha=0.5)\n",
        "plt.tight_layout()\n",
        "\n",
        "# Showing the plot\n",
        "plt.show()\n"
      ],
      "metadata": {
        "id": "irlUoxc8YrdO"
      },
      "execution_count": null,
      "outputs": []
    },
    {
      "cell_type": "markdown",
      "source": [
        "##### 1. Why did you pick the specific chart?"
      ],
      "metadata": {
        "id": "iky9q4vBYrdO"
      }
    },
    {
      "cell_type": "markdown",
      "source": [
        "I chose a histogram with KDE (Kernel Density Estimation) because adr is a continuous numerical variable and we want to understand:\n",
        "\n",
        "* The distribution of room prices\n",
        "\n",
        "* Whether most guests are paying low, medium, or high rates\n",
        "\n",
        "* The presence of outliers or pricing anomalies\n",
        "\n",
        "It's important for both revenue analysis and pricing strategy.\n",
        "\n"
      ],
      "metadata": {
        "id": "aJRCwT6DYrdO"
      }
    },
    {
      "cell_type": "markdown",
      "source": [
        "##### 2. What is/are the insight(s) found from the chart?"
      ],
      "metadata": {
        "id": "F6T5p64dYrdO"
      }
    },
    {
      "cell_type": "markdown",
      "source": [
        "* The majority of bookings fall in the €50–€150 range per night.\n",
        "\n",
        "* The distribution is right-skewed with a few bookings having ADR > €300 — likely outliers or special cases (e.g., group bookings or luxury rooms).\n",
        "\n",
        "* There's a smooth density curve indicating relatively consistent pricing strategy with some pricing variance.\n",
        "\n",
        "This shows that most guests choose moderately priced rooms, and luxury/high-end bookings are much less common."
      ],
      "metadata": {
        "id": "Xx8WAJvtYrdO"
      }
    },
    {
      "cell_type": "markdown",
      "source": [
        "##### 3. Will the gained insights help creating a positive business impact?\n"
      ],
      "metadata": {
        "id": "y-Ehk30pYrdP"
      }
    },
    {
      "cell_type": "markdown",
      "source": [
        "Yes. Understanding ADR helps in:\n",
        "\n",
        "* Optimizing pricing strategies for different seasons or customer types\n",
        "\n",
        "* Designing promotional offers around the most common price brackets\n",
        "\n",
        "* Segmenting customers into price-sensitive vs. premium-paying groups\n",
        "\n",
        "* Identifying unusual pricing cases or errors in data entry\n",
        "\n",
        "ADR is directly tied to revenue, so any insight here has high business value.\n"
      ],
      "metadata": {
        "id": "jLNxxz7MYrdP"
      }
    },
    {
      "cell_type": "markdown",
      "source": [
        "##### 4. Are there any insights that lead to negative growth? Justify with specific reason."
      ],
      "metadata": {
        "id": "s4ooqs4KMViJ"
      }
    },
    {
      "cell_type": "markdown",
      "source": [
        "Yes - possible negative indicators:\n",
        "\n",
        "* Very low ADR values might indicate discounted or loss-making sales, potentially hurting profitability.\n",
        "\n",
        "* Outlier high ADRs (e.g., > €500) might result in customer dissatisfaction or indicate data entry issues if not valid.\n",
        "\n",
        "* If pricing is too static, hotels may miss out on dynamic pricing opportunities to maximize profit.\n",
        "\n",
        "Hence, outlier monitoring and ADR optimization are crucial for long-term growth.\n"
      ],
      "metadata": {
        "id": "U7pSsDQGLdha"
      }
    }
  ]
}