{
  "nbformat": 4,
  "nbformat_minor": 0,
  "metadata": {
    "colab": {
      "private_outputs": true,
      "provenance": [],
      "collapsed_sections": [
        "w6K7xa23Elo4",
        "mDgbUHAGgjLW",
        "Y3lxredqlCYt",
        "3RnN4peoiCZX",
        "JlHwYmJAmNHm",
        "H0kj-8xxnORC",
        "Iq3UupzGNEPG",
        "VLfZiH-hNEPQ",
        "G97gOOLcNEPQ",
        "dauF4eBmngu3",
        "bKJF3rekwFvQ",
        "MSa1f5Uengrz",
        "qqq4mDQaKcJS",
        "nCDu6Bv1KcJV",
        "vqXBqvfuKcJW",
        "lJF4o7n3KcJX",
        "PVvaPU1LKcJZ",
        "DTqLDiVQKcJa",
        "28Z4My88KcJb",
        "6an29wOjKcJd",
        "I4cMr_W5KcJe",
        "w2dIuMq-KcJe",
        "jSE6rdBTKcJf",
        "CAIZMHgOKcJg",
        "GA8NhFy3KcJh",
        "i5QyF0Z3KcJi",
        "u0g56Xx8KcJk",
        "-_Qm_nYZKcJl",
        "0DGoK324KcJm",
        "kOX8vz1fKcJ1",
        "jV6i4SG1KcJ2",
        "h5A3I1z_KcJ3",
        "-RhvMIyWKcJ3",
        "Ku5_6DR8KcJ5",
        "aPWzUHn2KcJ6",
        "nu___7T9KcJ7",
        "VJvw2yhhKcJ7",
        "Y9kkGy_uLBtK",
        "Ohq1dBtYLBtV",
        "9uOvm5KTLBtW",
        "1ufW5Cd3LBtW",
        "hy9pMkhLLBtX",
        "-AvtjkFeLBtY",
        "yG2gsyPELBta",
        "0SJzcXMaLBtb",
        "MROMHtV5LBtb",
        "jAxJUbuxLBtc",
        "5OMgRsunLBte",
        "2GZZbP-cLBte",
        "x7GKRs5_LBtf",
        "VJpJaLfyLBtg",
        "VZEngIjRLBtg",
        "bU6KQsStLBth",
        "9zCvAuOXLBti",
        "8bTQLlLGLBtj",
        "9XvxUAwuLBtk",
        "cgZlhG7qLBtl",
        "GX26SIMSLBtl",
        "bYX7x_X3LBtm",
        "sbb8mo_cLBtn",
        "CtUG9liGLBto",
        "IWxWG1A8LBto",
        "GrknKkKLLBtp",
        "2S06hns6LBtq",
        "H-vcumOqLBtr",
        "AD1PxGgBLBts",
        "9nGyKzn8LBtt",
        "cXMneEIRLBtt",
        "YXFyqIiNLBtu",
        "TotPcH74LBtv",
        "g2sIYVQBLBtv",
        "2GTeKNTpLBtw",
        "p2xnICMmLBtw",
        "rGJ08kKTLBtx",
        "ZwopRZw0LBty",
        "TX0zM7CLLBtz",
        "25aBDWv1LBtz",
        "5_mLlq9uLBt0",
        "5_dZ3j-ELBt0",
        "xfumiF4NLBt1",
        "stYYpvQBLBt2",
        "1JiBrZjELBt2",
        "fa2zN3sGugUt",
        "7QRgCmFB6kxi",
        "lC24-Jp06kxk",
        "Di5p5F2P6kxl",
        "bIriQ4Ke6kxl",
        "szkJ2ZrS6kxm",
        "pzzakXTGPJnv",
        "8eeYnhwW8zsc",
        "QtPOsb-b8zsd",
        "h2o-Mc9J8zse",
        "hqjiVg5F8zse",
        "yBQc0r5NRo2r",
        "tF-npuTURo2s",
        "LQCZlY9mRo2t",
        "YnAxnKs9Ro2t",
        "TJvZ6s99Ro2u",
        "n3dbpmDWp1ck",
        "ylSl6qgtp1ck",
        "ZWILFDl5p1ck",
        "M7G43BXep1ck",
        "hoZ5aD5skq_e",
        "Td4GWh4bRmW4",
        "7LaIUMQvRmW5",
        "4QZY_M9sRmW5",
        "xR79BO-JRmW6",
        "u4HVnBroRmW6",
        "Ag9LCva-p1cl",
        "E6MkPsBcp1cl",
        "2cELzS2fp1cl",
        "3MPXvC8up1cl",
        "Pog0p7xGm2br",
        "s1e95aZ8nVvM",
        "y4pNszCYpB0D",
        "dnmPiStUpHtc",
        "OaQi5XOmpIQ2",
        "zm0zhzIEplWp",
        "XBOi6vbEqSOZ",
        "z-tVYDzMqZmt",
        "TGSGHFRor2sh",
        "y3lIEWMZ-uHd",
        "Htz1VJ5n-ywo",
        "LU1k12Gx-ySj",
        "ZuZjAPCi-xsE",
        "BxmC6GGi-wxo",
        "zu6bSWXJtspJ",
        "b2wU7coqtspL",
        "smV7EHhmtspN",
        "btkOvLMvtspO",
        "hY3QEi5ptspP",
        "q_Bf9kO5BDhk",
        "nlHUQc82BPvn",
        "dWFeFmzRBZRR",
        "rTZmAmnaBgXa",
        "XWxQv3F0BoLf",
        "k1tCiZetC8ca",
        "ZpuKTlp0C_oS",
        "RjbT4EYEC-10",
        "AOJZYIZfC-T_",
        "38DvBLjrC9T2",
        "59_meObJEbtX",
        "gNNlC6i1EbtY",
        "5B5-L6upEbtY",
        "U4c1P0MhEbtZ",
        "344PV-PZEbta",
        "8LVHECENEcAp",
        "4vVTwnvREcAp",
        "neqPiA0VEcAq",
        "jbXbRKk9EcAq",
        "hw8Qq7gOEcAr",
        "ilYOBcADEcQA",
        "IRWab9uOEcQB",
        "SKeLlaicEcQC",
        "CVh8XqXdEcQC",
        "q2M60O-YEcQD",
        "_ozpGZpjEceR",
        "_sBFsPAhEceR",
        "Jdpv6dAuEceS",
        "Yx5CA-F3EceS",
        "6Xa4UuhLEceT"
      ]
    },
    "kernelspec": {
      "name": "python3",
      "display_name": "Python 3"
    },
    "language_info": {
      "name": "python"
    }
  },
  "cells": [
    {
      "cell_type": "markdown",
      "source": [
        "# **Project Name**    -\n",
        "\n"
      ],
      "metadata": {
        "id": "vncDsAP0Gaoa"
      }
    },
    {
      "cell_type": "markdown",
      "source": [
        "##### **Project Type**    - EDA\n",
        "##### **Contribution**    - Individual\n",
        "##### **Student Name**    - Monali Vijay Mhaske"
      ],
      "metadata": {
        "id": "beRrZCGUAJYm"
      }
    },
    {
      "cell_type": "markdown",
      "source": [
        "# **Project Summary -**"
      ],
      "metadata": {
        "id": "FJNUwmbgGyua"
      }
    },
    {
      "cell_type": "markdown",
      "source": [
        "Write the summary here within 500-600 words."
      ],
      "metadata": {
        "id": "F6v_1wHtG2nS"
      }
    },
    {
      "cell_type": "markdown",
      "source": [
        "# **GitHub Link -**"
      ],
      "metadata": {
        "id": "w6K7xa23Elo4"
      }
    },
    {
      "cell_type": "markdown",
      "source": [
        "https://github.com/MonaliM5/Hotel-Booking-EDA-Project"
      ],
      "metadata": {
        "id": "h1o69JH3Eqqn"
      }
    },
    {
      "cell_type": "markdown",
      "source": [
        "# **Problem Statement**\n"
      ],
      "metadata": {
        "id": "yQaldy8SH6Dl"
      }
    },
    {
      "cell_type": "markdown",
      "source": [
        "**Write Problem Statement Here.**"
      ],
      "metadata": {
        "id": "DpeJGUA3kjGy"
      }
    },
    {
      "cell_type": "markdown",
      "source": [
        "#### **Define Your Business Objective?**"
      ],
      "metadata": {
        "id": "PH-0ReGfmX4f"
      }
    },
    {
      "cell_type": "markdown",
      "source": [
        "Answer Here."
      ],
      "metadata": {
        "id": "PhDvGCAqmjP1"
      }
    },
    {
      "cell_type": "markdown",
      "source": [
        "# **General Guidelines** : -  "
      ],
      "metadata": {
        "id": "mDgbUHAGgjLW"
      }
    },
    {
      "cell_type": "markdown",
      "source": [
        "1.   Well-structured, formatted, and commented code is required.\n",
        "2.   Exception Handling, Production Grade Code & Deployment Ready Code will be a plus. Those students will be awarded some additional credits.\n",
        "     \n",
        "     The additional credits will have advantages over other students during Star Student selection.\n",
        "       \n",
        "             [ Note: - Deployment Ready Code is defined as, the whole .ipynb notebook should be executable in one go\n",
        "                       without a single error logged. ]\n",
        "\n",
        "3.   Each and every logic should have proper comments.\n",
        "4. You may add as many number of charts you want. Make Sure for each and every chart the following format should be answered.\n",
        "        \n",
        "\n",
        "```\n",
        "# Chart visualization code\n",
        "```\n",
        "            \n",
        "\n",
        "*   Why did you pick the specific chart?\n",
        "*   What is/are the insight(s) found from the chart?\n",
        "* Will the gained insights help creating a positive business impact?\n",
        "Are there any insights that lead to negative growth? Justify with specific reason.\n",
        "\n",
        "5. You have to create at least 20 logical & meaningful charts having important insights.\n",
        "\n",
        "\n",
        "[ Hints : - Do the Vizualization in  a structured way while following \"UBM\" Rule.\n",
        "\n",
        "U - Univariate Analysis,\n",
        "\n",
        "B - Bivariate Analysis (Numerical - Categorical, Numerical - Numerical, Categorical - Categorical)\n",
        "\n",
        "M - Multivariate Analysis\n",
        " ]\n",
        "\n",
        "\n",
        "\n"
      ],
      "metadata": {
        "id": "ZrxVaUj-hHfC"
      }
    },
    {
      "cell_type": "markdown",
      "source": [
        "# ***Let's Begin !***"
      ],
      "metadata": {
        "id": "O_i_v8NEhb9l"
      }
    },
    {
      "cell_type": "markdown",
      "source": [
        "## ***1. Know Your Data***"
      ],
      "metadata": {
        "id": "hLWvbZFF_oQO"
      }
    },
    {
      "cell_type": "markdown",
      "source": [
        "### Import Libraries"
      ],
      "metadata": {
        "id": "Y3lxredqlCYt"
      }
    },
    {
      "cell_type": "code",
      "source": [
        "# Import Libraries\n",
        "\n",
        "# Libraries for Data Handling\n",
        "import numpy as np\n",
        "import pandas as pd\n",
        "\n",
        "#Libraries for visualization\n",
        "import matplotlib.pyplot as plt\n",
        "import seaborn as sns\n",
        "import matplotlib as mpl\n",
        "from matplotlib import cm\n",
        "%matplotlib inline\n",
        "\n",
        "# Supressing Warnings\n",
        "import warnings\n",
        "warnings.filterwarnings('ignore')"
      ],
      "metadata": {
        "id": "M8Vqi-pPk-HR"
      },
      "execution_count": null,
      "outputs": []
    },
    {
      "cell_type": "markdown",
      "source": [
        "### Dataset Loading"
      ],
      "metadata": {
        "id": "3RnN4peoiCZX"
      }
    },
    {
      "cell_type": "code",
      "source": [
        "# Mounting' google drive where dataset is saved.\n",
        "\n",
        "from google.colab import drive\n",
        "drive.mount('/content/drive')"
      ],
      "metadata": {
        "id": "-71ofbOvumjL"
      },
      "execution_count": null,
      "outputs": []
    },
    {
      "cell_type": "code",
      "source": [
        "# Load Dataset\n",
        "df = pd.read_csv(\"/content/drive/MyDrive/Colab Notebooks/Module 2.5 - Project EDA/Hotel Bookings.csv\")"
      ],
      "metadata": {
        "id": "4CkvbW_SlZ_R"
      },
      "execution_count": null,
      "outputs": []
    },
    {
      "cell_type": "markdown",
      "source": [
        "\n",
        "\n",
        "\n",
        "\n",
        "### Dataset First View"
      ],
      "metadata": {
        "id": "x71ZqKXriCWQ"
      }
    },
    {
      "cell_type": "code",
      "source": [
        "# Dataset First Look\n",
        "# Going through the first 5 records of the dataset\n",
        "df.head()"
      ],
      "metadata": {
        "id": "LWNFOSvLl09H"
      },
      "execution_count": null,
      "outputs": []
    },
    {
      "cell_type": "markdown",
      "source": [
        "### Dataset Rows & Columns count"
      ],
      "metadata": {
        "id": "7hBIi_osiCS2"
      }
    },
    {
      "cell_type": "code",
      "source": [
        "# Dataset Rows & Columns count\n",
        "print(f\"Number of rows in dataset   :\",df.shape[0])\n",
        "print(f\"Numberof columns in dataset :\",df.shape[1])"
      ],
      "metadata": {
        "id": "Kllu7SJgmLij"
      },
      "execution_count": null,
      "outputs": []
    },
    {
      "cell_type": "markdown",
      "source": [
        "### Dataset Information"
      ],
      "metadata": {
        "id": "JlHwYmJAmNHm"
      }
    },
    {
      "cell_type": "code",
      "source": [
        "# Dataset Info\n",
        "# Checking the datatype and other information of all the features of dataset.\n",
        "df.info()"
      ],
      "metadata": {
        "id": "e9hRXRi6meOf"
      },
      "execution_count": null,
      "outputs": []
    },
    {
      "cell_type": "markdown",
      "source": [
        "#### Duplicate Values"
      ],
      "metadata": {
        "id": "35m5QtbWiB9F"
      }
    },
    {
      "cell_type": "code",
      "source": [
        "# Dataset Duplicate Value Count\n",
        "df.duplicated().sum()"
      ],
      "metadata": {
        "id": "1sLdpKYkmox0"
      },
      "execution_count": null,
      "outputs": []
    },
    {
      "cell_type": "code",
      "source": [
        "#Dropping the duplicate records\n",
        "df.drop_duplicates(inplace = True)"
      ],
      "metadata": {
        "id": "oN4xYVaxZYM6"
      },
      "execution_count": null,
      "outputs": []
    },
    {
      "cell_type": "code",
      "source": [
        "# Shape of dataset after dropping duplicate values\n",
        "df.shape"
      ],
      "metadata": {
        "id": "jmTsLklzZpwI"
      },
      "execution_count": null,
      "outputs": []
    },
    {
      "cell_type": "markdown",
      "source": [
        "#### Missing Values/Null Values"
      ],
      "metadata": {
        "id": "PoPl-ycgm1ru"
      }
    },
    {
      "cell_type": "code",
      "source": [
        "# Missing Values/Null Values Count\n",
        "# Checking missing values count and percentage\n",
        "missing_df = df.isnull().sum().reset_index()\n",
        "missing_df.columns = ['Column', 'Missing_Values']\n",
        "missing_df['Missing_%'] = 100 * missing_df['Missing_Values'] / len(df)\n",
        "missing_df = missing_df[missing_df['Missing_Values'] > 0].sort_values(by='Missing_%', ascending=False)\n",
        "\n",
        "# Displaying the result\n",
        "print(missing_df)\n"
      ],
      "metadata": {
        "id": "GgHWkxvamxVg"
      },
      "execution_count": null,
      "outputs": []
    },
    {
      "cell_type": "markdown",
      "source": [
        "* I examined the dataset for missing values and found that a few columns such as agent, company, children, and country contain null entries.\n",
        "* The agent and company columns have the highest proportion of missing data.\n",
        "* To understand the impact, I visualized the percentage of missing values in each column using a horizontal bar chart."
      ],
      "metadata": {
        "id": "0Bm4C5Veb-47"
      }
    },
    {
      "cell_type": "code",
      "source": [
        "# Visualizing the missing or null values\n",
        "\n",
        "# Setting Figure size\n",
        "plt.figure(figsize=(10, 6))\n",
        "\n",
        "# Code to plot the data\n",
        "sns.barplot(data=missing_df, x='Missing_%', y='Column', palette='viridis')\n",
        "\n",
        "# Setting labels and title\n",
        "plt.title('Missing Values by Column')\n",
        "plt.xlabel('Percentage of Missing Values')\n",
        "plt.ylabel('Column Name')\n",
        "plt.tight_layout()\n",
        "plt.show()"
      ],
      "metadata": {
        "id": "3q5wnI3om9sJ"
      },
      "execution_count": null,
      "outputs": []
    },
    {
      "cell_type": "markdown",
      "source": [
        "I identified missing values in four columns: children, agent, company, and country. Based on the nature of the data and domain understanding:\n",
        "\n",
        "1. children (Numerical)\n",
        "  * **What it represents**:\n",
        "      Number of children in a booking\n",
        "\n",
        "  * **Missing likely due to**:\n",
        "      Data entry issues or oversight\n",
        "\n",
        "  * **Imputation Strategy**:\n",
        "      Replacing missing values with the median (since it's numerical and may be skewed).\n",
        "\n",
        "2. company (Categorical but stored as numeric ID)\n",
        "\n",
        "  * **What it represents**:\n",
        "      ID of the company that made the booking\n",
        "\n",
        "  * **Missing likely means**:\n",
        "      No company involved in booking\n",
        "      \n",
        "  * **Imputation Strategy**:\n",
        "      Replacing missing values with 0 and treat it as “No Company”.\n",
        "\n",
        "3. country (Categorical)\n",
        "  * **What it represents**:\n",
        "      Country of the guest\n",
        "\n",
        "  * **Missing likely due to**:\n",
        "      Unrecorded guest info or country of guest not listed\n",
        "\n",
        "  * **Imputation Strategy**:\n",
        "      Replacing missing values with the 'unknown'.\n",
        "\n",
        "4. agent (Categorical but stored as numeric ID)\n",
        "  * **What it represents**:\n",
        "      ID of the travel agent who booked the reservation\n",
        "\n",
        "  * **Missing likely means**:\n",
        "      Bookings were made without an agent\n",
        "\n",
        "  * **Imputation Strategy**:\n",
        "      Replacing missing values with 0 and treat it as “No Agent"
      ],
      "metadata": {
        "id": "EGkmas1KcyVz"
      }
    },
    {
      "cell_type": "code",
      "source": [
        "# Replacing the null values with the apropriate values\n",
        "df.fillna({'children': df['children'].median()}, inplace=True)\n",
        "df.fillna({'agent' :0}, inplace = True)\n",
        "df.fillna({'company' :0}, inplace = True)\n",
        "df.fillna({'country' :'Unknown'}, inplace = True)\n",
        "\n",
        "\n",
        "# Checking the replacement of null values has worked properly or not\n",
        "print(f\"Total null values in dataset now :\\n\")\n",
        "df.isna().sum().reset_index().rename(columns = {'index':'Columns', 0: 'Null Value Count'})"
      ],
      "metadata": {
        "id": "ksg7JFm5z9Vu"
      },
      "execution_count": null,
      "outputs": []
    },
    {
      "cell_type": "markdown",
      "source": [
        "### What did you know about your dataset?"
      ],
      "metadata": {
        "id": "H0kj-8xxnORC"
      }
    },
    {
      "cell_type": "markdown",
      "source": [
        "The dataset contains detailed booking information from two types of hotels: City Hotel and Resort Hotel. It consists of over 30 features describing the characteristics of each booking, including booking dates, stay duration, number of guests, pricing, customer demographics, and reservation status.\n",
        "\n",
        "Here's what I've learned about the dataset:\n",
        "\n",
        "📌 Nature of Data: The dataset is structured and tabular, with each row representing a single hotel booking.\n",
        "\n",
        "🏨 Hotel Types: It includes two types of properties — City Hotel and Resort Hotel, allowing for comparative analysis.\n",
        "\n",
        "📅 Time-Based Features: It has multiple date-related columns such as arrival_date_year, arrival_date_month, and lead_time, enabling time-series and seasonal trend analysis.\n",
        "\n",
        "👨‍👩‍👧‍👦 Guest Details: The dataset captures the number of adults, children, and babies, which helps in understanding guest composition.\n",
        "\n",
        "📉 Cancellations: The binary is_canceled column indicates whether a booking was canceled, which is a key target for business insights.\n",
        "\n",
        "💰 Revenue Info: adr (Average Daily Rate) provides pricing information for each booking.\n",
        "\n",
        "🌍 Customer & Market Segments: Columns like country, customer_type, market_segment, and distribution_channel help analyze customer origins and booking sources.\n",
        "\n",
        "🚫 Cancellation History: Features such as is_repeated_guest, previous_cancellations, and days_in_waiting_list provide insights into booking reliability and loyalty.\n",
        "\n",
        "In summary, this dataset offers a comprehensive view of hotel booking behavior and provides a strong foundation for exploring patterns, trends, and potential business opportunities."
      ],
      "metadata": {
        "id": "eJe8PBIOatkx"
      }
    },
    {
      "cell_type": "markdown",
      "source": [
        "## ***2. Understanding Your Variables***"
      ],
      "metadata": {
        "id": "Iq3UupzGNEPG"
      }
    },
    {
      "cell_type": "code",
      "source": [
        "# Dataset Columns\n",
        "df.columns"
      ],
      "metadata": {
        "id": "ttw1RgbnNEPP"
      },
      "execution_count": null,
      "outputs": []
    },
    {
      "cell_type": "code",
      "source": [
        "# Dataset Describe\n",
        "df.describe()"
      ],
      "metadata": {
        "id": "GJOUmHkJNEPQ"
      },
      "execution_count": null,
      "outputs": []
    },
    {
      "cell_type": "markdown",
      "source": [
        "### Variables Description"
      ],
      "metadata": {
        "id": "VLfZiH-hNEPQ"
      }
    },
    {
      "cell_type": "markdown",
      "source": [
        "\n",
        "***1. hotel*** : *Hotel(Resort Hotel or City Hotel)*\n",
        "\n",
        "***2. is_canceled*** : Value indicating if the booking was canceled (1) or not (0)*\n",
        "\n",
        "***3. lead_time*** : *Number of days that elapsed between the entering date of the booking into the PMS(database) and the arrival date*\n",
        "\n",
        "***4. arrival_date_year*** : *Year of arrival*\n",
        "\n",
        "***5. arrival_date_month*** : *Month of arrival*\n",
        "\n",
        "***6. arrival_date_week_number*** : *At which Week guests arrived or going to arrive*\n",
        "\n",
        "***7. arrival_date_day_of_month*** : *Day of arrival*\n",
        "\n",
        "***8. stays_in_weekend_nights*** : *Number of weekend nights (Saturday or Sunday) the guest stayed or booked to stay at the hotel*\n",
        "\n",
        "***9. stays_in_week_nights*** : *Number of week nights (Monday to Friday) the guest stayed or booked to stay at the hotel*\n",
        "\n",
        "***10. adults*** : *Number of adults*\n",
        "\n",
        "***11. children*** : *Number of children*\n",
        "\n",
        "***12. babies*** : *Number of babies*\n",
        "\n",
        "***13. meal*** : *Type of meal guests ordered. Categories are presented in standard hospitality meal packages:*\n",
        "\n",
        "***14. country*** : *Country which guests belong to*\n",
        "\n",
        "***15. market_segment*** : *Market segment designation. In categories, the term “TA” means “Travel Agents” and “TO” means “Tour Operators”*\n",
        "\n",
        "***16. distribution_channel*** : *Booking distribution channel. The term “TA” means “Travel Agents” and “TO” means “Tour Operators”*\n",
        "\n",
        "***17. is_repeated_guest*** : *Value indicating if the booking name was from a repeated guest (1) or not (0)*\n",
        "\n",
        "***18. previous_cancellations*** : *Number of previous bookings that were cancelled by the customer prior to the current booking*\n",
        "\n",
        "***19. previous_bookings_not_canceled*** : *Number of previous bookings not cancelled by the customer prior to the current booking*\n",
        "\n",
        "***20. reserved_room_type*** : *Code of room type reserved. Code is presented instead of designation for anonymity reasons.*\n",
        "\n",
        "***21. assigned_room_type*** : *Code for the type of room assigned to the booking.*\n",
        "\n",
        "***22. booking_changes*** : *Number of changes/amendments made to the booking from the moment the booking was entered on the PMS until the moment of check-in or cancellation*\n",
        "\n",
        "***23. deposit_type*** : *Indication on if the customer made a deposit to guarantee the booking.*\n",
        "\n",
        "***24. agent*** : *ID of the travel agency that made the booking*\n",
        "\n",
        "***25. company*** : *ID of the company/entity that made the booking or responsible for paying the booking.*\n",
        "\n",
        "***26. days_in_waiting_list*** : *Number of days the booking was in the waiting list before it was confirmed to the customer*\n",
        "\n",
        "***27. customer_type*** : *Type of booking, assuming one of four categories*\n",
        "\n",
        "\n",
        "***28. adr*** : *Average Daily Rate as defined by dividing the sum of all lodging transactions by the total number of staying nights*\n",
        "\n",
        "***29. required_car_parking_spaces*** : *Number of car parking spaces required by the customer*\n",
        "\n",
        "***30. total_of_special_requests*** :* Number of special requests made by the customer (e.g. twin bed or high floor)*\n",
        "\n",
        "***31. reservation_status*** : *Reservation last status, assuming one of three categories*\n",
        "* Cancelled - booking was canceled by the customer\n",
        "* Check-Out - customer has checked in but already departed\n",
        "* No-Show - customer did not check-in and did inform the hotel about the reason\n",
        "\n",
        "***32. reservation_status_date*** : *Date at which the last status was set. This variable can be used in conjunction with the ReservationStatus to understand when was the booking canceled or when did the customer checked-out of the hotel*"
      ],
      "metadata": {
        "id": "hO8-MgUqNEPQ"
      }
    },
    {
      "cell_type": "markdown",
      "source": [
        "### Check Unique Values for each variable."
      ],
      "metadata": {
        "id": "G97gOOLcNEPQ"
      }
    },
    {
      "cell_type": "code",
      "source": [
        "# Check Unique Values for each variable.\n",
        "print(df.apply(lambda col : col.unique()))"
      ],
      "metadata": {
        "id": "hIfDuCoNNEPR"
      },
      "execution_count": null,
      "outputs": []
    },
    {
      "cell_type": "markdown",
      "source": [
        "## 3. ***Data Wrangling***"
      ],
      "metadata": {
        "id": "dauF4eBmngu3"
      }
    },
    {
      "cell_type": "markdown",
      "source": [
        "### Data Wrangling Code"
      ],
      "metadata": {
        "id": "bKJF3rekwFvQ"
      }
    },
    {
      "cell_type": "code",
      "source": [
        "# Write your code to make your dataset analysis ready.\n",
        "\n",
        "# Creating a new columns for future use.\n",
        "df['total_guests'] = df['adults'] + df['children'] + df['babies']\n",
        "df['total_stays'] = df['stays_in_week_nights'] + df['stays_in_weekend_nights']\n",
        "df['revenue'] = df['adr'] * df['total_stays'] * df['total_guests']\n",
        "\n",
        "\n",
        "# Converting the data type of existing columns into approriate datatype.\n",
        "df['children'] = df['children'].astype(int)\n",
        "\n",
        "# We have separate columns for date, month ad year of arrival date.\n",
        "# Hence combining all three columns so that we can get complete arrival date in single column.\n",
        "\n",
        "df['arrival_date'] = df['arrival_date_year'].astype(str) + '/' + df['arrival_date_month'].astype(str) + '/'  + df['arrival_date_day_of_month'].astype(str)\n",
        "\n",
        "# Converting the datatype of arrival date column from string to datetime.\n",
        "\n",
        "df['arrival_date'] = pd.to_datetime(df['arrival_date'], format = '%Y/%B/%d')\n",
        "\n",
        "import calendar\n",
        "df['arrival_date_month_num'] = df['arrival_date_month'].apply(lambda x: list(calendar.month_name).index(x))\n",
        "\n",
        "df['reservation_status_date'] = pd.to_datetime(df['reservation_status_date'])\n",
        "\n",
        "df.head()"
      ],
      "metadata": {
        "id": "wk-9a2fpoLcV"
      },
      "execution_count": null,
      "outputs": []
    },
    {
      "cell_type": "markdown",
      "source": [
        "### What all manipulations have you done and insights you found?"
      ],
      "metadata": {
        "id": "MSa1f5Uengrz"
      }
    },
    {
      "cell_type": "markdown",
      "source": [
        "As part of data wrangling, I created new features and transformed existing ones to make the dataset more analyzable:\n",
        "1. The most obvious and basic manipulation I have done is dropping the duplicate records.\n",
        "\n",
        "2. The second most important manipulation made to clean the data is replacing null values with apropriate values. We have only four features that contain null values. The explaination for the replacement of null values is given above\n",
        "\n",
        "3.  Combined stay duration into a single total_nights column to simplify analysis\n",
        "\n",
        "4. Aggregated adults, children, and babies into total_guests to reflect full party size\n",
        "\n",
        "5. Converted arrival_date_month to numerical values for correct time-series ordering\n",
        "\n",
        "6. Transformed reservation_status_date into datetime format for date-based filtering and visualization\n",
        "\n",
        "These manipulations were made to simplify feature relationships, uncover new patterns, and prepare the data for meaningful visual and statistical analysis."
      ],
      "metadata": {
        "id": "LbyXE7I1olp8"
      }
    },
    {
      "cell_type": "markdown",
      "source": [
        "## ***4. Data Vizualization, Storytelling & Experimenting with charts : Understand the relationships between variables***"
      ],
      "metadata": {
        "id": "GF8Ens_Soomf"
      }
    },
    {
      "cell_type": "markdown",
      "source": [
        "###  Univariate Analysis"
      ],
      "metadata": {
        "id": "OJrt5kFwvi5V"
      }
    },
    {
      "cell_type": "markdown",
      "source": [
        "#### Chart 1 - Distribution of Bookings by Hotel Type"
      ],
      "metadata": {
        "id": "qqq4mDQaKcJS"
      }
    },
    {
      "cell_type": "code",
      "source": [
        "# Chart 1 - visualization code\n",
        "\n",
        "# Features used - hotel\n",
        "\n",
        "# Why this chart ?\n",
        "# Analyzing hotel types early in EDA gives a high-level view of the dataset structure\n",
        "# and helps compare patterns across City Hotel and Resort Hotel —\n",
        "# both of which can behave differently in terms of bookings, revenue, and cancellations.\n",
        "\n",
        "\n",
        "# Setting up the figure\n",
        "plt.figure(figsize=(6, 5))\n",
        "\n",
        "# Setting plot styles\n",
        "sns.set(style=\"whitegrid\")\n",
        "\n",
        "# Plotting count of bookings by hotel type\n",
        "sns.countplot(data=df, x='hotel', palette='coolwarm')\n",
        "\n",
        "\n",
        "# Setting titles and labels\n",
        "plt.title('Booking Distribution by Hotel Type', fontsize=14)\n",
        "plt.xlabel('Hotel Type (City Hotel / Resort Hotel)', fontsize=12, labelpad= 5)\n",
        "plt.ylabel('Number of Bookings', fontsize=12, labelpad= 10)\n",
        "plt.tight_layout()\n",
        "\n",
        "# Showing the plot\n",
        "plt.show()"
      ],
      "metadata": {
        "id": "bEkx0f_VKcJU"
      },
      "execution_count": null,
      "outputs": []
    },
    {
      "cell_type": "markdown",
      "source": [
        "##### 1. Why did you pick the specific chart?"
      ],
      "metadata": {
        "id": "nCDu6Bv1KcJV"
      }
    },
    {
      "cell_type": "markdown",
      "source": [
        "\n",
        "* This chart was chosen to understand the distribution of bookings across the two types of hotels in the dataset:\n",
        "\n",
        "    * City Hotel\n",
        "\n",
        "    * Resort Hotel\n",
        "\n",
        "* Since the hotel column is categorical, and we're interested in comparing frequency, a count plot is the most effective and simplest visualization.\n",
        "\n",
        "* This chart also serves as a foundation for comparing future insights by hotel type, such as cancellation rates, ADR, or seasonal trends."
      ],
      "metadata": {
        "id": "bZOcg-swKcJW"
      }
    },
    {
      "cell_type": "markdown",
      "source": [
        "##### 2. What is/are the insight(s) found from the chart?"
      ],
      "metadata": {
        "id": "vqXBqvfuKcJW"
      }
    },
    {
      "cell_type": "markdown",
      "source": [
        "\n",
        "* The number of bookings for City Hotel is significantly higher than for Resort Hotel.\n",
        "\n",
        "* This suggests that City Hotels may be more popular, possibly due to:\n",
        "\n",
        "    * Business travel\n",
        "\n",
        "    * Urban tourism\n",
        "\n",
        "    * Better connectivity or location convenience\n",
        "\n",
        "* This observation implies that City Hotels are more in demand in the dataset timeframe."
      ],
      "metadata": {
        "id": "16ww_aLSKcJX"
      }
    },
    {
      "cell_type": "markdown",
      "source": [
        "##### 3. Will the gained insights help creating a positive business impact?"
      ],
      "metadata": {
        "id": "lJF4o7n3KcJX"
      }
    },
    {
      "cell_type": "markdown",
      "source": [
        "Yes. Understanding that City Hotels attract more bookings allows businesses to:\n",
        "\n",
        "* Focus marketing and promotions where demand is already high\n",
        "\n",
        "* Allocate more resources and staff to city properties\n",
        "\n",
        "* Strategically plan for expansion or improvements\n",
        "\n",
        "It also suggests that different business strategies might be needed for City vs. Resort Hotels.\n"
      ],
      "metadata": {
        "id": "JXpBD5jCKcJY"
      }
    },
    {
      "cell_type": "markdown",
      "source": [
        "#####4. Are there any insights that lead to negative growth? Justify with specific reason."
      ],
      "metadata": {
        "id": "PVvaPU1LKcJZ"
      }
    },
    {
      "cell_type": "markdown",
      "source": [
        "Yes, these insights lead to negative growth potentially. If Resort Hotels are underperforming:\n",
        "\n",
        "  * They may suffer from seasonal dependency, fewer marketing efforts, or limited accessibility.\n",
        "\n",
        "  * If ignored, this imbalance can lead to negative growth for resort properties, especially during off-peak seasons.\n",
        "\n",
        "Hotels may need to investigate:\n",
        "\n",
        "  * Why the resort bookings are low\n",
        "\n",
        "  * Whether pricing, visibility, or customer experience is affecting demand"
      ],
      "metadata": {
        "id": "7ZDJa8wEKcJZ"
      }
    },
    {
      "cell_type": "markdown",
      "source": [
        "#### Chart 2- Distribution of Booking Cancellations"
      ],
      "metadata": {
        "id": "DTqLDiVQKcJa"
      }
    },
    {
      "cell_type": "code",
      "source": [
        "# Chart 2 - Visualization code\n",
        "\n",
        "# Fetaures used - is_canceled\n",
        "\n",
        "# Why this chart ?\n",
        "# 1. Business Relevance – Cancellations directly impact hotel revenue and resource utilization\n",
        "#    (empty rooms, loss of opportunity to sell again).\n",
        "# 2. Customer Behavior Insight – By visualizing cancellations,\n",
        "#     we can understand whether cancellations are a frequent occurrence\n",
        "#     or just occasional. This helps hotels optimize their booking policies\n",
        "#     (e.g., stricter deposit requirements, better refund policies).\n",
        "# 3. Operational Impact – High cancellations may indicate issues like poor pricing strategy,\n",
        "#     ineffective communication, or customer dissatisfaction.\n",
        "#     Identifying this helps in reducing negative growth.\n",
        "\n",
        "\n",
        "# Creating layout of subplots to enclose figure in single cell.\n",
        "fig, ax = plt.subplots()\n",
        "\n",
        "# Setting labels and values\n",
        "labels = ['Not Cancelled', 'Cancelled']\n",
        "values = df['is_canceled'].value_counts().values\n",
        "\n",
        "# Creating Pie Chart.\n",
        "ax.pie(values, explode=[0,0.1], labels=labels, colors = ['lightskyblue', 'plum'], autopct='%1.2f%%',\n",
        "       shadow={'ox': -0.02, 'edgecolor': 'black', 'shade': 0.9}, startangle=90)\n",
        "\n",
        "# Setting title\n",
        "plt.title('Percnetage of Cancellation')\n",
        "\n",
        "# Displaying the chart\n",
        "plt.show()"
      ],
      "metadata": {
        "id": "BN25x-uAKcJb"
      },
      "execution_count": null,
      "outputs": []
    },
    {
      "cell_type": "markdown",
      "source": [
        "##### 1. Why did you pick the specific chart?"
      ],
      "metadata": {
        "id": "28Z4My88KcJb"
      }
    },
    {
      "cell_type": "markdown",
      "source": [
        "* This is a fundamental univariate analysis to understand What percentage of total bookings are being cancelled overall.\n",
        "* Pie charts are great for showing parts of whole and they're useful when you want to quickly grasp which categories are larger/ smaller at glance.\n",
        "* Understanding the cancellation rate is critical for hotel operations and revenue planning\n"
      ],
      "metadata": {
        "id": "e-rLwr1QKcJc"
      }
    },
    {
      "cell_type": "markdown",
      "source": [
        "##### 2. What is/are the insight(s) found from the chart?"
      ],
      "metadata": {
        "id": "6an29wOjKcJd"
      }
    },
    {
      "cell_type": "markdown",
      "source": [
        "From the chart, we observe:\n",
        "\n",
        "- A significant proportion of bookings are being cancelled.\n",
        "\n",
        "- Non-cancelled bookings (0) are higher, but cancellations (1) still make up a notable share, roughly ~38–40% of all bookings.\n",
        "\n",
        "This insight confirms that cancellation is a non-negligible issue in the dataset and should be analyzed in more depth."
      ],
      "metadata": {
        "id": "dMQ9MR4IKcJd"
      }
    },
    {
      "cell_type": "markdown",
      "source": [
        "##### 3. Will the gained insights help creating a positive business impact?\n"
      ],
      "metadata": {
        "id": "I4cMr_W5KcJe"
      }
    },
    {
      "cell_type": "markdown",
      "source": [
        "Yes, this insight is highly valuable. Knowing that around 4 out of 10 bookings get cancelled allows hotel managers to:\n",
        "\n",
        "* Introduce better cancellation policies\n",
        "\n",
        "* Implement revenue management tactics (e.g., overbooking strategies)\n",
        "\n",
        "* Focus analysis on what causes cancellations to reduce revenue loss"
      ],
      "metadata": {
        "id": "6neEnxHwKcJe"
      }
    },
    {
      "cell_type": "markdown",
      "source": [
        "#####4. Are there any insights that lead to negative growth? Justify with specific reason."
      ],
      "metadata": {
        "id": "w2dIuMq-KcJe"
      }
    },
    {
      "cell_type": "markdown",
      "source": [
        "* Yes - the high cancellation rate represents potential revenue loss, vacant rooms, and operational inefficiency.\n",
        "\n",
        "* Negative growth occurs when cancellations aren't predicted or managed — leading to lost bookings that can't be replaced in time.\n",
        "\n",
        "* Especially if rooms remain vacant due to last-minute cancellations, the hotel may face loss of income and poor resource utilization."
      ],
      "metadata": {
        "id": "w2Zf8JZOKcJf"
      }
    },
    {
      "cell_type": "markdown",
      "source": [
        "#### Chart 3 - Distribution of Lead Time"
      ],
      "metadata": {
        "id": "jSE6rdBTKcJf"
      }
    },
    {
      "cell_type": "code",
      "source": [
        "# Chart 3 - Visualization code\n",
        "\n",
        "# Features used - lead_time\n",
        "\n",
        "# Why this chart ?\n",
        "# Lead time (number of days between booking and arrival) is strongly related to\n",
        "# cancellation probability, booking trends, and planning behavior.\n",
        "\n",
        "# Setting plot size\n",
        "plt.figure(figsize=(10, 5))\n",
        "\n",
        "# Plotting histogram of lead time with KDE\n",
        "sns.histplot(df['lead_time'], bins=50, kde=True, color='skyblue')\n",
        "\n",
        "# Setting title and labels\n",
        "plt.title('Distribution of Lead Time (in Days)', fontsize=14)\n",
        "plt.xlabel('Lead Time (Days between booking and arrival)', fontsize=12)\n",
        "plt.ylabel('Number of Bookings', fontsize=12)\n",
        "plt.grid(axis='y', linestyle='--', alpha=0.5)\n",
        "plt.tight_layout()\n",
        "\n",
        "# Showing the plot\n",
        "plt.show()\n"
      ],
      "metadata": {
        "id": "XalBr3IzKcJg"
      },
      "execution_count": null,
      "outputs": []
    },
    {
      "cell_type": "markdown",
      "source": [
        "##### 1. Why did you pick the specific chart?"
      ],
      "metadata": {
        "id": "CAIZMHgOKcJg"
      }
    },
    {
      "cell_type": "markdown",
      "source": [
        "I chose a histogram with a KDE (Kernel Density Estimation) because lead_time is a continuous numerical variable, and we want to understand:\n",
        "\n",
        "  * The distribution of lead times across all bookings\n",
        "\n",
        "  * Whether the data is skewed or has outliers\n",
        "\n",
        "  * The density of bookings made closer vs. further in advance\n",
        "\n",
        "This chart type is best for uncovering patterns in booking behavior over time."
      ],
      "metadata": {
        "id": "5-8vD8I9KcJh"
      }
    },
    {
      "cell_type": "markdown",
      "source": [
        "##### 2. What is/are the insight(s) found from the chart?"
      ],
      "metadata": {
        "id": "GA8NhFy3KcJh"
      }
    },
    {
      "cell_type": "markdown",
      "source": [
        "* The majority of bookings have a short lead time, typically under 50 days.\n",
        "\n",
        "* There's a long tail of bookings made 100-300+ days in advance, though these are less frequent.\n",
        "\n",
        "* The distribution is right-skewed, meaning most people book closer to their arrival date.\n",
        "\n",
        "This suggests that most guests prefer flexibility or decide late to travel — especially relevant for business travelers in City Hotels."
      ],
      "metadata": {
        "id": "bLvw1sJGKcJi"
      }
    },
    {
      "cell_type": "markdown",
      "source": [
        "##### 3. Will the gained insights help creating a positive business impact?"
      ],
      "metadata": {
        "id": "i5QyF0Z3KcJi"
      }
    },
    {
      "cell_type": "markdown",
      "source": [
        "Yes. Understanding lead time helps hotels:\n",
        "\n",
        "- Forecast demand more accurately and prepare staff/inventory accordingly\n",
        "\n",
        "- Implement dynamic pricing models (e.g., offer discounts for early bookings or surge pricing for last-minute ones)\n",
        "\n",
        "- Target marketing for different lead-time segments (e.g., \"early birds\" vs. \"last-minute planners\")\n",
        "\n",
        "This directly improves both revenue management and operational planning.\n",
        "\n",
        "\n",
        "\n"
      ],
      "metadata": {
        "id": "wyGiseFGKcJk"
      }
    },
    {
      "cell_type": "markdown",
      "source": [
        "#####4. Are there any insights that lead to negative growth? Justify with specific reason."
      ],
      "metadata": {
        "id": "u0g56Xx8KcJk"
      }
    },
    {
      "cell_type": "markdown",
      "source": [
        "Yes - The long tail of bookings with very high lead times can lead to higher cancellation rates, which means:\n",
        "\n",
        "* Lost revenue if cancellations happen too close to arrival\n",
        "\n",
        "* Vacant rooms that can’t be resold last-minute\n",
        "\n",
        "* Waste of operational planning (staffing, supplies)\n",
        "\n",
        "These long lead-time bookings, if not secured with deposits or flexible policies, can contribute to negative growth due to unreliable revenue projection."
      ],
      "metadata": {
        "id": "Frvsk1_JKcJl"
      }
    },
    {
      "cell_type": "markdown",
      "source": [
        "#### Chart 4 - Distribution of ADR (Average Daily Rate)"
      ],
      "metadata": {
        "id": "-_Qm_nYZKcJl"
      }
    },
    {
      "cell_type": "code",
      "source": [
        "# Chart 4 - Visualization code\n",
        "\n",
        "# Features used - adr\n",
        "\n",
        "# Why this chart ?\n",
        "# The adr (Average Daily Rate) column reflects\n",
        "# the price charged per room per night —\n",
        "# it's a core revenue driver for hotels.\n",
        "\n",
        "\n",
        "# Filtering out extreme outliers for a cleaner plot\n",
        "filtered_df = df[df['adr'] < 500]  # remove extreme ADR outliers for visualization\n",
        "\n",
        "# Setting the figure size\n",
        "plt.figure(figsize=(10, 5))\n",
        "\n",
        "# Plotting distribution of ADR\n",
        "sns.histplot(filtered_df['adr'], bins=60, kde=True, color='mediumseagreen')\n",
        "\n",
        "# Adding titles and labels\n",
        "plt.title('Distribution of ADR (Average Daily Rate)', fontsize=14)\n",
        "plt.xlabel('ADR (Room Price per Night in EUR)', fontsize=12)\n",
        "plt.ylabel('Number of Bookings', fontsize=12)\n",
        "plt.grid(axis='y', linestyle='--', alpha=0.5)\n",
        "plt.tight_layout()\n",
        "\n",
        "# Showing the plot\n",
        "plt.show()\n"
      ],
      "metadata": {
        "id": "DwUIGgmxKcJm"
      },
      "execution_count": null,
      "outputs": []
    },
    {
      "cell_type": "markdown",
      "source": [
        "##### 1. Why did you pick the specific chart?"
      ],
      "metadata": {
        "id": "0DGoK324KcJm"
      }
    },
    {
      "cell_type": "markdown",
      "source": [
        "I chose a histogram with KDE (Kernel Density Estimation) because adr is a continuous numerical variable and we want to understand:\n",
        "\n",
        "* The distribution of room prices\n",
        "\n",
        "* Whether most guests are paying low, medium, or high rates\n",
        "\n",
        "* The presence of outliers or pricing anomalies\n",
        "\n",
        "It's important for both revenue analysis and pricing strategy.\n",
        "\n"
      ],
      "metadata": {
        "id": "atl5g4OiKcJ0"
      }
    },
    {
      "cell_type": "markdown",
      "source": [
        "##### 2. What is/are the insight(s) found from the chart?"
      ],
      "metadata": {
        "id": "kOX8vz1fKcJ1"
      }
    },
    {
      "cell_type": "markdown",
      "source": [
        "* The majority of bookings fall in the €50–€150 range per night.\n",
        "\n",
        "* The distribution is right-skewed with a few bookings having ADR > €300 — likely outliers or special cases (e.g., group bookings or luxury rooms).\n",
        "\n",
        "* There's a smooth density curve indicating relatively consistent pricing strategy with some pricing variance.\n",
        "\n",
        "This shows that most guests choose moderately priced rooms, and luxury/high-end bookings are much less common."
      ],
      "metadata": {
        "id": "zHACVPnSKcJ1"
      }
    },
    {
      "cell_type": "markdown",
      "source": [
        "##### 3. Will the gained insights help creating a positive business impact?\n"
      ],
      "metadata": {
        "id": "jV6i4SG1KcJ2"
      }
    },
    {
      "cell_type": "markdown",
      "source": [
        "Yes. Understanding ADR helps in:\n",
        "\n",
        "* Optimizing pricing strategies for different seasons or customer types\n",
        "\n",
        "* Designing promotional offers around the most common price brackets\n",
        "\n",
        "* Segmenting customers into price-sensitive vs. premium-paying groups\n",
        "\n",
        "* Identifying unusual pricing cases or errors in data entry\n",
        "\n",
        "ADR is directly tied to revenue, so any insight here has high business value.\n"
      ],
      "metadata": {
        "id": "NgmzJhT6KcJ2"
      }
    },
    {
      "cell_type": "markdown",
      "source": [
        "##### 4. Are there any insights that lead to negative growth? Justify with specific reason."
      ],
      "metadata": {
        "id": "h5A3I1z_KcJ3"
      }
    },
    {
      "cell_type": "markdown",
      "source": [
        "Yes - possible negative indicators:\n",
        "\n",
        "* Very low ADR values might indicate discounted or loss-making sales, potentially hurting profitability.\n",
        "\n",
        "* Outlier high ADRs (e.g., > €500) might result in customer dissatisfaction or indicate data entry issues if not valid.\n",
        "\n",
        "* If pricing is too static, hotels may miss out on dynamic pricing opportunities to maximize profit.\n",
        "\n",
        "Hence, outlier monitoring and ADR optimization are crucial for long-term growth.\n"
      ],
      "metadata": {
        "id": "Jd_pHkABKcJ3"
      }
    },
    {
      "cell_type": "markdown",
      "source": [
        "#### Chart 5 - Distribution of Bookings Per Month"
      ],
      "metadata": {
        "id": "-RhvMIyWKcJ3"
      }
    },
    {
      "cell_type": "code",
      "source": [
        "# Chart 5 - Visualization code\n",
        "\n",
        "# Features used - arrival_date_month\n",
        "\n",
        "# Why this chart ?\n",
        "# 1. Business Relevance – Hotels operate in a highly seasonal industry.\n",
        "#     Understanding monthly booking trends helps in forecasting demand, planning staff schedules,\n",
        "#     managing inventory, and optimizing pricing strategies.\n",
        "# 2. Customer Behavior Insight – It reveals seasonality and peak/off-peak months.\n",
        "#     For example, high bookings in holiday months vs. low bookings in off-seasons.\n",
        "# 3. Positive Business Impact – Insights from monthly booking trends allow hotels to:\n",
        "#       - Run targeted marketing campaigns during low-demand months.\n",
        "#       - Adjust pricing strategies to maximize profit during peak months.\n",
        "#       - Optimize resource allocation (staff, rooms, amenities).\n",
        "# 4. Negative Growth Signals – If certain months consistently show low bookings,\n",
        "#      it may indicate poor promotions, lack of demand, or competitive disadvantage\n",
        "#      during that season. This insight can prevent revenue leakage.\n",
        "\n",
        "\n",
        "# Setting the theme for better visuals\n",
        "sns.set_theme(style=\"whitegrid\")\n",
        "\n",
        "# Step 1: Creating a new column for month order to sort properly\n",
        "month_order = ['January', 'February', 'March', 'April', 'May', 'June',\n",
        "               'July', 'August', 'September', 'October', 'November', 'December']\n",
        "\n",
        "# Step 2: Grouping by month to get booking counts\n",
        "monthly_bookings = df['arrival_date_month'].value_counts().reindex(month_order)\n",
        "\n",
        "# Step 3: Plotting the bar chart\n",
        "plt.figure(figsize=(12,6))\n",
        "sns.barplot(x=monthly_bookings.index, y=monthly_bookings.values, palette='YlGnBu')\n",
        "\n",
        "# Adding labels and title\n",
        "plt.title('Number of Bookings Per Month', fontsize=16, fontweight='bold')\n",
        "plt.xlabel('Month')\n",
        "plt.ylabel('Number of Bookings')\n",
        "\n",
        "# Annotating values on bars\n",
        "for i, value in enumerate(monthly_bookings.values):\n",
        "    plt.text(i, value + 200, str(value), ha='center', va='bottom', fontweight='bold')\n",
        "\n",
        "plt.xticks(rotation=45)\n",
        "plt.tight_layout()\n",
        "plt.show()\n"
      ],
      "metadata": {
        "id": "9f-paRfkKcJ4"
      },
      "execution_count": null,
      "outputs": []
    },
    {
      "cell_type": "markdown",
      "source": [
        "##### 1. Why did you pick the specific chart?"
      ],
      "metadata": {
        "id": "Ku5_6DR8KcJ5"
      }
    },
    {
      "cell_type": "markdown",
      "source": [
        "I chose a **bar** chart to represent the number of bookings per month because :\n",
        "\n",
        "* Bar charts are ideal for comparing categorical data like months.\n",
        "\n",
        "* Since hotel booking is a time-sensitive business, visualizing seasonal trends across months is crucial to identifying **peak** and **off-peak periods**.\n",
        "\n",
        "* This chart helps easily spot fluctuations in customer volume over the year."
      ],
      "metadata": {
        "id": "B-IjSEmgKcJ5"
      }
    },
    {
      "cell_type": "markdown",
      "source": [
        "##### 2. What is/are the insight(s) found from the chart?"
      ],
      "metadata": {
        "id": "aPWzUHn2KcJ6"
      }
    },
    {
      "cell_type": "markdown",
      "source": [
        "* The chart typically shows that July and August have the highest number of bookings, suggesting peak tourist season in those months.\n",
        "\n",
        "* April and May usually also see moderate booking levels, likely due to holidays and New Year travel.\n",
        "\n",
        "* Months like January and November often have lower bookings, indicating off-peak periods.\n",
        "\n",
        "* These patterns help us understand customer seasonality, travel preferences, and help prepare for resource allocation during peak times."
      ],
      "metadata": {
        "id": "meuH0VEgKcJ6"
      }
    },
    {
      "cell_type": "markdown",
      "source": [
        "##### 3. Will the gained insights help creating a positive business impact?\n"
      ],
      "metadata": {
        "id": "nu___7T9KcJ7"
      }
    },
    {
      "cell_type": "markdown",
      "source": [
        "Yes, absolutely. This insight is directly tied to revenue planning and inventory management:\n",
        "\n",
        "* Hotels can increase prices during peak months to maximize profit (yield management).\n",
        "\n",
        "* Staffing and inventory (like room service, amenities, parking, etc.) can be increased in advance for busy periods.\n",
        "\n",
        "* During off-peak months, hotels can run discounted campaigns to increase occupancy or partner with travel agencies.\n"
      ],
      "metadata": {
        "id": "rS5wOb9CKcJ7"
      }
    },
    {
      "cell_type": "markdown",
      "source": [
        "##### 4. Are there any insights that lead to negative growth? Justify with specific reason."
      ],
      "metadata": {
        "id": "VJvw2yhhKcJ7"
      }
    },
    {
      "cell_type": "markdown",
      "source": [
        "Yes. If bookings are consistently low in certain months (e.g., November or March), this could indicate:\n",
        "\n",
        "* Lack of promotions during those months.\n",
        "\n",
        "* Unfavorable weather or local conditions.\n",
        "\n",
        "* Poor visibility in travel portals during those times.\n",
        "\n",
        "Not acting on these low-performing months could lead to negative growth. But with this insight, hotels can strategically boost bookings through offers, partnerships, or local events.\n"
      ],
      "metadata": {
        "id": "RNIrp6olKcJ8"
      }
    },
    {
      "cell_type": "markdown",
      "source": [
        "#### Chart 6 - Distribution of Bookings across Market Segments"
      ],
      "metadata": {
        "id": "Y9kkGy_uLBtK"
      }
    },
    {
      "cell_type": "code",
      "source": [
        "# Chart 6 - Visualisation Code.\n",
        "\n",
        "# Features used - market_segment\n",
        "\n",
        "# Why this chart ?\n",
        "# The market_segment column tells where the booking came from —\n",
        "# e.g., online travel agencies, direct bookings, corporate bookings, etc.\n",
        "# This is extremely valuable for marketing, sales strategy,\n",
        "# and customer acquisition cost analysis.\n",
        "\n",
        "\n",
        "# Storing value of total number of rows for further use\n",
        "rows = len(df)\n",
        "\n",
        "# Creating subplot\n",
        "fig, ax = plt.subplots(figsize = (10,5))\n",
        "\n",
        "# Filtering dataset and clipping neccessary data.\n",
        "x = df['market_segment'].value_counts().index\n",
        "y = [round((i*100 / rows),1) for i in df['market_segment'].value_counts().values]\n",
        "\n",
        "# Setting random sizes for markers\n",
        "s = (np.random.randint(150,200,len(x)))\n",
        "\n",
        "# Customising grid and axes.\n",
        "ax.spines['top'].set_visible(False)\n",
        "ax.spines['right'].set_visible(False)\n",
        "ax.tick_params(bottom=False, left=False)\n",
        "ax.set_axisbelow(True)\n",
        "ax.yaxis.grid(True)\n",
        "ax.xaxis.grid(False)\n",
        "\n",
        "# Characterising Plot.\n",
        "plt.scatter(x, y ,marker = 'o', s=s, alpha=0.5, c=np.random.rand(len(x)))\n",
        "\n",
        "# Code to display title and labels for x,y axes.\n",
        "plt.title('Distribution of Bookings Over Market Segment', fontdict={'fontsize' : 15})\n",
        "plt.xlabel('Market Segment', fontdict={'fontsize' : 15} , labelpad = 10 )\n",
        "plt.ylabel('Perecentage of Total Bookings', fontdict={'fontsize' : 15})\n",
        "\n",
        "# Code for showing values of marker.\n",
        "for i in range(len(x)):\n",
        "    plt.annotate(f\"{y[i]}%\", (i-0.2, y[i]+3), fontsize = 11)\n",
        "\n",
        "# Tweak spacing to prevent clipping of ylabel\n",
        "plt.subplots_adjust(left=0.15)\n",
        "\n",
        "# Setting limits for y axis.\n",
        "ax.set_ylim(-10,70)\n",
        "\n",
        "ax.tick_params(axis = 'x', length=4, labelrotation = 20, pad = 2 ,\n",
        "                       labelcolor='black', grid_color='b')\n",
        "\n",
        "ax.xaxis.set_major_locator(mpl.ticker.MultipleLocator(base=1))\n",
        "\n",
        "# Plotting chart.\n",
        "plt.show()\n"
      ],
      "metadata": {
        "id": "H_ghsDOKLBtU"
      },
      "execution_count": null,
      "outputs": []
    },
    {
      "cell_type": "markdown",
      "source": [
        "##### 1. Why did you pick the specific chart?"
      ],
      "metadata": {
        "id": "Ohq1dBtYLBtV"
      }
    },
    {
      "cell_type": "markdown",
      "source": [
        "I chose this chart because understanding booking sources is essential for:\n",
        "\n",
        "* Evaluating where customers are coming from\n",
        "\n",
        "* Identifying the most effective booking channels\n",
        "\n",
        "* Recognizing opportunities to increase direct bookings (which often have lower acquisition cost)\n",
        "\n",
        "A scatter plot is appropriate since market_segment is a categorical feature and we're comparing frequency of each category.\n",
        "\n"
      ],
      "metadata": {
        "id": "p0JMMo0lLBtV"
      }
    },
    {
      "cell_type": "markdown",
      "source": [
        "##### 2. What is/are the insight(s) found from the chart?"
      ],
      "metadata": {
        "id": "9uOvm5KTLBtW"
      }
    },
    {
      "cell_type": "markdown",
      "source": [
        "* Online Travel Agents (OTA) dominate the bookings by far, followed by offline travel agents and direct bookings.\n",
        "\n",
        "* Segments like corporate, groups, and complementary are relatively smaller.\n",
        "\n",
        "* Direct bookings are much fewer, which might mean higher dependency on third-party platforms.\n",
        "\n",
        "This reveals which marketing and distribution channels the business relies on most."
      ],
      "metadata": {
        "id": "CyE7fBAELBtW"
      }
    },
    {
      "cell_type": "markdown",
      "source": [
        "##### 3. Will the gained insights help creating a positive business impact?\n"
      ],
      "metadata": {
        "id": "1ufW5Cd3LBtW"
      }
    },
    {
      "cell_type": "markdown",
      "source": [
        "Absolutely. This insight can guide:\n",
        "\n",
        "* Marketing spend optimization (e.g., spend more on high-converting channels)\n",
        "\n",
        "* Reducing OTA dependency by increasing direct booking offers\n",
        "\n",
        "* Building corporate partnerships or expanding underperforming segments\n",
        "\n",
        "* Tailoring customer service to segment expectations\n",
        "\n",
        "Booking source is a key strategic driver in hospitality.\n"
      ],
      "metadata": {
        "id": "lsC3RdFlLBtX"
      }
    },
    {
      "cell_type": "markdown",
      "source": [
        "##### 4. Are there any insights that lead to negative growth? Justify with specific reason."
      ],
      "metadata": {
        "id": "hy9pMkhLLBtX"
      }
    },
    {
      "cell_type": "markdown",
      "source": [
        "Yes - Over-reliance on third-party platforms like OTAs can:\n",
        "\n",
        "- Eat into profit margins due to commission fees\n",
        "\n",
        "- Reduce brand loyalty and customer retention\n",
        "\n",
        "- Cause pricing pressure due to platform competition\n",
        "\n",
        "If direct and corporate bookings remain low, hotels miss out on higher-margin business, which can impact long-term growth."
      ],
      "metadata": {
        "id": "0QfgkR2eLBtY"
      }
    },
    {
      "cell_type": "markdown",
      "source": [
        "#### Chart 7 - Meal Preferences Distribution"
      ],
      "metadata": {
        "id": "-AvtjkFeLBtY"
      }
    },
    {
      "cell_type": "code",
      "source": [
        "# Chart 7 - Visualization code\n",
        "\n",
        "# Features used - meal\n",
        "\n",
        "# Why this chart ?\n",
        "# Hotels not only earn from room bookings but also from F&B (Food & Beverages) services.\n",
        "# Knowing which meal types (BB – Bed & Breakfast, HB – Half Board, FB – Full Board,\n",
        "# SC – Self Catering, etc.) are preferred gives valuable insight into guest consumption behavior.\n",
        "# Hotels can optimize kitchen operations and staffing according to demand.\n",
        "# Allows better menu planning & cost control.\n",
        "# Helps in designing custom offers/packages\n",
        "\n",
        "# Getting value counts for meal types\n",
        "meal_counts = df['meal'].value_counts()\n",
        "labels = meal_counts.index\n",
        "sizes = meal_counts.values\n",
        "total = sizes.sum()\n",
        "\n",
        "# Preparing legend labels: Meal Type (Count - %)\n",
        "legend_labels = [\n",
        "    f\"{label} ({count} - {count/total:.1%})\"\n",
        "    for label, count in zip(labels, sizes)\n",
        "]\n",
        "\n",
        "# Setting up figure\n",
        "plt.figure(figsize=(8, 8))\n",
        "\n",
        "# Drawing pie chart (percent only inside pie)\n",
        "wedges, _, _ = plt.pie(\n",
        "    sizes,\n",
        "    autopct='%1.1f%%',\n",
        "    startangle=140,\n",
        "    colors=plt.cm.Pastel1.colors,\n",
        "    textprops=dict(color=\"black\", fontsize=11)\n",
        ")\n",
        "\n",
        "# Adding legend with full labels\n",
        "plt.legend(\n",
        "    wedges, legend_labels,\n",
        "    title='Meal Types',\n",
        "    loc='center left',\n",
        "    bbox_to_anchor=(1, 0.5),\n",
        "    fontsize=11\n",
        ")\n",
        "\n",
        "# Setting title\n",
        "plt.title('Meal Plan Distribution Among Guests', fontsize=14)\n",
        "\n",
        "# Final layout\n",
        "plt.tight_layout()\n",
        "plt.show()"
      ],
      "metadata": {
        "id": "Oc8hqM0sLBtZ"
      },
      "execution_count": null,
      "outputs": []
    },
    {
      "cell_type": "markdown",
      "source": [
        "##### 1. Why did you pick the specific chart?"
      ],
      "metadata": {
        "id": "yG2gsyPELBta"
      }
    },
    {
      "cell_type": "markdown",
      "source": [
        "I chose a pie chart for this categorical variable because:\n",
        "\n",
        "* It clearly communicates proportions of meal plans\n",
        "\n",
        "* It's visually intuitive and effective for variables with a few distinct categories\n",
        "\n"
      ],
      "metadata": {
        "id": "bictQkp_LBta"
      }
    },
    {
      "cell_type": "markdown",
      "source": [
        "##### 2. What is/are the insight(s) found from the chart?"
      ],
      "metadata": {
        "id": "0SJzcXMaLBtb"
      }
    },
    {
      "cell_type": "markdown",
      "source": [
        "* The most popular meal plan is BB (Bed & Breakfast), making up the majority of bookings.\n",
        "\n",
        "* Other meal types like HB (Half Board) and FB (Full Board) are much less common.\n",
        "\n",
        "* A small portion of bookings had no meal plan.\n",
        "\n",
        "This indicates that guests prefer simpler meal options, or maybe that breakfast is bundled more often than full meals."
      ],
      "metadata": {
        "id": "PzLWwyvvLBtb"
      }
    },
    {
      "cell_type": "markdown",
      "source": [
        "##### 3. Will the gained insights help creating a positive business impact?\n"
      ],
      "metadata": {
        "id": "MROMHtV5LBtb"
      }
    },
    {
      "cell_type": "markdown",
      "source": [
        "Yes. The hotel can:\n",
        "\n",
        "* Focus on optimizing breakfast services, since it's in high demand\n",
        "\n",
        "* Offer upsell campaigns to convert BB customers to HB/FB plans\n",
        "\n",
        "* Rethink pricing for meal plans if certain types are underperforming\n",
        "\n",
        "It also helps with kitchen resource planning and menu design.\n"
      ],
      "metadata": {
        "id": "FHq9zVfrLBtc"
      }
    },
    {
      "cell_type": "markdown",
      "source": [
        "##### 4. Are there any insights that lead to negative growth? Justify with specific reason."
      ],
      "metadata": {
        "id": "jAxJUbuxLBtc"
      }
    },
    {
      "cell_type": "markdown",
      "source": [
        "Yes -\n",
        "* Low adoption of HB/FB may suggest that the meal pricing or menu variety isn't attractive enough\n",
        "\n",
        "* If meal plans aren't contributing to profit, the hotel could be missing out on cross-selling opportunities\n",
        "\n",
        "* Having too many underused meal options increases operational complexity and food waste\n",
        "\n",
        "Understanding this distribution can help hotels simplify offerings and increase F&B profitability."
      ],
      "metadata": {
        "id": "gI-oRSLMLBtc"
      }
    },
    {
      "cell_type": "markdown",
      "source": [
        "#### Chart 8 - Top 10 Countries by Guest Count"
      ],
      "metadata": {
        "id": "5OMgRsunLBte"
      }
    },
    {
      "cell_type": "code",
      "source": [
        "# Chart 8 - Visualization code\n",
        "\n",
        "# Features used - country\n",
        "\n",
        "# Why this chart ?\n",
        "# 1. Important for geographic segmentation\n",
        "# 2. Helps identify profitable markets and potential for region-specific promotions\n",
        "# 3. Shows how well the hotel brand is performing internationally vs. domestically\n",
        "# 4. Essential for making decisions around multi-lingual support,\n",
        "#    currency acceptance, and marketing focus\n",
        "\n",
        "# Creating a DataFrame for top 10 countries\n",
        "country_df = df['country'].value_counts().sort_values(ascending=False).reset_index().head(10)\n",
        "country_df.columns = ['country', 'count']\n",
        "\n",
        "# Calculating percentage of bookings per country\n",
        "X = country_df['country']\n",
        "Y = [round(((i * 100) / rows), 2) for i in country_df['count']]\n",
        "\n",
        "# Plotting setup\n",
        "fig, ax = plt.subplots(figsize=(10, 6))\n",
        "# ax.spines['top'].set_visible(False)\n",
        "# ax.spines['right'].set_visible(False)\n",
        "ax.tick_params(bottom=False, left=False)\n",
        "ax.set_axisbelow(True)\n",
        "ax.yaxis.grid(True, color='#C5C9C7')\n",
        "ax.xaxis.grid(False)\n",
        "\n",
        "# Plotting bars\n",
        "bar = ax.bar(X, Y)\n",
        "plt.title('Top 10 Countries Maximum Guests Come From', pad=20, fontsize=15)\n",
        "ax.set_xlabel(\"Country\", fontsize=15, labelpad=15)\n",
        "ax.set_ylabel(\"Percentage of Total Bookings\", fontsize=15, labelpad=15)\n",
        "\n",
        "# Gradient color function\n",
        "def gradientbars(bars, cmap):\n",
        "    ax = bars[0].axes\n",
        "    lim = ax.get_xlim() + (0, 35)\n",
        "    i = 0\n",
        "    for bar in bars:\n",
        "        bar.set_zorder(1)\n",
        "        bar.set_facecolor('none')\n",
        "        x, y = bar.get_xy()\n",
        "        w, h = bar.get_width(), bar.get_height()\n",
        "        grad = np.atleast_2d(np.linspace(0, 1, 256)).T\n",
        "        ax.imshow(grad, extent=[x+w, x, y, y+h], aspect='auto', zorder=1, cmap=plt.get_cmap(cmap))\n",
        "        plt.annotate(f\"{Y[i]}%\", (x+0.1, y+h+0.5), fontsize=12)\n",
        "        i += 1\n",
        "    ax.axis(lim)\n",
        "\n",
        "gradientbars(bar, 'winter')\n",
        "plt.tight_layout()\n",
        "plt.show()\n"
      ],
      "metadata": {
        "id": "BD_QInzMLBte"
      },
      "execution_count": null,
      "outputs": []
    },
    {
      "cell_type": "markdown",
      "source": [
        "##### 1. Why did you pick the specific chart?"
      ],
      "metadata": {
        "id": "2GZZbP-cLBte"
      }
    },
    {
      "cell_type": "markdown",
      "source": [
        "* I chose this chart to understand which countries contribute the most guests to the hotels.\n",
        "\n",
        "* A bar chart with country names is ideal for comparing geographic proportions.\n",
        "\n",
        "* Since business decisions vary significantly across regions (pricing, promotions, language support), this insight is crucial for hotel strategy\n",
        "\n"
      ],
      "metadata": {
        "id": "WgLlaedDLBtf"
      }
    },
    {
      "cell_type": "markdown",
      "source": [
        "##### 2. What is/are the insight(s) found from the chart?"
      ],
      "metadata": {
        "id": "x7GKRs5_LBtf"
      }
    },
    {
      "cell_type": "markdown",
      "source": [
        "* The majority of guests come from a few specific countries, such as Portugal, the UK, and France (based on typical trends).\n",
        "\n",
        "* The top 10 countries often account for a large portion of total bookings, indicating a concentration of market activity.\n",
        "\n",
        "* This helps identify key markets where the hotel is already strong."
      ],
      "metadata": {
        "id": "TBmT51Z_LBtg"
      }
    },
    {
      "cell_type": "markdown",
      "source": [
        "##### 3. Will the gained insights help creating a positive business impact?\n"
      ],
      "metadata": {
        "id": "VJpJaLfyLBtg"
      }
    },
    {
      "cell_type": "markdown",
      "source": [
        "Yes. These insights allow hotel businesses to:\n",
        "\n",
        "* Target advertisements and promotions in high-performing countries\n",
        "\n",
        "* Focus customer support efforts (e.g., language-specific services)\n",
        "\n",
        "* Expand presence in regions where the brand is already gaining traction\n",
        "\n",
        "* Design geo-specific offers (seasonal discounts, loyalty points, etc.)\n"
      ],
      "metadata": {
        "id": "ZTAF75tALBtg"
      }
    },
    {
      "cell_type": "markdown",
      "source": [
        "##### 4. Are there any insights that lead to negative growth? Justify with specific reason."
      ],
      "metadata": {
        "id": "VZEngIjRLBtg"
      }
    },
    {
      "cell_type": "markdown",
      "source": [
        "Yes. If certain countries never appear in the top list, it may indicate:\n",
        "\n",
        "* Poor market presence in those regions\n",
        "\n",
        "* Lack of brand awareness\n",
        "\n",
        "* Failure to support international payment, language, or travel needs\n",
        "\n",
        "Without addressing this gap, hotels may miss out on diversification and growth potential, especially from emerging travel markets."
      ],
      "metadata": {
        "id": "941h0CaLLBth"
      }
    },
    {
      "cell_type": "markdown",
      "source": [
        "#### Chart 9- Distribution of Total Guests"
      ],
      "metadata": {
        "id": "bU6KQsStLBth"
      }
    },
    {
      "cell_type": "code",
      "source": [
        "# Chart 9 - Visualization code\n",
        "\n",
        "# Features used :- total_guests\n",
        "\n",
        "# Why this chart ?\n",
        "# Helps in capacity planning and upselling opportunities (family rooms, larger suites, adjoining rooms).\n",
        "# Identifies target customer segments (e.g., if mostly business travelers book single occupancy).\n",
        "\n",
        "# Filtering to remove bookings with zero guests (just in case)\n",
        "filtered_df = df[df['total_guests'] > 0]\n",
        "\n",
        "# Setting figure size\n",
        "plt.figure(figsize=(10, 5))\n",
        "\n",
        "# Creating strip plot\n",
        "sns.stripplot(data=filtered_df, x='total_guests', color='teal', size=4, jitter=True)\n",
        "\n",
        "# Adding titles and labels\n",
        "plt.title('Distribution of Total Guests per Booking', fontsize=14)\n",
        "plt.xlabel('Total Number of Guests (Adults + Children + Babies)', fontsize=12)\n",
        "plt.ylabel('Density of Bookings', fontsize=12)\n",
        "plt.grid(axis='y', linestyle='--', alpha=0.5)\n",
        "plt.tight_layout()\n",
        "\n",
        "# Showing the plot\n",
        "plt.show()\n"
      ],
      "metadata": {
        "id": "bG_6HjSVLBth"
      },
      "execution_count": null,
      "outputs": []
    },
    {
      "cell_type": "markdown",
      "source": [
        "##### 1. Why did you pick the specific chart?"
      ],
      "metadata": {
        "id": "9zCvAuOXLBti"
      }
    },
    {
      "cell_type": "markdown",
      "source": [
        "* A strip plot shows the spread and density of a discrete numerical variable, which makes it great for total_guests.\n",
        "\n",
        "* Unlike histograms, it shows each data point and gives you a feel for concentration and outliers."
      ],
      "metadata": {
        "id": "XNgRCoIALBti"
      }
    },
    {
      "cell_type": "markdown",
      "source": [
        "##### 2. What is/are the insight(s) found from the chart?"
      ],
      "metadata": {
        "id": "8bTQLlLGLBtj"
      }
    },
    {
      "cell_type": "markdown",
      "source": [
        "* Most bookings are for 1-2 guests, which is expected (solo travelers, couples).\n",
        "\n",
        "* There are noticeable frequencies at 3 and 4 guests, indicating small families.\n",
        "\n",
        "* Higher guest counts (5-10+) are very rare but present — possibly group bookings or large families."
      ],
      "metadata": {
        "id": "stAS6XznLBtj"
      }
    },
    {
      "cell_type": "markdown",
      "source": [
        "##### 3. Will the gained insights help creating a positive business impact?\n"
      ],
      "metadata": {
        "id": "9XvxUAwuLBtk"
      }
    },
    {
      "cell_type": "markdown",
      "source": [
        "Yes! This data helps hotels:\n",
        "\n",
        "* Understand room capacity demand (single, double, family rooms)\n",
        "\n",
        "* Plan amenities (extra beds, cribs, etc.)\n",
        "\n",
        "* Optimize group vs. individual marketing strategies\n",
        "\n",
        "If 2-guest stays dominate, hotels can focus offers/packages toward couples or business travelers\n"
      ],
      "metadata": {
        "id": "zbkes_thLBtk"
      }
    },
    {
      "cell_type": "markdown",
      "source": [
        "##### 4. Are there any insights that lead to negative growth? Justify with specific reason."
      ],
      "metadata": {
        "id": "cgZlhG7qLBtl"
      }
    },
    {
      "cell_type": "markdown",
      "source": [
        "Yes - Very few large bookings may suggest the hotel is not appealing to group travelers.\n",
        "\n",
        "- If families feel constrained by room sizes or policies, they may choose other properties.\n",
        "\n",
        "- This could indicate missed revenue from larger-room upsells or group events.\n",
        "\n",
        "The hotel might consider targeting small groups or family bundles to grow this segment."
      ],
      "metadata": {
        "id": "UivEqyXRLBtl"
      }
    },
    {
      "cell_type": "markdown",
      "source": [
        "#### Chart 10 - Deposit Type Distribution"
      ],
      "metadata": {
        "id": "GX26SIMSLBtl"
      }
    },
    {
      "cell_type": "code",
      "source": [
        "# Chart 10 - Visualisation Code\n",
        "\n",
        "# Features used - deposit_type\n",
        "\n",
        "# Why this chart ?\n",
        "# This column indicates whether a customer made a\n",
        "# No Deposit, Non-Refundable, or Refundable deposit when booking.\n",
        "# It has direct implications for cancellations, revenue assurance, and customer trust.\n",
        "\n",
        "# Setting figure size\n",
        "plt.figure(figsize=(7, 5))\n",
        "\n",
        "# Creating count plot\n",
        "sns.countplot(data=df, x='deposit_type', palette='Set2', order=df['deposit_type'].value_counts().index)\n",
        "\n",
        "# Adding titles and labels\n",
        "plt.title('Distribution of Deposit Types', fontsize=14)\n",
        "plt.xlabel('Deposit Type', fontsize=12)\n",
        "plt.ylabel('Number of Bookings', fontsize=12)\n",
        "plt.tight_layout()\n",
        "\n",
        "# Showing the chart\n",
        "plt.show()\n"
      ],
      "metadata": {
        "id": "OoS9uDB0LBtm"
      },
      "execution_count": null,
      "outputs": []
    },
    {
      "cell_type": "markdown",
      "source": [
        "##### 1. Why did you pick the specific chart?"
      ],
      "metadata": {
        "id": "bYX7x_X3LBtm"
      }
    },
    {
      "cell_type": "markdown",
      "source": [
        "- Deposit policy is a key business lever: it affects cash flow, cancellation rates, and booking confidence.\n",
        "\n",
        "- A count plot clearly shows the preference or dominance of certain deposit types.\n",
        "\n",
        "This chart sets the stage for deeper future bivariate insights like deposit type vs cancellation rate.\n"
      ],
      "metadata": {
        "id": "P31_O26bLBtn"
      }
    },
    {
      "cell_type": "markdown",
      "source": [
        "##### 2. What is/are the insight(s) found from the chart?"
      ],
      "metadata": {
        "id": "sbb8mo_cLBtn"
      }
    },
    {
      "cell_type": "markdown",
      "source": [
        "- The vast majority of bookings are made with No Deposit.\n",
        "\n",
        "- Non-Refundable deposits are a small minority.\n",
        "\n",
        "- Refundable deposits are extremely rare.\n",
        "\n",
        "This suggests that the hotel allows flexible booking for most customers — likely to attract volume."
      ],
      "metadata": {
        "id": "tfsSe4n2LBtn"
      }
    },
    {
      "cell_type": "markdown",
      "source": [
        "##### 3. Will the gained insights help creating a positive business impact?\n",
        "Are there any insights that lead to negative growth? Justify with specific reason."
      ],
      "metadata": {
        "id": "CtUG9liGLBto"
      }
    },
    {
      "cell_type": "markdown",
      "source": [
        "Absolutely. The business can use this insight to:\n",
        "\n",
        "- Evaluate the risk associated with cancellations\n",
        "\n",
        "- Design prepayment policies for specific customer segments\n",
        "\n",
        "- Test non-refundable incentives (e.g., offer small discounts for advance payment)\n",
        "\n",
        "It also helps in financial planning and forecasting."
      ],
      "metadata": {
        "id": "xvafd13jLBto"
      }
    },
    {
      "cell_type": "markdown",
      "source": [
        "##### Are there any insights that lead to negative growth? Justify with specific reason."
      ],
      "metadata": {
        "id": "IWxWG1A8LBto"
      }
    },
    {
      "cell_type": "markdown",
      "source": [
        "Yes:\n",
        "\n",
        "- Heavy reliance on No Deposit bookings makes the business vulnerable to last-minute cancellations.\n",
        "\n",
        "- This can lead to lost revenue, unbooked inventory, and operational inefficiencies.\n",
        "\n",
        "- A shift towards smartly positioned non-refundable policies could help secure cash flow.\n",
        "\n",
        "- The key is balance — don’t scare off customers, but don’t stay overly flexible either."
      ],
      "metadata": {
        "id": "TBrSJZ8hLBtp"
      }
    },
    {
      "cell_type": "markdown",
      "source": [
        "#### Chart 11 - Distribution of Booking Changes"
      ],
      "metadata": {
        "id": "GrknKkKLLBtp"
      }
    },
    {
      "cell_type": "code",
      "source": [
        "# Chart 11 -  visualization code\n",
        "\n",
        "# Features used - booking_changes\n",
        "\n",
        "# Why this chart ?\n",
        "# The booking_changes column tells us how many times a guest modified their reservation —\n",
        "# this affects staffing, room assignments, and even cancellation probabilities.\n",
        "\n",
        "\n",
        "# Preparing data: counting booking changes and filtering to top values\n",
        "change_counts = df['booking_changes'].value_counts().sort_index()\n",
        "filtered_changes = change_counts[change_counts.index < 10]  # limit to 0–9 changes\n",
        "\n",
        "# Setting plot size\n",
        "plt.figure(figsize=(8, 6))\n",
        "\n",
        "# Creating horizontal barplot\n",
        "bars = plt.barh(\n",
        "    y=filtered_changes.index.astype(str),\n",
        "    width=filtered_changes.values,\n",
        "    color='skyblue',\n",
        "    edgecolor='black'\n",
        ")\n",
        "\n",
        "# Annotating bars with values\n",
        "for bar in bars:\n",
        "    plt.text(bar.get_width() + 50, bar.get_y() + bar.get_height()/2,\n",
        "             f'{int(bar.get_width())}', va='center', fontsize=10)\n",
        "\n",
        "# Titles and labels\n",
        "plt.title('Number of Bookings by Booking Changes Count', fontsize=14)\n",
        "plt.xlabel('Number of Bookings', fontsize=12)\n",
        "plt.ylabel('Number of Changes Made', fontsize=12)\n",
        "plt.grid(axis='x', linestyle='--', alpha=0.4)\n",
        "plt.tight_layout()\n",
        "\n",
        "# Show the chart\n",
        "plt.show()\n"
      ],
      "metadata": {
        "id": "vYUULslvLBtq"
      },
      "execution_count": null,
      "outputs": []
    },
    {
      "cell_type": "markdown",
      "source": [
        "##### 1. Why did you pick the specific chart?"
      ],
      "metadata": {
        "id": "2S06hns6LBtq"
      }
    },
    {
      "cell_type": "markdown",
      "source": [
        "* This feature is numerical but discrete, so a bar plot shows frequency distribution more clearly than histogram.\n",
        "\n",
        "* booking_changes reveals guest behavior, operational friction, and can even signal booking uncertainty."
      ],
      "metadata": {
        "id": "2oyjr7QcLBtr"
      }
    },
    {
      "cell_type": "markdown",
      "source": [
        "##### 2. What is/are the insight(s) found from the chart?"
      ],
      "metadata": {
        "id": "H-vcumOqLBtr"
      }
    },
    {
      "cell_type": "markdown",
      "source": [
        "* Most guests make zero changes to their booking.\n",
        "\n",
        "* A smaller percentage make 1 or 2 changes.\n",
        "\n",
        "* Very few bookings involve 3+ changes, indicating edge cases or indecisive customers.\n",
        "\n",
        "This tells us the majority of bookings are stable once confirmed.\n"
      ],
      "metadata": {
        "id": "7PJZsjokLBtr"
      }
    },
    {
      "cell_type": "markdown",
      "source": [
        "##### 3. Will the gained insights help creating a positive business impact?\n"
      ],
      "metadata": {
        "id": "AD1PxGgBLBts"
      }
    },
    {
      "cell_type": "markdown",
      "source": [
        "Yes:\n",
        "\n",
        "* Hotels can identify which customer types or channels lead to more modifications\n",
        "\n",
        "* Minimize room shuffling and reassignments due to high-change bookings\n",
        "\n",
        "* Offer better UX in booking systems to reduce the need for changes\n",
        "\n",
        "Understanding this behavior improves staff planning and guest experience.\n",
        "\n"
      ],
      "metadata": {
        "id": "JOsOx98WLBts"
      }
    },
    {
      "cell_type": "markdown",
      "source": [
        "#####4. Are there any insights that lead to negative growth? Justify with specific reason."
      ],
      "metadata": {
        "id": "9nGyKzn8LBtt"
      }
    },
    {
      "cell_type": "markdown",
      "source": [
        "Yes:\n",
        "\n",
        "* Too many booking changes increase administrative overhead and room allocation complexity\n",
        "\n",
        "* For high-change guests, hotels might incur extra costs or overbookings\n",
        "\n",
        "* Could also be linked to higher cancellation risk\n",
        "\n",
        "Hotels might introduce limits or small fees for excessive changes to balance flexibility and cost."
      ],
      "metadata": {
        "id": "a1Zh_FEULBtt"
      }
    },
    {
      "cell_type": "markdown",
      "source": [
        "#### Chart 12 - Top 10 Agents Contributing to Business"
      ],
      "metadata": {
        "id": "cXMneEIRLBtt"
      }
    },
    {
      "cell_type": "code",
      "source": [
        "# Chart 12 -  Visualization code\n",
        "\n",
        "# Features used - agent\n",
        "\n",
        "# Why this chart ?\n",
        "# - Booking agents are crucial intermediaries in the hotel industry —\n",
        "#   they directly influence the volume and type of bookings.\n",
        "# - Some agents bring high-volume but high-cancellation customers (e.g., OTAs),\n",
        "#   while others (like corporate agents) may bring fewer but more reliable bookings.\n",
        "# - Identifying the top 10 agents helps the hotel:\n",
        "#       1. Build stronger partnerships\n",
        "#       2. Negotiate better commission rates\n",
        "#       3. Decide where to invest in B2B marketing\n",
        "\n",
        "\n",
        "# Creating layout\n",
        "fig, ax = plt.subplots(figsize=(10, 6))\n",
        "\n",
        "# Step 1: Preparing the data\n",
        "agent_df = df['agent'].value_counts().reset_index()\n",
        "agent_df.columns = ['Agent', 'Number of Bookings']\n",
        "agent_df = agent_df.sort_values(by='Number of Bookings', ascending=False).head(10)\n",
        "\n",
        "# Step 2: X and Y for plotting\n",
        "x = agent_df['Agent'].astype(str)\n",
        "y = agent_df['Number of Bookings'].apply(lambda i: round(i * 100 / len(df), 2))\n",
        "\n",
        "# Step 3: Creating stem plot\n",
        "plt.stem(x, y, linefmt='darkorchid', markerfmt='D', basefmt=\" \")\n",
        "\n",
        "# Annotating each point\n",
        "for i in range(len(x)):\n",
        "    plt.annotate(f\"{y[i]}%\", (i - 0.3, y[i] + 1), fontsize=11)\n",
        "\n",
        "# Chart styling\n",
        "ax.tick_params(bottom=False, left=False)\n",
        "ax.set_axisbelow(True)\n",
        "ax.yaxis.grid(True, color='#C5C9C7')\n",
        "ax.xaxis.grid(False)\n",
        "ax.set_ylim(0, max(y) + 10)\n",
        "\n",
        "# Labels and title\n",
        "ax.set_xlabel('Agent ID')\n",
        "ax.set_ylabel('Percentage of Total Bookings')\n",
        "ax.set_title('Top 10 Agents Who Made Maximum Bookings', pad=10)\n",
        "\n",
        "plt.tight_layout()\n",
        "plt.show()\n"
      ],
      "metadata": {
        "id": "9KIQ4YwnLBtu"
      },
      "execution_count": null,
      "outputs": []
    },
    {
      "cell_type": "markdown",
      "source": [
        "##### 1. Why did you pick the specific chart?"
      ],
      "metadata": {
        "id": "YXFyqIiNLBtu"
      }
    },
    {
      "cell_type": "markdown",
      "source": [
        "I chose this chart to identify the top-performing agents who bring the highest number of bookings.\n",
        "\n",
        "* A stem plot offers a clean and vertical visual representation, helping to highlight individual contributions clearly without clutter.\n",
        "\n",
        "* Since agents play a key role in the booking funnel, this analysis is crucial."
      ],
      "metadata": {
        "id": "eoMNEoZaLBtu"
      }
    },
    {
      "cell_type": "markdown",
      "source": [
        "##### 2. What is/are the insight(s) found from the chart?"
      ],
      "metadata": {
        "id": "TotPcH74LBtv"
      }
    },
    {
      "cell_type": "markdown",
      "source": [
        "* The top 10 agents contribute a significant percentage of all bookings, suggesting that a small number of agents are responsible for the majority of sales.\n",
        "\n",
        "* Some agents are high-volume contributors, and possibly tied to corporate or OTA platforms.\n",
        "\n",
        "* There's a long-tail distribution, where most agents contribute only a few bookings.\n"
      ],
      "metadata": {
        "id": "MoRAS9z7LBtv"
      }
    },
    {
      "cell_type": "markdown",
      "source": [
        "##### 3. Will the gained insights help creating a positive business impact?\n"
      ],
      "metadata": {
        "id": "g2sIYVQBLBtv"
      }
    },
    {
      "cell_type": "markdown",
      "source": [
        "Yes:\n",
        "\n",
        "* Hotels can identify which customer types or channels lead to more modifications\n",
        "\n",
        "* Minimize room shuffling and reassignments due to high-change bookings\n",
        "\n",
        "* Offer better UX in booking systems to reduce the need for changes\n",
        "\n",
        "Understanding this behavior improves staff planning and guest experience.\n",
        "\n"
      ],
      "metadata": {
        "id": "rgPokwfJLBtw"
      }
    },
    {
      "cell_type": "markdown",
      "source": [
        "##### 4. Are there any insights that lead to negative growth? Justify with specific reason."
      ],
      "metadata": {
        "id": "2GTeKNTpLBtw"
      }
    },
    {
      "cell_type": "markdown",
      "source": [
        "Yes:\n",
        "\n",
        "* Too many booking changes increase administrative overhead and room allocation complexity\n",
        "\n",
        "* For high-change guests, hotels might incur extra costs or overbookings\n",
        "\n",
        "* Could also be linked to higher cancellation risk\n",
        "\n",
        "Hotels might introduce limits or small fees for excessive changes to balance flexibility and cost."
      ],
      "metadata": {
        "id": "24-zCiaHLBtw"
      }
    },
    {
      "cell_type": "markdown",
      "source": [
        "#### Chart 13 - Distribution of Bookings across Distribution Channels"
      ],
      "metadata": {
        "id": "p2xnICMmLBtw"
      }
    },
    {
      "cell_type": "code",
      "source": [
        "# Chart 13 - Visualization code\n",
        "\n",
        "# Features used :- distribution_channel\n",
        "\n",
        "# Why this chart ?\n",
        "# Hotels rely heavily on distribution mix.\n",
        "# Too much reliance on OTAs (Online Travel Agencies like Booking.com, Expedia)\n",
        "# may reduce profit margins due to commissions.\n",
        "# A healthy share of direct bookings increases profitability.\n",
        "# Corporate channel strength indicates long-term business contracts.\n",
        "\n",
        "# Counting values for distribution_channel\n",
        "channel_counts = df['distribution_channel'].value_counts()\n",
        "\n",
        "# Plotting setup\n",
        "plt.figure(figsize=(8, 5))\n",
        "\n",
        "# Barplot sorted by frequency\n",
        "sns.barplot(x=channel_counts.index, y=channel_counts.values, palette='Set3')\n",
        "\n",
        "# Annotating bars with values\n",
        "for i, value in enumerate(channel_counts.values):\n",
        "    plt.text(i, value + 500, str(value), ha='center', fontsize=10)\n",
        "\n",
        "# Labels and title\n",
        "plt.title('Booking Distribution by Distribution Channel', fontsize=14)\n",
        "plt.xlabel('Distribution Channel', fontsize=12)\n",
        "plt.ylabel('Number of Bookings', fontsize=12)\n",
        "plt.tight_layout()\n",
        "\n",
        "# Showing plot\n",
        "plt.show()"
      ],
      "metadata": {
        "id": "qIPj0ftHLBtx"
      },
      "execution_count": null,
      "outputs": []
    },
    {
      "cell_type": "markdown",
      "source": [
        "##### 1. Why did you pick the specific chart?"
      ],
      "metadata": {
        "id": "rGJ08kKTLBtx"
      }
    },
    {
      "cell_type": "markdown",
      "source": [
        "* This feature represents how customers are acquired, which is central to sales strategy and partnership decisions.\n",
        "\n",
        "* A bar plot works best here as we’re comparing absolute frequencies across categorical values.\n",
        "\n",
        "* This version includes value labels for executive-style reporting."
      ],
      "metadata": {
        "id": "MRjFOAa-LBtx"
      }
    },
    {
      "cell_type": "markdown",
      "source": [
        "##### 2. What is/are the insight(s) found from the chart?"
      ],
      "metadata": {
        "id": "ZwopRZw0LBty"
      }
    },
    {
      "cell_type": "markdown",
      "source": [
        "* The majority of bookings come through the TA/TO (Travel Agent/Tour Operator) channel.\n",
        "\n",
        "* The Direct channel is significant but not dominant.\n",
        "\n",
        "* Corporate and GDS (Global Distribution Systems) are small contributors.\n",
        "\n",
        "This tells us the hotel heavily relies on intermediaries to get business."
      ],
      "metadata": {
        "id": "sOXxUvUQLBty"
      }
    },
    {
      "cell_type": "markdown",
      "source": [
        "##### 3. Will the gained insights help creating a positive business impact?\n"
      ],
      "metadata": {
        "id": "TX0zM7CLLBtz"
      }
    },
    {
      "cell_type": "markdown",
      "source": [
        "Absolutely:\n",
        "\n",
        "* Encourages investment in strengthening the direct channel (more profit, better control).\n",
        "\n",
        "* Allows targeted campaigns for underused channels like corporate partnerships.\n",
        "\n",
        "* Helps reduce dependency on travel agents, which often come with high commission.\n",
        "\n",
        "Optimizing channel strategy directly boosts profit margins and guest loyalty."
      ],
      "metadata": {
        "id": "vVu72w4fLBtz"
      }
    },
    {
      "cell_type": "markdown",
      "source": [
        "#####4. Are there any insights that lead to negative growth? Justify with specific reason."
      ],
      "metadata": {
        "id": "25aBDWv1LBtz"
      }
    },
    {
      "cell_type": "markdown",
      "source": [
        "Yes:\n",
        "\n",
        "* Over-reliance on TA/TO can hurt profitability due to high acquisition cost.\n",
        "\n",
        "* Too little direct booking traffic limits opportunities for brand engagement and upselling.\n",
        "\n",
        "* It makes the hotel vulnerable to OTA platform policies and price wars.\n",
        "\n",
        "Improving direct booking flow (via web/app/loyalty programs) is a strategic must."
      ],
      "metadata": {
        "id": "Dq4Zt-eZLBtz"
      }
    },
    {
      "cell_type": "markdown",
      "source": [
        "#### Chart 14 - Room Type Preferred by Customers"
      ],
      "metadata": {
        "id": "5_mLlq9uLBt0"
      }
    },
    {
      "cell_type": "code",
      "source": [
        "# Chart 14 - Visualization code\n",
        "\n",
        "# Features used - room_type\n",
        "\n",
        "# Why this chart ?\n",
        "# Understanding which room types are most preferred (reserved) by customers provides:\n",
        "#   - Insights into customer preferences\n",
        "#   - Opportunity for price optimization\n",
        "#   - Helps forecast demand for inventory management\n",
        "#   - Identifies any misalignment between what guests reserve vs. what they’re assigned\n",
        "\n",
        "\n",
        "# Setting the style\n",
        "sns.set_style(\"whitegrid\")\n",
        "\n",
        "# Counting plot of reserved room types\n",
        "plt.figure(figsize=(10,6))\n",
        "ax = sns.countplot(data=df, x='reserved_room_type', order=df['reserved_room_type'].value_counts().index, palette=\"crest\")\n",
        "\n",
        "# Adding counts on top of bars\n",
        "for container in ax.containers:\n",
        "    ax.bar_label(container, fmt='%d', label_type='edge', padding=2, fontsize=11)\n",
        "\n",
        "# Title and labels\n",
        "plt.title('Room Type Preferred by Customers', fontsize=16, fontweight='bold', pad=15)\n",
        "plt.xlabel('Reserved Room Type', fontsize=13)\n",
        "plt.ylabel('Number of Bookings', fontsize=13)\n",
        "plt.xticks(fontsize=11)\n",
        "plt.yticks(fontsize=11)\n",
        "plt.tight_layout()\n",
        "\n",
        "# Showing the plot\n",
        "plt.show()\n"
      ],
      "metadata": {
        "id": "cngslIi4LBt0"
      },
      "execution_count": null,
      "outputs": []
    },
    {
      "cell_type": "markdown",
      "source": [
        "##### 1. Why did you pick the specific chart?"
      ],
      "metadata": {
        "id": "5_dZ3j-ELBt0"
      }
    },
    {
      "cell_type": "markdown",
      "source": [
        "* I chose a bar chart because it is perfect for analyzing frequency of categorical data like room types.\n",
        "\n",
        "* It helps us clearly see which room categories are most popular among customers.\n",
        "\n",
        "* Understanding booking patterns by room type is vital for inventory and pricing strategy in the hospitality sector."
      ],
      "metadata": {
        "id": "2c4JpvryLBt1"
      }
    },
    {
      "cell_type": "markdown",
      "source": [
        "##### 2. What is/are the insight(s) found from the chart?"
      ],
      "metadata": {
        "id": "xfumiF4NLBt1"
      }
    },
    {
      "cell_type": "markdown",
      "source": [
        "* 'A' and 'D' room types are clearly preferred by most customers.\n",
        "\n",
        "* Some room types like 'L', 'P' and 'H' have very low demand, which may indicate either poor marketing, unsatisfactory features, or overpricing.\n",
        "\n",
        "* A mismatch between reserved and assigned room types may need further analysis to identify operational issues."
      ],
      "metadata": {
        "id": "Son506NbLBt1"
      }
    },
    {
      "cell_type": "markdown",
      "source": [
        "##### 3. Will the gained insights help creating a positive business impact?\n"
      ],
      "metadata": {
        "id": "stYYpvQBLBt2"
      }
    },
    {
      "cell_type": "markdown",
      "source": [
        "Yes, absolutely. Insights like this can:\n",
        "\n",
        "* Help hotels optimize their room inventory according to demand\n",
        "\n",
        "* Allow dynamic pricing on popular room types to boost revenue\n",
        "\n",
        "* Improve marketing focus on underperforming room types\n",
        "\n",
        "* Enhance customer satisfaction by aligning room supply with preferences"
      ],
      "metadata": {
        "id": "Hml6JhLtLBt2"
      }
    },
    {
      "cell_type": "markdown",
      "source": [
        "#####4. Are there any insights that lead to negative growth? Justify with specific reason."
      ],
      "metadata": {
        "id": "1JiBrZjELBt2"
      }
    },
    {
      "cell_type": "markdown",
      "source": [
        "Yes.\n",
        "\n",
        "* If the hotel consistently under-supplies high-demand room types, it leads to missed revenue opportunities and guest dissatisfaction.\n",
        "\n",
        "* Also, under-booked room types consume maintenance and staffing costs without returns.\n",
        "\n",
        "* This chart highlights potential misallocation of resources that can result in negative business growth if left unaddressed."
      ],
      "metadata": {
        "id": "YuLSHudELBt3"
      }
    },
    {
      "cell_type": "markdown",
      "source": [
        "#### Chart 15 - Percentage Distribution of Bookings by Customer Type"
      ],
      "metadata": {
        "id": "fa2zN3sGugUt"
      }
    },
    {
      "cell_type": "code",
      "source": [
        "# Chart 15 - Visualization code\n",
        "\n",
        "# Features used :- customer_type\n",
        "\n",
        "# Why this chart ?\n",
        "# Customer type (Transient, Group, Contract, Transient-party) directly reflects\n",
        "# the nature of guests staying at the hotel.\n",
        "# Hotels can optimize pricing, marketing, and service strategies\n",
        "# based on the dominant customer type.\n",
        "\n",
        "# Calculating percentage distribution of customer types\n",
        "customer_type_counts = df['customer_type'].value_counts(normalize=True) * 100\n",
        "customer_type_percent = customer_type_counts.reset_index()\n",
        "customer_type_percent.columns = ['Customer Type', 'Percentage']\n",
        "\n",
        "# Creating the percentage bar chart\n",
        "plt.figure(figsize=(8,6))\n",
        "ax = sns.barplot(\n",
        "    x='Customer Type',\n",
        "    y='Percentage',\n",
        "    data=customer_type_percent,\n",
        "    palette='Set2'\n",
        ")\n",
        "\n",
        "# Adding title and labels\n",
        "plt.title(\"Percentage Distribution of Bookings by Customer Type\", fontsize=14, fontweight=\"bold\")\n",
        "plt.xlabel(\"Customer Type\", fontsize=12)\n",
        "plt.ylabel(\"Percentage of Bookings (%)\", fontsize=12)\n",
        "plt.xticks(rotation=30)\n",
        "\n",
        "# Annotating bars with percentages\n",
        "for p in ax.patches:\n",
        "    ax.annotate(\n",
        "        f'{p.get_height():.1f}%',\n",
        "        (p.get_x() + p.get_width() / 2., p.get_height()),\n",
        "        ha='center', va='bottom',\n",
        "        fontsize=10, color='black', fontweight='bold'\n",
        "    )\n",
        "\n",
        "plt.show()"
      ],
      "metadata": {
        "id": "wi3mh2N6s9aC"
      },
      "execution_count": null,
      "outputs": []
    },
    {
      "cell_type": "markdown",
      "source": [
        "##### 1. Why did you pick the specific chart?"
      ],
      "metadata": {
        "id": "sjhd6UMos9aC"
      }
    },
    {
      "cell_type": "markdown",
      "source": [
        "* I chose a percentage bar chart instead of a raw count chart because it gives a clearer view of the relative share of each customer type.\n",
        "* This makes it easier to compare categories and prioritize business strategies accordingly."
      ],
      "metadata": {
        "id": "1jqUbNWAs9aC"
      }
    },
    {
      "cell_type": "markdown",
      "source": [
        "##### 2. What is/are the insight(s) found from the chart?"
      ],
      "metadata": {
        "id": "wI_ENjJOs9aD"
      }
    },
    {
      "cell_type": "markdown",
      "source": [
        "* We can clearly see which customer type dominates hotel bookings (e.g., Transient customers often make up the majority, while Contract or Group bookings contribute much less)."
      ],
      "metadata": {
        "id": "CJC3stjrs9aD"
      }
    },
    {
      "cell_type": "markdown",
      "source": [
        "##### 3. Will the gained insights help creating a positive business impact?\n"
      ],
      "metadata": {
        "id": "C7odt9dFs9aD"
      }
    },
    {
      "cell_type": "markdown",
      "source": [
        "Yes.\n",
        "\n",
        "- By knowing the dominant customer type, hotels can optimize marketing efforts and personalize offers.\n",
        "\n",
        "\n",
        "- For example, if transient customers form ~75% of bookings, hotels should invest in dynamic pricing, targeted digital ads, and loyalty programs for solo travelers/couples."
      ],
      "metadata": {
        "id": "uhr6O0Ots9aD"
      }
    },
    {
      "cell_type": "markdown",
      "source": [
        "#####4. Are there any insights that lead to negative growth? Justify with specific reason."
      ],
      "metadata": {
        "id": "PCnTmTeOs9aE"
      }
    },
    {
      "cell_type": "markdown",
      "source": [
        "Yes.\n",
        "\n",
        "- If one segment (like groups or contracts) contributes very little, it shows underutilized business opportunities.\n",
        "\n",
        "- For instance, low group bookings may highlight poor partnerships with corporates or travel agencies.\n",
        "\n",
        "- This insight, while negative, helps management identify untapped revenue streams."
      ],
      "metadata": {
        "id": "2OFl19ZKs9aE"
      }
    },
    {
      "cell_type": "markdown",
      "source": [
        "#### Chart 16 - Percentage Distribution of Repeated vs Non-Repeated Guests (is_repeated)"
      ],
      "metadata": {
        "id": "7QRgCmFB6kxi"
      }
    },
    {
      "cell_type": "code",
      "source": [
        "# Chart 16 - Visualization code\n",
        "\n",
        "# Features used :- is_repeated\n",
        "\n",
        "# Why this chart?\n",
        "# Repeat guests are critical for business as they indicate customer loyalty\n",
        "# and satisfaction. A simple binary bar chart (with percentages) makes\n",
        "# retention trends easy to interpret and present.\n",
        "\n",
        "# Mapping binary values to more readable labels\n",
        "df['is_repeated_label'] = df['is_repeated_guest'].map({0: 'Non-Repeated Guests', 1: 'Repeated Guests'})\n",
        "\n",
        "# Calculating percentage distribution\n",
        "repeat_counts = df['is_repeated_label'].value_counts(normalize=True) * 100\n",
        "repeat_percent = repeat_counts.reset_index()\n",
        "repeat_percent.columns = ['Guest Type', 'Percentage']\n",
        "\n",
        "# Creating percentage bar chart\n",
        "plt.figure(figsize=(7,6))\n",
        "ax = sns.barplot(\n",
        "    x='Guest Type',\n",
        "    y='Percentage',\n",
        "    data=repeat_percent,\n",
        "    palette='coolwarm'\n",
        ")\n",
        "\n",
        "# Adding title and labels\n",
        "plt.title(\"Percentage Distribution of Repeated vs Non-Repeated Guests\", fontsize=14, fontweight=\"bold\")\n",
        "plt.xlabel(\"Guest Type\", fontsize=12)\n",
        "plt.ylabel(\"Percentage of Bookings (%)\", fontsize=12)\n",
        "\n",
        "# Annotating bars with percentages\n",
        "for p in ax.patches:\n",
        "    ax.annotate(\n",
        "        f'{p.get_height():.1f}%',\n",
        "        (p.get_x() + p.get_width() / 2., p.get_height()),\n",
        "        ha='center', va='bottom',\n",
        "        fontsize=10, color='black', fontweight='bold'\n",
        "    )\n",
        "\n",
        "plt.show()\n"
      ],
      "metadata": {
        "id": "sDFTFKRK6kxj"
      },
      "execution_count": null,
      "outputs": []
    },
    {
      "cell_type": "markdown",
      "source": [
        "##### 1. Why did you pick the specific chart?"
      ],
      "metadata": {
        "id": "lC24-Jp06kxk"
      }
    },
    {
      "cell_type": "markdown",
      "source": [
        "* I chose a percentage bar chart because it makes the comparison between repeated and non-repeated guests clear, while showing the proportion rather than just raw counts.\n",
        "\n",
        "* Percentages give a business-oriented understanding of loyalty rates."
      ],
      "metadata": {
        "id": "8LWDkbls6kxk"
      }
    },
    {
      "cell_type": "markdown",
      "source": [
        "##### 2. What is/are the insight(s) found from the chart?"
      ],
      "metadata": {
        "id": "Di5p5F2P6kxl"
      }
    },
    {
      "cell_type": "markdown",
      "source": [
        "* Typically, non-repeated guests dominate, with repeated guests forming a very small percentage.\n",
        "\n",
        "* This suggests that most customers book only once and do not return, which highlights an opportunity for improvement in retention strategies."
      ],
      "metadata": {
        "id": "ywtYFN0a6kxl"
      }
    },
    {
      "cell_type": "markdown",
      "source": [
        "##### 3. Will the gained insights help creating a positive business impact?\n"
      ],
      "metadata": {
        "id": "bIriQ4Ke6kxl"
      }
    },
    {
      "cell_type": "markdown",
      "source": [
        "Yes.\n",
        "\n",
        "* By identifying the small proportion of repeat guests, hotel management can design loyalty programs, discounts, or personalized offers to increase customer retention.\n",
        "\n",
        "* Even a small improvement in repeat guest percentage can significantly improve long-term revenue."
      ],
      "metadata": {
        "id": "3elYX7_e6kxl"
      }
    },
    {
      "cell_type": "markdown",
      "source": [
        "#####4. Are there any insights that lead to negative growth? Justify with specific reason."
      ],
      "metadata": {
        "id": "szkJ2ZrS6kxm"
      }
    },
    {
      "cell_type": "markdown",
      "source": [
        "Yes.\n",
        "\n",
        "* The insight that majority of guests are non-repeated is a negative growth factor because it shows low loyalty and high dependency on constant new customer acquisition, which increases marketing costs.\n",
        "\n",
        "* However, this negative insight provides a strategic direction to build retention strategies."
      ],
      "metadata": {
        "id": "BAE8gNxG6kxm"
      }
    },
    {
      "cell_type": "markdown",
      "source": [
        "#### Chart 17 - Distribution of Total Stay Duration"
      ],
      "metadata": {
        "id": "pzzakXTGPJnv"
      }
    },
    {
      "cell_type": "code",
      "source": [
        "# Chart 17 - Visualization code\n",
        "\n",
        "#Features used :- total_stays\n",
        "\n",
        "# Why this chart ?\n",
        "# Hotels care a lot about this because longer stays mean higher revenue\n",
        "# per booking but also risk of cancellations if too long.\n",
        "# From an EDA perspective, this feature helps in spotting unusual values\n",
        "# (e.g., guests staying 60+ nights → corporate bookings or data anomalies).\n",
        "\n",
        "# Creating histogram with KDE to show the distribution\n",
        "plt.figure(figsize=(10,6))\n",
        "sns.histplot(df['total_stays'], bins=30, kde=True, color='teal')\n",
        "\n",
        "# Adding labels, title, and styling\n",
        "plt.title(\"Distribution of Total Stay Duration\", fontsize=16, pad=15)\n",
        "plt.xlabel(\"Total Nights Stayed\", fontsize=14, labelpad=10)\n",
        "plt.ylabel(\"Number of Bookings\", fontsize=14, labelpad=10)\n",
        "plt.grid(axis='y', linestyle='--', alpha=0.7)\n",
        "\n",
        "# Showing the chart\n",
        "plt.show()\n"
      ],
      "metadata": {
        "id": "v_3y4kDd8zsb"
      },
      "execution_count": null,
      "outputs": []
    },
    {
      "cell_type": "markdown",
      "source": [
        "##### 1. Why did you pick the specific chart?"
      ],
      "metadata": {
        "id": "8eeYnhwW8zsc"
      }
    },
    {
      "cell_type": "markdown",
      "source": [
        "* I used a histogram with KDE because the variable total_stays is continuous (number of nights).\n",
        "\n",
        "* A histogram clearly shows the frequency distribution of different stay durations, while KDE smoothens the curve to highlight trends (short vs long stays)."
      ],
      "metadata": {
        "id": "CTmJeqYt8zsd"
      }
    },
    {
      "cell_type": "markdown",
      "source": [
        "##### 2. What is/are the insight(s) found from the chart?"
      ],
      "metadata": {
        "id": "QtPOsb-b8zsd"
      }
    },
    {
      "cell_type": "markdown",
      "source": [
        "* Most bookings are for short stays (1-7 nights).\n",
        "\n",
        "* Very few customers book stays longer than 15-20 nights.\n",
        "\n",
        "* The distribution is highly right-skewed, meaning outliers exist where some guests stayed for extremely long durations (possibly monthly stays or anomalies)."
      ],
      "metadata": {
        "id": "SyweTKA88zsd"
      }
    },
    {
      "cell_type": "markdown",
      "source": [
        "##### 3. Will the gained insights help creating a positive business impact?\n"
      ],
      "metadata": {
        "id": "h2o-Mc9J8zse"
      }
    },
    {
      "cell_type": "markdown",
      "source": [
        "Yes\n",
        "\n",
        "* Hotels can design packages (weekend offers, 1-week discounts) since most stays are short-term.\n",
        "\n",
        "* By understanding the average stay duration, hotels can optimize inventory and pricing strategies."
      ],
      "metadata": {
        "id": "jiu3wESe8zse"
      }
    },
    {
      "cell_type": "markdown",
      "source": [
        "#####4. Are there any insights that lead to negative growth? Justify with specific reason."
      ],
      "metadata": {
        "id": "hqjiVg5F8zse"
      }
    },
    {
      "cell_type": "markdown",
      "source": [
        "Potentially yes.\n",
        "\n",
        "* Very long stays (30+ nights) may block room availability for higher-paying short-term guests, leading to lost revenue opportunities.\n",
        "\n",
        "* Hotels may need to review such cases (are they corporate bulk bookings or system errors?) to avoid misallocation of resources."
      ],
      "metadata": {
        "id": "jwUsYBLJ8zsf"
      }
    },
    {
      "cell_type": "markdown",
      "source": [
        "#### Chart 18 - Distribution of Revenue"
      ],
      "metadata": {
        "id": "yBQc0r5NRo2r"
      }
    },
    {
      "cell_type": "code",
      "source": [
        "# Chart 18 - Visualization code\n",
        "\n",
        "#Features used :- revenue\n",
        "\n",
        "# Why this chart ?\n",
        "# Revenue is the most critical business metric → it directly reflects hotel profitability.\n",
        "# Visualizing its distribution highlights how much revenue most bookings generate,\n",
        "# and whether revenue is concentrated in a small number of bookings (e.g., luxury packages) or\n",
        "# more evenly spread.\n",
        "\n",
        "# Note -\n",
        "# Revenue distribution is usually heavily right-skewed\n",
        "# (a few very large bookings can distort the view).\n",
        "# Hence making log transformation to properly visualize,\n",
        "# otherwise small-to-medium revenue bookings may appear compressed.\n",
        "\n",
        "\n",
        "# Cleaning data\n",
        "# Removing records where revenue is zero or negative (invalid/technical entries)\n",
        "revenue_data = df[df['revenue'] > 0]['revenue']\n",
        "\n",
        "# Creating histogram\n",
        "plt.figure(figsize=(10,6))\n",
        "plt.hist(revenue_data, bins=100, color=\"skyblue\", edgecolor=\"black\", alpha=0.7, log=True)\n",
        "\n",
        "# Chart formatting\n",
        "plt.title(\"Revenue Distribution per Booking\", fontsize=16, pad=15)\n",
        "plt.xlabel(\"Revenue (log scale)\", fontsize=14, labelpad=10)\n",
        "plt.ylabel(\"Number of Bookings (log scale)\", fontsize=14, labelpad=10)\n",
        "plt.grid(axis='y', linestyle='--', alpha=0.7)\n",
        "\n",
        "plt.show()\n"
      ],
      "metadata": {
        "id": "T_wsLkVBRo2s"
      },
      "execution_count": null,
      "outputs": []
    },
    {
      "cell_type": "markdown",
      "source": [
        "##### 1. Why did you pick the specific chart?"
      ],
      "metadata": {
        "id": "tF-npuTURo2s"
      }
    },
    {
      "cell_type": "markdown",
      "source": [
        "* I chose a log-scaled histogram because revenue data is typically highly skewed (most bookings bring in small-to-moderate revenue, while a few high-value bookings generate extremely large revenue).\n",
        "\n",
        "\n",
        "* Using log scaling ensures both low-value and high-value bookings are visible, preventing distortion."
      ],
      "metadata": {
        "id": "U45UoEDCRo2t"
      }
    },
    {
      "cell_type": "markdown",
      "source": [
        "##### 2. What is/are the insight(s) found from the chart?"
      ],
      "metadata": {
        "id": "LQCZlY9mRo2t"
      }
    },
    {
      "cell_type": "markdown",
      "source": [
        "* The majority of bookings fall into low-to-moderate revenue ranges.\n",
        "\n",
        "* A small proportion of bookings contribute very high revenue, creating a long tail distribution.\n",
        "\n",
        "* This indicates that hotels may rely heavily on a small group of premium customers or large group bookings for significant revenue share."
      ],
      "metadata": {
        "id": "1IRtj0QlRo2t"
      }
    },
    {
      "cell_type": "markdown",
      "source": [
        "##### 3. Will the gained insights help creating a positive business impact?\n"
      ],
      "metadata": {
        "id": "YnAxnKs9Ro2t"
      }
    },
    {
      "cell_type": "markdown",
      "source": [
        "Yes. These insights can guide:\n",
        "\n",
        "* **Revenue strategy:** Hotels can focus marketing on high-value customer segments to maximize profit.\n",
        "\n",
        "* **Dynamic pricing:** Identifying ranges where most customers fall helps refine ADR pricing strategy.\n",
        "\n",
        "* **Promotions:** For low-revenue groups, targeted upselling (room upgrades, meals, packages) can boost profitability"
      ],
      "metadata": {
        "id": "g62OpaIERo2u"
      }
    },
    {
      "cell_type": "markdown",
      "source": [
        "#####4. Are there any insights that lead to negative growth? Justify with specific reason."
      ],
      "metadata": {
        "id": "TJvZ6s99Ro2u"
      }
    },
    {
      "cell_type": "markdown",
      "source": [
        "Yes. If too much dependence is on a few high-value bookings, it creates revenue risk:\n",
        "\n",
        "* If these customers stop booking, revenue may drop disproportionately.\n",
        "\n",
        "* Heavy reliance on discounts to attract smaller bookings might also reduce average profitability.\n",
        "\n",
        "* This means hotels must balance their customer mix — attract more mid-range customers while retaining premium ones."
      ],
      "metadata": {
        "id": "yJwvTBnkRo2u"
      }
    },
    {
      "cell_type": "markdown",
      "source": [
        "###  Bivariate Analysis"
      ],
      "metadata": {
        "id": "oi95qIA5jfCa"
      }
    },
    {
      "cell_type": "markdown",
      "source": [
        "#### Chart 19 - Distribution of ADR by Hotel Type"
      ],
      "metadata": {
        "id": "n3dbpmDWp1ck"
      }
    },
    {
      "cell_type": "code",
      "source": [
        "# Chart 19 - Visualization code\n",
        "\n",
        "# Features used :- adr, hotel\n",
        "\n",
        "# Why this chart ?\n",
        "# ADR is directly tied to revenue and pricing strategy.\n",
        "# Comparing ADR across hotel types (City Hotel vs. Resort Hotel) reveals how each segment is priced\n",
        "# and which category drives higher revenue per night.\n",
        "# It will show whether one hotel type consistently charges more and how wide the variation is.\n",
        "# These insights can guide revenue management teams in adjusting pricing strategies,\n",
        "# offering discounts, or upselling to maximize occupancy and profit.\n",
        "\n",
        "# Removing extreme ADRs for clean shape\n",
        "df_violin = df[df['adr'] < 500]  # Filtering out extreme outliers\n",
        "\n",
        "# Setting plot size\n",
        "plt.figure(figsize=(8, 6))\n",
        "\n",
        "# Creating violin plot\n",
        "sns.violinplot(\n",
        "    data=df_violin,\n",
        "    x='hotel',\n",
        "    y='adr',\n",
        "    palette='muted',\n",
        "    inner='box',  # also show a mini boxplot inside\n",
        "    scale='count'  # width based on number of observations\n",
        ")\n",
        "\n",
        "# Labels and title\n",
        "plt.title('ADR Distribution by Hotel Type', fontsize=14)\n",
        "plt.xlabel('Hotel Type', fontsize=12)\n",
        "plt.ylabel('Average Daily Rate (ADR)', fontsize=12)\n",
        "plt.grid(axis='y', linestyle='--', alpha=0.4)\n",
        "plt.tight_layout()\n",
        "\n",
        "# Showing plot\n",
        "plt.show()\n"
      ],
      "metadata": {
        "id": "bwevp1tKp1ck"
      },
      "execution_count": null,
      "outputs": []
    },
    {
      "cell_type": "markdown",
      "source": [
        "##### 1. Why did you pick the specific chart?"
      ],
      "metadata": {
        "id": "ylSl6qgtp1ck"
      }
    },
    {
      "cell_type": "markdown",
      "source": [
        "- A violin plot combines the strengths of box plots and KDE plots.\n",
        "\n",
        "- It shows where most bookings are priced, how prices differ by hotel type, and how consistent the pricing strategy is.\n"
      ],
      "metadata": {
        "id": "m2xqNkiQp1ck"
      }
    },
    {
      "cell_type": "markdown",
      "source": [
        "##### 2. What is/are the insight(s) found from the chart?"
      ],
      "metadata": {
        "id": "ZWILFDl5p1ck"
      }
    },
    {
      "cell_type": "markdown",
      "source": [
        "* City hotels have a wider price spread, with more high-priced bookings (even above €200).\n",
        "\n",
        "* Resort hotels tend to have more clustered pricing, mostly below €150.\n",
        "\n",
        "* The City Hotel's violin is fatter, showing more bookings overall and greater pricing variation.\n",
        "\n",
        "This indicates City Hotels might be applying dynamic pricing, while Resort Hotels may use stable rate packages.\n",
        "\n"
      ],
      "metadata": {
        "id": "x-lUsV2mp1ck"
      }
    },
    {
      "cell_type": "markdown",
      "source": [
        "##### 3. Will the gained insights help creating a positive business impact?"
      ],
      "metadata": {
        "id": "M7G43BXep1ck"
      }
    },
    {
      "cell_type": "markdown",
      "source": [
        "Yes:\n",
        "\n",
        "* The business can analyze rate volatility and customer sensitivity by hotel type\n",
        "\n",
        "* Helps refine pricing strategy — e.g., consider more dynamic pricing for resorts during peak seasons\n",
        "\n",
        "* Assists in revenue prediction modeling based on property type\n",
        "\n",
        "Hotels can better align their pricing models with customer expectations and booking patterns."
      ],
      "metadata": {
        "id": "5wwDJXsLp1cl"
      }
    },
    {
      "cell_type": "markdown",
      "source": [
        "#####4. Are there any insights that lead to negative growth? Justify with specific reason."
      ],
      "metadata": {
        "id": "hoZ5aD5skq_e"
      }
    },
    {
      "cell_type": "markdown",
      "source": [
        "Yes:\n",
        "\n",
        "* Too much pricing variation in city hotels may confuse customers or lead to dissatisfaction.\n",
        "\n",
        "* Resort hotels may miss out on revenue by keeping ADRs too flat even when demand surges.\n",
        "\n",
        "* Over-discounting city hotel rooms might devalue the brand or lead to profit loss during low seasons.\n",
        "\n",
        "Insights like this help prevent pricing missteps and optimize strategy per hotel type."
      ],
      "metadata": {
        "id": "f5G8Rs5lkvgA"
      }
    },
    {
      "cell_type": "markdown",
      "source": [
        "#### Chart 20 - Repeated Guest vs Cancellation Rate"
      ],
      "metadata": {
        "id": "Td4GWh4bRmW4"
      }
    },
    {
      "cell_type": "code",
      "source": [
        "# Chart 20 - Visualisation Code\n",
        "\n",
        "# Features used :- is_repeated_guest, is_cancelled\n",
        "\n",
        "# Why this chart ?\n",
        "# This chart answers:\n",
        "#     * Are repeat guests more reliable in terms of cancellations?\n",
        "#     * Does guest loyalty impact booking retention?\n",
        "# This is an extremely powerful metric for understanding\n",
        "# customer behavior and strategizing loyalty programs\n",
        "\n",
        "# Creating a grouped DataFrame\n",
        "repeat_cancel = df.groupby(['is_repeated_guest', 'is_canceled']).size().unstack()\n",
        "\n",
        "# Normalizing to percentage\n",
        "repeat_cancel_percent = repeat_cancel.div(repeat_cancel.sum(axis=1), axis=0) * 100\n",
        "\n",
        "# Plotting grouped bar chart\n",
        "ax = repeat_cancel_percent.plot(\n",
        "    kind='bar',\n",
        "    figsize=(8, 6),\n",
        "    color=['mediumseagreen', 'salmon']\n",
        ")\n",
        "\n",
        "# Styling\n",
        "plt.title('Cancellation Rate by Guest Type (Repeat vs New)', fontsize=15, weight='bold')\n",
        "plt.xlabel('Is Repeated Guest', fontsize=12)\n",
        "plt.ylabel('Percentage (%)', fontsize=12)\n",
        "plt.xticks(ticks=[0, 1], labels=['New Guest', 'Repeat Guest'], rotation=0)\n",
        "plt.legend(['Not Canceled', 'Canceled'], title='Booking Status')\n",
        "plt.grid(axis='y', linestyle='--', alpha=0.3)\n",
        "plt.tight_layout()\n",
        "plt.show()\n"
      ],
      "metadata": {
        "id": "Ftc-gc-TRmW4"
      },
      "execution_count": null,
      "outputs": []
    },
    {
      "cell_type": "markdown",
      "source": [
        "##### 1. Why did you pick the specific chart?"
      ],
      "metadata": {
        "id": "7LaIUMQvRmW5"
      }
    },
    {
      "cell_type": "markdown",
      "source": [
        "* It gives deep behavioral insight about guest loyalty and booking trustworthiness.\n",
        "\n",
        "* Hotels invest heavily in loyalty programs — this helps justify or tweak those efforts.\n",
        "\n",
        "* A grouped percentage bar plot is clean and allows easy comparison."
      ],
      "metadata": {
        "id": "WOHDY-L5RmW5"
      }
    },
    {
      "cell_type": "markdown",
      "source": [
        "##### 2. What is/are the insight(s) found from the chart?\n"
      ],
      "metadata": {
        "id": "4QZY_M9sRmW5"
      }
    },
    {
      "cell_type": "markdown",
      "source": [
        "* Repeat guests rarely cancel — cancellation rate is often under 5-10%.\n",
        "\n",
        "* New guests are far more likely to cancel, sometimes over 40-50%.\n",
        "\n",
        "* Loyalty equals reliability — repeat guests are consistent and predictable."
      ],
      "metadata": {
        "id": "-opyR9VbRmW6"
      }
    },
    {
      "cell_type": "markdown",
      "source": [
        "##### 3. Will the gained insights help creating a positive business impact?\n"
      ],
      "metadata": {
        "id": "xR79BO-JRmW6"
      }
    },
    {
      "cell_type": "markdown",
      "source": [
        "Absolutely:\n",
        "\n",
        "* Hotels should prioritize nurturing repeat guests — they are lower risk, cheaper to retain, and more reliable.\n",
        "\n",
        "* Encourage first-time guests to sign up for loyalty programs to convert them.\n",
        "\n",
        "* Helps CRM and marketing teams identify churn-risk profiles early."
      ],
      "metadata": {
        "id": "TcEcdZJNRmW6"
      }
    },
    {
      "cell_type": "markdown",
      "source": [
        "##### 4. Are there any insights that lead to negative growth? Justify with specific reason.\n"
      ],
      "metadata": {
        "id": "u4HVnBroRmW6"
      }
    },
    {
      "cell_type": "markdown",
      "source": [
        "Yes:\n",
        "\n",
        "* Ignoring new guest behavior may result in unpredictable cancellations, hurting occupancy planning.\n",
        "\n",
        "* If hotels don't try to convert new → repeat, they miss out on the most stable customer base.\n",
        "\n",
        "Hotels should:\n",
        "\n",
        "* Implement early onboarding offers to reduce cancellations from new guests\n",
        "\n",
        "* Use email follow-ups post-stay to pull them into loyalty loop"
      ],
      "metadata": {
        "id": "kAnGpBk5RmW6"
      }
    },
    {
      "cell_type": "markdown",
      "source": [
        "#### Chart 21 - Lead Time vs ADR"
      ],
      "metadata": {
        "id": "Ag9LCva-p1cl"
      }
    },
    {
      "cell_type": "code",
      "source": [
        "# Chart 21 - Visualization code\n",
        "\n",
        "# Features used :- adr, lead_time\n",
        "\n",
        "# Why this chart ?\n",
        "# This chart shows the relationship between:\n",
        "#   lead_time - how far in advance the booking was made\n",
        "#   adr - price paid per night\n",
        "# This chart is insightful for revenue managers and pricing teams —\n",
        "# it tells whether last-minute bookings are cheaper, or if early bookers pay more.\n",
        "\n",
        "# Filtering extreme values for clarity\n",
        "filtered_df = df[(df['adr'] < 500) & (df['lead_time'] < 500)]\n",
        "\n",
        "# Setting plot style\n",
        "sns.set(style='whitegrid')\n",
        "\n",
        "# Setting figure size\n",
        "plt.figure(figsize=(10, 6))\n",
        "\n",
        "# Creating scatter plot\n",
        "sns.scatterplot(\n",
        "    data=filtered_df,\n",
        "    x='lead_time',\n",
        "    y='adr',\n",
        "    alpha=0.4,\n",
        "    edgecolor=None,\n",
        "    s=30,\n",
        "    color='royalblue'\n",
        ")\n",
        "\n",
        "# Adding regression trend line (optional)\n",
        "sns.regplot(\n",
        "    data=filtered_df,\n",
        "    x='lead_time',\n",
        "    y='adr',\n",
        "    scatter=False,\n",
        "    color='darkred',\n",
        "    line_kws={'linewidth': 2}\n",
        ")\n",
        "\n",
        "# Labels and title\n",
        "plt.title('Relationship Between Lead Time and ADR', fontsize=15, weight='bold')\n",
        "plt.xlabel('Lead Time (Days Before Check-in)', fontsize=12)\n",
        "plt.ylabel('ADR (Average Daily Rate in EUR)', fontsize=12)\n",
        "\n",
        "# Enhancing aesthetics\n",
        "plt.xticks(fontsize=10)\n",
        "plt.yticks(fontsize=10)\n",
        "plt.grid(True, linestyle='--', alpha=0.3)\n",
        "plt.tight_layout()\n",
        "\n",
        "# Showing plot\n",
        "plt.show()\n"
      ],
      "metadata": {
        "id": "EUfxeq9-p1cl"
      },
      "execution_count": null,
      "outputs": []
    },
    {
      "cell_type": "markdown",
      "source": [
        "##### 1. Why did you pick the specific chart?"
      ],
      "metadata": {
        "id": "E6MkPsBcp1cl"
      }
    },
    {
      "cell_type": "markdown",
      "source": [
        "**Answer -**\n",
        "\n",
        "* A scatter plot with regression line shows price sensitivity over time.\n",
        "\n",
        "* It's a classic bivariate analysis — used by revenue analysts to optimize room pricing.\n",
        "\n",
        "* It adds analytical depth and moves beyond simple distributions."
      ],
      "metadata": {
        "id": "V22bRsFWp1cl"
      }
    },
    {
      "cell_type": "markdown",
      "source": [
        "##### 2. What is/are the insight(s) found from the chart?"
      ],
      "metadata": {
        "id": "2cELzS2fp1cl"
      }
    },
    {
      "cell_type": "markdown",
      "source": [
        "**Answer -**\n",
        "\n",
        "* There's no strong linear relationship, but:\n",
        "\n",
        "    * Some high-ADR bookings occur at very short lead times — possibly last-minute premium bookings.\n",
        "\n",
        "    * The majority of lower-priced bookings cluster at medium lead times (0-100 days).\n",
        "\n",
        "* Suggests that pricing is not aggressively time-based, or affected more by season/channel."
      ],
      "metadata": {
        "id": "ozQPc2_Ip1cl"
      }
    },
    {
      "cell_type": "markdown",
      "source": [
        "##### 3. Will the gained insights help creating a positive business impact?\n"
      ],
      "metadata": {
        "id": "3MPXvC8up1cl"
      }
    },
    {
      "cell_type": "markdown",
      "source": [
        "**Answer -**\n",
        "\n",
        "Yes:\n",
        "\n",
        "* Shows whether guests booking earlier pay more or less.\n",
        "\n",
        "* Can lead to differentiated pricing strategies for early birds vs. last-minute guests.\n",
        "\n",
        "* Helps in forecasting revenue by identifying trends."
      ],
      "metadata": {
        "id": "GL8l1tdLp1cl"
      }
    },
    {
      "cell_type": "markdown",
      "source": [
        "##### 4. Are there any insights that lead to negative growth? Justify with specific reason."
      ],
      "metadata": {
        "id": "Pog0p7xGm2br"
      }
    },
    {
      "cell_type": "markdown",
      "source": [
        "**Answer -**\n",
        "\n",
        "Yes:\n",
        "\n",
        "* If there's no clear pricing advantage for early booking, guests might delay decisions, leading to higher cancellation risks.\n",
        "\n",
        "* Unpredictable pricing makes it hard to optimize dynamic pricing engines.\n",
        "\n",
        "Hotels can consider:\n",
        "\n",
        "* Offering discounts for early planners\n",
        "\n",
        "* Creating urgency for late-bookers with flash pricing"
      ],
      "metadata": {
        "id": "D5S8JFtNm8HA"
      }
    },
    {
      "cell_type": "markdown",
      "source": [
        "#### Chart 22 - Customer Type vs ADR"
      ],
      "metadata": {
        "id": "s1e95aZ8nVvM"
      }
    },
    {
      "cell_type": "code",
      "source": [
        "# Chart 22 - Visualization code\n",
        "\n",
        "# Features used - customer_type, adr\n",
        "\n",
        "# Why this chart ?\n",
        "# Helps analyze how much each customer segment pays, using:\n",
        "# This chart helps reveal which customer segment brings in the most revenue,\n",
        "# and is key for targeting, discounting, and contract negotiation.\n",
        "\n",
        "# Filtering out high outlier prices for cleaner plot\n",
        "df_box = df[df['adr'] < 500]\n",
        "\n",
        "# Setting the style\n",
        "sns.set(style='whitegrid')\n",
        "\n",
        "# Creating the figure\n",
        "plt.figure(figsize=(9, 6))\n",
        "\n",
        "# Drawing the box plot\n",
        "sns.boxplot(\n",
        "    data=df_box,\n",
        "    x='customer_type',\n",
        "    y='adr',\n",
        "    palette='pastel'\n",
        ")\n",
        "\n",
        "# Adding title and labels\n",
        "plt.title('ADR Distribution by Customer Type', fontsize=15, weight='bold')\n",
        "plt.xlabel('Customer Type', fontsize=12)\n",
        "plt.ylabel('ADR (Average Daily Rate in EUR)', fontsize=12)\n",
        "\n",
        "# Improving aesthetics\n",
        "plt.xticks(fontsize=10)\n",
        "plt.yticks(fontsize=10)\n",
        "plt.grid(axis='y', linestyle='--', alpha=0.3)\n",
        "plt.tight_layout()\n",
        "\n",
        "# Showing the plot\n",
        "plt.show()"
      ],
      "metadata": {
        "id": "AosUqiRQo-kh"
      },
      "execution_count": null,
      "outputs": []
    },
    {
      "cell_type": "markdown",
      "source": [
        "##### 1. Why did you pick the specific chart?"
      ],
      "metadata": {
        "id": "y4pNszCYpB0D"
      }
    },
    {
      "cell_type": "markdown",
      "source": [
        "**Answer -**\n",
        "\n",
        "* It clearly shows how each customer segment behaves in terms of spending.\n",
        "\n",
        "* Box plots are excellent for comparing distributions across categories.\n",
        "\n",
        "* Helps answer: Which segment pays more? Who needs upselling? Who books in bulk but cheap?"
      ],
      "metadata": {
        "id": "xFHxPGx7pmnW"
      }
    },
    {
      "cell_type": "markdown",
      "source": [
        "##### 2. What is/are the insight(s) found from the chart?"
      ],
      "metadata": {
        "id": "dnmPiStUpHtc"
      }
    },
    {
      "cell_type": "markdown",
      "source": [
        "**Answer -**\n",
        "\n",
        "* Transient guests have the widest ADR range — from budget to premium.\n",
        "\n",
        "* Contract customers usually pay lower fixed rates, as expected.\n",
        "\n",
        "* Group bookings tend to have lower ADRs (volume discounts).\n",
        "\n",
        "* Transient-party shows a slightly higher median than Transient — possibly families booking premium options."
      ],
      "metadata": {
        "id": "ZYI6zyBzpvgs"
      }
    },
    {
      "cell_type": "markdown",
      "source": [
        "##### 3. Will the gained insights help creating a positive business impact?"
      ],
      "metadata": {
        "id": "OaQi5XOmpIQ2"
      }
    },
    {
      "cell_type": "markdown",
      "source": [
        "**Answer -**\n",
        "\n",
        "Yes:\n",
        "\n",
        "* Identifies profitable segments (e.g., Transient, Transient-party).\n",
        "\n",
        "* Helps tailor discount policies for group and contract customers.\n",
        "\n",
        "* Can inform targeted campaigns (e.g., upselling to Transient-party guests).\n",
        "\n",
        "* Sales and marketing teams can focus more effort where margin per guest is highest."
      ],
      "metadata": {
        "id": "VHKNAbncp3vP"
      }
    },
    {
      "cell_type": "markdown",
      "source": [
        "##### 4. Are there any insights that lead to negative growth? Justify with specific reason."
      ],
      "metadata": {
        "id": "zm0zhzIEplWp"
      }
    },
    {
      "cell_type": "markdown",
      "source": [
        "**Answer -**\n",
        "\n",
        "Yes:\n",
        "\n",
        "* If too much business comes from Contract or Group customers, ADRs might be pulled down, reducing revenue.\n",
        "\n",
        "* Over-reliance on low-ADR segments without upselling leads to low-margin operations.\n",
        "\n",
        "The hotel should explore value-adds and tiered pricing to increase profitability from lower-paying segments."
      ],
      "metadata": {
        "id": "YgnPGPKYp_mn"
      }
    },
    {
      "cell_type": "markdown",
      "source": [
        "#### Chart 23 - Cancellation Rate by Market Segment"
      ],
      "metadata": {
        "id": "XBOi6vbEqSOZ"
      }
    },
    {
      "cell_type": "code",
      "source": [
        "# Chart 23 - Visualisation Code.\n",
        "\n",
        "# Features used :- is_cancelled, market_segment\n",
        "\n",
        "# Why this chart ?\n",
        "# Exploring the relationship between :\n",
        "#   market_segment - how customers found the hotel (Online, Offline, Corporate, Groups, etc.)\n",
        "#   is_canceled - whether they canceled the booking\n",
        "# will show cancellation rates per segment — this is much more useful for strategy teams\n",
        "\n",
        "# Creating a data for visualisation.\n",
        "cancellation_rates = round((df.groupby('market_segment')['is_canceled'].mean().sort_values(ascending=False) * 100),2)\n",
        "\n",
        "\n",
        "# Setting values for X and Y axes.\n",
        "X = cancellation_rates.index\n",
        "Y = cancellation_rates.values\n",
        "\n",
        "# Creating and characterising layout.\n",
        "fig, ax = plt.subplots(figsize=(10,6))\n",
        "\n",
        "# # Customising grid and axes.\n",
        "# ax.spines['top'].set_visible(False)\n",
        "# ax.spines['right'].set_visible(False)\n",
        "ax.tick_params(bottom=False, left=False)\n",
        "ax.set_axisbelow(True)\n",
        "ax.yaxis.grid(True, color='#C5C9C7')\n",
        "ax.xaxis.grid(False)\n",
        "\n",
        "# Adding bar and text for labels on bar in graph.\n",
        "bar = ax.bar(X, Y)\n",
        "plt.title('Cancellation Rate By Market Segment', pad=20, fontsize=15)\n",
        "ax.set_xlabel(\"Market Segment\", fontsize = 15, labelpad = 15)\n",
        "ax.set_ylabel(\"Cancellation Rate\", fontsize = 15, labelpad = 15)\n",
        "ax.tick_params(axis = 'x', labelrotation = 20)\n",
        "\n",
        "\n",
        "# Creating a function for gradient bars.\n",
        "def gradientbars(bars, cmap):\n",
        "    ax = bars[0].axes\n",
        "    lim = ax.get_xlim() + (0,120)\n",
        "    i = 0\n",
        "    for bar in bars:\n",
        "        bar.set_zorder(1)\n",
        "        bar.set_facecolor('none')\n",
        "        x,y = bar.get_xy()\n",
        "        w, h = bar.get_width(), bar.get_height()\n",
        "        grad = np.atleast_2d(np.linspace(0,1,256)).T\n",
        "        ax.imshow(grad, extent=[x+w, x, y, y+h], aspect='auto', zorder=1, cmap='viridis')\n",
        "        plt.annotate(f\"{Y[i]}%\", (x+0.1, y+h+0.7), fontsize = 12, )\n",
        "        i+=1\n",
        "    ax.axis(lim)\n",
        "\n",
        "gradientbars(bar, 'winter')\n",
        "\n",
        "# Plotting the plot\n",
        "plt.plot()\n"
      ],
      "metadata": {
        "id": "mUmZWVWjZCSr"
      },
      "execution_count": null,
      "outputs": []
    },
    {
      "cell_type": "markdown",
      "source": [
        "##### 1. Why did you pick the specific chart?"
      ],
      "metadata": {
        "id": "O9IVK7I_qa2d"
      }
    },
    {
      "cell_type": "markdown",
      "source": [
        "**Answer -**\n",
        "\n",
        "* Cancellations are a major revenue leak, and knowing which channels cause them helps in strategy decisions.\n",
        "\n",
        "* This is a bivariate business-critical analysis — not just numbers, but rates.\n",
        "\n",
        "* It's a clean, professional chart often used in real-world hotel analytics."
      ],
      "metadata": {
        "id": "jC7dBjioqanl"
      }
    },
    {
      "cell_type": "markdown",
      "source": [
        "##### 2. What is/are the insight(s) found from the chart?"
      ],
      "metadata": {
        "id": "_HrmFp1kqaYu"
      }
    },
    {
      "cell_type": "markdown",
      "source": [
        "**Answer -**\n",
        "\n",
        "* Online TA (Travel Agents) have the highest cancellation rate (often over 40-50%).\n",
        "\n",
        "* Corporate and Offline segments have much lower cancellation rates, suggesting more stable bookings.\n",
        "\n",
        "* Group bookings have moderate cancellations — perhaps due to event changes or coordination issues."
      ],
      "metadata": {
        "id": "OITwOl8NqaID"
      }
    },
    {
      "cell_type": "markdown",
      "source": [
        "##### 3. Will the gained insights help creating a positive business impact?"
      ],
      "metadata": {
        "id": "z-tVYDzMqZmt"
      }
    },
    {
      "cell_type": "markdown",
      "source": [
        "**Answer -**\n",
        "\n",
        "Definitely:\n",
        "\n",
        "* Push for stricter deposit policies or non-refundable rates in high-cancel segments (like OTA bookings).\n",
        "\n",
        "* Focus marketing on more stable channels like corporate and offline.\n",
        "\n",
        "* Helps revenue management teams optimize overbooking strategies."
      ],
      "metadata": {
        "id": "9RLCq4UCqYEU"
      }
    },
    {
      "cell_type": "markdown",
      "source": [
        "##### 4. Are there any insights that lead to negative growth? Justify with specific reason."
      ],
      "metadata": {
        "id": "TGSGHFRor2sh"
      }
    },
    {
      "cell_type": "markdown",
      "source": [
        "**Answer -**\n",
        "\n",
        "Yes:\n",
        "\n",
        "* Over-reliance on OTA channels with high cancellation rates increases revenue unpredictability.\n",
        "\n",
        "* May lead to wasted inventory and last-minute unsold rooms.\n",
        "\n",
        "* Group cancellations, if unmanaged, can disrupt operations or block valuable dates.\n",
        "\n",
        "* This chart empowers teams to proactively reduce cancellation risks."
      ],
      "metadata": {
        "id": "tk0M-kGSr3eO"
      }
    },
    {
      "cell_type": "markdown",
      "source": [
        "#### Chart 24 - Assigned Room Type vs Reserved Room Type"
      ],
      "metadata": {
        "id": "y3lIEWMZ-uHd"
      }
    },
    {
      "cell_type": "code",
      "source": [
        "# Chart 24 - Visualization Code\n",
        "\n",
        "# Features used : reserved_room_type, assigned_room_type\n",
        "\n",
        "# Why this chart ?\n",
        "# This is a very interesting operational insight:\n",
        "# Do guests actually get the room type they reserved, or are they often upgraded/downgraded?\n",
        "# This impacts:\n",
        "#     * Customer satisfaction\n",
        "#     * Room inventory planning\n",
        "#     * Upgrade policies\n",
        "# I will use a heatmap of crosstab counts —\n",
        "# it’s visually unique and perfect for comparing categorical pairings\n",
        "\n",
        "\n",
        "# Creating crosstab between reserved and assigned room type\n",
        "room_match = pd.crosstab(df['reserved_room_type'], df['assigned_room_type'])\n",
        "\n",
        "# Setting up the figure\n",
        "plt.figure(figsize=(10, 7))\n",
        "\n",
        "# Plotting the heatmap\n",
        "sns.heatmap(\n",
        "    room_match,\n",
        "    annot=True,\n",
        "    fmt='d',\n",
        "    cmap='YlGnBu',\n",
        "    linewidths=0.5,\n",
        "    linecolor='gray'\n",
        ")\n",
        "\n",
        "# Adding labels\n",
        "plt.title('Reserved Room Type vs Assigned Room Type', fontsize=15, weight='bold')\n",
        "plt.xlabel('Assigned Room Type', fontsize=12)\n",
        "plt.ylabel('Reserved Room Type', fontsize=12)\n",
        "plt.tight_layout()\n",
        "\n",
        "# Showing the plot\n",
        "plt.show()\n"
      ],
      "metadata": {
        "id": "M-N9Ip_V-vjH"
      },
      "execution_count": null,
      "outputs": []
    },
    {
      "cell_type": "markdown",
      "source": [
        "##### 1. Why did you pick the specific chart?"
      ],
      "metadata": {
        "id": "Htz1VJ5n-ywo"
      }
    },
    {
      "cell_type": "markdown",
      "source": [
        "**Answer -**\n",
        "\n",
        "* This chart provides a unique operational insight: how often hotels change room types.\n",
        "\n",
        "* Heatmaps for categorical comparison are rare and very impactful in EDA presentations.\n",
        "\n",
        "* Helps visually detect patterns — like frequent upgrades from one room to another."
      ],
      "metadata": {
        "id": "0OsBdis6-yqm"
      }
    },
    {
      "cell_type": "markdown",
      "source": [
        "##### 2. What is/are the insight(s) found from the chart?"
      ],
      "metadata": {
        "id": "LU1k12Gx-ySj"
      }
    },
    {
      "cell_type": "markdown",
      "source": [
        "**Answer -**\n",
        "\n",
        "* Most guests receive the same room type they reserved (diagonal cells will have highest values).\n",
        "\n",
        "* However, there may be frequent upgrades/downgrades from some room types (e.g., Reserved A but Assigned D).\n",
        "\n",
        "* Certain types (e.g., G, L) may rarely be assigned — these may be premium rooms held back for special guests."
      ],
      "metadata": {
        "id": "cDyloirx-yMW"
      }
    },
    {
      "cell_type": "markdown",
      "source": [
        "##### 3. Will the gained insights help creating a positive business impact?"
      ],
      "metadata": {
        "id": "ZuZjAPCi-xsE"
      }
    },
    {
      "cell_type": "markdown",
      "source": [
        "**Answer -**\n",
        "\n",
        "Yes:\n",
        "\n",
        "* Helps optimize room inventory planning — knowing which rooms get overbooked or underutilized.\n",
        "\n",
        "* Enhances guest satisfaction tracking — guests expecting one room but getting another may leave poor reviews.\n",
        "\n",
        "* Can support pricing decisions — if guests are often upgraded from cheaper rooms, adjust rates or stock."
      ],
      "metadata": {
        "id": "9SwEtOr_-xk0"
      }
    },
    {
      "cell_type": "markdown",
      "source": [
        "##### 4. Are there any insights that lead to negative growth? Justify with specific reason."
      ],
      "metadata": {
        "id": "BxmC6GGi-wxo"
      }
    },
    {
      "cell_type": "markdown",
      "source": [
        "**Answer -**\n",
        "\n",
        "Yes:\n",
        "\n",
        "* Frequent mismatches could indicate poor planning or overbooking — leading to guest dissatisfaction.\n",
        "\n",
        "* If higher-category rooms are routinely assigned to lower-paying guests, revenue is lost.\n",
        "\n",
        "* Inconsistent room allocation may erode trust in the booking process.\n",
        "\n",
        "Hotels can revisit their upgrade policies and forecast demand more accurately using this data."
      ],
      "metadata": {
        "id": "iH2MIL6T-wpa"
      }
    },
    {
      "cell_type": "markdown",
      "source": [
        "#### Chart 25 - Stays in Weekend Nights vs Week Nights"
      ],
      "metadata": {
        "id": "zu6bSWXJtspJ"
      }
    },
    {
      "cell_type": "code",
      "source": [
        "# Chart 25 - Visualization Code\n",
        "\n",
        "# Features used :- stays_in_week_nights, stays_in_weekend_nights\n",
        "\n",
        "# Why this chart ?\n",
        "# It highlights customer behavior patterns —\n",
        "# whether most guests prefer weekday stays (business travelers, corporate bookings)\n",
        "# or weekend stays (leisure travelers, families).\n",
        "# Hotels can use this insight for dynamic pricing, staffing decisions,\n",
        "# and targeted promotions (e.g., discounts for off-peak days).\n",
        "\n",
        "\n",
        "# Labels and values\n",
        "labels = ['Stays in Week Nights', 'Stays in Weekend Nights']\n",
        "count = [df['stays_in_week_nights'].sum(), df['stays_in_weekend_nights'].sum()]\n",
        "\n",
        "# Plot setup\n",
        "fig, ax = plt.subplots(figsize=(9, 5))\n",
        "\n",
        "# Donut chart\n",
        "wedges, texts, autotexts = ax.pie(\n",
        "    count,\n",
        "    autopct='%1.1f%%',\n",
        "    textprops={'fontsize': 12},\n",
        "    colors=['cornflowerblue', 'salmon'],\n",
        "    pctdistance=0.7,\n",
        "    startangle=90,\n",
        "    wedgeprops=dict(width=0.5)\n",
        ")\n",
        "\n",
        "# Title and legend\n",
        "ax.set_title('Stays in Weekend Nights Vs Week Nights', fontsize=14, fontweight='bold')\n",
        "ax.legend(wedges, labels, title=\"Stay Type\", loc=\"upper left\", bbox_to_anchor=(0.8, 0, 0.5, 1))\n",
        "ax.axis('equal')  # Ensures circle shape\n",
        "\n",
        "plt.tight_layout()\n",
        "plt.show()\n"
      ],
      "metadata": {
        "id": "Un4KWFKrtspL"
      },
      "execution_count": null,
      "outputs": []
    },
    {
      "cell_type": "markdown",
      "source": [
        "##### 1. Why did you pick the specific chart?"
      ],
      "metadata": {
        "id": "b2wU7coqtspL"
      }
    },
    {
      "cell_type": "markdown",
      "source": [
        "**Answer -**\n",
        "\n",
        "* I chose a donut pie chart because it provides a clear visual proportion between weekend and weekday stays.\n",
        "\n",
        "* This helps us understand customer travel patterns — whether people book stays for business or leisure purposes.\n",
        "\n",
        "* A pie chart is ideal when showing parts of a whole."
      ],
      "metadata": {
        "id": "QPZRffWWtspM"
      }
    },
    {
      "cell_type": "markdown",
      "source": [
        "##### 2. What is/are the insight(s) found from the chart?"
      ],
      "metadata": {
        "id": "smV7EHhmtspN"
      }
    },
    {
      "cell_type": "markdown",
      "source": [
        "**Answer -**\n",
        "\n",
        "* The majority of stays are on week nights, which may indicate a significant business traveler segment.\n",
        "\n",
        "* Weekend stays, while lower, still form a sizable portion, pointing to a leisure audience as well.\n",
        "\n",
        "* This split can help classify the guest base into business vs. leisure personas."
      ],
      "metadata": {
        "id": "E2IyuESetspN"
      }
    },
    {
      "cell_type": "markdown",
      "source": [
        "##### 3. Will the gained insights help creating a positive business impact?"
      ],
      "metadata": {
        "id": "btkOvLMvtspO"
      }
    },
    {
      "cell_type": "markdown",
      "source": [
        "**Answer -**\n",
        "\n",
        "Yes. These insights are directly actionable:\n",
        "\n",
        "* Hotels can optimize room pricing strategies depending on demand patterns\n",
        "\n",
        "* Adjust staffing based on busy weekdays or weekends\n",
        "\n",
        "* Plan offers and events more strategically\n",
        "\n",
        "* Improve revenue forecasting by knowing when demand is highest"
      ],
      "metadata": {
        "id": "85aTREqYtspO"
      }
    },
    {
      "cell_type": "markdown",
      "source": [
        "##### 4. Are there any insights that lead to negative growth? Justify with specific reason."
      ],
      "metadata": {
        "id": "hY3QEi5ptspP"
      }
    },
    {
      "cell_type": "markdown",
      "source": [
        "**Answer -**\n",
        "\n",
        "Yes. If weekend stays are too low, it may indicate:\n",
        "\n",
        "* Missed opportunities in the leisure market\n",
        "\n",
        "* Ineffective weekend promotions or packages\n",
        "\n",
        "* Lack of events, amenities, or attractions for non-business guests\n",
        "\n",
        "This can lead to under-utilized rooms and lower weekend revenue, so targeted efforts must be made to boost weekend appeal."
      ],
      "metadata": {
        "id": "qoBJG05FtspP"
      }
    },
    {
      "cell_type": "markdown",
      "source": [
        "#### Chart 26 - Total Number of Guests vs ADR"
      ],
      "metadata": {
        "id": "q_Bf9kO5BDhk"
      }
    },
    {
      "cell_type": "code",
      "source": [
        "# Chart 26 - Visualisation Code\n",
        "\n",
        "# Features used - total_guests, adr\n",
        "\n",
        "# Why this chart ?\n",
        "# This chart will tell:\n",
        "#   * Do guests who come in bigger groups pay more per night?\n",
        "#   * Is there any trend between group size and pricing?\n",
        "# I will use a scatter plot with bubble sizes based on frequency to add more storytelling.\n",
        "\n",
        "\n",
        "# Filtering out extreme ADR for clean visuals\n",
        "df_bubble = df[(df['adr'] < 500) & (df['total_guests'] <= 6)]\n",
        "\n",
        "# Counting frequency of each total_guests vs adr pair (rounded ADR for grouping)\n",
        "df_bubble['adr_rounded'] = df_bubble['adr'].round()\n",
        "\n",
        "bubble_data = df_bubble.groupby(['total_guests', 'adr_rounded']).size().reset_index(name='count')\n",
        "\n",
        "# Plotting setup\n",
        "plt.figure(figsize=(10, 6))\n",
        "scatter = plt.scatter(\n",
        "    x=bubble_data['total_guests'],\n",
        "    y=bubble_data['adr_rounded'],\n",
        "    s=bubble_data['count'] * 3,  # Bubble size\n",
        "    alpha=0.5,\n",
        "    color='mediumseagreen',\n",
        "    edgecolors='black',\n",
        "    linewidth=0.5\n",
        ")\n",
        "\n",
        "# Labels and title\n",
        "plt.title('Total Guests vs ADR (Bubble Plot)', fontsize=15, weight='bold')\n",
        "plt.xlabel('Total Number of Guests', fontsize=12)\n",
        "plt.ylabel('ADR (Rounded)', fontsize=12)\n",
        "plt.grid(True, linestyle='--', alpha=0.3)\n",
        "plt.tight_layout()\n",
        "\n",
        "\n",
        "# Showing the Plot\n",
        "plt.show()\n"
      ],
      "metadata": {
        "id": "y3fwLoDWBPNv"
      },
      "execution_count": null,
      "outputs": []
    },
    {
      "cell_type": "markdown",
      "source": [
        "##### 1. Why did you pick the specific chart?"
      ],
      "metadata": {
        "id": "nlHUQc82BPvn"
      }
    },
    {
      "cell_type": "markdown",
      "source": [
        "**Answer -**\n",
        "\n",
        "* Combines numerical-to-numerical relationship (group size vs pricing) with bubble size as frequency.\n",
        "\n",
        "* Visually attractive and rarely used by beginners — great for impressing recruiters.\n",
        "\n",
        "* Highlights guest booking patterns that can inform room design, pricing, and promotions."
      ],
      "metadata": {
        "id": "sSw2z3OYBSZN"
      }
    },
    {
      "cell_type": "markdown",
      "source": [
        "##### 2. What is/are the insight(s) found from the chart?"
      ],
      "metadata": {
        "id": "dWFeFmzRBZRR"
      }
    },
    {
      "cell_type": "markdown",
      "source": [
        "**Answer -**\n",
        "\n",
        "* Most bookings cluster at 2 guests with ADR around €100 — likely couples.\n",
        "\n",
        "* Larger guest groups (4-5+) do book, but are less frequent.\n",
        "\n",
        "* Surprisingly, many larger guest bookings don’t necessarily correlate with higher ADR — could indicate value bundles or family discounts."
      ],
      "metadata": {
        "id": "CvErTvZqBdly"
      }
    },
    {
      "cell_type": "markdown",
      "source": [
        "##### 3. Will the gained insights help creating a positive business impact?"
      ],
      "metadata": {
        "id": "rTZmAmnaBgXa"
      }
    },
    {
      "cell_type": "markdown",
      "source": [
        "**Answer -**\n",
        "\n",
        "Yes:\n",
        "\n",
        "* Hotels can develop targeted offers for high-frequency booking sizes (e.g., romantic couples, families).\n",
        "\n",
        "* Identify underpriced larger bookings and optimize pricing or room segmentation."
      ],
      "metadata": {
        "id": "KuuZ0xCtBlvK"
      }
    },
    {
      "cell_type": "markdown",
      "source": [
        "##### 4. Are there any insights that lead to negative growth? Justify with specific reason."
      ],
      "metadata": {
        "id": "XWxQv3F0BoLf"
      }
    },
    {
      "cell_type": "markdown",
      "source": [
        "**Answer -**\n",
        "\n",
        "Yes:\n",
        "\n",
        "* If larger groups consistently pay less per head, that might signal over-discounting.\n",
        "\n",
        "* Failure to upsell group stays could mean lost revenue.\n",
        "\n",
        "* Not enough facilities or tailored packages for mid-sized groups (3-5 guests) might be turning business away.\n",
        "\n",
        "* Hotels can adjust family packages and improve group targeting based on this.\n"
      ],
      "metadata": {
        "id": "cIY8TyJwBqox"
      }
    },
    {
      "cell_type": "markdown",
      "source": [
        "#### Chart 27 - Lead Time vs Cancellation Rate"
      ],
      "metadata": {
        "id": "k1tCiZetC8ca"
      }
    },
    {
      "cell_type": "code",
      "source": [
        "# Chart 27 - Visualisation Code\n",
        "\n",
        "# Features used :- lead_time, is_cancelled\n",
        "\n",
        "# Why this chart ?\n",
        "# Will analyze:\n",
        "#     lead_time - days between booking date and arrival\n",
        "#     is_canceled - 1 if canceled, 0 if not\n",
        "# This is one of the most important behavioral insights for hotel revenue teams:\n",
        "#     * Do guests who book earlier cancel more often?\n",
        "\n",
        "# Setting the plot size and style\n",
        "plt.figure(figsize=(8, 6))\n",
        "sns.set(style='whitegrid')\n",
        "\n",
        "# Creating boxplot\n",
        "sns.boxplot(\n",
        "    data=df,\n",
        "    x='is_canceled',\n",
        "    y='lead_time',\n",
        "    palette='Set2'\n",
        ")\n",
        "\n",
        "# Adding titles and labels\n",
        "plt.title('Lead Time vs Cancellation Status', fontsize=15, weight='bold')\n",
        "plt.xlabel('Is Canceled (0 = No, 1 = Yes)', fontsize=12)\n",
        "plt.ylabel('Lead Time (Days)', fontsize=12)\n",
        "plt.grid(axis='y', linestyle='--', alpha=0.3)\n",
        "plt.tight_layout()\n",
        "\n",
        "# Showing the plot\n",
        "plt.show()"
      ],
      "metadata": {
        "id": "hIr03615C7nz"
      },
      "execution_count": null,
      "outputs": []
    },
    {
      "cell_type": "markdown",
      "source": [
        "##### 1. Why did you pick the specific chart?"
      ],
      "metadata": {
        "id": "ZpuKTlp0C_oS"
      }
    },
    {
      "cell_type": "markdown",
      "source": [
        "**Answer -**\n",
        "\n",
        "* Box plots are perfect for showing distribution shifts between groups.\n",
        "\n",
        "* This chart visually reveals behavioral patterns around cancellations.\n",
        "\n",
        "* Helps answer whether last-minute vs early bookings behave differently in terms of commitment."
      ],
      "metadata": {
        "id": "Nqb_vU4SC_X4"
      }
    },
    {
      "cell_type": "markdown",
      "source": [
        "##### 2. What is/are the insight(s) found from the chart?\n"
      ],
      "metadata": {
        "id": "RjbT4EYEC-10"
      }
    },
    {
      "cell_type": "markdown",
      "source": [
        "**Answer -**\n",
        "\n",
        "* Guests who canceled had much higher lead times on average.\n",
        "\n",
        "* Guests with shorter lead times tend to follow through with their bookings.\n",
        "\n",
        "* Cancellations are more common when bookings are made far in advance — possibly due to change of plans or lack of upfront commitment."
      ],
      "metadata": {
        "id": "8HIV6rZrC-kk"
      }
    },
    {
      "cell_type": "markdown",
      "source": [
        "##### 3. Will the gained insights help creating a positive business impact?\n"
      ],
      "metadata": {
        "id": "AOJZYIZfC-T_"
      }
    },
    {
      "cell_type": "markdown",
      "source": [
        "**Answer -**\n",
        "\n",
        "Absolutely:\n",
        "\n",
        "* Suggests enforcing stricter cancellation policies or deposits for long lead time bookings.\n",
        "\n",
        "* Hotels can adjust overbooking strategies based on lead time profiles.\n",
        "\n",
        "* Inform targeted confirmation/reminder emails for early bookers to reduce churn."
      ],
      "metadata": {
        "id": "INhxWdxXC9_l"
      }
    },
    {
      "cell_type": "markdown",
      "source": [
        "##### 4. Are there any insights that lead to negative growth? Justify with specific reason.\n"
      ],
      "metadata": {
        "id": "38DvBLjrC9T2"
      }
    },
    {
      "cell_type": "markdown",
      "source": [
        "**Answer -**\n",
        "\n",
        "Yes:\n",
        "\n",
        "* If long-lead bookings dominate and many cancel, hotels suffer inventory lock-in, forecasting issues, and revenue loss.\n",
        "\n",
        "* Too lenient policies for early bookings could encourage speculative behavior.\n",
        "\n",
        "A proactive strategy would be to:\n",
        "\n",
        "* Add non-refundable options with early booking discounts\n",
        "\n",
        "* Offer early confirmation incentives"
      ],
      "metadata": {
        "id": "MTXdQDIbD1Ju"
      }
    },
    {
      "cell_type": "markdown",
      "source": [
        "#### Chart 28 - Reservation Status vs ADR"
      ],
      "metadata": {
        "id": "59_meObJEbtX"
      }
    },
    {
      "cell_type": "code",
      "source": [
        "# Chart 28 - Visualisation Code\n",
        "\n",
        "# Features used - adr, reservation_status\n",
        "\n",
        "# Why this chart ?\n",
        "# This chart answers:\n",
        "#     * How does pricing differ across final reservation outcomes?\n",
        "#     * Are canceled or no-show bookings usually higher-priced?\n",
        "# I will use a violin plot to show both the distribution shape and\n",
        "# spread of prices across outcomes. It gives a very refined look\n",
        "# at revenue risk by status.\n",
        "\n",
        "# Removing extreme ADR outliers for clarity\n",
        "df_violin_status = df[df['adr'] < 500]\n",
        "\n",
        "# Setting style and figure\n",
        "plt.figure(figsize=(9, 6))\n",
        "sns.set(style='whitegrid')\n",
        "\n",
        "# Creating violin plot\n",
        "sns.violinplot(\n",
        "    data=df_violin_status,\n",
        "    x='reservation_status',\n",
        "    y='adr',\n",
        "    inner='box',\n",
        "    palette='Accent'\n",
        ")\n",
        "\n",
        "# Adding title and axis labels\n",
        "plt.title('ADR Distribution by Reservation Status', fontsize=15, weight='bold')\n",
        "plt.xlabel('Reservation Status', fontsize=12)\n",
        "plt.ylabel('ADR (EUR)', fontsize=12)\n",
        "plt.grid(axis='y', linestyle='--', alpha=0.3)\n",
        "plt.tight_layout()\n",
        "\n",
        "# Showing plot\n",
        "plt.show()\n"
      ],
      "metadata": {
        "id": "Vh9BFisjEbtX"
      },
      "execution_count": null,
      "outputs": []
    },
    {
      "cell_type": "markdown",
      "source": [
        "##### 1. Why did you pick the specific chart?"
      ],
      "metadata": {
        "id": "gNNlC6i1EbtY"
      }
    },
    {
      "cell_type": "markdown",
      "source": [
        "**Answer -**\n",
        "\n",
        "* This chart beautifully shows pricing spread and density for each reservation outcome.\n",
        "\n",
        "* Violin plots add an advanced visual touch that sets your work apart.\n",
        "\n",
        "* Helps identify if certain statuses (like no-shows) pose a higher revenue risk due to higher ADR."
      ],
      "metadata": {
        "id": "HcwqaYgTEbtY"
      }
    },
    {
      "cell_type": "markdown",
      "source": [
        "##### 2. What is/are the insight(s) found from the chart?\n"
      ],
      "metadata": {
        "id": "5B5-L6upEbtY"
      }
    },
    {
      "cell_type": "markdown",
      "source": [
        "**Answer -**\n",
        "\n",
        "* Checked-out bookings have a fairly wide ADR spread and high volume near €100.\n",
        "\n",
        "* Canceled bookings also cluster around €100, but have some extremely high-priced entries — that's lost revenue.\n",
        "\n",
        "* No-shows often had slightly higher ADRs than average, adding to revenue loss risk."
      ],
      "metadata": {
        "id": "X3hgl0MkEbtZ"
      }
    },
    {
      "cell_type": "markdown",
      "source": [
        "##### 3. Will the gained insights help creating a positive business impact?\n"
      ],
      "metadata": {
        "id": "U4c1P0MhEbtZ"
      }
    },
    {
      "cell_type": "markdown",
      "source": [
        "**Answer -**\n",
        "\n",
        "Yes:\n",
        "\n",
        "* Hotels can create cancellation buffers or prepayment policies for higher-priced bookings.\n",
        "\n",
        "* Helps tailor reminder flows, pre-check-in confirmations, or penalty conditions.\n",
        "\n",
        "* Enables revenue teams to better predict price-linked no-shows/cancellations."
      ],
      "metadata": {
        "id": "ICuG-xcjEbtZ"
      }
    },
    {
      "cell_type": "markdown",
      "source": [
        "##### 4. Are there any insights that lead to negative growth? Justify with specific reason.\n"
      ],
      "metadata": {
        "id": "344PV-PZEbta"
      }
    },
    {
      "cell_type": "markdown",
      "source": [
        "**Answer -**\n",
        "\n",
        "Yes:\n",
        "\n",
        "* If high-priced bookings are often canceled or no-shows, this leads to big revenue losses and occupancy gaps.\n",
        "\n",
        "* Indicates need for stronger prebooking security (credit card holds, advance payments).\n",
        "\n",
        "* Suggests hotels might be over-relying on volatile booking sources.\n",
        "\n",
        "Hotels should re-strategize around high-ADR cancellations and booking source validation."
      ],
      "metadata": {
        "id": "rleBmbMBEbta"
      }
    },
    {
      "cell_type": "markdown",
      "source": [
        "#### Chart 29 - Special Requests vs Cancellation Rate"
      ],
      "metadata": {
        "id": "8LVHECENEcAp"
      }
    },
    {
      "cell_type": "code",
      "source": [
        "# Chart 29 - Visualisation Code\n",
        "\n",
        "# Features used - total_of_special_requests, is_cancelled\n",
        "\n",
        "# Why this chart ?\n",
        "# This chart will reveal:\n",
        "#   * Are customers who place special requests more serious about showing up?\n",
        "#   * Is there a pattern between guest involvement and cancellation risk?\n",
        "# It’s an actionable guest behavior analysis.\n",
        "# Smart hotels track this pattern to predict show-up probability.\n",
        "# Helps in prioritizing bookings, assigning upgrades, and detecting low-commitment guests.\n",
        "# It will show cancellation rate (%) across different values of total_of_special_requests.\n",
        "\n",
        "# Calculating cancellation rate grouped by number of special requests\n",
        "cancel_rate_special = df.groupby('total_of_special_requests')['is_canceled'].mean() * 100\n",
        "\n",
        "# Resetting index for plotting\n",
        "cancel_rate_special = cancel_rate_special.reset_index()\n",
        "\n",
        "# Setting figure\n",
        "plt.figure(figsize=(9, 6))\n",
        "sns.set(style='whitegrid')\n",
        "\n",
        "# Bar plot\n",
        "sns.barplot(\n",
        "    x='total_of_special_requests',\n",
        "    y='is_canceled',\n",
        "    data=cancel_rate_special,\n",
        "    palette='viridis'\n",
        ")\n",
        "\n",
        "# Annotating percentage values on top of bars\n",
        "for index, row in cancel_rate_special.iterrows():\n",
        "    plt.text(index, row['is_canceled'] + 1, f\"{row['is_canceled']:.1f}%\", ha='center', fontsize=10)\n",
        "\n",
        "# Labels and title\n",
        "plt.title('Cancellation Rate by Number of Special Requests', fontsize=15, weight='bold')\n",
        "plt.xlabel('Number of Special Requests', fontsize=12)\n",
        "plt.ylabel('Cancellation Rate (%)', fontsize=12)\n",
        "plt.grid(axis='y', linestyle='--', alpha=0.3)\n",
        "plt.tight_layout()\n",
        "\n",
        "# Showing the plot.\n",
        "plt.show()"
      ],
      "metadata": {
        "id": "Cf8hkO4wEcAp"
      },
      "execution_count": null,
      "outputs": []
    },
    {
      "cell_type": "markdown",
      "source": [
        "##### 1. Why did you pick the specific chart?"
      ],
      "metadata": {
        "id": "4vVTwnvREcAp"
      }
    },
    {
      "cell_type": "markdown",
      "source": [
        "**Answer -**\n",
        "\n",
        "* It's a behavioral indicator of how invested the guest is.\n",
        "\n",
        "* This pattern helps in booking confidence scoring — a cutting-edge industry practice.\n",
        "\n",
        "* Also adds a nice numeric-categorical bivariate variation to your visual mix."
      ],
      "metadata": {
        "id": "68lpmKppEcAq"
      }
    },
    {
      "cell_type": "markdown",
      "source": [
        "##### 2. What is/are the insight(s) found from the chart?\n"
      ],
      "metadata": {
        "id": "neqPiA0VEcAq"
      }
    },
    {
      "cell_type": "markdown",
      "source": [
        "**Answer -**\n",
        "\n",
        "* Guests with 0 special requests cancel far more frequently.\n",
        "\n",
        "* As the number of requests increases, the cancellation rate drops sharply.\n",
        "\n",
        "* Those with 2 or more requests rarely cancel — likely high-intent guests.\n",
        "\n",
        "This confirms a direct relationship between guest engagement and commitment."
      ],
      "metadata": {
        "id": "PWynX0uCEcAq"
      }
    },
    {
      "cell_type": "markdown",
      "source": [
        "##### 3. Will the gained insights help creating a positive business impact?\n"
      ],
      "metadata": {
        "id": "jbXbRKk9EcAq"
      }
    },
    {
      "cell_type": "markdown",
      "source": [
        "**Answer -**\n",
        "\n",
        "\n",
        "Definitely:\n",
        "\n",
        "* Helps build a guest quality index — prioritize bookings with more special requests.\n",
        "\n",
        "* Front-desk and ops teams can use this to offer fast-track check-ins or upgrades.\n",
        "\n",
        "* Revenue teams can safely overbook low-request profiles, while securing high-request ones."
      ],
      "metadata": {
        "id": "BZHdtCnWEcAr"
      }
    },
    {
      "cell_type": "markdown",
      "source": [
        "##### 4. Are there any insights that lead to negative growth? Justify with specific reason.\n"
      ],
      "metadata": {
        "id": "hw8Qq7gOEcAr"
      }
    },
    {
      "cell_type": "markdown",
      "source": [
        "**Answer -**\n",
        "\n",
        "Yes:\n",
        "\n",
        "* Ignoring low-request, high-cancel profiles could lead to occupancy dips.\n",
        "\n",
        "* Treating all bookings equally (without segmenting by commitment) may waste upgrade opportunities.\n",
        "\n",
        "Hotels can build smarter booking pipelines by combining request count with lead time and segment."
      ],
      "metadata": {
        "id": "yFRE3CONEcAr"
      }
    },
    {
      "cell_type": "markdown",
      "source": [
        "#### Chart 30 - ADR by Number of Booking Changes"
      ],
      "metadata": {
        "id": "ilYOBcADEcQA"
      }
    },
    {
      "cell_type": "code",
      "source": [
        "# Chart 30 - Visualisation Code\n",
        "\n",
        "# Features used - adr, booking_changes\n",
        "\n",
        "# Why this chart ?\n",
        "# This chart will explore:\n",
        "#     * Do guests who modify their bookings tend to pay more (or less)?\n",
        "#     * Is booking flexibility correlated with revenue?\n",
        "\n",
        "# Removing extreme outliers for a cleaner view\n",
        "df_box = df[df['adr'] < 500]\n",
        "\n",
        "# Plotting\n",
        "plt.figure(figsize=(9, 6))\n",
        "sns.set(style='whitegrid')\n",
        "\n",
        "# Box plot of ADR by number of booking changes\n",
        "sns.boxplot(\n",
        "    data=df_box,\n",
        "    x='booking_changes',\n",
        "    y='adr',\n",
        "    palette='BuPu'\n",
        ")\n",
        "\n",
        "# Adding labels and titles\n",
        "plt.title('ADR by Number of Booking Changes', fontsize=15, weight='bold')\n",
        "plt.xlabel('Number of Booking Changes', fontsize=12)\n",
        "plt.ylabel('ADR (EUR)', fontsize=12)\n",
        "plt.grid(axis='y', linestyle='--', alpha=0.3)\n",
        "plt.tight_layout()\n",
        "\n",
        "plt.show()\n"
      ],
      "metadata": {
        "id": "vREXa4E4EcQB"
      },
      "execution_count": null,
      "outputs": []
    },
    {
      "cell_type": "markdown",
      "source": [
        "##### 1. Why did you pick the specific chart?"
      ],
      "metadata": {
        "id": "IRWab9uOEcQB"
      }
    },
    {
      "cell_type": "markdown",
      "source": [
        "**Answer -**\n",
        "\n",
        "* Box plots are great for analyzing how a numerical variable (adr) changes across a categorical variable with ordered values (booking_changes).\n",
        "\n",
        "* This chart uncovers patterns of guest behavior vs pricing — a key insight for hotel pricing strategy.\n",
        "\n",
        "* It helps detect if high-value guests are also more likely to change bookings (e.g., premium guests modifying plans).\n",
        "\n"
      ],
      "metadata": {
        "id": "JzdvHmeoEcQB"
      }
    },
    {
      "cell_type": "markdown",
      "source": [
        "##### 2. What is/are the insight(s) found from the chart?\n"
      ],
      "metadata": {
        "id": "SKeLlaicEcQC"
      }
    },
    {
      "cell_type": "markdown",
      "source": [
        "**Answer -**\n",
        "\n",
        "* The majority of guests don't make any changes (0) — this group shows the widest ADR range and lowest median.\n",
        "\n",
        "* Guests who make 1 or 2 changes tend to have higher median ADRs, suggesting they may be:\n",
        "\n",
        "    * More engaged with the booking process\n",
        "\n",
        "    * Possibly premium customers who adjust for comfort or schedule\n",
        "\n",
        "* Guests with many changes (3+) are rare, and their ADRs are lower — possibly due to lower-tier segment experimentation"
      ],
      "metadata": {
        "id": "93wJL2ceEcQC"
      }
    },
    {
      "cell_type": "markdown",
      "source": [
        "##### 3. Will the gained insights help creating a positive business impact?\n"
      ],
      "metadata": {
        "id": "CVh8XqXdEcQC"
      }
    },
    {
      "cell_type": "markdown",
      "source": [
        "**Answer -**\n",
        "\n",
        "Absolutely:\n",
        "\n",
        "* Reveals a valuable customer segment: guests who make 1–2 changes are likely high-paying and involved.\n",
        "\n",
        "* Revenue and CRM teams can create personalized experiences or offer value-added options (like flexible check-in/out or upgrades) for this segment.\n",
        "\n",
        "* Helps operations plan better — guests who change bookings often could be flagged for extra service attention."
      ],
      "metadata": {
        "id": "rw384CZEEcQC"
      }
    },
    {
      "cell_type": "markdown",
      "source": [
        "##### 4. Are there any insights that lead to negative growth? Justify with specific reason.\n"
      ],
      "metadata": {
        "id": "q2M60O-YEcQD"
      }
    },
    {
      "cell_type": "markdown",
      "source": [
        "**Answer -**\n",
        "\n",
        "Yes:\n",
        "\n",
        "* Guests with too many booking changes (3+) could indicate indecisiveness, potential for cancellation, or planning uncertainty.\n",
        "\n",
        "* May create scheduling conflicts, inventory imbalance, and manual workload for staff.\n",
        "\n",
        "* If these frequent changers are also low-value, hotels may need to limit excessive modifications through policy (e.g., max free changes)."
      ],
      "metadata": {
        "id": "I1MWrcQREcQD"
      }
    },
    {
      "cell_type": "markdown",
      "source": [
        "#### Chart 31 - Cancellation Rate by Deposit Type"
      ],
      "metadata": {
        "id": "_ozpGZpjEceR"
      }
    },
    {
      "cell_type": "code",
      "source": [
        "# Chart 31 - Visualisation Code\n",
        "\n",
        "# Features used - deposit_type, is_cancelled\n",
        "\n",
        "# Why this chart ?\n",
        "# Deposit policies directly impact booking seriousness and financial security for the hotel.\n",
        "# This stacked percentage bar plot clearly shows how cancellation rates\n",
        "# differ across deposit types, making it a goldmine for revenue managers.\n",
        "# It uncovers which payment models protect against cancellations,\n",
        "# allowing the business to strategize inventory and pricing better.\n",
        "\n",
        "# Creating a grouped dataframe\n",
        "deposit_cancel = df.groupby(['deposit_type', 'is_canceled']).size().unstack()\n",
        "\n",
        "# Converting counts to percentage\n",
        "deposit_cancel_percent = deposit_cancel.div(deposit_cancel.sum(axis=1), axis=0) * 100\n",
        "\n",
        "# Plotting the stacked bar chart\n",
        "deposit_cancel_percent.plot(\n",
        "    kind='bar',\n",
        "    stacked=True,\n",
        "    figsize=(8, 6),\n",
        "    color=['mediumseagreen', 'indianred']\n",
        ")\n",
        "\n",
        "# Chart styling\n",
        "plt.title('Cancellation Rate by Deposit Type', fontsize=15, weight='bold')\n",
        "plt.xlabel('Deposit Type', fontsize=12)\n",
        "plt.ylabel('Percentage (%)', fontsize=12)\n",
        "plt.legend(['Not Canceled', 'Canceled'], title='Booking Status', loc = 'upper right')\n",
        "plt.grid(axis='y', linestyle='--', alpha=0.3)\n",
        "plt.xticks(rotation=0)\n",
        "plt.tight_layout()\n",
        "plt.show()\n"
      ],
      "metadata": {
        "id": "6ZG-DNJ1EceR"
      },
      "execution_count": null,
      "outputs": []
    },
    {
      "cell_type": "markdown",
      "source": [
        "##### 1. Why did you pick the specific chart?"
      ],
      "metadata": {
        "id": "_sBFsPAhEceR"
      }
    },
    {
      "cell_type": "markdown",
      "source": [
        "**Answer -**\n",
        "\n",
        "* Deposit policies directly impact booking seriousness and financial security for the hotel.\n",
        "\n",
        "* This stacked percentage bar plot clearly shows how cancellation rates differ across deposit types, making it a goldmine for revenue managers.\n",
        "\n",
        "* It uncovers which payment models protect against cancellations, allowing the business to strategize inventory and pricing better.\n"
      ],
      "metadata": {
        "id": "6IOezRtFEceS"
      }
    },
    {
      "cell_type": "markdown",
      "source": [
        "##### 2. What is/are the insight(s) found from the chart?\n"
      ],
      "metadata": {
        "id": "Jdpv6dAuEceS"
      }
    },
    {
      "cell_type": "markdown",
      "source": [
        "**Answer -**\n",
        "\n",
        "* No Deposit bookings have a very high cancellation rate — around 40-50% in most cases.\n",
        "\n",
        "* Non Refundable bookings are almost never canceled — guests follow through because they've prepaid.\n",
        "\n",
        "* Refundable deposit bookings are a small share, but still show relatively lower cancellations compared to “No Deposit”."
      ],
      "metadata": {
        "id": "yjSnK4smEceS"
      }
    },
    {
      "cell_type": "markdown",
      "source": [
        "##### 3. Will the gained insights help creating a positive business impact?\n"
      ],
      "metadata": {
        "id": "Yx5CA-F3EceS"
      }
    },
    {
      "cell_type": "markdown",
      "source": [
        "**Answer -**\n",
        "\n",
        "100%:\n",
        "\n",
        "* Encourages shifting toward prepaid (non-refundable) and semi-flex deposit types to secure revenue.\n",
        "\n",
        "* Hotels can incentivize non-refundable bookings with discounts, and limit exposure to speculative “no-deposit” bookings.\n",
        "\n",
        "* Sales teams can use this insight to negotiate OTA contracts and tweak cancellation policies."
      ],
      "metadata": {
        "id": "exl3R-nAEceT"
      }
    },
    {
      "cell_type": "markdown",
      "source": [
        "##### 4. Are there any insights that lead to negative growth? Justify with specific reason.\n"
      ],
      "metadata": {
        "id": "6Xa4UuhLEceT"
      }
    },
    {
      "cell_type": "markdown",
      "source": [
        "**Answer -**\n",
        "\n",
        "Yes:\n",
        "\n",
        "* Over-reliance on No Deposit bookings increases cancellation volume, leading to:\n",
        "\n",
        "    * Lost revenue\n",
        "\n",
        "    * Last-minute room inventory wastage\n",
        "\n",
        "    * Staff inefficiency\n",
        "\n",
        "* If hotels don't offer prepaid incentives, they risk losing committed guests to competitors who do.\n",
        "\n",
        "A good strategy would be:\n",
        "\n",
        "  * Offer better pricing on non-refundable options\n",
        "\n",
        "  * Push prepaid plans for peak seasons or high-demand weekends\n",
        "\n",
        "  * Balance flexibility with deposit-linked trust metrics"
      ],
      "metadata": {
        "id": "BrYiWxU5EceT"
      }
    }
  ]
}